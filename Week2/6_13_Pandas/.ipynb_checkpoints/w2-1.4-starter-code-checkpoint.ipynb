{
 "cells": [
  {
   "cell_type": "markdown",
   "metadata": {},
   "source": [
    "### 1.4: Some statistics with pandas"
   ]
  },
  {
   "cell_type": "code",
   "execution_count": 2,
   "metadata": {
    "collapsed": false
   },
   "outputs": [],
   "source": [
    "# import moduled\n",
    "import pandas as pd\n",
    "import numpy as np\n",
    "import scipy.stats as stats\n",
    "import seaborn as sns\n",
    "import matplotlib.pyplot as plt\n",
    "%matplotlib inline"
   ]
  },
  {
   "cell_type": "markdown",
   "metadata": {},
   "source": [
    "#### 1. Load in the SF crimes dataset:"
   ]
  },
  {
   "cell_type": "code",
   "execution_count": 3,
   "metadata": {
    "collapsed": false
   },
   "outputs": [],
   "source": [
    "crime = pd.read_csv('datasets/sf_crime.csv')"
   ]
  },
  {
   "cell_type": "markdown",
   "metadata": {},
   "source": [
    "#### 2. Print the head"
   ]
  },
  {
   "cell_type": "code",
   "execution_count": 4,
   "metadata": {
    "collapsed": false
   },
   "outputs": [
    {
     "data": {
      "text/html": [
       "<div>\n",
       "<table border=\"1\" class=\"dataframe\">\n",
       "  <thead>\n",
       "    <tr style=\"text-align: right;\">\n",
       "      <th></th>\n",
       "      <th>Dates</th>\n",
       "      <th>Category</th>\n",
       "      <th>Descript</th>\n",
       "      <th>DayOfWeek</th>\n",
       "      <th>PdDistrict</th>\n",
       "      <th>Resolution</th>\n",
       "      <th>Address</th>\n",
       "      <th>X</th>\n",
       "      <th>Y</th>\n",
       "    </tr>\n",
       "  </thead>\n",
       "  <tbody>\n",
       "    <tr>\n",
       "      <th>0</th>\n",
       "      <td>2003-03-23 23:27:00</td>\n",
       "      <td>ARSON</td>\n",
       "      <td>ARSON OF A VEHICLE</td>\n",
       "      <td>Sunday</td>\n",
       "      <td>BAYVIEW</td>\n",
       "      <td>NONE</td>\n",
       "      <td>0 Block of HUNTERS PT EXPWY EX</td>\n",
       "      <td>-122.376945</td>\n",
       "      <td>37.733018</td>\n",
       "    </tr>\n",
       "    <tr>\n",
       "      <th>1</th>\n",
       "      <td>2006-03-07 06:45:00</td>\n",
       "      <td>LARCENY/THEFT</td>\n",
       "      <td>PETTY THEFT FROM LOCKED AUTO</td>\n",
       "      <td>Tuesday</td>\n",
       "      <td>NORTHERN</td>\n",
       "      <td>NONE</td>\n",
       "      <td>0 Block of MARINA BL</td>\n",
       "      <td>-122.432952</td>\n",
       "      <td>37.805052</td>\n",
       "    </tr>\n",
       "    <tr>\n",
       "      <th>2</th>\n",
       "      <td>2004-03-06 03:00:00</td>\n",
       "      <td>NON-CRIMINAL</td>\n",
       "      <td>LOST PROPERTY</td>\n",
       "      <td>Saturday</td>\n",
       "      <td>SOUTHERN</td>\n",
       "      <td>NONE</td>\n",
       "      <td>800 Block of BRYANT ST</td>\n",
       "      <td>-122.403405</td>\n",
       "      <td>37.775421</td>\n",
       "    </tr>\n",
       "    <tr>\n",
       "      <th>3</th>\n",
       "      <td>2011-12-03 12:10:00</td>\n",
       "      <td>BURGLARY</td>\n",
       "      <td>BURGLARY OF STORE, UNLAWFUL ENTRY</td>\n",
       "      <td>Saturday</td>\n",
       "      <td>TARAVAL</td>\n",
       "      <td>ARREST, BOOKED</td>\n",
       "      <td>3200 Block of 20TH AV</td>\n",
       "      <td>-122.475647</td>\n",
       "      <td>37.728528</td>\n",
       "    </tr>\n",
       "    <tr>\n",
       "      <th>4</th>\n",
       "      <td>2003-01-10 00:15:00</td>\n",
       "      <td>LARCENY/THEFT</td>\n",
       "      <td>PETTY THEFT OF PROPERTY</td>\n",
       "      <td>Friday</td>\n",
       "      <td>NORTHERN</td>\n",
       "      <td>NONE</td>\n",
       "      <td>POLK ST / BROADWAY ST</td>\n",
       "      <td>-122.421772</td>\n",
       "      <td>37.795946</td>\n",
       "    </tr>\n",
       "  </tbody>\n",
       "</table>\n",
       "</div>"
      ],
      "text/plain": [
       "                 Dates       Category                           Descript  \\\n",
       "0  2003-03-23 23:27:00          ARSON                 ARSON OF A VEHICLE   \n",
       "1  2006-03-07 06:45:00  LARCENY/THEFT       PETTY THEFT FROM LOCKED AUTO   \n",
       "2  2004-03-06 03:00:00   NON-CRIMINAL                      LOST PROPERTY   \n",
       "3  2011-12-03 12:10:00       BURGLARY  BURGLARY OF STORE, UNLAWFUL ENTRY   \n",
       "4  2003-01-10 00:15:00  LARCENY/THEFT            PETTY THEFT OF PROPERTY   \n",
       "\n",
       "  DayOfWeek PdDistrict      Resolution                         Address  \\\n",
       "0    Sunday    BAYVIEW            NONE  0 Block of HUNTERS PT EXPWY EX   \n",
       "1   Tuesday   NORTHERN            NONE            0 Block of MARINA BL   \n",
       "2  Saturday   SOUTHERN            NONE          800 Block of BRYANT ST   \n",
       "3  Saturday    TARAVAL  ARREST, BOOKED           3200 Block of 20TH AV   \n",
       "4    Friday   NORTHERN            NONE           POLK ST / BROADWAY ST   \n",
       "\n",
       "            X          Y  \n",
       "0 -122.376945  37.733018  \n",
       "1 -122.432952  37.805052  \n",
       "2 -122.403405  37.775421  \n",
       "3 -122.475647  37.728528  \n",
       "4 -122.421772  37.795946  "
      ]
     },
     "execution_count": 4,
     "metadata": {},
     "output_type": "execute_result"
    }
   ],
   "source": [
    "crime.head()"
   ]
  },
  {
   "cell_type": "markdown",
   "metadata": {},
   "source": [
    "#### 3. Print the unique categories and how many there are"
   ]
  },
  {
   "cell_type": "code",
   "execution_count": 5,
   "metadata": {
    "collapsed": false
   },
   "outputs": [
    {
     "data": {
      "text/plain": [
       "LARCENY/THEFT                  4934\n",
       "OTHER OFFENSES                 3656\n",
       "NON-CRIMINAL                   2601\n",
       "ASSAULT                        2164\n",
       "DRUG/NARCOTIC                  1533\n",
       "VEHICLE THEFT                  1506\n",
       "VANDALISM                      1280\n",
       "WARRANTS                       1239\n",
       "BURGLARY                       1023\n",
       "SUSPICIOUS OCC                  891\n",
       "MISSING PERSON                  771\n",
       "ROBBERY                         630\n",
       "FRAUD                           537\n",
       "SECONDARY CODES                 283\n",
       "FORGERY/COUNTERFEITING          281\n",
       "WEAPON LAWS                     255\n",
       "PROSTITUTION                    223\n",
       "TRESPASS                        209\n",
       "STOLEN PROPERTY                 137\n",
       "SEX OFFENSES FORCIBLE           120\n",
       "DRUNKENNESS                     105\n",
       "DISORDERLY CONDUCT              105\n",
       "RECOVERED VEHICLE                80\n",
       "DRIVING UNDER THE INFLUENCE      75\n",
       "KIDNAPPING                       71\n",
       "RUNAWAY                          58\n",
       "ARSON                            52\n",
       "LIQUOR LAWS                      51\n",
       "LOITERING                        37\n",
       "EMBEZZLEMENT                     28\n",
       "BAD CHECKS                       14\n",
       "FAMILY OFFENSES                  14\n",
       "SUICIDE                          12\n",
       "EXTORTION                         9\n",
       "BRIBERY                           8\n",
       "GAMBLING                          5\n",
       "SEX OFFENSES NON FORCIBLE         2\n",
       "TREA                              1\n",
       "Name: Category, dtype: int64"
      ]
     },
     "execution_count": 5,
     "metadata": {},
     "output_type": "execute_result"
    }
   ],
   "source": [
    "crime[\"Category\"].value_counts()"
   ]
  },
  {
   "cell_type": "markdown",
   "metadata": {},
   "source": [
    "#### 4. Print the unique districts and how many there are"
   ]
  },
  {
   "cell_type": "code",
   "execution_count": 6,
   "metadata": {
    "collapsed": false
   },
   "outputs": [
    {
     "data": {
      "text/plain": [
       "SOUTHERN      4413\n",
       "MISSION       3416\n",
       "NORTHERN      3076\n",
       "BAYVIEW       2555\n",
       "CENTRAL       2424\n",
       "TENDERLOIN    2336\n",
       "INGLESIDE     2256\n",
       "TARAVAL       1804\n",
       "PARK          1438\n",
       "RICHMOND      1282\n",
       "Name: PdDistrict, dtype: int64"
      ]
     },
     "execution_count": 6,
     "metadata": {},
     "output_type": "execute_result"
    }
   ],
   "source": [
    "crime[\"PdDistrict\"].value_counts()"
   ]
  },
  {
   "cell_type": "markdown",
   "metadata": {},
   "source": [
    "#### 5. Make a DataFrame of the crime categories and the number of crimes per category"
   ]
  },
  {
   "cell_type": "code",
   "execution_count": 8,
   "metadata": {
    "collapsed": false
   },
   "outputs": [
    {
     "data": {
      "text/html": [
       "<div>\n",
       "<table border=\"1\" class=\"dataframe\">\n",
       "  <thead>\n",
       "    <tr style=\"text-align: right;\">\n",
       "      <th></th>\n",
       "      <th>Category</th>\n",
       "      <th>Count</th>\n",
       "    </tr>\n",
       "  </thead>\n",
       "  <tbody>\n",
       "    <tr>\n",
       "      <th>0</th>\n",
       "      <td>LARCENY/THEFT</td>\n",
       "      <td>4934</td>\n",
       "    </tr>\n",
       "    <tr>\n",
       "      <th>1</th>\n",
       "      <td>OTHER OFFENSES</td>\n",
       "      <td>3656</td>\n",
       "    </tr>\n",
       "    <tr>\n",
       "      <th>2</th>\n",
       "      <td>NON-CRIMINAL</td>\n",
       "      <td>2601</td>\n",
       "    </tr>\n",
       "    <tr>\n",
       "      <th>3</th>\n",
       "      <td>ASSAULT</td>\n",
       "      <td>2164</td>\n",
       "    </tr>\n",
       "    <tr>\n",
       "      <th>4</th>\n",
       "      <td>DRUG/NARCOTIC</td>\n",
       "      <td>1533</td>\n",
       "    </tr>\n",
       "    <tr>\n",
       "      <th>5</th>\n",
       "      <td>VEHICLE THEFT</td>\n",
       "      <td>1506</td>\n",
       "    </tr>\n",
       "    <tr>\n",
       "      <th>6</th>\n",
       "      <td>VANDALISM</td>\n",
       "      <td>1280</td>\n",
       "    </tr>\n",
       "    <tr>\n",
       "      <th>7</th>\n",
       "      <td>WARRANTS</td>\n",
       "      <td>1239</td>\n",
       "    </tr>\n",
       "    <tr>\n",
       "      <th>8</th>\n",
       "      <td>BURGLARY</td>\n",
       "      <td>1023</td>\n",
       "    </tr>\n",
       "    <tr>\n",
       "      <th>9</th>\n",
       "      <td>SUSPICIOUS OCC</td>\n",
       "      <td>891</td>\n",
       "    </tr>\n",
       "    <tr>\n",
       "      <th>10</th>\n",
       "      <td>MISSING PERSON</td>\n",
       "      <td>771</td>\n",
       "    </tr>\n",
       "    <tr>\n",
       "      <th>11</th>\n",
       "      <td>ROBBERY</td>\n",
       "      <td>630</td>\n",
       "    </tr>\n",
       "    <tr>\n",
       "      <th>12</th>\n",
       "      <td>FRAUD</td>\n",
       "      <td>537</td>\n",
       "    </tr>\n",
       "    <tr>\n",
       "      <th>13</th>\n",
       "      <td>SECONDARY CODES</td>\n",
       "      <td>283</td>\n",
       "    </tr>\n",
       "    <tr>\n",
       "      <th>14</th>\n",
       "      <td>FORGERY/COUNTERFEITING</td>\n",
       "      <td>281</td>\n",
       "    </tr>\n",
       "    <tr>\n",
       "      <th>15</th>\n",
       "      <td>WEAPON LAWS</td>\n",
       "      <td>255</td>\n",
       "    </tr>\n",
       "    <tr>\n",
       "      <th>16</th>\n",
       "      <td>PROSTITUTION</td>\n",
       "      <td>223</td>\n",
       "    </tr>\n",
       "    <tr>\n",
       "      <th>17</th>\n",
       "      <td>TRESPASS</td>\n",
       "      <td>209</td>\n",
       "    </tr>\n",
       "    <tr>\n",
       "      <th>18</th>\n",
       "      <td>STOLEN PROPERTY</td>\n",
       "      <td>137</td>\n",
       "    </tr>\n",
       "    <tr>\n",
       "      <th>19</th>\n",
       "      <td>SEX OFFENSES FORCIBLE</td>\n",
       "      <td>120</td>\n",
       "    </tr>\n",
       "    <tr>\n",
       "      <th>20</th>\n",
       "      <td>DRUNKENNESS</td>\n",
       "      <td>105</td>\n",
       "    </tr>\n",
       "    <tr>\n",
       "      <th>21</th>\n",
       "      <td>DISORDERLY CONDUCT</td>\n",
       "      <td>105</td>\n",
       "    </tr>\n",
       "    <tr>\n",
       "      <th>22</th>\n",
       "      <td>RECOVERED VEHICLE</td>\n",
       "      <td>80</td>\n",
       "    </tr>\n",
       "    <tr>\n",
       "      <th>23</th>\n",
       "      <td>DRIVING UNDER THE INFLUENCE</td>\n",
       "      <td>75</td>\n",
       "    </tr>\n",
       "    <tr>\n",
       "      <th>24</th>\n",
       "      <td>KIDNAPPING</td>\n",
       "      <td>71</td>\n",
       "    </tr>\n",
       "    <tr>\n",
       "      <th>25</th>\n",
       "      <td>RUNAWAY</td>\n",
       "      <td>58</td>\n",
       "    </tr>\n",
       "    <tr>\n",
       "      <th>26</th>\n",
       "      <td>ARSON</td>\n",
       "      <td>52</td>\n",
       "    </tr>\n",
       "    <tr>\n",
       "      <th>27</th>\n",
       "      <td>LIQUOR LAWS</td>\n",
       "      <td>51</td>\n",
       "    </tr>\n",
       "    <tr>\n",
       "      <th>28</th>\n",
       "      <td>LOITERING</td>\n",
       "      <td>37</td>\n",
       "    </tr>\n",
       "    <tr>\n",
       "      <th>29</th>\n",
       "      <td>EMBEZZLEMENT</td>\n",
       "      <td>28</td>\n",
       "    </tr>\n",
       "    <tr>\n",
       "      <th>30</th>\n",
       "      <td>BAD CHECKS</td>\n",
       "      <td>14</td>\n",
       "    </tr>\n",
       "    <tr>\n",
       "      <th>31</th>\n",
       "      <td>FAMILY OFFENSES</td>\n",
       "      <td>14</td>\n",
       "    </tr>\n",
       "    <tr>\n",
       "      <th>32</th>\n",
       "      <td>SUICIDE</td>\n",
       "      <td>12</td>\n",
       "    </tr>\n",
       "    <tr>\n",
       "      <th>33</th>\n",
       "      <td>EXTORTION</td>\n",
       "      <td>9</td>\n",
       "    </tr>\n",
       "    <tr>\n",
       "      <th>34</th>\n",
       "      <td>BRIBERY</td>\n",
       "      <td>8</td>\n",
       "    </tr>\n",
       "    <tr>\n",
       "      <th>35</th>\n",
       "      <td>GAMBLING</td>\n",
       "      <td>5</td>\n",
       "    </tr>\n",
       "    <tr>\n",
       "      <th>36</th>\n",
       "      <td>SEX OFFENSES NON FORCIBLE</td>\n",
       "      <td>2</td>\n",
       "    </tr>\n",
       "    <tr>\n",
       "      <th>37</th>\n",
       "      <td>TREA</td>\n",
       "      <td>1</td>\n",
       "    </tr>\n",
       "  </tbody>\n",
       "</table>\n",
       "</div>"
      ],
      "text/plain": [
       "                       Category  Count\n",
       "0                 LARCENY/THEFT   4934\n",
       "1                OTHER OFFENSES   3656\n",
       "2                  NON-CRIMINAL   2601\n",
       "3                       ASSAULT   2164\n",
       "4                 DRUG/NARCOTIC   1533\n",
       "5                 VEHICLE THEFT   1506\n",
       "6                     VANDALISM   1280\n",
       "7                      WARRANTS   1239\n",
       "8                      BURGLARY   1023\n",
       "9                SUSPICIOUS OCC    891\n",
       "10               MISSING PERSON    771\n",
       "11                      ROBBERY    630\n",
       "12                        FRAUD    537\n",
       "13              SECONDARY CODES    283\n",
       "14       FORGERY/COUNTERFEITING    281\n",
       "15                  WEAPON LAWS    255\n",
       "16                 PROSTITUTION    223\n",
       "17                     TRESPASS    209\n",
       "18              STOLEN PROPERTY    137\n",
       "19        SEX OFFENSES FORCIBLE    120\n",
       "20                  DRUNKENNESS    105\n",
       "21           DISORDERLY CONDUCT    105\n",
       "22            RECOVERED VEHICLE     80\n",
       "23  DRIVING UNDER THE INFLUENCE     75\n",
       "24                   KIDNAPPING     71\n",
       "25                      RUNAWAY     58\n",
       "26                        ARSON     52\n",
       "27                  LIQUOR LAWS     51\n",
       "28                    LOITERING     37\n",
       "29                 EMBEZZLEMENT     28\n",
       "30                   BAD CHECKS     14\n",
       "31              FAMILY OFFENSES     14\n",
       "32                      SUICIDE     12\n",
       "33                    EXTORTION      9\n",
       "34                      BRIBERY      8\n",
       "35                     GAMBLING      5\n",
       "36    SEX OFFENSES NON FORCIBLE      2\n",
       "37                         TREA      1"
      ]
     },
     "execution_count": 8,
     "metadata": {},
     "output_type": "execute_result"
    }
   ],
   "source": [
    "category_series = crime[\"Category\"].value_counts()\n",
    "\n",
    "category_df = pd.DataFrame({\"Category\": category_series.index, \"Count\": category_series.values})\n",
    "\n",
    "category_df"
   ]
  },
  {
   "cell_type": "markdown",
   "metadata": {},
   "source": [
    "#### 6. Make a DataFrame of the districts and crime counts per district"
   ]
  },
  {
   "cell_type": "code",
   "execution_count": 18,
   "metadata": {
    "collapsed": false
   },
   "outputs": [
    {
     "data": {
      "text/html": [
       "<div>\n",
       "<table border=\"1\" class=\"dataframe\">\n",
       "  <thead>\n",
       "    <tr style=\"text-align: right;\">\n",
       "      <th></th>\n",
       "      <th>Count</th>\n",
       "      <th>District</th>\n",
       "    </tr>\n",
       "  </thead>\n",
       "  <tbody>\n",
       "    <tr>\n",
       "      <th>0</th>\n",
       "      <td>4413</td>\n",
       "      <td>SOUTHERN</td>\n",
       "    </tr>\n",
       "    <tr>\n",
       "      <th>1</th>\n",
       "      <td>3416</td>\n",
       "      <td>MISSION</td>\n",
       "    </tr>\n",
       "    <tr>\n",
       "      <th>2</th>\n",
       "      <td>3076</td>\n",
       "      <td>NORTHERN</td>\n",
       "    </tr>\n",
       "    <tr>\n",
       "      <th>3</th>\n",
       "      <td>2555</td>\n",
       "      <td>BAYVIEW</td>\n",
       "    </tr>\n",
       "    <tr>\n",
       "      <th>4</th>\n",
       "      <td>2424</td>\n",
       "      <td>CENTRAL</td>\n",
       "    </tr>\n",
       "    <tr>\n",
       "      <th>5</th>\n",
       "      <td>2336</td>\n",
       "      <td>TENDERLOIN</td>\n",
       "    </tr>\n",
       "    <tr>\n",
       "      <th>6</th>\n",
       "      <td>2256</td>\n",
       "      <td>INGLESIDE</td>\n",
       "    </tr>\n",
       "    <tr>\n",
       "      <th>7</th>\n",
       "      <td>1804</td>\n",
       "      <td>TARAVAL</td>\n",
       "    </tr>\n",
       "    <tr>\n",
       "      <th>8</th>\n",
       "      <td>1438</td>\n",
       "      <td>PARK</td>\n",
       "    </tr>\n",
       "    <tr>\n",
       "      <th>9</th>\n",
       "      <td>1282</td>\n",
       "      <td>RICHMOND</td>\n",
       "    </tr>\n",
       "  </tbody>\n",
       "</table>\n",
       "</div>"
      ],
      "text/plain": [
       "   Count    District\n",
       "0   4413    SOUTHERN\n",
       "1   3416     MISSION\n",
       "2   3076    NORTHERN\n",
       "3   2555     BAYVIEW\n",
       "4   2424     CENTRAL\n",
       "5   2336  TENDERLOIN\n",
       "6   2256   INGLESIDE\n",
       "7   1804     TARAVAL\n",
       "8   1438        PARK\n",
       "9   1282    RICHMOND"
      ]
     },
     "execution_count": 18,
     "metadata": {},
     "output_type": "execute_result"
    }
   ],
   "source": [
    "districts_series = crime[\"PdDistrict\"].value_counts()\n",
    "\n",
    "districts_df = pd.DataFrame({\"District\": districts_series.index, \"Count\": districts_series.values})\n",
    "\n",
    "districts_df"
   ]
  },
  {
   "cell_type": "markdown",
   "metadata": {},
   "source": [
    "#### 7. Make a DataFrame of the day of week and crime counts per day"
   ]
  },
  {
   "cell_type": "code",
   "execution_count": 16,
   "metadata": {
    "collapsed": false
   },
   "outputs": [
    {
     "data": {
      "text/html": [
       "<div>\n",
       "<table border=\"1\" class=\"dataframe\">\n",
       "  <thead>\n",
       "    <tr style=\"text-align: right;\">\n",
       "      <th></th>\n",
       "      <th>Count</th>\n",
       "      <th>Day of Week</th>\n",
       "    </tr>\n",
       "  </thead>\n",
       "  <tbody>\n",
       "    <tr>\n",
       "      <th>0</th>\n",
       "      <td>3883</td>\n",
       "      <td>Friday</td>\n",
       "    </tr>\n",
       "    <tr>\n",
       "      <th>1</th>\n",
       "      <td>3657</td>\n",
       "      <td>Wednesday</td>\n",
       "    </tr>\n",
       "    <tr>\n",
       "      <th>2</th>\n",
       "      <td>3579</td>\n",
       "      <td>Thursday</td>\n",
       "    </tr>\n",
       "    <tr>\n",
       "      <th>3</th>\n",
       "      <td>3548</td>\n",
       "      <td>Tuesday</td>\n",
       "    </tr>\n",
       "    <tr>\n",
       "      <th>4</th>\n",
       "      <td>3524</td>\n",
       "      <td>Monday</td>\n",
       "    </tr>\n",
       "    <tr>\n",
       "      <th>5</th>\n",
       "      <td>3496</td>\n",
       "      <td>Saturday</td>\n",
       "    </tr>\n",
       "    <tr>\n",
       "      <th>6</th>\n",
       "      <td>3313</td>\n",
       "      <td>Sunday</td>\n",
       "    </tr>\n",
       "  </tbody>\n",
       "</table>\n",
       "</div>"
      ],
      "text/plain": [
       "   Count Day of Week\n",
       "0   3883      Friday\n",
       "1   3657   Wednesday\n",
       "2   3579    Thursday\n",
       "3   3548     Tuesday\n",
       "4   3524      Monday\n",
       "5   3496    Saturday\n",
       "6   3313      Sunday"
      ]
     },
     "execution_count": 16,
     "metadata": {},
     "output_type": "execute_result"
    }
   ],
   "source": [
    "day_of_week_series = crime[\"DayOfWeek\"].value_counts()\n",
    "\n",
    "day_of_week_df = pd.DataFrame({\"Day of Week\": day_of_week_series.index, \"Count\": day_of_week_series.values})\n",
    "\n",
    "day_of_week_df"
   ]
  },
  {
   "cell_type": "markdown",
   "metadata": {},
   "source": [
    "#### 8. Describe one of the datasets"
   ]
  },
  {
   "cell_type": "code",
   "execution_count": 21,
   "metadata": {
    "collapsed": false
   },
   "outputs": [
    {
     "data": {
      "text/html": [
       "<div>\n",
       "<table border=\"1\" class=\"dataframe\">\n",
       "  <thead>\n",
       "    <tr style=\"text-align: right;\">\n",
       "      <th></th>\n",
       "      <th>Count</th>\n",
       "    </tr>\n",
       "  </thead>\n",
       "  <tbody>\n",
       "    <tr>\n",
       "      <th>count</th>\n",
       "      <td>38.000000</td>\n",
       "    </tr>\n",
       "    <tr>\n",
       "      <th>mean</th>\n",
       "      <td>657.894737</td>\n",
       "    </tr>\n",
       "    <tr>\n",
       "      <th>std</th>\n",
       "      <td>1090.802947</td>\n",
       "    </tr>\n",
       "    <tr>\n",
       "      <th>min</th>\n",
       "      <td>1.000000</td>\n",
       "    </tr>\n",
       "    <tr>\n",
       "      <th>25%</th>\n",
       "      <td>40.500000</td>\n",
       "    </tr>\n",
       "    <tr>\n",
       "      <th>50%</th>\n",
       "      <td>128.500000</td>\n",
       "    </tr>\n",
       "    <tr>\n",
       "      <th>75%</th>\n",
       "      <td>861.000000</td>\n",
       "    </tr>\n",
       "    <tr>\n",
       "      <th>max</th>\n",
       "      <td>4934.000000</td>\n",
       "    </tr>\n",
       "  </tbody>\n",
       "</table>\n",
       "</div>"
      ],
      "text/plain": [
       "             Count\n",
       "count    38.000000\n",
       "mean    657.894737\n",
       "std    1090.802947\n",
       "min       1.000000\n",
       "25%      40.500000\n",
       "50%     128.500000\n",
       "75%     861.000000\n",
       "max    4934.000000"
      ]
     },
     "execution_count": 21,
     "metadata": {},
     "output_type": "execute_result"
    }
   ],
   "source": [
    "category_df.describe()"
   ]
  },
  {
   "cell_type": "markdown",
   "metadata": {},
   "source": [
    "#### 9. Calculate the mean difference between the experimental and control below"
   ]
  },
  {
   "cell_type": "code",
   "execution_count": 24,
   "metadata": {
    "collapsed": true
   },
   "outputs": [],
   "source": [
    "control = [4.8,17.3,7.0,10.8,9.4,2.6,9.0,9.6,12.7,8.5,15.8,11.0,9.7,13.1,6.3,4.4,7.8,\n",
    "           9.9,7.8,7.7,12.8,13.2,6.1,7.1,6.4,11.7,11.8,6.3,14.4,9.8,14.9,11.4,9.1,10.4,\n",
    "           13.2,10.0,13.5,10.1,15.0,8.8,5.3,15.1,7.6,9.9,4.9,9.2,12.3,12.1,6.9,8.3,7.0,\n",
    "           6.1,13.4,11.5,6.0,12.3,5.6,14.7,3.7,7.6,10.9,10.3,10.3,10.2,7.1,6.3,13.2,9.9,\n",
    "           10.6,9.8,4.9,16.9,9.1,6.7,12.2,8.2,10.1,15.5,11.9,9.7,7.9,13.4,10.6,7.9,13.1,\n",
    "           11.9,11.6,2.9,13.9,14.4,8.6,7.6,8.3,12.0,5.2,7.1,13.6,6.5,9.9,14.8]"
   ]
  },
  {
   "cell_type": "code",
   "execution_count": 25,
   "metadata": {
    "collapsed": true
   },
   "outputs": [],
   "source": [
    "experimental = [15.4,14.7,14.0,25.3,15.1,14.6,0.0,20.5,16.9,18.9,20.1,16.5,13.1,16.4,\n",
    "                18.3,21.3,6.3,9.0,12.1,7.4,25.6,10.8,11.4,12.1,22.7,20.1,18.3,9.4,11.0,\n",
    "                14.8,12.5,12.3,16.4,13.3,14.1,15.7,12.2,15.2,16.9,1.5,18.6,4.2,12.2,8.2,\n",
    "                15.3,9.3,12.0,22.8,19.7,10.7,17.8,15.4,14.5,22.2,16.7,19.3,17.1,17.4,5.4,\n",
    "                10.9,13.7,17.1,11.2,15.0,18.2,14.2,11.0,19.6,10.9,13.9,17.3,11.1,19.9,\n",
    "                11.2,25.1,23.7,16.5,17.9,20.1,15.8,26.4,17.7,18.9,5.6,25.6,10.4,15.5,17.7,\n",
    "                22.9,18.9,21.2,5.5,13.2,13.4,21.9,11.1,13.7,16.9,16.4,18.8 ]"
   ]
  },
  {
   "cell_type": "code",
   "execution_count": 27,
   "metadata": {
    "collapsed": false
   },
   "outputs": [
    {
     "name": "stdout",
     "output_type": "stream",
     "text": [
      "5.413\n"
     ]
    }
   ],
   "source": [
    "mean_difference = (sum(experimental)/len(experimental))-(sum(control)/len(control))\n",
    "\n",
    "print mean_difference"
   ]
  },
  {
   "cell_type": "markdown",
   "metadata": {},
   "source": [
    "#### 10. Calculate the t-statistic for the difference between means by hand (if you forgot it, look it up online or in the notes!)\n",
    "\n",
    "The standard deviation component is the standard deviation across groups."
   ]
  },
  {
   "cell_type": "code",
   "execution_count": 34,
   "metadata": {
    "collapsed": false
   },
   "outputs": [
    {
     "name": "stdout",
     "output_type": "stream",
     "text": [
      "5.13681844274\n"
     ]
    }
   ],
   "source": [
    "#np.std(control)\n",
    "\n",
    "t_statistic = mean_difference / (np.var(control)/(len(control)**.5))\n",
    "\n",
    "print t_statistic"
   ]
  },
  {
   "cell_type": "markdown",
   "metadata": {},
   "source": [
    "#### 11. Plot the control and experimental distributions using seaborn on the same plot (with different colors for each)"
   ]
  },
  {
   "cell_type": "code",
   "execution_count": 43,
   "metadata": {
    "collapsed": false
   },
   "outputs": [
    {
     "data": {
      "image/png": "[encoded data removed]",
      "text/plain": [
       "<matplotlib.figure.Figure at 0x11ca3db10>"
      ]
     },
     "metadata": {},
     "output_type": "display_data"
    }
   ],
   "source": [
    "ax = sns.distplot(control, bins = 10)\n",
    "sns.distplot(experimental, color = 'darkred', bins = 10, ax=ax)\n",
    "\n",
    "plt.show()\n"
   ]
  },
  {
   "cell_type": "markdown",
   "metadata": {},
   "source": [
    "#### 12. Use both Pandas and numpy to calculate the mean, median, standard deviation, min and max of the control. You'll need to convert it to a pd.Series or pd.DataFrame object."
   ]
  },
  {
   "cell_type": "code",
   "execution_count": 57,
   "metadata": {
    "collapsed": false
   },
   "outputs": [
    {
     "name": "stdout",
     "output_type": "stream",
     "text": [
      "mean 9.857\n",
      "median 9.9\n",
      "std 3.24617482585\n",
      "max 17.3\n",
      "min 2.6\n",
      "Number    9.857\n",
      "dtype: float64\n",
      "Number    9.9\n",
      "dtype: float64\n"
     ]
    }
   ],
   "source": [
    "print \"mean\", np.mean(control)\n",
    "print \"median\", np.median(control)\n",
    "print \"std\", np.std(control)\n",
    "print \"max\", np.max(control)\n",
    "print \"min\", np.min(control)\n",
    "\n",
    "control_df = pd.DataFrame({\"Number\": control})\n",
    "#control_df.describe()\n",
    "print control_df.mean()\n",
    "print control_df.median()\n"
   ]
  },
  {
   "cell_type": "markdown",
   "metadata": {},
   "source": [
    "#### [BONUS] Write a function to bootstrap the 99% confidence interval for the t-statistic.\n",
    "\n",
    "Look up: np.percentile!"
   ]
  },
  {
   "cell_type": "code",
   "execution_count": null,
   "metadata": {
    "collapsed": true
   },
   "outputs": [],
   "source": []
  }
 ],
 "metadata": {
  "kernelspec": {
   "display_name": "Python 2",
   "language": "python",
   "name": "python2"
  },
  "language_info": {
   "codemirror_mode": {
    "name": "ipython",
    "version": 2
   },
   "file_extension": ".py",
   "mimetype": "text/x-python",
   "name": "python",
   "nbconvert_exporter": "python",
   "pygments_lexer": "ipython2",
   "version": "2.7.11"
  }
 },
 "nbformat": 4,
 "nbformat_minor": 0
}
