{
 "cells": [
  {
   "cell_type": "code",
   "execution_count": 1,
   "metadata": {
    "collapsed": true
   },
   "outputs": [],
   "source": [
    "import numpy as np\n",
    "import scipy as sp\n",
    "import pandas as pd\n",
    "from scipy import stats"
   ]
  },
  {
   "cell_type": "code",
   "execution_count": 2,
   "metadata": {
    "collapsed": true
   },
   "outputs": [],
   "source": [
    "one_sample_data = [177.3, 182.7, 169.6, 176.3, 180.3, 179.4, 178.5, 177.2, 181.8, 176.5]"
   ]
  },
  {
   "cell_type": "code",
   "execution_count": 3,
   "metadata": {
    "collapsed": false
   },
   "outputs": [
    {
     "name": "stdout",
     "output_type": "stream",
     "text": [
      "The t-statistic is 2.296 and the p-value is 0.047.\n"
     ]
    }
   ],
   "source": [
    "one_sample = stats.ttest_1samp(one_sample_data, 175.3) #this is a one sample, two sided test. The 175.3 is the population mean.\n",
    "#two sided because you don't care about whether or not its higher or lower, just that its different\n",
    "print \"The t-statistic is %.3f and the p-value is %.3f.\" % one_sample"
   ]
  },
  {
   "cell_type": "code",
   "execution_count": 4,
   "metadata": {
    "collapsed": false
   },
   "outputs": [
    {
     "data": {
      "text/plain": [
       "177.96000000000001"
      ]
     },
     "execution_count": 4,
     "metadata": {},
     "output_type": "execute_result"
    }
   ],
   "source": [
    "np.mean(one_sample_data)"
   ]
  },
  {
   "cell_type": "code",
   "execution_count": 2,
   "metadata": {
    "collapsed": false
   },
   "outputs": [
    {
     "data": {
      "text/html": [
       "<div>\n",
       "<table border=\"1\" class=\"dataframe\">\n",
       "  <thead>\n",
       "    <tr style=\"text-align: right;\">\n",
       "      <th></th>\n",
       "      <th>State</th>\n",
       "      <th>Rate</th>\n",
       "      <th>Verbal</th>\n",
       "      <th>Math</th>\n",
       "    </tr>\n",
       "  </thead>\n",
       "  <tbody>\n",
       "    <tr>\n",
       "      <th>0</th>\n",
       "      <td>CT</td>\n",
       "      <td>82</td>\n",
       "      <td>509</td>\n",
       "      <td>510</td>\n",
       "    </tr>\n",
       "    <tr>\n",
       "      <th>1</th>\n",
       "      <td>NJ</td>\n",
       "      <td>81</td>\n",
       "      <td>499</td>\n",
       "      <td>513</td>\n",
       "    </tr>\n",
       "    <tr>\n",
       "      <th>2</th>\n",
       "      <td>MA</td>\n",
       "      <td>79</td>\n",
       "      <td>511</td>\n",
       "      <td>515</td>\n",
       "    </tr>\n",
       "    <tr>\n",
       "      <th>3</th>\n",
       "      <td>NY</td>\n",
       "      <td>77</td>\n",
       "      <td>495</td>\n",
       "      <td>505</td>\n",
       "    </tr>\n",
       "    <tr>\n",
       "      <th>4</th>\n",
       "      <td>NH</td>\n",
       "      <td>72</td>\n",
       "      <td>520</td>\n",
       "      <td>516</td>\n",
       "    </tr>\n",
       "  </tbody>\n",
       "</table>\n",
       "</div>"
      ],
      "text/plain": [
       "  State  Rate  Verbal  Math\n",
       "0    CT    82     509   510\n",
       "1    NJ    81     499   513\n",
       "2    MA    79     511   515\n",
       "3    NY    77     495   505\n",
       "4    NH    72     520   516"
      ]
     },
     "execution_count": 2,
     "metadata": {},
     "output_type": "execute_result"
    }
   ],
   "source": [
    "sat_scores = pd.read_csv(\"sat_scores.csv\")\n",
    "\n",
    "sat_scores.head()"
   ]
  },
  {
   "cell_type": "code",
   "execution_count": 3,
   "metadata": {
    "collapsed": false
   },
   "outputs": [
    {
     "name": "stdout",
     "output_type": "stream",
     "text": [
      "   State  Rate  Verbal  Math\n",
      "0     CT    82     509   510\n",
      "1     NJ    81     499   513\n",
      "2     MA    79     511   515\n",
      "3     NY    77     495   505\n",
      "4     NH    72     520   516\n",
      "5     RI    71     501   499\n",
      "6     PA    71     500   499\n",
      "7     VT    69     511   506\n",
      "8     ME    69     506   500\n",
      "9     VA    68     510   501\n",
      "10    DE    67     501   499\n",
      "11    MD    65     508   510\n",
      "12    NC    65     493   499\n",
      "13    GA    63     491   489\n",
      "14    IN    60     499   501\n",
      "15    SC    57     486   488\n",
      "16    DC    56     482   474\n",
      "17    OR    55     526   526\n",
      "18    FL    54     498   499\n",
      "19    WA    53     527   527\n",
      "20    TX    53     493   499\n",
      "21    HI    52     485   515\n",
      "22    AK    51     514   510\n",
      "23    CA    51     498   517\n",
      "24    AZ    34     523   525\n",
      "25    NV    33     509   515\n",
      "26    CO    31     539   542\n",
      "27    OH    26     534   439\n",
      "28    MT    23     539   539\n",
      "29    WV    18     527   512\n",
      "30    ID    17     543   542\n",
      "31    TN    13     562   553\n",
      "32    NM    13     551   542\n",
      "33    IL    12     576   589\n",
      "34    KY    12     550   550\n",
      "35    WY    11     547   545\n",
      "36    MI    11     561   572\n",
      "37    MN     9     580   589\n",
      "38    KS     9     577   580\n",
      "39    AL     9     559   554\n",
      "40    NE     8     562   568\n",
      "41    OK     8     567   561\n",
      "42    MO     8     577   577\n",
      "43    LA     7     564   562\n",
      "44    WI     6     584   596\n",
      "45    AR     6     562   550\n",
      "46    UT     5     575   570\n",
      "47    IA     5     593   603\n",
      "48    SD     4     577   582\n",
      "49    ND     4     592   599\n",
      "50    MS     4     566   551\n"
     ]
    }
   ],
   "source": [
    "data_sat = sat_scores[0:51]\n",
    "print data_sat"
   ]
  },
  {
   "cell_type": "code",
   "execution_count": 27,
   "metadata": {
    "collapsed": false
   },
   "outputs": [
    {
     "name": "stdout",
     "output_type": "stream",
     "text": [
      "The t-statistic is 2.682 and the p-value is 0.010.\n"
     ]
    }
   ],
   "source": [
    "one_sample = stats.ttest_1samp(data_sat[\"Verbal\"], 800*.65) \n",
    "print \"The t-statistic is %.3f and the p-value is %.3f.\" % one_sample"
   ]
  },
  {
   "cell_type": "code",
   "execution_count": 21,
   "metadata": {
    "collapsed": false
   },
   "outputs": [
    {
     "data": {
      "text/html": [
       "<div>\n",
       "<table border=\"1\" class=\"dataframe\">\n",
       "  <thead>\n",
       "    <tr style=\"text-align: right;\">\n",
       "      <th></th>\n",
       "      <th>State</th>\n",
       "      <th>Rate</th>\n",
       "      <th>Verbal</th>\n",
       "      <th>Math</th>\n",
       "      <th>difference_test</th>\n",
       "    </tr>\n",
       "  </thead>\n",
       "  <tbody>\n",
       "    <tr>\n",
       "      <th>47</th>\n",
       "      <td>IA</td>\n",
       "      <td>5</td>\n",
       "      <td>593</td>\n",
       "      <td>603</td>\n",
       "      <td>10</td>\n",
       "    </tr>\n",
       "    <tr>\n",
       "      <th>48</th>\n",
       "      <td>SD</td>\n",
       "      <td>4</td>\n",
       "      <td>577</td>\n",
       "      <td>582</td>\n",
       "      <td>5</td>\n",
       "    </tr>\n",
       "    <tr>\n",
       "      <th>49</th>\n",
       "      <td>ND</td>\n",
       "      <td>4</td>\n",
       "      <td>592</td>\n",
       "      <td>599</td>\n",
       "      <td>7</td>\n",
       "    </tr>\n",
       "    <tr>\n",
       "      <th>50</th>\n",
       "      <td>MS</td>\n",
       "      <td>4</td>\n",
       "      <td>566</td>\n",
       "      <td>551</td>\n",
       "      <td>15</td>\n",
       "    </tr>\n",
       "    <tr>\n",
       "      <th>51</th>\n",
       "      <td>All</td>\n",
       "      <td>45</td>\n",
       "      <td>506</td>\n",
       "      <td>514</td>\n",
       "      <td>8</td>\n",
       "    </tr>\n",
       "  </tbody>\n",
       "</table>\n",
       "</div>"
      ],
      "text/plain": [
       "   State  Rate  Verbal  Math  difference_test\n",
       "47    IA     5     593   603               10\n",
       "48    SD     4     577   582                5\n",
       "49    ND     4     592   599                7\n",
       "50    MS     4     566   551               15\n",
       "51   All    45     506   514                8"
      ]
     },
     "execution_count": 21,
     "metadata": {},
     "output_type": "execute_result"
    }
   ],
   "source": [
    "sat_scores.tail()"
   ]
  },
  {
   "cell_type": "code",
   "execution_count": 25,
   "metadata": {
    "collapsed": false
   },
   "outputs": [
    {
     "name": "stdout",
     "output_type": "stream",
     "text": [
      "The t-statistic is 2.331 and the p-value is 0.024.\n"
     ]
    }
   ],
   "source": [
    "one_sample = stats.ttest_1samp(data_sat[\"Math\"], 800*.65) \n",
    "print \"The t-statistic is %.3f and the p-value is %.3f.\" % one_sample"
   ]
  },
  {
   "cell_type": "code",
   "execution_count": 96,
   "metadata": {
    "collapsed": false
   },
   "outputs": [
    {
     "data": {
      "text/html": [
       "<div>\n",
       "<table border=\"1\" class=\"dataframe\">\n",
       "  <thead>\n",
       "    <tr style=\"text-align: right;\">\n",
       "      <th></th>\n",
       "      <th>Rate</th>\n",
       "      <th>Verbal</th>\n",
       "      <th>Math</th>\n",
       "      <th>difference_test</th>\n",
       "    </tr>\n",
       "  </thead>\n",
       "  <tbody>\n",
       "    <tr>\n",
       "      <th>count</th>\n",
       "      <td>51.000000</td>\n",
       "      <td>51.000000</td>\n",
       "      <td>51.000000</td>\n",
       "      <td>51.000000</td>\n",
       "    </tr>\n",
       "    <tr>\n",
       "      <th>mean</th>\n",
       "      <td>37.000000</td>\n",
       "      <td>532.529412</td>\n",
       "      <td>531.843137</td>\n",
       "      <td>7.901961</td>\n",
       "    </tr>\n",
       "    <tr>\n",
       "      <th>std</th>\n",
       "      <td>27.550681</td>\n",
       "      <td>33.360667</td>\n",
       "      <td>36.287393</td>\n",
       "      <td>13.700007</td>\n",
       "    </tr>\n",
       "    <tr>\n",
       "      <th>min</th>\n",
       "      <td>4.000000</td>\n",
       "      <td>482.000000</td>\n",
       "      <td>439.000000</td>\n",
       "      <td>0.000000</td>\n",
       "    </tr>\n",
       "    <tr>\n",
       "      <th>25%</th>\n",
       "      <td>9.000000</td>\n",
       "      <td>501.000000</td>\n",
       "      <td>503.000000</td>\n",
       "      <td>2.000000</td>\n",
       "    </tr>\n",
       "    <tr>\n",
       "      <th>50%</th>\n",
       "      <td>33.000000</td>\n",
       "      <td>527.000000</td>\n",
       "      <td>525.000000</td>\n",
       "      <td>5.000000</td>\n",
       "    </tr>\n",
       "    <tr>\n",
       "      <th>75%</th>\n",
       "      <td>64.000000</td>\n",
       "      <td>562.000000</td>\n",
       "      <td>557.500000</td>\n",
       "      <td>9.000000</td>\n",
       "    </tr>\n",
       "    <tr>\n",
       "      <th>max</th>\n",
       "      <td>82.000000</td>\n",
       "      <td>593.000000</td>\n",
       "      <td>603.000000</td>\n",
       "      <td>95.000000</td>\n",
       "    </tr>\n",
       "  </tbody>\n",
       "</table>\n",
       "</div>"
      ],
      "text/plain": [
       "            Rate      Verbal        Math  difference_test\n",
       "count  51.000000   51.000000   51.000000        51.000000\n",
       "mean   37.000000  532.529412  531.843137         7.901961\n",
       "std    27.550681   33.360667   36.287393        13.700007\n",
       "min     4.000000  482.000000  439.000000         0.000000\n",
       "25%     9.000000  501.000000  503.000000         2.000000\n",
       "50%    33.000000  527.000000  525.000000         5.000000\n",
       "75%    64.000000  562.000000  557.500000         9.000000\n",
       "max    82.000000  593.000000  603.000000        95.000000"
      ]
     },
     "execution_count": 96,
     "metadata": {},
     "output_type": "execute_result"
    }
   ],
   "source": [
    "data_sat.describe()"
   ]
  },
  {
   "cell_type": "code",
   "execution_count": 11,
   "metadata": {
    "collapsed": false
   },
   "outputs": [],
   "source": [
    "#Assume there is no difference between math and verbal, find the probablity \n",
    "m = 0\n",
    "data_sat_new = pd.concat([data_sat[\"Verbal\"], data_sat[\"Math\"]], ignore_index)\n",
    "data_sat_new = pd.DataFrame(data_sat_new)\n",
    "data_sat_new.reset_index(inplace = True)\n",
    "\n"
   ]
  },
  {
   "cell_type": "code",
   "execution_count": 13,
   "metadata": {
    "collapsed": false
   },
   "outputs": [],
   "source": [
    "del data_sat_new[\"index\"]"
   ]
  },
  {
   "cell_type": "code",
   "execution_count": 33,
   "metadata": {
    "collapsed": false
   },
   "outputs": [
    {
     "data": {
      "text/plain": [
       "0    510\n",
       "Name: 73, dtype: int64"
      ]
     },
     "execution_count": 33,
     "metadata": {},
     "output_type": "execute_result"
    }
   ],
   "source": [
    "data_sat_new.iloc[73]"
   ]
  },
  {
   "cell_type": "code",
   "execution_count": 42,
   "metadata": {
    "collapsed": false
   },
   "outputs": [
    {
     "name": "stdout",
     "output_type": "stream",
     "text": [
      "543\n"
     ]
    }
   ],
   "source": [
    "print data_sat_new.iloc[30].values[0]"
   ]
  },
  {
   "cell_type": "code",
   "execution_count": 51,
   "metadata": {
    "collapsed": false
   },
   "outputs": [
    {
     "name": "stdout",
     "output_type": "stream",
     "text": [
      "0.4825\n"
     ]
    }
   ],
   "source": [
    "m=0\n",
    "for i in range(10000):\n",
    "    rand_row = np.random.randint(102, size = 2)\n",
    "    if (data_sat_new.iloc[rand_row[0]][0] - data_sat_new.iloc[rand_row[1]][0]) >= 0.5192:\n",
    "        m += 1\n",
    "    p = m / 10000.0\n",
    "print p"
   ]
  },
  {
   "cell_type": "code",
   "execution_count": 54,
   "metadata": {
    "collapsed": false
   },
   "outputs": [
    {
     "name": "stdout",
     "output_type": "stream",
     "text": [
      "0     1019\n",
      "1     1012\n",
      "2     1026\n",
      "3     1000\n",
      "4     1036\n",
      "5     1000\n",
      "6      999\n",
      "7     1017\n",
      "8     1006\n",
      "9     1011\n",
      "10    1000\n",
      "11    1018\n",
      "12     992\n",
      "13     980\n",
      "14    1000\n",
      "15     974\n",
      "16     956\n",
      "17    1052\n",
      "18     997\n",
      "19    1054\n",
      "20     992\n",
      "21    1000\n",
      "22    1024\n",
      "23    1015\n",
      "24    1048\n",
      "25    1024\n",
      "26    1081\n",
      "27     973\n",
      "28    1078\n",
      "29    1039\n",
      "30    1085\n",
      "31    1115\n",
      "32    1093\n",
      "33    1165\n",
      "34    1100\n",
      "35    1092\n",
      "36    1133\n",
      "37    1169\n",
      "38    1157\n",
      "39    1113\n",
      "40    1130\n",
      "41    1128\n",
      "42    1154\n",
      "43    1126\n",
      "44    1180\n",
      "45    1112\n",
      "46    1145\n",
      "47    1196\n",
      "48    1159\n",
      "49    1191\n",
      "50    1117\n",
      "dtype: int64\n"
     ]
    }
   ],
   "source": [
    "m = 0\n",
    "for i in range(10000):\n",
    "    rand_index = np.random.randint(102, size = 2)\n",
    "    if (new_list[rand_index[0]]-new_list[rand_index[1]]) >= 0.5912:\n",
    "        #m+=1\n",
    "    p = m / 10000.0\n",
    "print p\n"
   ]
  },
  {
   "cell_type": "code",
   "execution_count": 37,
   "metadata": {
    "collapsed": false
   },
   "outputs": [
    {
     "data": {
      "text/plain": [
       "0.0485"
      ]
     },
     "execution_count": 37,
     "metadata": {},
     "output_type": "execute_result"
    }
   ],
   "source": [
    "# Simulating a binomial variable (e.g. seeing heads in 20 out of 30 coin flips )\n",
    "\n",
    "m = 0\n",
    "for i in range(10000):\n",
    "    trials = np.random.randint(2, size = 30) #numpy array of 30 items, that are 0,1\n",
    "    if (trials.sum() >= 20): #want to make sure that you are getting 20 heads\n",
    "        m += 1\n",
    "p = m / 10000.0\n",
    "p #percentage of trials that will give us a 20 1s (e.g. heads) out of 30 trials"
   ]
  }
 ],
 "metadata": {
  "kernelspec": {
   "display_name": "Python 2",
   "language": "python",
   "name": "python2"
  },
  "language_info": {
   "codemirror_mode": {
    "name": "ipython",
    "version": 2
   },
   "file_extension": ".py",
   "mimetype": "text/x-python",
   "name": "python",
   "nbconvert_exporter": "python",
   "pygments_lexer": "ipython2",
   "version": "2.7.11"
  }
 },
 "nbformat": 4,
 "nbformat_minor": 0
}
