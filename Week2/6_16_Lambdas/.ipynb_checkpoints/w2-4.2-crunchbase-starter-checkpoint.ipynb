{
 "cells": [
  {
   "cell_type": "code",
   "execution_count": 1,
   "metadata": {
    "collapsed": false
   },
   "outputs": [],
   "source": [
    "import pandas as pd\n",
    "import numpy as np\n",
    "import matplotlib.pyplot as plt\n",
    "%matplotlib inline"
   ]
  },
  {
   "cell_type": "code",
   "execution_count": 2,
   "metadata": {
    "collapsed": false
   },
   "outputs": [],
   "source": [
    "# read in the raw data from the github url\n",
    "\n",
    "df = pd.read_csv(\"https://raw.githubusercontent.com/suneel0101/lesson-plan/master/crunchbase_monthly_export.csv\")"
   ]
  },
  {
   "cell_type": "code",
   "execution_count": 3,
   "metadata": {
    "collapsed": false
   },
   "outputs": [
    {
     "data": {
      "text/html": [
       "<div>\n",
       "<table border=\"1\" class=\"dataframe\">\n",
       "  <thead>\n",
       "    <tr style=\"text-align: right;\">\n",
       "      <th></th>\n",
       "      <th>permalink</th>\n",
       "      <th>name</th>\n",
       "      <th>homepage_url</th>\n",
       "      <th>category_list</th>\n",
       "      <th>market</th>\n",
       "      <th>funding_total_usd</th>\n",
       "      <th>status</th>\n",
       "      <th>country_code</th>\n",
       "      <th>state_code</th>\n",
       "      <th>region</th>\n",
       "      <th>city</th>\n",
       "      <th>funding_rounds</th>\n",
       "      <th>founded_at</th>\n",
       "      <th>founded_month</th>\n",
       "      <th>founded_quarter</th>\n",
       "      <th>founded_year</th>\n",
       "      <th>first_funding_at</th>\n",
       "      <th>last_funding_at</th>\n",
       "      <th>Unnamed: 18</th>\n",
       "    </tr>\n",
       "  </thead>\n",
       "  <tbody>\n",
       "    <tr>\n",
       "      <th>0</th>\n",
       "      <td>/organization/canal-do-credito</td>\n",
       "      <td>Canal do Credito</td>\n",
       "      <td>http://www.canaldocredito.com.br</td>\n",
       "      <td>|Credit|Technology|Services|Finance|</td>\n",
       "      <td>Credit</td>\n",
       "      <td>750,000</td>\n",
       "      <td>NaN</td>\n",
       "      <td>BRA</td>\n",
       "      <td>NaN</td>\n",
       "      <td>Rio de Janeiro</td>\n",
       "      <td>Belo Horizonte</td>\n",
       "      <td>1</td>\n",
       "      <td>NaN</td>\n",
       "      <td>NaN</td>\n",
       "      <td>NaN</td>\n",
       "      <td>NaN</td>\n",
       "      <td>1/1/10</td>\n",
       "      <td>1/1/10</td>\n",
       "      <td>NaN</td>\n",
       "    </tr>\n",
       "    <tr>\n",
       "      <th>1</th>\n",
       "      <td>/organization/waywire</td>\n",
       "      <td>#waywire</td>\n",
       "      <td>http://www.waywire.com</td>\n",
       "      <td>|Entertainment|Politics|Social Media|News|</td>\n",
       "      <td>Entertainment</td>\n",
       "      <td>1,750,000</td>\n",
       "      <td>acquired</td>\n",
       "      <td>USA</td>\n",
       "      <td>NY</td>\n",
       "      <td>New York City</td>\n",
       "      <td>New York</td>\n",
       "      <td>1</td>\n",
       "      <td>6/1/12</td>\n",
       "      <td>2012-06</td>\n",
       "      <td>2012-Q2</td>\n",
       "      <td>2012.0</td>\n",
       "      <td>6/30/12</td>\n",
       "      <td>6/30/12</td>\n",
       "      <td>NaN</td>\n",
       "    </tr>\n",
       "    <tr>\n",
       "      <th>2</th>\n",
       "      <td>/organization/tv-communications</td>\n",
       "      <td>&amp;TV Communications</td>\n",
       "      <td>http://enjoyandtv.com</td>\n",
       "      <td>|Games|</td>\n",
       "      <td>Games</td>\n",
       "      <td>4,000,000</td>\n",
       "      <td>operating</td>\n",
       "      <td>USA</td>\n",
       "      <td>CA</td>\n",
       "      <td>Los Angeles</td>\n",
       "      <td>Los Angeles</td>\n",
       "      <td>2</td>\n",
       "      <td>NaN</td>\n",
       "      <td>NaN</td>\n",
       "      <td>NaN</td>\n",
       "      <td>NaN</td>\n",
       "      <td>6/4/10</td>\n",
       "      <td>9/23/10</td>\n",
       "      <td>NaN</td>\n",
       "    </tr>\n",
       "    <tr>\n",
       "      <th>3</th>\n",
       "      <td>/organization/rock-your-paper</td>\n",
       "      <td>'Rock' Your Paper</td>\n",
       "      <td>http://www.rockyourpaper.org</td>\n",
       "      <td>|Publishing|Education|</td>\n",
       "      <td>Education</td>\n",
       "      <td>40,000</td>\n",
       "      <td>operating</td>\n",
       "      <td>EST</td>\n",
       "      <td>NaN</td>\n",
       "      <td>Tallinn</td>\n",
       "      <td>Tallinn</td>\n",
       "      <td>1</td>\n",
       "      <td>10/26/12</td>\n",
       "      <td>2012-10</td>\n",
       "      <td>2012-Q4</td>\n",
       "      <td>2012.0</td>\n",
       "      <td>8/9/12</td>\n",
       "      <td>8/9/12</td>\n",
       "      <td>NaN</td>\n",
       "    </tr>\n",
       "    <tr>\n",
       "      <th>4</th>\n",
       "      <td>/organization/in-touch-network</td>\n",
       "      <td>(In)Touch Network</td>\n",
       "      <td>http://www.InTouchNetwork.com</td>\n",
       "      <td>|Electronics|Guides|Coffee|Restaurants|Music|i...</td>\n",
       "      <td>Apps</td>\n",
       "      <td>1,500,000</td>\n",
       "      <td>operating</td>\n",
       "      <td>GBR</td>\n",
       "      <td>NaN</td>\n",
       "      <td>London</td>\n",
       "      <td>London</td>\n",
       "      <td>1</td>\n",
       "      <td>4/1/11</td>\n",
       "      <td>2011-04</td>\n",
       "      <td>2011-Q2</td>\n",
       "      <td>2011.0</td>\n",
       "      <td>4/1/11</td>\n",
       "      <td>4/1/11</td>\n",
       "      <td>NaN</td>\n",
       "    </tr>\n",
       "  </tbody>\n",
       "</table>\n",
       "</div>"
      ],
      "text/plain": [
       "                         permalink                name  \\\n",
       "0   /organization/canal-do-credito    Canal do Credito   \n",
       "1            /organization/waywire            #waywire   \n",
       "2  /organization/tv-communications  &TV Communications   \n",
       "3    /organization/rock-your-paper   'Rock' Your Paper   \n",
       "4   /organization/in-touch-network   (In)Touch Network   \n",
       "\n",
       "                       homepage_url  \\\n",
       "0  http://www.canaldocredito.com.br   \n",
       "1            http://www.waywire.com   \n",
       "2             http://enjoyandtv.com   \n",
       "3      http://www.rockyourpaper.org   \n",
       "4     http://www.InTouchNetwork.com   \n",
       "\n",
       "                                       category_list          market   \\\n",
       "0               |Credit|Technology|Services|Finance|          Credit    \n",
       "1         |Entertainment|Politics|Social Media|News|   Entertainment    \n",
       "2                                            |Games|           Games    \n",
       "3                             |Publishing|Education|       Education    \n",
       "4  |Electronics|Guides|Coffee|Restaurants|Music|i...            Apps    \n",
       "\n",
       "   funding_total_usd      status country_code state_code          region  \\\n",
       "0            750,000         NaN          BRA        NaN  Rio de Janeiro   \n",
       "1          1,750,000    acquired          USA         NY   New York City   \n",
       "2          4,000,000   operating          USA         CA     Los Angeles   \n",
       "3             40,000   operating          EST        NaN         Tallinn   \n",
       "4          1,500,000   operating          GBR        NaN          London   \n",
       "\n",
       "             city  funding_rounds founded_at founded_month founded_quarter  \\\n",
       "0  Belo Horizonte               1        NaN           NaN             NaN   \n",
       "1        New York               1     6/1/12       2012-06         2012-Q2   \n",
       "2     Los Angeles               2        NaN           NaN             NaN   \n",
       "3         Tallinn               1   10/26/12       2012-10         2012-Q4   \n",
       "4          London               1     4/1/11       2011-04         2011-Q2   \n",
       "\n",
       "   founded_year first_funding_at last_funding_at  Unnamed: 18  \n",
       "0           NaN           1/1/10          1/1/10          NaN  \n",
       "1        2012.0          6/30/12         6/30/12          NaN  \n",
       "2           NaN           6/4/10         9/23/10          NaN  \n",
       "3        2012.0           8/9/12          8/9/12          NaN  \n",
       "4        2011.0           4/1/11          4/1/11          NaN  "
      ]
     },
     "execution_count": 3,
     "metadata": {},
     "output_type": "execute_result"
    }
   ],
   "source": [
    "df.head()"
   ]
  },
  {
   "cell_type": "markdown",
   "metadata": {},
   "source": [
    "#### 1. Clean the data. Use .apply and lambda functions where you can"
   ]
  },
  {
   "cell_type": "code",
   "execution_count": 4,
   "metadata": {
    "collapsed": false
   },
   "outputs": [
    {
     "data": {
      "text/plain": [
       "array(['permalink', 'name', 'homepage_url', 'category_list', ' market ',\n",
       "       ' funding_total_usd ', 'status', 'country_code', 'state_code',\n",
       "       'region', 'city', 'funding_rounds', 'founded_at', 'founded_month',\n",
       "       'founded_quarter', 'founded_year', 'first_funding_at',\n",
       "       'last_funding_at', 'Unnamed: 18'], dtype=object)"
      ]
     },
     "execution_count": 4,
     "metadata": {},
     "output_type": "execute_result"
    }
   ],
   "source": [
    "# rename the columns to remove spaces and extra characters\n",
    "df.columns.values"
   ]
  },
  {
   "cell_type": "code",
   "execution_count": 5,
   "metadata": {
    "collapsed": false
   },
   "outputs": [],
   "source": [
    "df[\"Unnamed: 18\"].describe()\n",
    "del df[\"Unnamed: 18\"]"
   ]
  },
  {
   "cell_type": "code",
   "execution_count": 6,
   "metadata": {
    "collapsed": false
   },
   "outputs": [],
   "source": [
    "df = df.rename(columns = {\" market \": \"market\", \" funding_total_usd \": \"funding_total_usd\"})"
   ]
  },
  {
   "cell_type": "code",
   "execution_count": 7,
   "metadata": {
    "collapsed": false
   },
   "outputs": [
    {
     "data": {
      "text/plain": [
       "array(['permalink', 'name', 'homepage_url', 'category_list', 'market',\n",
       "       'funding_total_usd', 'status', 'country_code', 'state_code',\n",
       "       'region', 'city', 'funding_rounds', 'founded_at', 'founded_month',\n",
       "       'founded_quarter', 'founded_year', 'first_funding_at',\n",
       "       'last_funding_at'], dtype=object)"
      ]
     },
     "execution_count": 7,
     "metadata": {},
     "output_type": "execute_result"
    }
   ],
   "source": [
    "df.columns.values"
   ]
  },
  {
   "cell_type": "code",
   "execution_count": 8,
   "metadata": {
    "collapsed": false
   },
   "outputs": [
    {
     "data": {
      "text/plain": [
       "permalink             object\n",
       "name                  object\n",
       "homepage_url          object\n",
       "category_list         object\n",
       "market                object\n",
       "funding_total_usd     object\n",
       "status                object\n",
       "country_code          object\n",
       "state_code            object\n",
       "region                object\n",
       "city                  object\n",
       "funding_rounds         int64\n",
       "founded_at            object\n",
       "founded_month         object\n",
       "founded_quarter       object\n",
       "founded_year         float64\n",
       "first_funding_at      object\n",
       "last_funding_at       object\n",
       "dtype: object"
      ]
     },
     "execution_count": 8,
     "metadata": {},
     "output_type": "execute_result"
    }
   ],
   "source": [
    "# convert the funding, year founded, and funding_rounds columns to integers\n",
    "df.dtypes"
   ]
  },
  {
   "cell_type": "code",
   "execution_count": 14,
   "metadata": {
    "collapsed": false
   },
   "outputs": [
    {
     "data": {
      "text/plain": [
       "0      750000.0\n",
       "1     1750000.0\n",
       "2     4000000.0\n",
       "3       40000.0\n",
       "4     1500000.0\n",
       "5      600000.0\n",
       "6     7000000.0\n",
       "7     4912393.0\n",
       "8     2000000.0\n",
       "9           NaN\n",
       "10    1700000.0\n",
       "11      40000.0\n",
       "12          NaN\n",
       "13          NaN\n",
       "14    1750000.0\n",
       "15          NaN\n",
       "16    2050000.0\n",
       "17      40000.0\n",
       "18     500000.0\n",
       "19          NaN\n",
       "Name: funding_total_usd, dtype: float64"
      ]
     },
     "execution_count": 14,
     "metadata": {},
     "output_type": "execute_result"
    }
   ],
   "source": [
    "df[\"funding_total_usd\"].head(20)"
   ]
  },
  {
   "cell_type": "code",
   "execution_count": 10,
   "metadata": {
    "collapsed": false
   },
   "outputs": [],
   "source": [
    "#this will try things until it gets an error\n",
    "def turndollarsintoint(x):\n",
    "    try:\n",
    "        newint = str(x).replace(\",\", \"\")\n",
    "        return int(newint)\n",
    "    except:\n",
    "        return np.nan"
   ]
  },
  {
   "cell_type": "code",
   "execution_count": 11,
   "metadata": {
    "collapsed": false
   },
   "outputs": [],
   "source": [
    "df[\"funding_total_usd\"] = df[\"funding_total_usd\"].apply(turndollarsintoint)"
   ]
  },
  {
   "cell_type": "code",
   "execution_count": 12,
   "metadata": {
    "collapsed": false
   },
   "outputs": [
    {
     "data": {
      "text/plain": [
       "1000000.0      874\n",
       "500000.0       703\n",
       "40000.0        680\n",
       "100000.0       664\n",
       "2000000.0      554\n",
       "50000.0        512\n",
       "10000000.0     470\n",
       "250000.0       461\n",
       "5000000.0      445\n",
       "3000000.0      435\n",
       "1500000.0      420\n",
       "200000.0       394\n",
       "25000.0        391\n",
       "150000.0       348\n",
       "4000000.0      314\n",
       "300000.0       308\n",
       "20000.0        276\n",
       "6000000.0      268\n",
       "2500000.0      239\n",
       "20000000.0     218\n",
       "15000000.0     209\n",
       "600000.0       207\n",
       "400000.0       205\n",
       "7000000.0      191\n",
       "750000.0       187\n",
       "1200000.0      184\n",
       "8000000.0      178\n",
       "12000000.0     169\n",
       "10000.0        163\n",
       "3500000.0      160\n",
       "              ... \n",
       "14459465.0       1\n",
       "45632042.0       1\n",
       "16556606.0       1\n",
       "10723891.0       1\n",
       "624000.0         1\n",
       "31171234.0       1\n",
       "15901360.0       1\n",
       "129606472.0      1\n",
       "5743342.0        1\n",
       "3646260.0        1\n",
       "26321710.0       1\n",
       "17998631.0       1\n",
       "46900000.0       1\n",
       "2597645.0        1\n",
       "172801.0         1\n",
       "1745661.0        1\n",
       "37397237.0       1\n",
       "107250.0         1\n",
       "2401000.0        1\n",
       "84900000.0       1\n",
       "15966943.0       1\n",
       "959197.0         1\n",
       "5546715.0        1\n",
       "100180695.0      1\n",
       "1024726.0        1\n",
       "2728659.0        1\n",
       "204514000.0      1\n",
       "4825800.0        1\n",
       "2073280.0        1\n",
       "9699336.0        1\n",
       "Name: funding_total_usd, dtype: int64"
      ]
     },
     "execution_count": 12,
     "metadata": {},
     "output_type": "execute_result"
    }
   ],
   "source": [
    "df[\"funding_total_usd\"].value_counts()"
   ]
  },
  {
   "cell_type": "code",
   "execution_count": 15,
   "metadata": {
    "collapsed": false
   },
   "outputs": [
    {
     "data": {
      "text/plain": [
       "count    3.754400e+04\n",
       "mean     1.800507e+07\n",
       "std      4.417086e+08\n",
       "min      3.500000e+01\n",
       "25%      3.859800e+05\n",
       "50%      2.000000e+06\n",
       "75%      1.000000e+07\n",
       "max      7.879506e+10\n",
       "Name: funding_total_usd, dtype: float64"
      ]
     },
     "execution_count": 15,
     "metadata": {},
     "output_type": "execute_result"
    }
   ],
   "source": [
    "df[\"funding_total_usd\"].describe()"
   ]
  },
  {
   "cell_type": "code",
   "execution_count": 16,
   "metadata": {
    "collapsed": false
   },
   "outputs": [
    {
     "data": {
      "text/plain": [
       "permalink             object\n",
       "name                  object\n",
       "homepage_url          object\n",
       "category_list         object\n",
       "market                object\n",
       "funding_total_usd    float64\n",
       "status                object\n",
       "country_code          object\n",
       "state_code            object\n",
       "region                object\n",
       "city                  object\n",
       "funding_rounds         int64\n",
       "founded_at            object\n",
       "founded_month         object\n",
       "founded_quarter       object\n",
       "founded_year         float64\n",
       "first_funding_at      object\n",
       "last_funding_at       object\n",
       "dtype: object"
      ]
     },
     "execution_count": 16,
     "metadata": {},
     "output_type": "execute_result"
    }
   ],
   "source": [
    "df.dtypes"
   ]
  },
  {
   "cell_type": "code",
   "execution_count": 17,
   "metadata": {
    "collapsed": false
   },
   "outputs": [
    {
     "data": {
      "text/plain": [
       "2012.0    4679\n",
       "2011.0    4627\n",
       "2010.0    3610\n",
       "2013.0    3213\n",
       "2009.0    2839\n",
       "2008.0    2270\n",
       "2007.0    2251\n",
       "2006.0    1761\n",
       "2005.0    1377\n",
       "2004.0    1121\n",
       "2003.0     935\n",
       "2000.0     863\n",
       "2002.0     765\n",
       "1999.0     737\n",
       "2001.0     725\n",
       "2014.0     690\n",
       "1998.0     425\n",
       "1997.0     345\n",
       "1996.0     295\n",
       "1995.0     219\n",
       "1994.0     147\n",
       "1993.0     125\n",
       "1992.0     112\n",
       "1991.0      87\n",
       "1989.0      84\n",
       "1990.0      80\n",
       "1985.0      73\n",
       "1988.0      71\n",
       "1984.0      65\n",
       "1987.0      65\n",
       "          ... \n",
       "1914.0       2\n",
       "1913.0       2\n",
       "1934.0       2\n",
       "1923.0       2\n",
       "1949.0       2\n",
       "1910.0       2\n",
       "1945.0       2\n",
       "1953.0       2\n",
       "1951.0       2\n",
       "1965.0       2\n",
       "1926.0       2\n",
       "1908.0       1\n",
       "1917.0       1\n",
       "1911.0       1\n",
       "1903.0       1\n",
       "1902.0       1\n",
       "1918.0       1\n",
       "1962.0       1\n",
       "1920.0       1\n",
       "1925.0       1\n",
       "1929.0       1\n",
       "1933.0       1\n",
       "1936.0       1\n",
       "1939.0       1\n",
       "1941.0       1\n",
       "1943.0       1\n",
       "1944.0       1\n",
       "1946.0       1\n",
       "1957.0       1\n",
       "1900.0       1\n",
       "Name: founded_year, dtype: int64"
      ]
     },
     "execution_count": 17,
     "metadata": {},
     "output_type": "execute_result"
    }
   ],
   "source": [
    "df[\"founded_year\"].value_counts()"
   ]
  },
  {
   "cell_type": "code",
   "execution_count": 18,
   "metadata": {
    "collapsed": false
   },
   "outputs": [],
   "source": [
    "def turnyearsintoint(x):\n",
    "    try:\n",
    "        return int(x)\n",
    "    except:\n",
    "        return np.nan\n",
    "    \n",
    "df[\"founded_year\"] = df[\"founded_year\"].apply(turnyearsintoint)"
   ]
  },
  {
   "cell_type": "code",
   "execution_count": 19,
   "metadata": {
    "collapsed": false
   },
   "outputs": [
    {
     "data": {
      "text/plain": [
       "count    35226.000000\n",
       "mean      2007.083461\n",
       "std          7.522161\n",
       "min       1900.000000\n",
       "25%       2005.000000\n",
       "50%       2009.000000\n",
       "75%       2011.000000\n",
       "max       2014.000000\n",
       "Name: founded_year, dtype: float64"
      ]
     },
     "execution_count": 19,
     "metadata": {},
     "output_type": "execute_result"
    }
   ],
   "source": [
    "df[\"founded_year\"].describe()"
   ]
  },
  {
   "cell_type": "code",
   "execution_count": 21,
   "metadata": {
    "collapsed": false
   },
   "outputs": [
    {
     "data": {
      "text/plain": [
       "permalink             object\n",
       "name                  object\n",
       "homepage_url          object\n",
       "category_list         object\n",
       "market                object\n",
       "funding_total_usd    float64\n",
       "status                object\n",
       "country_code          object\n",
       "state_code            object\n",
       "region                object\n",
       "city                  object\n",
       "funding_rounds         int64\n",
       "founded_at            object\n",
       "founded_month         object\n",
       "founded_quarter       object\n",
       "founded_year         float64\n",
       "first_funding_at      object\n",
       "last_funding_at       object\n",
       "dtype: object"
      ]
     },
     "execution_count": 21,
     "metadata": {},
     "output_type": "execute_result"
    }
   ],
   "source": [
    "df.dtypes"
   ]
  },
  {
   "cell_type": "code",
   "execution_count": 22,
   "metadata": {
    "collapsed": false
   },
   "outputs": [
    {
     "data": {
      "text/html": [
       "<div>\n",
       "<table border=\"1\" class=\"dataframe\">\n",
       "  <thead>\n",
       "    <tr style=\"text-align: right;\">\n",
       "      <th></th>\n",
       "      <th>permalink</th>\n",
       "      <th>name</th>\n",
       "      <th>homepage_url</th>\n",
       "      <th>category_list</th>\n",
       "      <th>market</th>\n",
       "      <th>funding_total_usd</th>\n",
       "      <th>status</th>\n",
       "      <th>country_code</th>\n",
       "      <th>state_code</th>\n",
       "      <th>region</th>\n",
       "      <th>city</th>\n",
       "      <th>funding_rounds</th>\n",
       "      <th>founded_at</th>\n",
       "      <th>founded_month</th>\n",
       "      <th>founded_quarter</th>\n",
       "      <th>founded_year</th>\n",
       "      <th>first_funding_at</th>\n",
       "      <th>last_funding_at</th>\n",
       "    </tr>\n",
       "  </thead>\n",
       "  <tbody>\n",
       "    <tr>\n",
       "      <th>0</th>\n",
       "      <td>/organization/canal-do-credito</td>\n",
       "      <td>Canal do Credito</td>\n",
       "      <td>http://www.canaldocredito.com.br</td>\n",
       "      <td>|Credit|Technology|Services|Finance|</td>\n",
       "      <td>Credit</td>\n",
       "      <td>750000.0</td>\n",
       "      <td>NaN</td>\n",
       "      <td>BRA</td>\n",
       "      <td>NaN</td>\n",
       "      <td>Rio de Janeiro</td>\n",
       "      <td>Belo Horizonte</td>\n",
       "      <td>1</td>\n",
       "      <td>NaN</td>\n",
       "      <td>NaN</td>\n",
       "      <td>NaN</td>\n",
       "      <td>NaN</td>\n",
       "      <td>1/1/10</td>\n",
       "      <td>1/1/10</td>\n",
       "    </tr>\n",
       "    <tr>\n",
       "      <th>1</th>\n",
       "      <td>/organization/waywire</td>\n",
       "      <td>#waywire</td>\n",
       "      <td>http://www.waywire.com</td>\n",
       "      <td>|Entertainment|Politics|Social Media|News|</td>\n",
       "      <td>Entertainment</td>\n",
       "      <td>1750000.0</td>\n",
       "      <td>acquired</td>\n",
       "      <td>USA</td>\n",
       "      <td>NY</td>\n",
       "      <td>New York City</td>\n",
       "      <td>New York</td>\n",
       "      <td>1</td>\n",
       "      <td>6/1/12</td>\n",
       "      <td>2012-06</td>\n",
       "      <td>2012-Q2</td>\n",
       "      <td>2012.0</td>\n",
       "      <td>6/30/12</td>\n",
       "      <td>6/30/12</td>\n",
       "    </tr>\n",
       "    <tr>\n",
       "      <th>2</th>\n",
       "      <td>/organization/tv-communications</td>\n",
       "      <td>&amp;TV Communications</td>\n",
       "      <td>http://enjoyandtv.com</td>\n",
       "      <td>|Games|</td>\n",
       "      <td>Games</td>\n",
       "      <td>4000000.0</td>\n",
       "      <td>operating</td>\n",
       "      <td>USA</td>\n",
       "      <td>CA</td>\n",
       "      <td>Los Angeles</td>\n",
       "      <td>Los Angeles</td>\n",
       "      <td>2</td>\n",
       "      <td>NaN</td>\n",
       "      <td>NaN</td>\n",
       "      <td>NaN</td>\n",
       "      <td>NaN</td>\n",
       "      <td>6/4/10</td>\n",
       "      <td>9/23/10</td>\n",
       "    </tr>\n",
       "    <tr>\n",
       "      <th>3</th>\n",
       "      <td>/organization/rock-your-paper</td>\n",
       "      <td>'Rock' Your Paper</td>\n",
       "      <td>http://www.rockyourpaper.org</td>\n",
       "      <td>|Publishing|Education|</td>\n",
       "      <td>Education</td>\n",
       "      <td>40000.0</td>\n",
       "      <td>operating</td>\n",
       "      <td>EST</td>\n",
       "      <td>NaN</td>\n",
       "      <td>Tallinn</td>\n",
       "      <td>Tallinn</td>\n",
       "      <td>1</td>\n",
       "      <td>10/26/12</td>\n",
       "      <td>2012-10</td>\n",
       "      <td>2012-Q4</td>\n",
       "      <td>2012.0</td>\n",
       "      <td>8/9/12</td>\n",
       "      <td>8/9/12</td>\n",
       "    </tr>\n",
       "    <tr>\n",
       "      <th>4</th>\n",
       "      <td>/organization/in-touch-network</td>\n",
       "      <td>(In)Touch Network</td>\n",
       "      <td>http://www.InTouchNetwork.com</td>\n",
       "      <td>|Electronics|Guides|Coffee|Restaurants|Music|i...</td>\n",
       "      <td>Apps</td>\n",
       "      <td>1500000.0</td>\n",
       "      <td>operating</td>\n",
       "      <td>GBR</td>\n",
       "      <td>NaN</td>\n",
       "      <td>London</td>\n",
       "      <td>London</td>\n",
       "      <td>1</td>\n",
       "      <td>4/1/11</td>\n",
       "      <td>2011-04</td>\n",
       "      <td>2011-Q2</td>\n",
       "      <td>2011.0</td>\n",
       "      <td>4/1/11</td>\n",
       "      <td>4/1/11</td>\n",
       "    </tr>\n",
       "  </tbody>\n",
       "</table>\n",
       "</div>"
      ],
      "text/plain": [
       "                         permalink                name  \\\n",
       "0   /organization/canal-do-credito    Canal do Credito   \n",
       "1            /organization/waywire            #waywire   \n",
       "2  /organization/tv-communications  &TV Communications   \n",
       "3    /organization/rock-your-paper   'Rock' Your Paper   \n",
       "4   /organization/in-touch-network   (In)Touch Network   \n",
       "\n",
       "                       homepage_url  \\\n",
       "0  http://www.canaldocredito.com.br   \n",
       "1            http://www.waywire.com   \n",
       "2             http://enjoyandtv.com   \n",
       "3      http://www.rockyourpaper.org   \n",
       "4     http://www.InTouchNetwork.com   \n",
       "\n",
       "                                       category_list           market  \\\n",
       "0               |Credit|Technology|Services|Finance|          Credit    \n",
       "1         |Entertainment|Politics|Social Media|News|   Entertainment    \n",
       "2                                            |Games|           Games    \n",
       "3                             |Publishing|Education|       Education    \n",
       "4  |Electronics|Guides|Coffee|Restaurants|Music|i...            Apps    \n",
       "\n",
       "   funding_total_usd     status country_code state_code          region  \\\n",
       "0           750000.0        NaN          BRA        NaN  Rio de Janeiro   \n",
       "1          1750000.0   acquired          USA         NY   New York City   \n",
       "2          4000000.0  operating          USA         CA     Los Angeles   \n",
       "3            40000.0  operating          EST        NaN         Tallinn   \n",
       "4          1500000.0  operating          GBR        NaN          London   \n",
       "\n",
       "             city  funding_rounds founded_at founded_month founded_quarter  \\\n",
       "0  Belo Horizonte               1        NaN           NaN             NaN   \n",
       "1        New York               1     6/1/12       2012-06         2012-Q2   \n",
       "2     Los Angeles               2        NaN           NaN             NaN   \n",
       "3         Tallinn               1   10/26/12       2012-10         2012-Q4   \n",
       "4          London               1     4/1/11       2011-04         2011-Q2   \n",
       "\n",
       "   founded_year first_funding_at last_funding_at  \n",
       "0           NaN           1/1/10          1/1/10  \n",
       "1        2012.0          6/30/12         6/30/12  \n",
       "2           NaN           6/4/10         9/23/10  \n",
       "3        2012.0           8/9/12          8/9/12  \n",
       "4        2011.0           4/1/11          4/1/11  "
      ]
     },
     "execution_count": 22,
     "metadata": {},
     "output_type": "execute_result"
    }
   ],
   "source": [
    "# convert category_list so that each cell is a list of categories\n",
    "df.head()"
   ]
  },
  {
   "cell_type": "code",
   "execution_count": 24,
   "metadata": {
    "collapsed": false
   },
   "outputs": [],
   "source": [
    "df[\"category_list\"] = df[\"category_list\"].apply(lambda x: str(x).split(\"|\")[1:-1]) #this makes everything that is broken by \"|\" into a list\n",
    "#the [1:-1] pulls the items starting at 1, and the one right before so you exclude the \"|\" at the beginning and end"
   ]
  },
  {
   "cell_type": "code",
   "execution_count": 25,
   "metadata": {
    "collapsed": false
   },
   "outputs": [
    {
     "data": {
      "text/plain": [
       "0              [Credit, Technology, Services, Finance]\n",
       "1        [Entertainment, Politics, Social Media, News]\n",
       "2                                              [Games]\n",
       "3                              [Publishing, Education]\n",
       "4    [Electronics, Guides, Coffee, Restaurants, Mus...\n",
       "Name: category_list, dtype: object"
      ]
     },
     "execution_count": 25,
     "metadata": {},
     "output_type": "execute_result"
    }
   ],
   "source": [
    "df[\"category_list\"].head()"
   ]
  },
  {
   "cell_type": "code",
   "execution_count": 28,
   "metadata": {
    "collapsed": false
   },
   "outputs": [
    {
     "data": {
      "text/plain": [
       "ALB        1\n",
       "ANT        9\n",
       "ARE       49\n",
       "ARG      137\n",
       "ARM        2\n",
       "AUS      301\n",
       "AUT      102\n",
       "AZE        3\n",
       "BEL      147\n",
       "BGD        5\n",
       "BGR       59\n",
       "BHR        3\n",
       "BHS        3\n",
       "BLR        3\n",
       "BMU        5\n",
       "BRA      261\n",
       "BRB        1\n",
       "BRN        1\n",
       "BWA        1\n",
       "CAN     1198\n",
       "CHE      215\n",
       "CHL      307\n",
       "CHN     1183\n",
       "CMR        2\n",
       "COL       31\n",
       "CRI        5\n",
       "CSS        6\n",
       "CYM        9\n",
       "CYP       10\n",
       "CZE       54\n",
       "       ...  \n",
       "REU        1\n",
       "ROM        1\n",
       "ROU       37\n",
       "RUS      368\n",
       "SAU        6\n",
       "SEN        1\n",
       "SGP      271\n",
       "SLV        3\n",
       "SOM        1\n",
       "SRB        2\n",
       "SVK       11\n",
       "SVN       10\n",
       "SWE      308\n",
       "SWZ        1\n",
       "SYC        1\n",
       "THA       36\n",
       "TUN        3\n",
       "TUR      103\n",
       "TWN       40\n",
       "TZA        2\n",
       "UGA       10\n",
       "UKR       41\n",
       "URY       10\n",
       "USA    26540\n",
       "UZB        1\n",
       "VEN        1\n",
       "VNM       17\n",
       "ZAF       50\n",
       "ZMB        1\n",
       "ZWE        1\n",
       "Name: country_code, dtype: int64"
      ]
     },
     "execution_count": 28,
     "metadata": {},
     "output_type": "execute_result"
    }
   ],
   "source": [
    "# use value_counts on market, status, and country_code to check for any repeats or misnamed entries\n",
    "dfcountryvalue = df[\"country_code\"].value_counts()\n",
    "dfcountryvalue.sort_index()"
   ]
  },
  {
   "cell_type": "code",
   "execution_count": 29,
   "metadata": {
    "collapsed": false
   },
   "outputs": [
    {
     "data": {
      "text/plain": [
       " 3D                                       68\n",
       " 3D Printing                               6\n",
       " 3D Technology                             1\n",
       " Accounting                               70\n",
       " Active Lifestyle                          6\n",
       " Ad Targeting                             55\n",
       " Advanced Materials                        2\n",
       " Adventure Travel                         15\n",
       " Advertising                            1925\n",
       " Advertising Exchanges                     3\n",
       " Advertising Networks                     11\n",
       " Advertising Platforms                    11\n",
       " Advice                                   22\n",
       " Aerospace                                24\n",
       " Agriculture                              30\n",
       " Algorithms                               13\n",
       " All Markets                              18\n",
       " All Students                             67\n",
       " Alternative Medicine                      1\n",
       " Alumni                                    6\n",
       " Analytics                              1149\n",
       " Android                                 395\n",
       " Angels                                    8\n",
       " Animal Feed                               3\n",
       " App Marketing                            40\n",
       " App Stores                               27\n",
       " Application Performance Monitoring        3\n",
       " Application Platforms                     6\n",
       " Apps                                    458\n",
       " Aquaculture                               1\n",
       "                                        ... \n",
       " Therapeutics                              1\n",
       " Ticketing                                 5\n",
       " Tourism                                   3\n",
       " Toys                                      1\n",
       " Tracking                                  4\n",
       " Trading                                   1\n",
       " Transportation                           69\n",
       " Travel                                  216\n",
       " Travel & Tourism                          8\n",
       " User Experience Design                    1\n",
       " Utilities                                 5\n",
       " Venture Capital                           1\n",
       " Veterinary                                1\n",
       " Video                                     9\n",
       " Video Games                               8\n",
       " Video Streaming                           4\n",
       " Video on Demand                           1\n",
       " VoIP                                      3\n",
       " Web Design                                3\n",
       " Web Development                           4\n",
       " Web Hosting                             380\n",
       " Web Tools                                 1\n",
       " Weddings                                  3\n",
       " Wholesale                                 1\n",
       " Wine And Spirits                          7\n",
       " Wireless                                  2\n",
       " iOS                                      12\n",
       " iPad                                     20\n",
       " iPhone                                   41\n",
       " mHealth                                   2\n",
       "Name: market, dtype: int64"
      ]
     },
     "execution_count": 29,
     "metadata": {},
     "output_type": "execute_result"
    }
   ],
   "source": [
    "dfmarketscounts = df[\"market\"].value_counts()\n",
    "dfmarketscounts.sort_index()"
   ]
  },
  {
   "cell_type": "code",
   "execution_count": null,
   "metadata": {
    "collapsed": true
   },
   "outputs": [],
   "source": [
    "# BONUS: convert the date columns to appropriate datetime objects"
   ]
  },
  {
   "cell_type": "markdown",
   "metadata": {},
   "source": [
    "#### 2. Using isnull(), take a subset of the dataframe that has no founded at date"
   ]
  },
  {
   "cell_type": "code",
   "execution_count": null,
   "metadata": {
    "collapsed": true
   },
   "outputs": [],
   "source": []
  },
  {
   "cell_type": "markdown",
   "metadata": {},
   "source": [
    "#### 3. Create a new column, founded_year_x, that's a copy of founded_year. Then, replace all the missing values with either the mean , mode, or median of that column. \n",
    "Add a note explaining which statistic you picked and why:"
   ]
  },
  {
   "cell_type": "code",
   "execution_count": null,
   "metadata": {
    "collapsed": true
   },
   "outputs": [],
   "source": []
  },
  {
   "cell_type": "markdown",
   "metadata": {
    "collapsed": true
   },
   "source": [
    "#### 4. Take a subset of US-based companies using boolean selection"
   ]
  },
  {
   "cell_type": "code",
   "execution_count": null,
   "metadata": {
    "collapsed": false
   },
   "outputs": [],
   "source": []
  },
  {
   "cell_type": "markdown",
   "metadata": {},
   "source": [
    "#### 5. Create a pivot table showing total, mean, and median funding amount by year"
   ]
  },
  {
   "cell_type": "code",
   "execution_count": null,
   "metadata": {
    "collapsed": true
   },
   "outputs": [],
   "source": []
  },
  {
   "cell_type": "markdown",
   "metadata": {},
   "source": [
    "#### 6. Create a pivot table showing total, mean and median funding amount by market"
   ]
  },
  {
   "cell_type": "code",
   "execution_count": null,
   "metadata": {
    "collapsed": true
   },
   "outputs": [],
   "source": []
  },
  {
   "cell_type": "markdown",
   "metadata": {},
   "source": [
    "#### 7. CHALLENGE: Using matplotlib, create a scatter plot showing funding amount on the y-axis, and first_funding_date on the x-axis\n",
    "(first_funding_date will need to be a timestamp)"
   ]
  },
  {
   "cell_type": "code",
   "execution_count": null,
   "metadata": {
    "collapsed": true
   },
   "outputs": [],
   "source": []
  },
  {
   "cell_type": "markdown",
   "metadata": {},
   "source": [
    "#### 8. Here's the fun part. Create a hypothesis based on your data that you can reasonably test. \n",
    "For example: \"Credit companies based in the US that only get 1 round of funding tend to receive more funding than companies based outside the US\"\n",
    "\n",
    "\n",
    "\n",
    "When you have your hypothesis, write it below, and Slack it to the instructors so we can check in. "
   ]
  },
  {
   "cell_type": "code",
   "execution_count": null,
   "metadata": {
    "collapsed": true
   },
   "outputs": [],
   "source": []
  },
  {
   "cell_type": "markdown",
   "metadata": {},
   "source": [
    "#### 9. Test your hypothesis. \n",
    "\n",
    "You'll need to evaluate your hypothesis using a t-test (see Monday's lecture 1.3), so make sure you have enough data compare samples. If your original hypothesis is too narrow, you may need to broaden the scope."
   ]
  },
  {
   "cell_type": "code",
   "execution_count": null,
   "metadata": {
    "collapsed": true
   },
   "outputs": [],
   "source": []
  },
  {
   "cell_type": "markdown",
   "metadata": {},
   "source": [
    "#### 10. CHALLENGE\n",
    "- Plot the distribution of both samples\n",
    "- Explain your results in one short sentence. \n",
    "- Explain your result in a slighly longer technical paragraph, touching on the statistics you presented. \n",
    "- Subset your findings: if you looked at a certain market in a certain geography, break it down by another variable (e.g number of funding rounds) and compare those samples. "
   ]
  },
  {
   "cell_type": "code",
   "execution_count": null,
   "metadata": {
    "collapsed": true
   },
   "outputs": [],
   "source": []
  }
 ],
 "metadata": {
  "kernelspec": {
   "display_name": "Python 2",
   "language": "python",
   "name": "python2"
  },
  "language_info": {
   "codemirror_mode": {
    "name": "ipython",
    "version": 2
   },
   "file_extension": ".py",
   "mimetype": "text/x-python",
   "name": "python",
   "nbconvert_exporter": "python",
   "pygments_lexer": "ipython2",
   "version": "2.7.11"
  }
 },
 "nbformat": 4,
 "nbformat_minor": 0
}
