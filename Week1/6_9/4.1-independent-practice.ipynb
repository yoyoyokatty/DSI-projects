{
 "cells": [
  {
   "cell_type": "markdown",
   "metadata": {},
   "source": [
    "### Independent practice\n",
    "\n",
    "Complete the questions using the distribution defined with the **dist** variable in the next cell."
   ]
  },
  {
   "cell_type": "code",
   "execution_count": 1,
   "metadata": {
    "collapsed": true
   },
   "outputs": [],
   "source": [
    "import numpy as np\n",
    "from scipy.stats import mode\n",
    "\n",
    "dist = [33.3, 8.0, 2.7, 7.0, 11.3, 10.2, 38.4, 14.7, 46.9, 6.6, 38.6, 41.1, 20.4, 19.5,\n",
    "        102.6, 111.5, 21.8, 27.0, 30.3, 9.3, 19.6, 31.1, 48.8, 8.9, 11.4, 0.6, 23.5,\n",
    "        8.0, 27.5, 69.7, 11.5, 15.5, 1.4, 7.0, 4.6, 6.0, 16.0, 17.2, 6.3, 26.2, 23.9,\n",
    "        45.9, 55.4, 100.8, 22.9, 75.5, 115.5, 58.9, 10.5, 92.6, 12.4, 102.7, 10.2, 167.6,\n",
    "        143.6, 132.3, 134.2, 39.4, 49.7, 12.0, 27.0, 1.3, 4.7, 5.0, 24.1, 21.5, 33.1,\n",
    "        45.6, 46.3, 15.8, 30.7, 15.7, 6.8, 64.6, 39.1, 2.9, 8.0, 5.4, 33.4, 40.0, 22.7,\n",
    "        24.2, 25.7, 85.0, 26.2, 3.3, 20.7, 117.4, 66.8, 44.3, 37.9, 71.8, 161.4, 45.9,\n",
    "        4.6, 6.6, 12.6, 24.4, 21.4, 33.6, 33.7, 18.8, 7.6, 36.3, 1.8, 83.2, 75.1, 71.3,\n",
    "        32.9, 30.6, 16.0, 6.9, 11.0, 9.4, 11.7, 13.8, 39.4, 4.3, 38.1, 60.1, 78.2, 49.6,\n",
    "        14.3, 8.0, 19.3, 30.8, 32.5, 29.6, 28.3, 32.4, 35.7, 36.7, 10.0, 8.5, 12.2, 22.6,\n",
    "        32.1, 25.7, 14.1, 20.9, 23.8, 29.5, 2.9, 42.3, 19.9, 47.5, 15.9, 6.0, 19.3, 38.2,\n",
    "        23.5, 2.7, 27.0, 49.9, 43.5, 31.7, 39.1, 15.1, 18.0, 33.8, 32.1, 50.7, 28.8, 11.6,\n",
    "        74.8, 16.2, 8.3, 36.3, 44.0, 15.6, 48.9, 7.3, 8.2, 29.8, 38.7, 3.9, 7.2, 5.1, 23.7,\n",
    "        48.4, 92.0, 64.3, 97.4, 99.1, 18.0, 7.1, 14.7, 47.1, 41.3, 44.2, 6.5, 44.4, 9.7,\n",
    "        15.5, 23.7, 34.5, 19.9, 58.6, 35.0, 66.1, 74.5, 45.2]"
   ]
  },
  {
   "cell_type": "markdown",
   "metadata": {},
   "source": [
    "##### Q1: Calculate the mean of dist"
   ]
  },
  {
   "cell_type": "code",
   "execution_count": 5,
   "metadata": {
    "collapsed": false
   },
   "outputs": [
    {
     "name": "stdout",
     "output_type": "stream",
     "text": [
      "33.995049505\n"
     ]
    }
   ],
   "source": [
    "print np.mean(dist)"
   ]
  },
  {
   "cell_type": "markdown",
   "metadata": {},
   "source": [
    "##### Q2: Calculate the median of dist"
   ]
  },
  {
   "cell_type": "code",
   "execution_count": 3,
   "metadata": {
    "collapsed": false
   },
   "outputs": [
    {
     "name": "stdout",
     "output_type": "stream",
     "text": [
      "25.95\n"
     ]
    }
   ],
   "source": [
    "print np.median(dist)"
   ]
  },
  {
   "cell_type": "markdown",
   "metadata": {},
   "source": [
    "##### Q3: Round the numbers of dist, then calculate the mode"
   ]
  },
  {
   "cell_type": "code",
   "execution_count": 15,
   "metadata": {
    "collapsed": true
   },
   "outputs": [],
   "source": [
    "dist_rounded = [int(round(n)) for n in dist]"
   ]
  },
  {
   "cell_type": "code",
   "execution_count": 7,
   "metadata": {
    "collapsed": false
   },
   "outputs": [
    {
     "data": {
      "text/plain": [
       "ModeResult(mode=array([ 8.]), count=array([4]))"
      ]
     },
     "execution_count": 7,
     "metadata": {},
     "output_type": "execute_result"
    }
   ],
   "source": [
    "mode(dist)"
   ]
  },
  {
   "cell_type": "markdown",
   "metadata": {},
   "source": [
    "##### Q4: Determine if dist is skewed. If so, which way? How can you tell?"
   ]
  },
  {
   "cell_type": "code",
   "execution_count": null,
   "metadata": {
    "collapsed": false
   },
   "outputs": [],
   "source": [
    "#positive skewed. mode < median < mean"
   ]
  },
  {
   "cell_type": "markdown",
   "metadata": {},
   "source": [
    "##### Q5: Calculate the range of dist"
   ]
  },
  {
   "cell_type": "code",
   "execution_count": 12,
   "metadata": {
    "collapsed": false
   },
   "outputs": [
    {
     "name": "stdout",
     "output_type": "stream",
     "text": [
      "167.0\n"
     ]
    }
   ],
   "source": [
    "dist.sort()\n",
    "print dist[-1] - dist[0]"
   ]
  },
  {
   "cell_type": "markdown",
   "metadata": {},
   "source": [
    "##### Q6: Calculate the variance of dist"
   ]
  },
  {
   "cell_type": "code",
   "execution_count": 13,
   "metadata": {
    "collapsed": false
   },
   "outputs": [
    {
     "name": "stdout",
     "output_type": "stream",
     "text": [
      "957.827698265\n"
     ]
    }
   ],
   "source": [
    "print np.var(dist)"
   ]
  },
  {
   "cell_type": "markdown",
   "metadata": {},
   "source": [
    "##### Q7: Calculate the standard deviation of dist. What does this tell you about the distribution of numbers?"
   ]
  },
  {
   "cell_type": "code",
   "execution_count": 14,
   "metadata": {
    "collapsed": false
   },
   "outputs": [
    {
     "name": "stdout",
     "output_type": "stream",
     "text": [
      "30.9487915477\n"
     ]
    }
   ],
   "source": [
    "print np.std(dist)\n",
    "#relatively widely distributed"
   ]
  },
  {
   "cell_type": "markdown",
   "metadata": {},
   "source": [
    "##### Challenge: Round the numbers of dist, and then calculate the mode of dist without using scipy!"
   ]
  },
  {
   "cell_type": "code",
   "execution_count": 18,
   "metadata": {
    "collapsed": false
   },
   "outputs": [
    {
     "name": "stdout",
     "output_type": "stream",
     "text": [
      "1 3\n",
      "1 3\n",
      "1 3\n",
      "2 1\n",
      "3 5\n",
      "3 5\n",
      "3 5\n",
      "3 5\n",
      "3 5\n",
      "4 2\n",
      "4 2\n",
      "5 6\n",
      "5 6\n",
      "5 6\n",
      "5 6\n",
      "5 6\n",
      "5 6\n",
      "6 3\n",
      "6 3\n",
      "6 3\n",
      "7 10\n",
      "7 10\n",
      "7 10\n",
      "7 10\n",
      "7 10\n",
      "7 10\n",
      "7 10\n",
      "7 10\n",
      "7 10\n",
      "7 10\n",
      "8 7\n",
      "8 7\n",
      "8 7\n",
      "8 7\n",
      "8 7\n",
      "8 7\n",
      "8 7\n",
      "9 4\n",
      "9 4\n",
      "9 4\n",
      "9 4\n",
      "10 4\n",
      "10 4\n",
      "10 4\n",
      "10 4\n",
      "11 4\n",
      "11 4\n",
      "11 4\n",
      "11 4\n",
      "12 6\n",
      "12 6\n",
      "12 6\n",
      "12 6\n",
      "12 6\n",
      "12 6\n",
      "13 1\n",
      "14 3\n",
      "14 3\n",
      "14 3\n",
      "15 3\n",
      "15 3\n",
      "15 3\n",
      "16 9\n",
      "16 9\n",
      "16 9\n",
      "16 9\n",
      "16 9\n",
      "16 9\n",
      "16 9\n",
      "16 9\n",
      "16 9\n",
      "17 1\n",
      "18 2\n",
      "18 2\n",
      "19 3\n",
      "19 3\n",
      "19 3\n",
      "20 5\n",
      "20 5\n",
      "20 5\n",
      "20 5\n",
      "20 5\n",
      "21 3\n",
      "21 3\n",
      "21 3\n",
      "22 2\n",
      "22 2\n",
      "23 3\n",
      "23 3\n",
      "23 3\n",
      "24 9\n",
      "24 9\n",
      "24 9\n",
      "24 9\n",
      "24 9\n",
      "24 9\n",
      "24 9\n",
      "24 9\n",
      "24 9\n",
      "26 4\n",
      "26 4\n",
      "26 4\n",
      "26 4\n",
      "27 3\n",
      "27 3\n",
      "27 3\n",
      "28 2\n",
      "28 2\n",
      "29 1\n",
      "30 4\n",
      "30 4\n",
      "30 4\n",
      "30 4\n",
      "31 4\n",
      "31 4\n",
      "31 4\n",
      "31 4\n",
      "32 4\n",
      "32 4\n",
      "32 4\n",
      "32 4\n",
      "33 5\n",
      "33 5\n",
      "33 5\n",
      "33 5\n",
      "33 5\n",
      "34 3\n",
      "34 3\n",
      "34 3\n",
      "35 2\n",
      "35 2\n",
      "36 3\n",
      "36 3\n",
      "36 3\n",
      "37 1\n",
      "38 4\n",
      "38 4\n",
      "38 4\n",
      "38 4\n",
      "39 6\n",
      "39 6\n",
      "39 6\n",
      "39 6\n",
      "39 6\n",
      "39 6\n",
      "40 1\n",
      "41 2\n",
      "41 2\n",
      "42 1\n",
      "44 5\n",
      "44 5\n",
      "44 5\n",
      "44 5\n",
      "44 5\n",
      "45 1\n",
      "46 4\n",
      "46 4\n",
      "46 4\n",
      "46 4\n",
      "47 2\n",
      "47 2\n",
      "48 2\n",
      "48 2\n",
      "49 2\n",
      "49 2\n",
      "50 3\n",
      "50 3\n",
      "50 3\n",
      "51 1\n",
      "55 1\n",
      "59 2\n",
      "59 2\n",
      "60 1\n",
      "64 1\n",
      "65 1\n",
      "66 1\n",
      "67 1\n",
      "70 1\n",
      "71 1\n",
      "72 1\n",
      "75 3\n",
      "75 3\n",
      "75 3\n",
      "76 1\n",
      "78 1\n",
      "83 1\n",
      "85 1\n",
      "92 1\n",
      "93 1\n",
      "97 1\n",
      "99 1\n",
      "101 1\n",
      "103 2\n",
      "103 2\n",
      "112 1\n",
      "116 1\n",
      "117 1\n",
      "132 1\n",
      "134 1\n",
      "144 1\n",
      "161 1\n",
      "168 1\n"
     ]
    }
   ],
   "source": [
    "for item in dist_rounded:\n",
    "    print item, dist_rounded.count(item)"
   ]
  },
  {
   "cell_type": "code",
   "execution_count": null,
   "metadata": {
    "collapsed": true
   },
   "outputs": [],
   "source": []
  }
 ],
 "metadata": {
  "kernelspec": {
   "display_name": "Python 2",
   "language": "python",
   "name": "python2"
  },
  "language_info": {
   "codemirror_mode": {
    "name": "ipython",
    "version": 2
   },
   "file_extension": ".py",
   "mimetype": "text/x-python",
   "name": "python",
   "nbconvert_exporter": "python",
   "pygments_lexer": "ipython2",
   "version": "2.7.11"
  }
 },
 "nbformat": 4,
 "nbformat_minor": 0
}
