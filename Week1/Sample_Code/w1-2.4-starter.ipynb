{
 "cells": [
  {
   "cell_type": "code",
   "execution_count": 2,
   "metadata": {
    "collapsed": false
   },
   "outputs": [],
   "source": [
    "# Dictionary of movies\n",
    "\n",
    "movies = [\n",
    "{\n",
    "\"name\": \"Usual Suspects\", \n",
    "\"imdb\": 7.0,\n",
    "\"category\": \"Thriller\"\n",
    "},\n",
    "{\n",
    "\"name\": \"Hitman\",\n",
    "\"imdb\": 6.3,\n",
    "\"category\": \"Action\"\n",
    "},\n",
    "{\n",
    "\"name\": \"Dark Knight\",\n",
    "\"imdb\": 9.0,\n",
    "\"category\": \"Adventure\"\n",
    "},\n",
    "{\n",
    "\"name\": \"The Help\",\n",
    "\"imdb\": 8.0,\n",
    "\"category\": \"Drama\"\n",
    "},\n",
    "{\n",
    "\"name\": \"The Choice\",\n",
    "\"imdb\": 6.2,\n",
    "\"category\": \"Romance\"\n",
    "},\n",
    "{\n",
    "\"name\": \"Colonia\",\n",
    "\"imdb\": 7.4,\n",
    "\"category\": \"Romance\"\n",
    "},\n",
    "{\n",
    "\"name\": \"Love\",\n",
    "\"imdb\": 6.0,\n",
    "\"category\": \"Romance\"\n",
    "},\n",
    "{\n",
    "\"name\": \"Bride Wars\",\n",
    "\"imdb\": 5.4,\n",
    "\"category\": \"Romance\"\n",
    "},\n",
    "{\n",
    "\"name\": \"AlphaJet\",\n",
    "\"imdb\": 3.2,\n",
    "\"category\": \"War\"\n",
    "},\n",
    "{\n",
    "\"name\": \"Ringing Crime\",\n",
    "\"imdb\": 4.0,\n",
    "\"category\": \"Crime\"\n",
    "},\n",
    "{\n",
    "\"name\": \"Joking muck\",\n",
    "\"imdb\": 7.2,\n",
    "\"category\": \"Comedy\"\n",
    "},\n",
    "{\n",
    "\"name\": \"What is the name\",\n",
    "\"imdb\": 9.2,\n",
    "\"category\": \"Suspense\"\n",
    "},\n",
    "{\n",
    "\"name\": \"Detective\",\n",
    "\"imdb\": 7.0,\n",
    "\"category\": \"Suspense\"\n",
    "},\n",
    "{\n",
    "\"name\": \"Exam\",\n",
    "\"imdb\": 4.2,\n",
    "\"category\": \"Thriller\"\n",
    "},\n",
    "{\n",
    "\"name\": \"We Two\",\n",
    "\"imdb\": 7.2,\n",
    "\"category\": \"Romance\"\n",
    "}\n",
    "]"
   ]
  },
  {
   "cell_type": "code",
   "execution_count": 17,
   "metadata": {
    "collapsed": false
   },
   "outputs": [
    {
     "name": "stdout",
     "output_type": "stream",
     "text": [
      "True\n"
     ]
    }
   ],
   "source": [
    "# Write a function that takes a single movie and \n",
    "# returns True if its IMDB score is above 5.5\n",
    "def scoreabovefivefive(movie_title):\n",
    "    \"\"\"input movie, print true if imdb score is above 5.5 print false, if it is below 5.5 and below \"\"\"\n",
    "    for m in movies:\n",
    "        if m[\"name\"] == movie_title:\n",
    "            if m[\"imdb\"] > 5.5:\n",
    "                print True\n",
    "            else:\n",
    "                print False\n",
    "\n",
    "scoreabovefivefive(\"What is the name\")"
   ]
  },
  {
   "cell_type": "code",
   "execution_count": 27,
   "metadata": {
    "collapsed": false
   },
   "outputs": [
    {
     "name": "stdout",
     "output_type": "stream",
     "text": [
      "['Usual Suspects', 'Hitman', 'Dark Knight', 'The Help', 'The Choice', 'Colonia', 'Love', 'Joking muck', 'What is the name', 'Detective', 'We Two']\n"
     ]
    }
   ],
   "source": [
    "# Write a function that returns a sublist of movies \n",
    "# with an IMDB score above 5.5. \n",
    "def returnscoreabovefivefive():\n",
    "    \"\"\"Returns any movie that has a score above 5.5 in a list\"\"\"\n",
    "    sublist = []\n",
    "    for m in movies:\n",
    "        if m[\"imdb\"] > 5.5:\n",
    "            sublist.append(m[\"name\"])\n",
    "    print sublist\n",
    "\n",
    "returnscoreabovefivefive()"
   ]
  },
  {
   "cell_type": "code",
   "execution_count": 96,
   "metadata": {
    "collapsed": false
   },
   "outputs": [
    {
     "name": "stdout",
     "output_type": "stream",
     "text": [
      "AlphaJet\n"
     ]
    }
   ],
   "source": [
    "# Write a function that takes a category name and returns \n",
    "# just those movies under that category.\n",
    "\n",
    "def returncatmovies(category_input):\n",
    "    \"\"\"input a movie category, will print out the name of the movie, line by line\"\"\"\n",
    "    for m in movies:\n",
    "        if m[\"category\"] == category_input:\n",
    "            print m[\"name\"]\n",
    "\n",
    "returncatmovies(\"War\")"
   ]
  },
  {
   "cell_type": "code",
   "execution_count": 91,
   "metadata": {
    "collapsed": false
   },
   "outputs": [
    {
     "data": {
      "text/plain": [
       "5.7"
      ]
     },
     "execution_count": 91,
     "metadata": {},
     "output_type": "execute_result"
    }
   ],
   "source": [
    "# Write a function that takes a list of movies and computes \n",
    "# the average IMDB score.\n",
    "\n",
    "sample_list = [\"Exam\", \"We Two\"]\n",
    "\n",
    "def average_score(movie_names):\n",
    "    \"\"\"Input a list of movies, will kick out the average IMDB score of all movies in the list\"\"\"\n",
    "    counter = 0\n",
    "    imdb_score = 0\n",
    "    for m in movies:        \n",
    "        if m[\"name\"] in movie_names: \n",
    "            counter += 1\n",
    "            imdb_score = imdb_score + m[\"imdb\"]\n",
    "    return imdb_score/counter\n",
    "\n",
    "average_score(sample_list)\n"
   ]
  },
  {
   "cell_type": "code",
   "execution_count": 97,
   "metadata": {
    "collapsed": false
   },
   "outputs": [
    {
     "name": "stdout",
     "output_type": "stream",
     "text": [
      "Help on function category_average in module __main__:\n",
      "\n",
      "category_average(category_input)\n",
      "    for any category inputted, will kick out average imdb score of all movies in category\n",
      "\n"
     ]
    }
   ],
   "source": [
    "# Write a function that takes a category and computes \n",
    "# the average IMDB score (HINT: reuse the function \n",
    "# from question 2.)\n",
    "\n",
    "def category_average(category_input):\n",
    "    \"\"\"for any category inputted, will kick out average imdb score of all movies in category\"\"\"\n",
    "    counter = 0\n",
    "    imdb_score = 0\n",
    "    for m in movies:\n",
    "        if m[\"category\"] == category_input:\n",
    "            counter += 1\n",
    "            imdb_score = imdb_score + m[\"imdb\"]\n",
    "    return imdb_score/counter\n",
    "\n",
    "category_average(\"War\")"
   ]
  },
  {
   "cell_type": "code",
   "execution_count": null,
   "metadata": {
    "collapsed": true
   },
   "outputs": [],
   "source": []
  }
 ],
 "metadata": {
  "kernelspec": {
   "display_name": "Python 2",
   "language": "python",
   "name": "python2"
  },
  "language_info": {
   "codemirror_mode": {
    "name": "ipython",
    "version": 2
   },
   "file_extension": ".py",
   "mimetype": "text/x-python",
   "name": "python",
   "nbconvert_exporter": "python",
   "pygments_lexer": "ipython2",
   "version": "2.7.11"
  }
 },
 "nbformat": 4,
 "nbformat_minor": 0
}
