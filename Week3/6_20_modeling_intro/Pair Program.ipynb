{
 "cells": [
  {
   "cell_type": "markdown",
   "metadata": {},
   "source": [
    "### Pair Program\n",
    "\n",
    "In programming languages, there can be a lot of parentheses. The parentheses have to be \"balanced\" to be valid. For example, `()(())` is balanced, but `()())` is not balanced. Also, `)((())` is not balanced.\n",
    "\n",
    "Write a function that takes a string and returns `True` if the string's parentheses are balanced, `False` if they are not.\n",
    "\n",
    "Here are examples to test your function with:\n",
    "\n",
    " * `(()()()())` should return `True`\n",
    " * `(((())))` should return `True`\n",
    " * `(()((())()))` should return `True`\n",
    " * `((((((())` should return `False`\n",
    " * `()))` should return `False`\n",
    " * `(()()))(()` should return `False`\n"
   ]
  },
  {
   "cell_type": "code",
   "execution_count": null,
   "metadata": {
    "collapsed": true
   },
   "outputs": [],
   "source": [
    "- the count of \"(\" = \")\"\n",
    "- order does matter - \"(\", has to come before \")\"\n",
    "\n",
    "- the first one has to be \"(\"\n",
    "- "
   ]
  },
  {
   "cell_type": "code",
   "execution_count": 22,
   "metadata": {
    "collapsed": false
   },
   "outputs": [],
   "source": [
    "def parathensesbalanced():\n",
    "    string = str(raw_input(\"Put in your string please: \"))\n",
    "    counter = 0\n",
    "    if string[0] == \"(\":\n",
    "        for letter in string:\n",
    "            if letter == \"(\":\n",
    "                counter += 1\n",
    "            elif letter ==\")\":\n",
    "                counter -= 1\n",
    "            elif counter < 0: #it can't go below -1\n",
    "                print \"False\"\n",
    "        if counter == 0:\n",
    "            print \"True\"\n"
   ]
  },
  {
   "cell_type": "code",
   "execution_count": 23,
   "metadata": {
    "collapsed": false
   },
   "outputs": [
    {
     "name": "stdout",
     "output_type": "stream",
     "text": [
      "Put in your string please: ())(()\n",
      "True\n"
     ]
    }
   ],
   "source": [
    "parathensesbalanced()"
   ]
  },
  {
   "cell_type": "code",
   "execution_count": 14,
   "metadata": {
    "collapsed": false
   },
   "outputs": [
    {
     "name": "stdout",
     "output_type": "stream",
     "text": [
      "<enumerate object at 0x104158af0>\n"
     ]
    }
   ],
   "source": [
    "print enumerate"
   ]
  },
  {
   "cell_type": "code",
   "execution_count": 19,
   "metadata": {
    "collapsed": false
   },
   "outputs": [
    {
     "name": "stdout",
     "output_type": "stream",
     "text": [
      "Enter a string of parenthesis())(()\n"
     ]
    },
    {
     "data": {
      "text/plain": [
       "False"
      ]
     },
     "execution_count": 19,
     "metadata": {},
     "output_type": "execute_result"
    }
   ],
   "source": [
    "def parenthesis():\n",
    "    value = raw_input(\"Enter a string of parenthesis\")\n",
    "    #print value\n",
    "    m = 0\n",
    "    for char in value:\n",
    "        if value[0] != \"(\":\n",
    "            return False\n",
    "        elif char == \"(\":\n",
    "            m =+ 1\n",
    "        else: m -= 1\n",
    "                \n",
    "        if m <0: \n",
    "            return False\n",
    "    \n",
    "    if m !=0:\n",
    "        return False\n",
    "    else: \n",
    "        return True\n",
    "parenthesis()"
   ]
  },
  {
   "cell_type": "code",
   "execution_count": null,
   "metadata": {
    "collapsed": true
   },
   "outputs": [],
   "source": []
  }
 ],
 "metadata": {
  "kernelspec": {
   "display_name": "Python 2",
   "language": "python",
   "name": "python2"
  },
  "language_info": {
   "codemirror_mode": {
    "name": "ipython",
    "version": 2
   },
   "file_extension": ".py",
   "mimetype": "text/x-python",
   "name": "python",
   "nbconvert_exporter": "python",
   "pygments_lexer": "ipython2",
   "version": "2.7.11"
  }
 },
 "nbformat": 4,
 "nbformat_minor": 0
}
