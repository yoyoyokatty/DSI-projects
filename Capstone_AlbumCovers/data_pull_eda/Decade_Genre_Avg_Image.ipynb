{
 "cells": [
  {
   "cell_type": "markdown",
   "metadata": {},
   "source": [
    "This notebook is to blend 250 images together of genres and decades as proof of concept for this idea"
   ]
  },
  {
   "cell_type": "markdown",
   "metadata": {},
   "source": [
    "### Read in Data"
   ]
  },
  {
   "cell_type": "code",
   "execution_count": 11,
   "metadata": {
    "collapsed": true
   },
   "outputs": [],
   "source": [
    "#load in packages\n",
    "import pandas as pd\n",
    "import numpy as np\n",
    "import graphlab as gl\n",
    "import shutil\n",
    "import random"
   ]
  },
  {
   "cell_type": "code",
   "execution_count": 4,
   "metadata": {
    "collapsed": true
   },
   "outputs": [
    {
     "data": {
      "text/html": [
       "<div>\n",
       "<table border=\"1\" class=\"dataframe\">\n",
       "  <thead>\n",
       "    <tr style=\"text-align: right;\">\n",
       "      <th></th>\n",
       "      <th>artistName</th>\n",
       "      <th>artworkUrl100</th>\n",
       "      <th>releaseDate</th>\n",
       "      <th>collectionName</th>\n",
       "      <th>decade</th>\n",
       "      <th>updated_genre</th>\n",
       "      <th>target</th>\n",
       "    </tr>\n",
       "  </thead>\n",
       "  <tbody>\n",
       "    <tr>\n",
       "      <th>0</th>\n",
       "      <td>Admiral Bailey</td>\n",
       "      <td>http://is5.mzstatic.com/image/thumb/Music/v4/0...</td>\n",
       "      <td>1987-06-09T07:00:00Z</td>\n",
       "      <td>The Best of Admiral Bailey</td>\n",
       "      <td>1980.0</td>\n",
       "      <td>Reggae</td>\n",
       "      <td>Reggae-1980.0</td>\n",
       "    </tr>\n",
       "    <tr>\n",
       "      <th>1</th>\n",
       "      <td>Admiral Bailey</td>\n",
       "      <td>http://is3.mzstatic.com/image/thumb/Music/v4/0...</td>\n",
       "      <td>1988-01-01T08:00:00Z</td>\n",
       "      <td>Big Belly</td>\n",
       "      <td>1980.0</td>\n",
       "      <td>Reggae</td>\n",
       "      <td>Reggae-1980.0</td>\n",
       "    </tr>\n",
       "    <tr>\n",
       "      <th>2</th>\n",
       "      <td>Admiral Bailey</td>\n",
       "      <td>http://is4.mzstatic.com/image/thumb/Music/v4/3...</td>\n",
       "      <td>1987-06-09T07:00:00Z</td>\n",
       "      <td>Best of Admiral Bailey</td>\n",
       "      <td>1980.0</td>\n",
       "      <td>Reggae</td>\n",
       "      <td>Reggae-1980.0</td>\n",
       "    </tr>\n",
       "    <tr>\n",
       "      <th>3</th>\n",
       "      <td>Admiral Bailey</td>\n",
       "      <td>http://is5.mzstatic.com/image/thumb/Music/v4/2...</td>\n",
       "      <td>2006-06-24T07:00:00Z</td>\n",
       "      <td>Admiral Bailey's Turn Off the Heat - EP</td>\n",
       "      <td>2000.0</td>\n",
       "      <td>World</td>\n",
       "      <td>World-2000.0</td>\n",
       "    </tr>\n",
       "    <tr>\n",
       "      <th>4</th>\n",
       "      <td>Admiral Bailey</td>\n",
       "      <td>http://is5.mzstatic.com/image/thumb/Music/v4/8...</td>\n",
       "      <td>2011-06-20T07:00:00Z</td>\n",
       "      <td>Dela Move</td>\n",
       "      <td>2010.0</td>\n",
       "      <td>Reggae</td>\n",
       "      <td>Reggae-2010.0</td>\n",
       "    </tr>\n",
       "  </tbody>\n",
       "</table>\n",
       "</div>"
      ],
      "text/plain": [
       "       artistName                                      artworkUrl100  \\\n",
       "0  Admiral Bailey  http://is5.mzstatic.com/image/thumb/Music/v4/0...   \n",
       "1  Admiral Bailey  http://is3.mzstatic.com/image/thumb/Music/v4/0...   \n",
       "2  Admiral Bailey  http://is4.mzstatic.com/image/thumb/Music/v4/3...   \n",
       "3  Admiral Bailey  http://is5.mzstatic.com/image/thumb/Music/v4/2...   \n",
       "4  Admiral Bailey  http://is5.mzstatic.com/image/thumb/Music/v4/8...   \n",
       "\n",
       "            releaseDate                           collectionName  decade  \\\n",
       "0  1987-06-09T07:00:00Z               The Best of Admiral Bailey  1980.0   \n",
       "1  1988-01-01T08:00:00Z                                Big Belly  1980.0   \n",
       "2  1987-06-09T07:00:00Z                   Best of Admiral Bailey  1980.0   \n",
       "3  2006-06-24T07:00:00Z  Admiral Bailey's Turn Off the Heat - EP  2000.0   \n",
       "4  2011-06-20T07:00:00Z                                Dela Move  2010.0   \n",
       "\n",
       "  updated_genre         target  \n",
       "0        Reggae  Reggae-1980.0  \n",
       "1        Reggae  Reggae-1980.0  \n",
       "2        Reggae  Reggae-1980.0  \n",
       "3         World   World-2000.0  \n",
       "4        Reggae  Reggae-2010.0  "
      ]
     },
     "execution_count": 4,
     "metadata": {},
     "output_type": "execute_result"
    }
   ],
   "source": [
    "#load in data\n",
    "\n",
    "final = pd.read_csv(\"final_pull.csv\")\n",
    "del final[\"Unnamed: 0\"]\n",
    "final.head()"
   ]
  },
  {
   "cell_type": "code",
   "execution_count": 5,
   "metadata": {
    "collapsed": false
   },
   "outputs": [
    {
     "data": {
      "text/html": [
       "<div>\n",
       "<table border=\"1\" class=\"dataframe\">\n",
       "  <thead>\n",
       "    <tr>\n",
       "      <th></th>\n",
       "      <th colspan=\"4\" halign=\"left\">artistName</th>\n",
       "    </tr>\n",
       "    <tr>\n",
       "      <th>decade</th>\n",
       "      <th>1980.0</th>\n",
       "      <th>1990.0</th>\n",
       "      <th>2000.0</th>\n",
       "      <th>2010.0</th>\n",
       "    </tr>\n",
       "    <tr>\n",
       "      <th>updated_genre</th>\n",
       "      <th></th>\n",
       "      <th></th>\n",
       "      <th></th>\n",
       "      <th></th>\n",
       "    </tr>\n",
       "  </thead>\n",
       "  <tbody>\n",
       "    <tr>\n",
       "      <th>Alternative</th>\n",
       "      <td>401</td>\n",
       "      <td>1527</td>\n",
       "      <td>6718</td>\n",
       "      <td>7961</td>\n",
       "    </tr>\n",
       "    <tr>\n",
       "      <th>Blues</th>\n",
       "      <td>13</td>\n",
       "      <td>112</td>\n",
       "      <td>545</td>\n",
       "      <td>406</td>\n",
       "    </tr>\n",
       "    <tr>\n",
       "      <th>Country</th>\n",
       "      <td>202</td>\n",
       "      <td>1023</td>\n",
       "      <td>4098</td>\n",
       "      <td>4931</td>\n",
       "    </tr>\n",
       "    <tr>\n",
       "      <th>Dance</th>\n",
       "      <td>91</td>\n",
       "      <td>686</td>\n",
       "      <td>7278</td>\n",
       "      <td>18717</td>\n",
       "    </tr>\n",
       "    <tr>\n",
       "      <th>Electronic</th>\n",
       "      <td>71</td>\n",
       "      <td>966</td>\n",
       "      <td>5275</td>\n",
       "      <td>8165</td>\n",
       "    </tr>\n",
       "    <tr>\n",
       "      <th>HipHop</th>\n",
       "      <td>21</td>\n",
       "      <td>266</td>\n",
       "      <td>2444</td>\n",
       "      <td>4441</td>\n",
       "    </tr>\n",
       "    <tr>\n",
       "      <th>Jazz</th>\n",
       "      <td>83</td>\n",
       "      <td>329</td>\n",
       "      <td>1481</td>\n",
       "      <td>1564</td>\n",
       "    </tr>\n",
       "    <tr>\n",
       "      <th>Pop</th>\n",
       "      <td>277</td>\n",
       "      <td>889</td>\n",
       "      <td>4718</td>\n",
       "      <td>7438</td>\n",
       "    </tr>\n",
       "    <tr>\n",
       "      <th>RB Soul</th>\n",
       "      <td>62</td>\n",
       "      <td>267</td>\n",
       "      <td>1167</td>\n",
       "      <td>1523</td>\n",
       "    </tr>\n",
       "    <tr>\n",
       "      <th>Reggae</th>\n",
       "      <td>185</td>\n",
       "      <td>633</td>\n",
       "      <td>3233</td>\n",
       "      <td>6821</td>\n",
       "    </tr>\n",
       "    <tr>\n",
       "      <th>Rock</th>\n",
       "      <td>576</td>\n",
       "      <td>1945</td>\n",
       "      <td>9243</td>\n",
       "      <td>10537</td>\n",
       "    </tr>\n",
       "    <tr>\n",
       "      <th>Singer/Songwriter</th>\n",
       "      <td>69</td>\n",
       "      <td>224</td>\n",
       "      <td>1094</td>\n",
       "      <td>1696</td>\n",
       "    </tr>\n",
       "    <tr>\n",
       "      <th>World</th>\n",
       "      <td>118</td>\n",
       "      <td>567</td>\n",
       "      <td>2150</td>\n",
       "      <td>2176</td>\n",
       "    </tr>\n",
       "  </tbody>\n",
       "</table>\n",
       "</div>"
      ],
      "text/plain": [
       "                  artistName                     \n",
       "decade                1980.0 1990.0 2000.0 2010.0\n",
       "updated_genre                                    \n",
       "Alternative              401   1527   6718   7961\n",
       "Blues                     13    112    545    406\n",
       "Country                  202   1023   4098   4931\n",
       "Dance                     91    686   7278  18717\n",
       "Electronic                71    966   5275   8165\n",
       "HipHop                    21    266   2444   4441\n",
       "Jazz                      83    329   1481   1564\n",
       "Pop                      277    889   4718   7438\n",
       "RB Soul                   62    267   1167   1523\n",
       "Reggae                   185    633   3233   6821\n",
       "Rock                     576   1945   9243  10537\n",
       "Singer/Songwriter         69    224   1094   1696\n",
       "World                    118    567   2150   2176"
      ]
     },
     "execution_count": 5,
     "metadata": {},
     "output_type": "execute_result"
    }
   ],
   "source": [
    "#load in pivot to identify sample sizes\n",
    "\n",
    "genre_decade = pd.pivot_table(final, index = [\"updated_genre\", \"decade\"], values = [\"artistName\"], aggfunc = len).unstack()\n",
    "genre_decade"
   ]
  },
  {
   "cell_type": "markdown",
   "metadata": {},
   "source": [
    "### Begin to split data by genre and by decade"
   ]
  },
  {
   "cell_type": "code",
   "execution_count": 6,
   "metadata": {
    "collapsed": true
   },
   "outputs": [],
   "source": [
    "#pull 800 of each of sample\n",
    "\n",
    "genre_list = list(final[\"updated_genre\"].unique())\n",
    "\n",
    "genre_samps = []\n",
    "for i in genre_list:\n",
    "    genre = final[final[\"updated_genre\"] == i].sample(n=800, random_state = 77)\n",
    "    genre_samps.append(genre)\n",
    "genre_sample = pd.concat(genre_samps)\n",
    "\n",
    "decade_list = list(final[\"decade\"].unique())\n",
    "\n",
    "decade_samps = []\n",
    "for i in decade_list:\n",
    "    decade = final[final[\"decade\"] == i].sample(n=1000, random_state = 77)\n",
    "    decade_samps.append(decade)\n",
    "    \n",
    "decade_sample = pd.concat(decade_samps)"
   ]
  },
  {
   "cell_type": "code",
   "execution_count": 7,
   "metadata": {
    "collapsed": false
   },
   "outputs": [],
   "source": [
    "y_genre = genre_sample[[\"artistName\",\"updated_genre\"]]\n",
    "y_decade = decade_sample[[\"artistName\", \"decade\"]]"
   ]
  },
  {
   "cell_type": "code",
   "execution_count": 8,
   "metadata": {
    "collapsed": false
   },
   "outputs": [
    {
     "name": "stderr",
     "output_type": "stream",
     "text": [
      "/Users/katty/anaconda/envs/gl-env/lib/python2.7/site-packages/ipykernel/__main__.py:2: SettingWithCopyWarning: \n",
      "A value is trying to be set on a copy of a slice from a DataFrame.\n",
      "Try using .loc[row_indexer,col_indexer] = value instead\n",
      "\n",
      "See the caveats in the documentation: http://pandas.pydata.org/pandas-docs/stable/indexing.html#indexing-view-versus-copy\n",
      "  from ipykernel import kernelapp as app\n"
     ]
    }
   ],
   "source": [
    "#change the target for decade to be binary (pre 2000 and post 2000)\n",
    "y_decade[\"decade\"] = y_decade[\"decade\"].apply(lambda x: \"1980 to 2000\" if x == 1980 or x == 1990 else \"2000 to Present\")"
   ]
  },
  {
   "cell_type": "code",
   "execution_count": 9,
   "metadata": {
    "collapsed": false,
    "scrolled": true
   },
   "outputs": [],
   "source": [
    "#split up lists by target variable\n",
    "\n",
    "pre2000_ind = y_decade[y_decade[\"decade\"] == \"1980 to 2000\"]\n",
    "post2000_ind = y_decade[y_decade[\"decade\"] == \"2000 to Present\"]"
   ]
  },
  {
   "cell_type": "code",
   "execution_count": 12,
   "metadata": {
    "collapsed": false
   },
   "outputs": [],
   "source": [
    "#require image paths to pull lists \n",
    "\n",
    "pre2000_paths = [\"../image/\"+ str(i+1)+\".jpg\" for i in pre2000_ind.index]\n",
    "post2000_paths = [\"../image/\"+ str(i+1)+\".jpg\" for i in post2000_ind.index]\n",
    "\n",
    "random.shuffle(pre2000_paths)\n",
    "random.shuffle(post2000_paths)"
   ]
  },
  {
   "cell_type": "code",
   "execution_count": 13,
   "metadata": {
    "collapsed": true
   },
   "outputs": [],
   "source": [
    "#do the same for genre\n",
    "\n",
    "reggae_ind = y_genre[y_genre[\"updated_genre\"] == \"Reggae\"]\n",
    "world_ind = y_genre[y_genre[\"updated_genre\"] == \"World\"]\n",
    "dance_ind = y_genre[y_genre[\"updated_genre\"] == \"Dance\"]\n",
    "rock_ind = y_genre[y_genre[\"updated_genre\"] == \"Rock\"]\n",
    "alt_ind = y_genre[y_genre[\"updated_genre\"] == \"Alternative\"]\n",
    "pop_ind = y_genre[y_genre[\"updated_genre\"] == \"Pop\"]\n",
    "hiphop_ind = y_genre[y_genre[\"updated_genre\"] == \"HipHop\"]\n",
    "jazz_ind = y_genre[y_genre[\"updated_genre\"] == \"Jazz\"]\n",
    "rb_ind = y_genre[y_genre[\"updated_genre\"] == \"RB Soul\"]\n",
    "electronic_ind = y_genre[y_genre[\"updated_genre\"] == \"Electronic\"]\n",
    "country_ind = y_genre[y_genre[\"updated_genre\"] == \"Country\"]\n",
    "sing_ind = y_genre[y_genre[\"updated_genre\"] == \"Singer/Songwriter\"]\n",
    "blues_ind = y_genre[y_genre[\"updated_genre\"] == \"Blues\"]"
   ]
  },
  {
   "cell_type": "code",
   "execution_count": 14,
   "metadata": {
    "collapsed": true
   },
   "outputs": [],
   "source": [
    "#pull paths for genre\n",
    "\n",
    "reggae_paths = [\"../image/\"+ str(i+1)+\".jpg\" for i in reggae_ind.index]\n",
    "world_paths = [\"../image/\"+ str(i+1)+\".jpg\" for i in world_ind.index]\n",
    "dance_paths = [\"../image/\"+ str(i+1)+\".jpg\" for i in dance_ind.index]\n",
    "rock_paths = [\"../image/\"+ str(i+1)+\".jpg\" for i in rock_ind.index]\n",
    "alt_paths = [\"../image/\"+ str(i+1)+\".jpg\" for i in alt_ind.index]\n",
    "pop_paths = [\"../image/\"+ str(i+1)+\".jpg\" for i in pop_ind.index]\n",
    "hiphop_paths = [\"../image/\"+ str(i+1)+\".jpg\" for i in hiphop_ind.index]\n",
    "jazz_paths = [\"../image/\"+ str(i+1)+\".jpg\" for i in jazz_ind.index]\n",
    "rb_paths = [\"../image/\"+ str(i+1)+\".jpg\" for i in rb_ind.index]\n",
    "electronic_paths = [\"../image/\"+ str(i+1)+\".jpg\" for i in electronic_ind.index]\n",
    "country_paths = [\"../image/\"+ str(i+1)+\".jpg\" for i in country_ind.index]\n",
    "sing_paths = [\"../image/\"+ str(i+1)+\".jpg\" for i in sing_ind.index]\n",
    "blues_paths = [\"../image/\"+ str(i+1)+\".jpg\" for i in blues_ind.index]"
   ]
  },
  {
   "cell_type": "code",
   "execution_count": 15,
   "metadata": {
    "collapsed": false
   },
   "outputs": [],
   "source": [
    "#shuffle full list\n",
    "\n",
    "random.shuffle(reggae_paths)\n",
    "random.shuffle(world_paths)\n",
    "random.shuffle(dance_paths)\n",
    "random.shuffle(rock_paths)\n",
    "random.shuffle(alt_paths)\n",
    "random.shuffle(pop_paths)\n",
    "random.shuffle(hiphop_paths)\n",
    "random.shuffle(jazz_paths)\n",
    "random.shuffle(rb_paths)\n",
    "random.shuffle(electronic_paths)\n",
    "random.shuffle(country_paths)\n",
    "random.shuffle(sing_paths)\n",
    "random.shuffle(blues_paths)"
   ]
  },
  {
   "cell_type": "markdown",
   "metadata": {},
   "source": [
    "### Create blended images of 250"
   ]
  },
  {
   "cell_type": "markdown",
   "metadata": {},
   "source": [
    "Utilized this method of blending images for python: https://github.com/mexitek/python-image-averaging\n",
    "        \n",
    "The method works by moving all files to blend into a folder, and outputting images into another folder.\n",
    "\n",
    "The following code, genre by genre, and decade by decade, moves 250 random images for each target into the folder. "
   ]
  },
  {
   "cell_type": "code",
   "execution_count": 348,
   "metadata": {
    "collapsed": true
   },
   "outputs": [],
   "source": [
    "for path in pre2000_paths[:250]:\n",
    "    shutil.copy2(path, \"../../../python-image-averaging/source/\")"
   ]
  },
  {
   "cell_type": "code",
   "execution_count": 349,
   "metadata": {
    "collapsed": true
   },
   "outputs": [],
   "source": [
    "for path in post2000_paths[:250]:\n",
    "    shutil.copy2(path, \"../../../python-image-averaging/source/\")"
   ]
  },
  {
   "cell_type": "code",
   "execution_count": 350,
   "metadata": {
    "collapsed": false
   },
   "outputs": [],
   "source": [
    "for path in reggae_paths[:250]:\n",
    "    shutil.copy2(path, \"../../../python-image-averaging/source/\")"
   ]
  },
  {
   "cell_type": "code",
   "execution_count": 351,
   "metadata": {
    "collapsed": true
   },
   "outputs": [],
   "source": [
    "for path in world_paths[:250]:\n",
    "    shutil.copy2(path, \"../../../python-image-averaging/source/\")"
   ]
  },
  {
   "cell_type": "code",
   "execution_count": 333,
   "metadata": {
    "collapsed": true
   },
   "outputs": [],
   "source": [
    "for path in dance_paths[:250]:\n",
    "    shutil.copy2(path, \"../../../python-image-averaging/source/\")"
   ]
  },
  {
   "cell_type": "code",
   "execution_count": 334,
   "metadata": {
    "collapsed": true
   },
   "outputs": [],
   "source": [
    "for path in rock_paths[:250]:\n",
    "    shutil.copy2(path, \"../../../python-image-averaging/source/\")"
   ]
  },
  {
   "cell_type": "code",
   "execution_count": 335,
   "metadata": {
    "collapsed": true
   },
   "outputs": [],
   "source": [
    "for path in alt_paths[:250]:\n",
    "    shutil.copy2(path, \"../../../python-image-averaging/source/\")"
   ]
  },
  {
   "cell_type": "code",
   "execution_count": 336,
   "metadata": {
    "collapsed": true
   },
   "outputs": [],
   "source": [
    "for path in pop_paths[:250]:\n",
    "    shutil.copy2(path, \"../../../python-image-averaging/source/\")"
   ]
  },
  {
   "cell_type": "code",
   "execution_count": 337,
   "metadata": {
    "collapsed": true
   },
   "outputs": [],
   "source": [
    "for path in hiphop_paths[:250]:\n",
    "    shutil.copy2(path, \"../../../python-image-averaging/source/\")"
   ]
  },
  {
   "cell_type": "code",
   "execution_count": 338,
   "metadata": {
    "collapsed": true
   },
   "outputs": [],
   "source": [
    "for path in jazz_paths[:250]:\n",
    "    shutil.copy2(path, \"../../../python-image-averaging/source/\")"
   ]
  },
  {
   "cell_type": "code",
   "execution_count": 339,
   "metadata": {
    "collapsed": true
   },
   "outputs": [],
   "source": [
    "for path in rb_paths[:250]:\n",
    "    shutil.copy2(path, \"../../../python-image-averaging/source/\")"
   ]
  },
  {
   "cell_type": "code",
   "execution_count": 340,
   "metadata": {
    "collapsed": true
   },
   "outputs": [],
   "source": [
    "for path in electronic_paths[:250]:\n",
    "    shutil.copy2(path, \"../../../python-image-averaging/source/\")"
   ]
  },
  {
   "cell_type": "code",
   "execution_count": 341,
   "metadata": {
    "collapsed": true
   },
   "outputs": [],
   "source": [
    "for path in country_paths[:250]:\n",
    "    shutil.copy2(path, \"../../../python-image-averaging/source/\")"
   ]
  },
  {
   "cell_type": "code",
   "execution_count": 342,
   "metadata": {
    "collapsed": true
   },
   "outputs": [],
   "source": [
    "for path in sing_paths[:250]:\n",
    "    shutil.copy2(path, \"../../../python-image-averaging/source/\")"
   ]
  },
  {
   "cell_type": "code",
   "execution_count": 343,
   "metadata": {
    "collapsed": true
   },
   "outputs": [],
   "source": [
    "for path in blues_paths[:250]:\n",
    "    shutil.copy2(path, \"../../../python-image-averaging/source/\")"
   ]
  },
  {
   "cell_type": "markdown",
   "metadata": {},
   "source": [
    "### Final Images\n",
    "\n",
    "Located in this folder, \"blended_images\""
   ]
  }
 ],
 "metadata": {
  "anaconda-cloud": {},
  "kernelspec": {
   "display_name": "Python [gl-env]",
   "language": "python",
   "name": "Python [gl-env]"
  },
  "language_info": {
   "codemirror_mode": {
    "name": "ipython",
    "version": 2
   },
   "file_extension": ".py",
   "mimetype": "text/x-python",
   "name": "python",
   "nbconvert_exporter": "python",
   "pygments_lexer": "ipython2",
   "version": "2.7.12"
  }
 },
 "nbformat": 4,
 "nbformat_minor": 0
}
