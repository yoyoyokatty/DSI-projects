{
 "cells": [
  {
   "cell_type": "markdown",
   "metadata": {},
   "source": [
    "This notebook is how the *final* model was built. There were many iterations based on feature selection and model choice (including variations of clustering and PCA) but this one will go through:\n",
    "\n",
    "- Graphlab's deep feature extraction for feature use\n",
    "- Clustering for target variable selection\n",
    "- One vs Rest SVC"
   ]
  },
  {
   "cell_type": "markdown",
   "metadata": {},
   "source": [
    "### Load in the Data"
   ]
  },
  {
   "cell_type": "code",
   "execution_count": 6,
   "metadata": {
    "collapsed": false
   },
   "outputs": [],
   "source": [
    "#load in appropriate packages\n",
    "\n",
    "from sklearn.metrics import classification_report\n",
    "from sklearn.multiclass import OneVsRestClassifier\n",
    "from sklearn.svm import SVC\n",
    "from sklearn.cluster import KMeans\n",
    "from sklearn.metrics import accuracy_score, silhouette_score\n",
    "import pickle\n",
    "from sklearn.metrics import confusion_matrix\n",
    "import pandas as pd\n",
    "import numpy as np\n",
    "import graphlab as gl\n",
    "from sklearn.cross_validation import train_test_split"
   ]
  },
  {
   "cell_type": "code",
   "execution_count": 7,
   "metadata": {
    "collapsed": false
   },
   "outputs": [
    {
     "data": {
      "text/html": [
       "<div>\n",
       "<table border=\"1\" class=\"dataframe\">\n",
       "  <thead>\n",
       "    <tr style=\"text-align: right;\">\n",
       "      <th></th>\n",
       "      <th>artistName</th>\n",
       "      <th>artworkUrl100</th>\n",
       "      <th>releaseDate</th>\n",
       "      <th>collectionName</th>\n",
       "      <th>decade</th>\n",
       "      <th>updated_genre</th>\n",
       "      <th>target</th>\n",
       "    </tr>\n",
       "  </thead>\n",
       "  <tbody>\n",
       "    <tr>\n",
       "      <th>0</th>\n",
       "      <td>Admiral Bailey</td>\n",
       "      <td>http://is5.mzstatic.com/image/thumb/Music/v4/0...</td>\n",
       "      <td>1987-06-09T07:00:00Z</td>\n",
       "      <td>The Best of Admiral Bailey</td>\n",
       "      <td>1980.0</td>\n",
       "      <td>Reggae</td>\n",
       "      <td>Reggae-1980.0</td>\n",
       "    </tr>\n",
       "    <tr>\n",
       "      <th>1</th>\n",
       "      <td>Admiral Bailey</td>\n",
       "      <td>http://is3.mzstatic.com/image/thumb/Music/v4/0...</td>\n",
       "      <td>1988-01-01T08:00:00Z</td>\n",
       "      <td>Big Belly</td>\n",
       "      <td>1980.0</td>\n",
       "      <td>Reggae</td>\n",
       "      <td>Reggae-1980.0</td>\n",
       "    </tr>\n",
       "    <tr>\n",
       "      <th>2</th>\n",
       "      <td>Admiral Bailey</td>\n",
       "      <td>http://is4.mzstatic.com/image/thumb/Music/v4/3...</td>\n",
       "      <td>1987-06-09T07:00:00Z</td>\n",
       "      <td>Best of Admiral Bailey</td>\n",
       "      <td>1980.0</td>\n",
       "      <td>Reggae</td>\n",
       "      <td>Reggae-1980.0</td>\n",
       "    </tr>\n",
       "    <tr>\n",
       "      <th>3</th>\n",
       "      <td>Admiral Bailey</td>\n",
       "      <td>http://is5.mzstatic.com/image/thumb/Music/v4/2...</td>\n",
       "      <td>2006-06-24T07:00:00Z</td>\n",
       "      <td>Admiral Bailey's Turn Off the Heat - EP</td>\n",
       "      <td>2000.0</td>\n",
       "      <td>World</td>\n",
       "      <td>World-2000.0</td>\n",
       "    </tr>\n",
       "    <tr>\n",
       "      <th>4</th>\n",
       "      <td>Admiral Bailey</td>\n",
       "      <td>http://is5.mzstatic.com/image/thumb/Music/v4/8...</td>\n",
       "      <td>2011-06-20T07:00:00Z</td>\n",
       "      <td>Dela Move</td>\n",
       "      <td>2010.0</td>\n",
       "      <td>Reggae</td>\n",
       "      <td>Reggae-2010.0</td>\n",
       "    </tr>\n",
       "  </tbody>\n",
       "</table>\n",
       "</div>"
      ],
      "text/plain": [
       "       artistName                                      artworkUrl100  \\\n",
       "0  Admiral Bailey  http://is5.mzstatic.com/image/thumb/Music/v4/0...   \n",
       "1  Admiral Bailey  http://is3.mzstatic.com/image/thumb/Music/v4/0...   \n",
       "2  Admiral Bailey  http://is4.mzstatic.com/image/thumb/Music/v4/3...   \n",
       "3  Admiral Bailey  http://is5.mzstatic.com/image/thumb/Music/v4/2...   \n",
       "4  Admiral Bailey  http://is5.mzstatic.com/image/thumb/Music/v4/8...   \n",
       "\n",
       "            releaseDate                           collectionName  decade  \\\n",
       "0  1987-06-09T07:00:00Z               The Best of Admiral Bailey  1980.0   \n",
       "1  1988-01-01T08:00:00Z                                Big Belly  1980.0   \n",
       "2  1987-06-09T07:00:00Z                   Best of Admiral Bailey  1980.0   \n",
       "3  2006-06-24T07:00:00Z  Admiral Bailey's Turn Off the Heat - EP  2000.0   \n",
       "4  2011-06-20T07:00:00Z                                Dela Move  2010.0   \n",
       "\n",
       "  updated_genre         target  \n",
       "0        Reggae  Reggae-1980.0  \n",
       "1        Reggae  Reggae-1980.0  \n",
       "2        Reggae  Reggae-1980.0  \n",
       "3         World   World-2000.0  \n",
       "4        Reggae  Reggae-2010.0  "
      ]
     },
     "execution_count": 7,
     "metadata": {},
     "output_type": "execute_result"
    }
   ],
   "source": [
    "#load in the data\n",
    "\n",
    "final = pd.read_csv(\"../data_pull_eda/final_pull.csv\")\n",
    "del final[\"Unnamed: 0\"]\n",
    "final.head()"
   ]
  },
  {
   "cell_type": "code",
   "execution_count": 8,
   "metadata": {
    "collapsed": false
   },
   "outputs": [
    {
     "data": {
      "text/html": [
       "<div>\n",
       "<table border=\"1\" class=\"dataframe\">\n",
       "  <thead>\n",
       "    <tr>\n",
       "      <th></th>\n",
       "      <th colspan=\"4\" halign=\"left\">artistName</th>\n",
       "    </tr>\n",
       "    <tr>\n",
       "      <th>decade</th>\n",
       "      <th>1980.0</th>\n",
       "      <th>1990.0</th>\n",
       "      <th>2000.0</th>\n",
       "      <th>2010.0</th>\n",
       "    </tr>\n",
       "    <tr>\n",
       "      <th>updated_genre</th>\n",
       "      <th></th>\n",
       "      <th></th>\n",
       "      <th></th>\n",
       "      <th></th>\n",
       "    </tr>\n",
       "  </thead>\n",
       "  <tbody>\n",
       "    <tr>\n",
       "      <th>Alternative</th>\n",
       "      <td>401</td>\n",
       "      <td>1527</td>\n",
       "      <td>6718</td>\n",
       "      <td>7961</td>\n",
       "    </tr>\n",
       "    <tr>\n",
       "      <th>Blues</th>\n",
       "      <td>13</td>\n",
       "      <td>112</td>\n",
       "      <td>545</td>\n",
       "      <td>406</td>\n",
       "    </tr>\n",
       "    <tr>\n",
       "      <th>Country</th>\n",
       "      <td>202</td>\n",
       "      <td>1023</td>\n",
       "      <td>4098</td>\n",
       "      <td>4931</td>\n",
       "    </tr>\n",
       "    <tr>\n",
       "      <th>Dance</th>\n",
       "      <td>91</td>\n",
       "      <td>686</td>\n",
       "      <td>7278</td>\n",
       "      <td>18717</td>\n",
       "    </tr>\n",
       "    <tr>\n",
       "      <th>Electronic</th>\n",
       "      <td>71</td>\n",
       "      <td>966</td>\n",
       "      <td>5275</td>\n",
       "      <td>8165</td>\n",
       "    </tr>\n",
       "    <tr>\n",
       "      <th>HipHop</th>\n",
       "      <td>21</td>\n",
       "      <td>266</td>\n",
       "      <td>2444</td>\n",
       "      <td>4441</td>\n",
       "    </tr>\n",
       "    <tr>\n",
       "      <th>Jazz</th>\n",
       "      <td>83</td>\n",
       "      <td>329</td>\n",
       "      <td>1481</td>\n",
       "      <td>1564</td>\n",
       "    </tr>\n",
       "    <tr>\n",
       "      <th>Pop</th>\n",
       "      <td>277</td>\n",
       "      <td>889</td>\n",
       "      <td>4718</td>\n",
       "      <td>7438</td>\n",
       "    </tr>\n",
       "    <tr>\n",
       "      <th>RB Soul</th>\n",
       "      <td>62</td>\n",
       "      <td>267</td>\n",
       "      <td>1167</td>\n",
       "      <td>1523</td>\n",
       "    </tr>\n",
       "    <tr>\n",
       "      <th>Reggae</th>\n",
       "      <td>185</td>\n",
       "      <td>633</td>\n",
       "      <td>3233</td>\n",
       "      <td>6821</td>\n",
       "    </tr>\n",
       "    <tr>\n",
       "      <th>Rock</th>\n",
       "      <td>576</td>\n",
       "      <td>1945</td>\n",
       "      <td>9243</td>\n",
       "      <td>10537</td>\n",
       "    </tr>\n",
       "    <tr>\n",
       "      <th>Singer/Songwriter</th>\n",
       "      <td>69</td>\n",
       "      <td>224</td>\n",
       "      <td>1094</td>\n",
       "      <td>1696</td>\n",
       "    </tr>\n",
       "    <tr>\n",
       "      <th>World</th>\n",
       "      <td>118</td>\n",
       "      <td>567</td>\n",
       "      <td>2150</td>\n",
       "      <td>2176</td>\n",
       "    </tr>\n",
       "  </tbody>\n",
       "</table>\n",
       "</div>"
      ],
      "text/plain": [
       "                  artistName                     \n",
       "decade                1980.0 1990.0 2000.0 2010.0\n",
       "updated_genre                                    \n",
       "Alternative              401   1527   6718   7961\n",
       "Blues                     13    112    545    406\n",
       "Country                  202   1023   4098   4931\n",
       "Dance                     91    686   7278  18717\n",
       "Electronic                71    966   5275   8165\n",
       "HipHop                    21    266   2444   4441\n",
       "Jazz                      83    329   1481   1564\n",
       "Pop                      277    889   4718   7438\n",
       "RB Soul                   62    267   1167   1523\n",
       "Reggae                   185    633   3233   6821\n",
       "Rock                     576   1945   9243  10537\n",
       "Singer/Songwriter         69    224   1094   1696\n",
       "World                    118    567   2150   2176"
      ]
     },
     "execution_count": 8,
     "metadata": {},
     "output_type": "execute_result"
    }
   ],
   "source": [
    "#create pivot to identify how to sample\n",
    "\n",
    "genre_decade = pd.pivot_table(final, index = [\"updated_genre\", \"decade\"], values = [\"artistName\"], aggfunc = len).unstack()\n",
    "genre_decade"
   ]
  },
  {
   "cell_type": "code",
   "execution_count": 4,
   "metadata": {
    "collapsed": false
   },
   "outputs": [
    {
     "data": {
      "text/plain": [
       "            decade\n",
       "artistName  1980.0     2169\n",
       "            1990.0     9434\n",
       "            2000.0    49444\n",
       "            2010.0    76376\n",
       "dtype: int64"
      ]
     },
     "execution_count": 4,
     "metadata": {},
     "output_type": "execute_result"
    }
   ],
   "source": [
    "#identify distribution of decades\n",
    "\n",
    "genre_decade.sum()"
   ]
  },
  {
   "cell_type": "code",
   "execution_count": 47,
   "metadata": {
    "collapsed": false
   },
   "outputs": [
    {
     "data": {
      "text/plain": [
       "updated_genre\n",
       "Blues                 1076\n",
       "RB Soul               3019\n",
       "Singer/Songwriter     3083\n",
       "Jazz                  3457\n",
       "World                 5011\n",
       "HipHop                7172\n",
       "Country              10254\n",
       "Reggae               10872\n",
       "Pop                  13322\n",
       "Electronic           14477\n",
       "Alternative          16607\n",
       "Rock                 22301\n",
       "Dance                26772\n",
       "dtype: int64"
      ]
     },
     "execution_count": 47,
     "metadata": {},
     "output_type": "execute_result"
    }
   ],
   "source": [
    "#identify distribution of genre\n",
    "\n",
    "genre_decade.T.sum().sort_values()"
   ]
  },
  {
   "cell_type": "markdown",
   "metadata": {},
   "source": [
    "### Rebalance the data\n"
   ]
  },
  {
   "cell_type": "markdown",
   "metadata": {},
   "source": [
    "Given uneven count of decade and genres, pull sample of data each genre and decade for model use"
   ]
  },
  {
   "cell_type": "code",
   "execution_count": 38,
   "metadata": {
    "collapsed": false
   },
   "outputs": [],
   "source": [
    "#pull 1K of each of sample\n",
    "\n",
    "decade_list = list(final[\"decade\"].unique())\n",
    "\n",
    "decade_samps = []\n",
    "for i in decade_list:\n",
    "    decade = final[final[\"decade\"] == i].sample(n=1000, random_state = 77)\n",
    "    decade_samps.append(decade)\n",
    "    \n",
    "decade_sample = pd.concat(decade_samps)\n"
   ]
  },
  {
   "cell_type": "code",
   "execution_count": 39,
   "metadata": {
    "collapsed": false
   },
   "outputs": [
    {
     "data": {
      "text/plain": [
       "2010.0    1000\n",
       "2000.0    1000\n",
       "1990.0    1000\n",
       "1980.0    1000\n",
       "Name: decade, dtype: int64"
      ]
     },
     "execution_count": 39,
     "metadata": {},
     "output_type": "execute_result"
    }
   ],
   "source": [
    "#check that it worked\n",
    "\n",
    "decade_sample[\"decade\"].value_counts()"
   ]
  },
  {
   "cell_type": "code",
   "execution_count": 40,
   "metadata": {
    "collapsed": false
   },
   "outputs": [
    {
     "data": {
      "text/plain": [
       "Rock                 797\n",
       "Alternative          580\n",
       "Dance                498\n",
       "Pop                  390\n",
       "Electronic           380\n",
       "Country              362\n",
       "Reggae               305\n",
       "World                166\n",
       "HipHop               156\n",
       "Jazz                 134\n",
       "RB Soul              110\n",
       "Singer/Songwriter     88\n",
       "Blues                 34\n",
       "Name: updated_genre, dtype: int64"
      ]
     },
     "execution_count": 40,
     "metadata": {},
     "output_type": "execute_result"
    }
   ],
   "source": [
    "#check distro of genre - overrepresentation of rock and alternative\n",
    "\n",
    "decade_sample[\"updated_genre\"].value_counts()"
   ]
  },
  {
   "cell_type": "code",
   "execution_count": 41,
   "metadata": {
    "collapsed": false
   },
   "outputs": [],
   "source": [
    "#pull 800 of each of sample for genre\n",
    "\n",
    "genre_list = list(final[\"updated_genre\"].unique())\n",
    "\n",
    "genre_samps = []\n",
    "for i in genre_list:\n",
    "    genre = final[final[\"updated_genre\"] == i].sample(n=800, random_state = 77)\n",
    "    genre_samps.append(genre)\n",
    "genre_sample = pd.concat(genre_samps)"
   ]
  },
  {
   "cell_type": "code",
   "execution_count": 42,
   "metadata": {
    "collapsed": false
   },
   "outputs": [
    {
     "data": {
      "text/plain": [
       "Country              800\n",
       "Electronic           800\n",
       "Blues                800\n",
       "RB Soul              800\n",
       "Rock                 800\n",
       "Jazz                 800\n",
       "Dance                800\n",
       "Pop                  800\n",
       "Reggae               800\n",
       "Singer/Songwriter    800\n",
       "World                800\n",
       "HipHop               800\n",
       "Alternative          800\n",
       "Name: updated_genre, dtype: int64"
      ]
     },
     "execution_count": 42,
     "metadata": {},
     "output_type": "execute_result"
    }
   ],
   "source": [
    "#check that it worked\n",
    "\n",
    "genre_sample[\"updated_genre\"].value_counts()"
   ]
  },
  {
   "cell_type": "code",
   "execution_count": 43,
   "metadata": {
    "collapsed": false
   },
   "outputs": [
    {
     "data": {
      "text/plain": [
       "2010.0    5421\n",
       "2000.0    3962\n",
       "1990.0     839\n",
       "1980.0     178\n",
       "Name: decade, dtype: int64"
      ]
     },
     "execution_count": 43,
     "metadata": {},
     "output_type": "execute_result"
    }
   ],
   "source": [
    "#check distro of time period - over representation of latest decade\n",
    "\n",
    "genre_sample[\"decade\"].value_counts()"
   ]
  },
  {
   "cell_type": "markdown",
   "metadata": {},
   "source": [
    "### Train Test Split"
   ]
  },
  {
   "cell_type": "code",
   "execution_count": 44,
   "metadata": {
    "collapsed": true
   },
   "outputs": [],
   "source": [
    "#set the y variables for genre and decade  - included artist name as a checker to make sure decade and genre are right\n",
    "\n",
    "y_genre = genre_sample[[\"artistName\",\"updated_genre\"]]\n",
    "y_decade = decade_sample[[\"artistName\", \"decade\"]]"
   ]
  },
  {
   "cell_type": "code",
   "execution_count": 46,
   "metadata": {
    "collapsed": true
   },
   "outputs": [],
   "source": [
    "#match up the image paths with whats in the y variable, since the features are the images\n",
    "\n",
    "X_g_paths = [\"./image/\"+ str(i+1)+\".jpg\" for i in y_genre.index]\n",
    "X_d_paths = [\"./image/\"+ str(i+1)+\".jpg\" for i in y_decade.index]"
   ]
  },
  {
   "cell_type": "code",
   "execution_count": 302,
   "metadata": {
    "collapsed": false
   },
   "outputs": [],
   "source": [
    "#train test split at 20% test size\n",
    "\n",
    "X_train_g, X_test_g, y_train_g, y_test_g = train_test_split(X_g_paths, y_genre, test_size = .20, random_state = 77)\n",
    "X_train_d, X_test_d, y_train_d, y_test_d = train_test_split(X_d_paths, y_decade, test_size = .20, random_state = 77)"
   ]
  },
  {
   "cell_type": "markdown",
   "metadata": {},
   "source": [
    "### Begin feature extraction"
   ]
  },
  {
   "cell_type": "code",
   "execution_count": 308,
   "metadata": {
    "collapsed": false
   },
   "outputs": [
    {
     "name": "stdout",
     "output_type": "stream",
     "text": [
      "+------------------------+-------------------+-----------------------------+\n",
      "|           X1           |       labels      |           artists           |\n",
      "+------------------------+-------------------+-----------------------------+\n",
      "| Height: 100 Width: 100 |       Reggae      |         Prince Far I        |\n",
      "| Height: 100 Width: 100 |       Blues       | John Vosel & The Rock Jocks |\n",
      "| Height: 100 Width: 100 |     Electronic    |    Blue Claw Philharmonic   |\n",
      "| Height: 100 Width: 100 |       HipHop      |          Matt King          |\n",
      "| Height: 100 Width: 100 |       Reggae      |          Alborosie          |\n",
      "| Height: 100 Width: 100 |    Alternative    |          Limousine          |\n",
      "| Height: 100 Width: 100 |    Alternative    | Black Rebel Motorcycle Club |\n",
      "| Height: 100 Width: 100 |       World       |        Riyaaz Qawwali       |\n",
      "| Height: 100 Width: 100 | Singer/Songwriter |        Woody Guthrie        |\n",
      "| Height: 100 Width: 100 |       Blues       |       Various Artists       |\n",
      "+------------------------+-------------------+-----------------------------+\n",
      "[8320 rows x 3 columns]\n",
      "Note: Only the head of the SFrame is printed.\n",
      "You can use print_rows(num_rows=m, num_columns=n) to print more rows and columns.\n"
     ]
    }
   ],
   "source": [
    "#set up the table for genre train set\n",
    "\n",
    "#read in the genre train variables in a list\n",
    "X_train_g_sf = [gl.Image(i) for i in X_train_g]\n",
    "\n",
    "#resize all the items in list to 100 x 100\n",
    "X_train_g_sf = [gl.image_analysis.resize(i, 100, 100, 3, decode=True) for i in X_train_g_sf]\n",
    "\n",
    "#fit into a sframe\n",
    "X_train_g_sf = gl.SFrame(X_train_g_sf)\n",
    "\n",
    "#add columns for target variables\n",
    "X_train_g_sf[\"labels\"] = y_train_g[\"updated_genre\"]\n",
    "X_train_g_sf[\"artists\"] = y_train_g[\"artistName\"]\n",
    "\n",
    "#ensure it worked\n",
    "print X_train_g_sf"
   ]
  },
  {
   "cell_type": "code",
   "execution_count": 309,
   "metadata": {
    "collapsed": false
   },
   "outputs": [
    {
     "name": "stdout",
     "output_type": "stream",
     "text": [
      "+------------------------+-------------------+------------------------+\n",
      "|           X1           |       labels      |        artists         |\n",
      "+------------------------+-------------------+------------------------+\n",
      "| Height: 100 Width: 100 |      Country      | Nitty Gritty Dirt Band |\n",
      "| Height: 100 Width: 100 |     Electronic    |      Multifaction      |\n",
      "| Height: 100 Width: 100 |       Blues       |       Buddy Guy        |\n",
      "| Height: 100 Width: 100 |        Jazz       | Lewis Winn & Jon Gagan |\n",
      "| Height: 100 Width: 100 |       Blues       |      Curtis Jones      |\n",
      "| Height: 100 Width: 100 |    Alternative    |       The Verve        |\n",
      "| Height: 100 Width: 100 |      Country      |     Eddie Rabbitt      |\n",
      "| Height: 100 Width: 100 | Singer/Songwriter |   Dodgy Mountain Men   |\n",
      "| Height: 100 Width: 100 |        Jazz       |       Zoot Sims        |\n",
      "| Height: 100 Width: 100 |       Dance       |      LeAnn Rimes       |\n",
      "+------------------------+-------------------+------------------------+\n",
      "[2080 rows x 3 columns]\n",
      "Note: Only the head of the SFrame is printed.\n",
      "You can use print_rows(num_rows=m, num_columns=n) to print more rows and columns.\n"
     ]
    }
   ],
   "source": [
    "#repeat the process for genre test set\n",
    "\n",
    "X_test_g_sf = [gl.Image(i) for i in X_test_g]\n",
    "X_test_g_sf = [gl.image_analysis.resize(i, 100, 100, 3, decode=True) for i in X_test_g_sf]\n",
    "X_test_g_sf = gl.SFrame(X_test_g_sf)\n",
    "X_test_g_sf[\"labels\"] = y_test_g[\"updated_genre\"]\n",
    "X_test_g_sf[\"artists\"] = y_test_g[\"artistName\"]\n",
    "print X_test_g_sf"
   ]
  },
  {
   "cell_type": "code",
   "execution_count": 312,
   "metadata": {
    "collapsed": true
   },
   "outputs": [],
   "source": [
    "#repeat the process for train decade set\n",
    "\n",
    "X_train_d_sf = [gl.Image(i) for i in X_train_d]\n",
    "X_train_d_sf = [gl.image_analysis.resize(i, 100, 100, 3, decode=True) for i in X_train_d_sf]\n",
    "X_train_d_sf = gl.SFrame(X_train_d_sf)\n",
    "X_train_d_sf[\"labels\"] = y_train_d[\"decade\"]\n",
    "X_train_d_sf[\"artists\"] = y_train_d[\"artistName\"]"
   ]
  },
  {
   "cell_type": "code",
   "execution_count": 311,
   "metadata": {
    "collapsed": false
   },
   "outputs": [],
   "source": [
    "#repeat the process for test decade set\n",
    "\n",
    "X_test_d_sf = [gl.Image(i) for i in X_test_d]\n",
    "X_test_d_sf = [gl.image_analysis.resize(i, 100, 100, 3, decode=True) for i in X_test_d_sf]\n",
    "X_test_d_sf = gl.SFrame(X_test_d_sf)\n",
    "X_test_d_sf[\"labels\"] = y_test_d[\"decade\"]\n",
    "X_test_d_sf[\"artists\"] = y_test_d[\"artistName\"]"
   ]
  },
  {
   "cell_type": "code",
   "execution_count": 313,
   "metadata": {
    "collapsed": true
   },
   "outputs": [],
   "source": [
    "#change decade labels to integers for processing purposes\n",
    "\n",
    "X_test_d_sf[\"labels\"] = X_test_d_sf[\"labels\"].apply(lambda x: int(x))\n",
    "X_train_d_sf[\"labels\"] = X_train_d_sf[\"labels\"].apply(lambda x: int(x))"
   ]
  },
  {
   "cell_type": "code",
   "execution_count": 22,
   "metadata": {
    "collapsed": false
   },
   "outputs": [
    {
     "data": {
      "text/html": [
       "<pre>Downloading https://static.turi.com/products/graphlab-create/resources/models/python2.7/imagenet_model_iter45/dir_archive.ini to /var/tmp/graphlab-katty/2559/1bab91a8-879a-46a3-a95f-6ed5c0a884e2.ini</pre>"
      ],
      "text/plain": [
       "Downloading https://static.turi.com/products/graphlab-create/resources/models/python2.7/imagenet_model_iter45/dir_archive.ini to /var/tmp/graphlab-katty/2559/1bab91a8-879a-46a3-a95f-6ed5c0a884e2.ini"
      ]
     },
     "metadata": {},
     "output_type": "display_data"
    },
    {
     "data": {
      "text/html": [
       "<pre>Downloading https://static.turi.com/products/graphlab-create/resources/models/python2.7/imagenet_model_iter45/objects.bin to /var/tmp/graphlab-katty/2559/7a7f5edd-a8ad-487b-98f0-ea6d509ef033.bin</pre>"
      ],
      "text/plain": [
       "Downloading https://static.turi.com/products/graphlab-create/resources/models/python2.7/imagenet_model_iter45/objects.bin to /var/tmp/graphlab-katty/2559/7a7f5edd-a8ad-487b-98f0-ea6d509ef033.bin"
      ]
     },
     "metadata": {},
     "output_type": "display_data"
    }
   ],
   "source": [
    "#activate deep feature extractor - X1 is the column to pull features from\n",
    "\n",
    "extractor = gl.feature_engineering.DeepFeatureExtractor(features = 'X1', model='auto')"
   ]
  },
  {
   "cell_type": "code",
   "execution_count": 315,
   "metadata": {
    "collapsed": true
   },
   "outputs": [
    {
     "data": {
      "text/html": [
       "<pre>Images being resized.</pre>"
      ],
      "text/plain": [
       "Images being resized."
      ]
     },
     "metadata": {},
     "output_type": "display_data"
    },
    {
     "data": {
      "text/html": [
       "<div style=\"max-height:1000px;max-width:1500px;overflow:auto;\"><table frame=\"box\" rules=\"cols\">\n",
       "    <tr>\n",
       "        <th style=\"padding-left: 1em; padding-right: 1em; text-align: center\">X1</th>\n",
       "        <th style=\"padding-left: 1em; padding-right: 1em; text-align: center\">labels</th>\n",
       "        <th style=\"padding-left: 1em; padding-right: 1em; text-align: center\">artists</th>\n",
       "        <th style=\"padding-left: 1em; padding-right: 1em; text-align: center\">deep_features.X1</th>\n",
       "    </tr>\n",
       "    <tr>\n",
       "        <td style=\"padding-left: 1em; padding-right: 1em; text-align: center; vertical-align: top\">Height: 100 Width: 100</td>\n",
       "        <td style=\"padding-left: 1em; padding-right: 1em; text-align: center; vertical-align: top\">Reggae</td>\n",
       "        <td style=\"padding-left: 1em; padding-right: 1em; text-align: center; vertical-align: top\">Prince Far I</td>\n",
       "        <td style=\"padding-left: 1em; padding-right: 1em; text-align: center; vertical-align: top\">[0.0, 0.0,<br>0.0773056149483, 0.0, ...</td>\n",
       "    </tr>\n",
       "    <tr>\n",
       "        <td style=\"padding-left: 1em; padding-right: 1em; text-align: center; vertical-align: top\">Height: 100 Width: 100</td>\n",
       "        <td style=\"padding-left: 1em; padding-right: 1em; text-align: center; vertical-align: top\">Blues</td>\n",
       "        <td style=\"padding-left: 1em; padding-right: 1em; text-align: center; vertical-align: top\">John Vosel &amp; The Rock<br>Jocks ...</td>\n",
       "        <td style=\"padding-left: 1em; padding-right: 1em; text-align: center; vertical-align: top\">[0.0, 0.0, 0.0, 0.0,<br>0.726023972034, ...</td>\n",
       "    </tr>\n",
       "    <tr>\n",
       "        <td style=\"padding-left: 1em; padding-right: 1em; text-align: center; vertical-align: top\">Height: 100 Width: 100</td>\n",
       "        <td style=\"padding-left: 1em; padding-right: 1em; text-align: center; vertical-align: top\">Electronic</td>\n",
       "        <td style=\"padding-left: 1em; padding-right: 1em; text-align: center; vertical-align: top\">Blue Claw Philharmonic</td>\n",
       "        <td style=\"padding-left: 1em; padding-right: 1em; text-align: center; vertical-align: top\">[0.0, 0.0, 0.0, 0.0, 0.0,<br>0.0, 0.925744056702,  ...</td>\n",
       "    </tr>\n",
       "    <tr>\n",
       "        <td style=\"padding-left: 1em; padding-right: 1em; text-align: center; vertical-align: top\">Height: 100 Width: 100</td>\n",
       "        <td style=\"padding-left: 1em; padding-right: 1em; text-align: center; vertical-align: top\">HipHop</td>\n",
       "        <td style=\"padding-left: 1em; padding-right: 1em; text-align: center; vertical-align: top\">Matt King</td>\n",
       "        <td style=\"padding-left: 1em; padding-right: 1em; text-align: center; vertical-align: top\">[1.75639104843,<br>0.410598576069, 0.0, ...</td>\n",
       "    </tr>\n",
       "    <tr>\n",
       "        <td style=\"padding-left: 1em; padding-right: 1em; text-align: center; vertical-align: top\">Height: 100 Width: 100</td>\n",
       "        <td style=\"padding-left: 1em; padding-right: 1em; text-align: center; vertical-align: top\">Reggae</td>\n",
       "        <td style=\"padding-left: 1em; padding-right: 1em; text-align: center; vertical-align: top\">Alborosie</td>\n",
       "        <td style=\"padding-left: 1em; padding-right: 1em; text-align: center; vertical-align: top\">[0.0, 0.0, 0.0, 0.0,<br>0.366088330746, ...</td>\n",
       "    </tr>\n",
       "    <tr>\n",
       "        <td style=\"padding-left: 1em; padding-right: 1em; text-align: center; vertical-align: top\">Height: 100 Width: 100</td>\n",
       "        <td style=\"padding-left: 1em; padding-right: 1em; text-align: center; vertical-align: top\">Alternative</td>\n",
       "        <td style=\"padding-left: 1em; padding-right: 1em; text-align: center; vertical-align: top\">Limousine</td>\n",
       "        <td style=\"padding-left: 1em; padding-right: 1em; text-align: center; vertical-align: top\">[0.9176030159,<br>1.45059657097, 0.0, 0.0, ...</td>\n",
       "    </tr>\n",
       "    <tr>\n",
       "        <td style=\"padding-left: 1em; padding-right: 1em; text-align: center; vertical-align: top\">Height: 100 Width: 100</td>\n",
       "        <td style=\"padding-left: 1em; padding-right: 1em; text-align: center; vertical-align: top\">Alternative</td>\n",
       "        <td style=\"padding-left: 1em; padding-right: 1em; text-align: center; vertical-align: top\">Black Rebel Motorcycle<br>Club ...</td>\n",
       "        <td style=\"padding-left: 1em; padding-right: 1em; text-align: center; vertical-align: top\">[0.0, 0.107586205006,<br>0.0, 0.544961094856, ...</td>\n",
       "    </tr>\n",
       "    <tr>\n",
       "        <td style=\"padding-left: 1em; padding-right: 1em; text-align: center; vertical-align: top\">Height: 100 Width: 100</td>\n",
       "        <td style=\"padding-left: 1em; padding-right: 1em; text-align: center; vertical-align: top\">World</td>\n",
       "        <td style=\"padding-left: 1em; padding-right: 1em; text-align: center; vertical-align: top\">Riyaaz Qawwali</td>\n",
       "        <td style=\"padding-left: 1em; padding-right: 1em; text-align: center; vertical-align: top\">[0.0, 0.0, 3.44681024551,<br>1.53574752808, 0.0, ...</td>\n",
       "    </tr>\n",
       "    <tr>\n",
       "        <td style=\"padding-left: 1em; padding-right: 1em; text-align: center; vertical-align: top\">Height: 100 Width: 100</td>\n",
       "        <td style=\"padding-left: 1em; padding-right: 1em; text-align: center; vertical-align: top\">Singer/Songwriter</td>\n",
       "        <td style=\"padding-left: 1em; padding-right: 1em; text-align: center; vertical-align: top\">Woody Guthrie</td>\n",
       "        <td style=\"padding-left: 1em; padding-right: 1em; text-align: center; vertical-align: top\">[0.0, 0.0, 0.0, 0.0,<br>0.276743888855, 0.0, ...</td>\n",
       "    </tr>\n",
       "    <tr>\n",
       "        <td style=\"padding-left: 1em; padding-right: 1em; text-align: center; vertical-align: top\">Height: 100 Width: 100</td>\n",
       "        <td style=\"padding-left: 1em; padding-right: 1em; text-align: center; vertical-align: top\">Blues</td>\n",
       "        <td style=\"padding-left: 1em; padding-right: 1em; text-align: center; vertical-align: top\">Various Artists</td>\n",
       "        <td style=\"padding-left: 1em; padding-right: 1em; text-align: center; vertical-align: top\">[0.0, 0.0, 0.0,<br>0.495578765869, ...</td>\n",
       "    </tr>\n",
       "</table>\n",
       "[8320 rows x 4 columns]<br/>Note: Only the head of the SFrame is printed.<br/>You can use print_rows(num_rows=m, num_columns=n) to print more rows and columns.\n",
       "</div>"
      ],
      "text/plain": [
       "Columns:\n",
       "\tX1\tImage\n",
       "\tlabels\tstr\n",
       "\tartists\tstr\n",
       "\tdeep_features.X1\tarray\n",
       "\n",
       "Rows: 8320\n",
       "\n",
       "Data:\n",
       "+------------------------+-------------------+-----------------------------+\n",
       "|           X1           |       labels      |           artists           |\n",
       "+------------------------+-------------------+-----------------------------+\n",
       "| Height: 100 Width: 100 |       Reggae      |         Prince Far I        |\n",
       "| Height: 100 Width: 100 |       Blues       | John Vosel & The Rock Jocks |\n",
       "| Height: 100 Width: 100 |     Electronic    |    Blue Claw Philharmonic   |\n",
       "| Height: 100 Width: 100 |       HipHop      |          Matt King          |\n",
       "| Height: 100 Width: 100 |       Reggae      |          Alborosie          |\n",
       "| Height: 100 Width: 100 |    Alternative    |          Limousine          |\n",
       "| Height: 100 Width: 100 |    Alternative    | Black Rebel Motorcycle Club |\n",
       "| Height: 100 Width: 100 |       World       |        Riyaaz Qawwali       |\n",
       "| Height: 100 Width: 100 | Singer/Songwriter |        Woody Guthrie        |\n",
       "| Height: 100 Width: 100 |       Blues       |       Various Artists       |\n",
       "+------------------------+-------------------+-----------------------------+\n",
       "+-------------------------------+\n",
       "|        deep_features.X1       |\n",
       "+-------------------------------+\n",
       "| [0.0, 0.0, 0.0773056149483... |\n",
       "| [0.0, 0.0, 0.0, 0.0, 0.726... |\n",
       "| [0.0, 0.0, 0.0, 0.0, 0.0, ... |\n",
       "| [1.75639104843, 0.41059857... |\n",
       "| [0.0, 0.0, 0.0, 0.0, 0.366... |\n",
       "| [0.9176030159, 1.450596570... |\n",
       "| [0.0, 0.107586205006, 0.0,... |\n",
       "| [0.0, 0.0, 3.44681024551, ... |\n",
       "| [0.0, 0.0, 0.0, 0.0, 0.276... |\n",
       "| [0.0, 0.0, 0.0, 0.49557876... |\n",
       "+-------------------------------+\n",
       "[8320 rows x 4 columns]\n",
       "Note: Only the head of the SFrame is printed.\n",
       "You can use print_rows(num_rows=m, num_columns=n) to print more rows and columns."
      ]
     },
     "execution_count": 315,
     "metadata": {},
     "output_type": "execute_result"
    }
   ],
   "source": [
    "#pull deep features from genre train set\n",
    "\n",
    "extractor_g_train = extractor.fit(X_train_g_sf)\n",
    "features_g_train = extractor_g_train.transform(X_train_g_sf)\n",
    "features_g_train"
   ]
  },
  {
   "cell_type": "code",
   "execution_count": 316,
   "metadata": {
    "collapsed": true
   },
   "outputs": [
    {
     "data": {
      "text/html": [
       "<pre>Images being resized.</pre>"
      ],
      "text/plain": [
       "Images being resized."
      ]
     },
     "metadata": {},
     "output_type": "display_data"
    },
    {
     "data": {
      "text/html": [
       "<div style=\"max-height:1000px;max-width:1500px;overflow:auto;\"><table frame=\"box\" rules=\"cols\">\n",
       "    <tr>\n",
       "        <th style=\"padding-left: 1em; padding-right: 1em; text-align: center\">X1</th>\n",
       "        <th style=\"padding-left: 1em; padding-right: 1em; text-align: center\">labels</th>\n",
       "        <th style=\"padding-left: 1em; padding-right: 1em; text-align: center\">artists</th>\n",
       "        <th style=\"padding-left: 1em; padding-right: 1em; text-align: center\">deep_features.X1</th>\n",
       "    </tr>\n",
       "    <tr>\n",
       "        <td style=\"padding-left: 1em; padding-right: 1em; text-align: center; vertical-align: top\">Height: 100 Width: 100</td>\n",
       "        <td style=\"padding-left: 1em; padding-right: 1em; text-align: center; vertical-align: top\">Country</td>\n",
       "        <td style=\"padding-left: 1em; padding-right: 1em; text-align: center; vertical-align: top\">Nitty Gritty Dirt Band</td>\n",
       "        <td style=\"padding-left: 1em; padding-right: 1em; text-align: center; vertical-align: top\">[0.0, 0.0, 0.0,<br>0.567603111267, ...</td>\n",
       "    </tr>\n",
       "    <tr>\n",
       "        <td style=\"padding-left: 1em; padding-right: 1em; text-align: center; vertical-align: top\">Height: 100 Width: 100</td>\n",
       "        <td style=\"padding-left: 1em; padding-right: 1em; text-align: center; vertical-align: top\">Electronic</td>\n",
       "        <td style=\"padding-left: 1em; padding-right: 1em; text-align: center; vertical-align: top\">Multifaction</td>\n",
       "        <td style=\"padding-left: 1em; padding-right: 1em; text-align: center; vertical-align: top\">[1.10145425797, 0.0, 0.0,<br>0.0, 0.0, 0.0, ...</td>\n",
       "    </tr>\n",
       "    <tr>\n",
       "        <td style=\"padding-left: 1em; padding-right: 1em; text-align: center; vertical-align: top\">Height: 100 Width: 100</td>\n",
       "        <td style=\"padding-left: 1em; padding-right: 1em; text-align: center; vertical-align: top\">Blues</td>\n",
       "        <td style=\"padding-left: 1em; padding-right: 1em; text-align: center; vertical-align: top\">Buddy Guy</td>\n",
       "        <td style=\"padding-left: 1em; padding-right: 1em; text-align: center; vertical-align: top\">[0.267777621746,<br>0.412346661091, 0.0,  ...</td>\n",
       "    </tr>\n",
       "    <tr>\n",
       "        <td style=\"padding-left: 1em; padding-right: 1em; text-align: center; vertical-align: top\">Height: 100 Width: 100</td>\n",
       "        <td style=\"padding-left: 1em; padding-right: 1em; text-align: center; vertical-align: top\">Jazz</td>\n",
       "        <td style=\"padding-left: 1em; padding-right: 1em; text-align: center; vertical-align: top\">Lewis Winn &amp; Jon Gagan</td>\n",
       "        <td style=\"padding-left: 1em; padding-right: 1em; text-align: center; vertical-align: top\">[0.0, 0.0, 0.0, 0.0, 0.0,<br>0.0, 7.07034301758, ...</td>\n",
       "    </tr>\n",
       "    <tr>\n",
       "        <td style=\"padding-left: 1em; padding-right: 1em; text-align: center; vertical-align: top\">Height: 100 Width: 100</td>\n",
       "        <td style=\"padding-left: 1em; padding-right: 1em; text-align: center; vertical-align: top\">Blues</td>\n",
       "        <td style=\"padding-left: 1em; padding-right: 1em; text-align: center; vertical-align: top\">Curtis Jones</td>\n",
       "        <td style=\"padding-left: 1em; padding-right: 1em; text-align: center; vertical-align: top\">[0.0, 0.0, 0.0, 0.0,<br>0.232894778252, 0.0, ...</td>\n",
       "    </tr>\n",
       "    <tr>\n",
       "        <td style=\"padding-left: 1em; padding-right: 1em; text-align: center; vertical-align: top\">Height: 100 Width: 100</td>\n",
       "        <td style=\"padding-left: 1em; padding-right: 1em; text-align: center; vertical-align: top\">Alternative</td>\n",
       "        <td style=\"padding-left: 1em; padding-right: 1em; text-align: center; vertical-align: top\">The Verve</td>\n",
       "        <td style=\"padding-left: 1em; padding-right: 1em; text-align: center; vertical-align: top\">[0.0, 0.0, 0.0, 0.0, 0.0,<br>0.0, 6.7308382988, 0.0, ...</td>\n",
       "    </tr>\n",
       "    <tr>\n",
       "        <td style=\"padding-left: 1em; padding-right: 1em; text-align: center; vertical-align: top\">Height: 100 Width: 100</td>\n",
       "        <td style=\"padding-left: 1em; padding-right: 1em; text-align: center; vertical-align: top\">Country</td>\n",
       "        <td style=\"padding-left: 1em; padding-right: 1em; text-align: center; vertical-align: top\">Eddie Rabbitt</td>\n",
       "        <td style=\"padding-left: 1em; padding-right: 1em; text-align: center; vertical-align: top\">[0.0, 0.0, 0.0,<br>1.64875125885, ...</td>\n",
       "    </tr>\n",
       "    <tr>\n",
       "        <td style=\"padding-left: 1em; padding-right: 1em; text-align: center; vertical-align: top\">Height: 100 Width: 100</td>\n",
       "        <td style=\"padding-left: 1em; padding-right: 1em; text-align: center; vertical-align: top\">Singer/Songwriter</td>\n",
       "        <td style=\"padding-left: 1em; padding-right: 1em; text-align: center; vertical-align: top\">Dodgy Mountain Men</td>\n",
       "        <td style=\"padding-left: 1em; padding-right: 1em; text-align: center; vertical-align: top\">[0.0, 0.0, 0.0, 0.0,<br>0.800089001656, ...</td>\n",
       "    </tr>\n",
       "    <tr>\n",
       "        <td style=\"padding-left: 1em; padding-right: 1em; text-align: center; vertical-align: top\">Height: 100 Width: 100</td>\n",
       "        <td style=\"padding-left: 1em; padding-right: 1em; text-align: center; vertical-align: top\">Jazz</td>\n",
       "        <td style=\"padding-left: 1em; padding-right: 1em; text-align: center; vertical-align: top\">Zoot Sims</td>\n",
       "        <td style=\"padding-left: 1em; padding-right: 1em; text-align: center; vertical-align: top\">[0.0, 0.0, 0.0, 0.0,<br>2.0701007843, 0.0, ...</td>\n",
       "    </tr>\n",
       "    <tr>\n",
       "        <td style=\"padding-left: 1em; padding-right: 1em; text-align: center; vertical-align: top\">Height: 100 Width: 100</td>\n",
       "        <td style=\"padding-left: 1em; padding-right: 1em; text-align: center; vertical-align: top\">Dance</td>\n",
       "        <td style=\"padding-left: 1em; padding-right: 1em; text-align: center; vertical-align: top\">LeAnn Rimes</td>\n",
       "        <td style=\"padding-left: 1em; padding-right: 1em; text-align: center; vertical-align: top\">[0.0, 0.0, 0.0, 0.0,<br>2.51100301743, 0.0, ...</td>\n",
       "    </tr>\n",
       "</table>\n",
       "[2080 rows x 4 columns]<br/>Note: Only the head of the SFrame is printed.<br/>You can use print_rows(num_rows=m, num_columns=n) to print more rows and columns.\n",
       "</div>"
      ],
      "text/plain": [
       "Columns:\n",
       "\tX1\tImage\n",
       "\tlabels\tstr\n",
       "\tartists\tstr\n",
       "\tdeep_features.X1\tarray\n",
       "\n",
       "Rows: 2080\n",
       "\n",
       "Data:\n",
       "+------------------------+-------------------+------------------------+\n",
       "|           X1           |       labels      |        artists         |\n",
       "+------------------------+-------------------+------------------------+\n",
       "| Height: 100 Width: 100 |      Country      | Nitty Gritty Dirt Band |\n",
       "| Height: 100 Width: 100 |     Electronic    |      Multifaction      |\n",
       "| Height: 100 Width: 100 |       Blues       |       Buddy Guy        |\n",
       "| Height: 100 Width: 100 |        Jazz       | Lewis Winn & Jon Gagan |\n",
       "| Height: 100 Width: 100 |       Blues       |      Curtis Jones      |\n",
       "| Height: 100 Width: 100 |    Alternative    |       The Verve        |\n",
       "| Height: 100 Width: 100 |      Country      |     Eddie Rabbitt      |\n",
       "| Height: 100 Width: 100 | Singer/Songwriter |   Dodgy Mountain Men   |\n",
       "| Height: 100 Width: 100 |        Jazz       |       Zoot Sims        |\n",
       "| Height: 100 Width: 100 |       Dance       |      LeAnn Rimes       |\n",
       "+------------------------+-------------------+------------------------+\n",
       "+-------------------------------+\n",
       "|        deep_features.X1       |\n",
       "+-------------------------------+\n",
       "| [0.0, 0.0, 0.0, 0.56760311... |\n",
       "| [1.10145425797, 0.0, 0.0, ... |\n",
       "| [0.267777621746, 0.4123466... |\n",
       "| [0.0, 0.0, 0.0, 0.0, 0.0, ... |\n",
       "| [0.0, 0.0, 0.0, 0.0, 0.232... |\n",
       "| [0.0, 0.0, 0.0, 0.0, 0.0, ... |\n",
       "| [0.0, 0.0, 0.0, 1.64875125... |\n",
       "| [0.0, 0.0, 0.0, 0.0, 0.800... |\n",
       "| [0.0, 0.0, 0.0, 0.0, 2.070... |\n",
       "| [0.0, 0.0, 0.0, 0.0, 2.511... |\n",
       "+-------------------------------+\n",
       "[2080 rows x 4 columns]\n",
       "Note: Only the head of the SFrame is printed.\n",
       "You can use print_rows(num_rows=m, num_columns=n) to print more rows and columns."
      ]
     },
     "execution_count": 316,
     "metadata": {},
     "output_type": "execute_result"
    }
   ],
   "source": [
    "#pull deep features from genre test set\n",
    "\n",
    "extractor_g_test = extractor.fit(X_test_g_sf)\n",
    "features_g_test = extractor_g_test.transform(X_test_g_sf)\n",
    "features_g_test"
   ]
  },
  {
   "cell_type": "code",
   "execution_count": 320,
   "metadata": {
    "collapsed": false
   },
   "outputs": [
    {
     "data": {
      "text/html": [
       "<pre>Images being resized.</pre>"
      ],
      "text/plain": [
       "Images being resized."
      ]
     },
     "metadata": {},
     "output_type": "display_data"
    }
   ],
   "source": [
    "#pull deep features from decade train set\n",
    "\n",
    "extractor_d_train = extractor.fit(X_train_d_sf)\n",
    "features_d_train = extractor_d_train.transform(X_train_d_sf)"
   ]
  },
  {
   "cell_type": "code",
   "execution_count": 323,
   "metadata": {
    "collapsed": false
   },
   "outputs": [
    {
     "data": {
      "text/html": [
       "<pre>Images being resized.</pre>"
      ],
      "text/plain": [
       "Images being resized."
      ]
     },
     "metadata": {},
     "output_type": "display_data"
    }
   ],
   "source": [
    "#pull deep features from decade test set\n",
    "\n",
    "extractor_d_test = extractor.fit(X_test_d_sf)\n",
    "features_d_test = extractor_d_test.transform(X_test_d_sf)"
   ]
  },
  {
   "cell_type": "markdown",
   "metadata": {},
   "source": [
    "### Set Up Clustering"
   ]
  },
  {
   "cell_type": "markdown",
   "metadata": {},
   "source": [
    "Convert SFrame to Dataframe so that we could use SKlearn"
   ]
  },
  {
   "cell_type": "code",
   "execution_count": 11,
   "metadata": {
    "collapsed": false
   },
   "outputs": [],
   "source": [
    "#saved original sframes to csvs, and now am reading them in\n",
    "\n",
    "df_g_train = pd.read_csv(\"features_g_train.csv\")\n",
    "df_d_train = pd.read_csv(\"features_d_train.csv\")\n",
    "df_d_test = pd.read_csv(\"features_d_test.csv\")\n",
    "df_g_test = pd.read_csv(\"features_g_test.csv\")"
   ]
  },
  {
   "cell_type": "code",
   "execution_count": 12,
   "metadata": {
    "collapsed": false
   },
   "outputs": [],
   "source": [
    "#deep features converts to a string rather than a list when its saved as a csv\n",
    "#replacing [] in lists and splitting on spaces\n",
    "\n",
    "df_g_train[\"deep_features.X1\"] = df_g_train[\"deep_features.X1\"].apply(lambda x: x.replace(\"[\", \"\").replace(\"]\", \"\").split())\n",
    "df_g_test[\"deep_features.X1\"] = df_g_test[\"deep_features.X1\"].apply(lambda x: x.replace(\"[\", \"\").replace(\"]\", \"\").split())\n",
    "df_d_train[\"deep_features.X1\"] = df_d_train[\"deep_features.X1\"].apply(lambda x: x.replace(\"[\", \"\").replace(\"]\", \"\").split())\n",
    "df_d_test[\"deep_features.X1\"] = df_d_test[\"deep_features.X1\"].apply(lambda x: x.replace(\"[\", \"\").replace(\"]\", \"\").split())"
   ]
  },
  {
   "cell_type": "code",
   "execution_count": 14,
   "metadata": {
    "collapsed": false
   },
   "outputs": [],
   "source": [
    "#converting each item into a float\n",
    "\n",
    "def convertint(lizt):\n",
    "    new_list = [float(i) for i in lizt]\n",
    "    return new_list\n",
    "\n",
    "df_g_train[\"deep_features.X1\"] = df_g_train[\"deep_features.X1\"].apply(convertint)\n",
    "df_g_test[\"deep_features.X1\"] = df_g_test[\"deep_features.X1\"].apply(convertint)\n",
    "df_d_train[\"deep_features.X1\"] = df_d_train[\"deep_features.X1\"].apply(convertint)\n",
    "df_d_test[\"deep_features.X1\"] = df_d_test[\"deep_features.X1\"].apply(convertint)"
   ]
  },
  {
   "cell_type": "code",
   "execution_count": 15,
   "metadata": {
    "collapsed": false
   },
   "outputs": [],
   "source": [
    "#convert individual items in list of deep_features.X1 to individual columns\n",
    "\n",
    "#done for genre train set\n",
    "\n",
    "new_columns = []\n",
    "\n",
    "for i in range(len(df_g_train)):\n",
    "    columns = pd.Series(df_g_train[\"deep_features.X1\"][i])\n",
    "    new_columns.append(columns)\n",
    "\n",
    "new_columns = pd.DataFrame(new_columns)\n",
    "df_g_train_final = pd.concat([df_g_train, new_columns], axis = 1)"
   ]
  },
  {
   "cell_type": "code",
   "execution_count": 16,
   "metadata": {
    "collapsed": true
   },
   "outputs": [],
   "source": [
    "#done for genre test set\n",
    "\n",
    "new_columns = []\n",
    "\n",
    "for i in range(len(df_g_test)):\n",
    "    columns = pd.Series(df_g_test[\"deep_features.X1\"][i])\n",
    "    new_columns.append(columns)\n",
    "\n",
    "new_columns = pd.DataFrame(new_columns)\n",
    "df_g_test_final = pd.concat([df_g_test, new_columns], axis = 1)"
   ]
  },
  {
   "cell_type": "code",
   "execution_count": 17,
   "metadata": {
    "collapsed": false
   },
   "outputs": [],
   "source": [
    "#done for genre train set\n",
    "\n",
    "new_columns = []\n",
    "\n",
    "for i in range(len(df_d_test)):\n",
    "    columns = pd.Series(df_d_test[\"deep_features.X1\"][i])\n",
    "    new_columns.append(columns)\n",
    "\n",
    "new_columns = pd.DataFrame(new_columns)\n",
    "df_d_test_final = pd.concat([df_d_test, new_columns], axis = 1)"
   ]
  },
  {
   "cell_type": "code",
   "execution_count": 18,
   "metadata": {
    "collapsed": false
   },
   "outputs": [],
   "source": [
    "#done for decade train set\n",
    "\n",
    "new_columns = []\n",
    "\n",
    "for i in range(len(df_d_train)):\n",
    "    columns = pd.Series(df_d_train[\"deep_features.X1\"][i])\n",
    "    new_columns.append(columns)\n",
    "\n",
    "new_columns = pd.DataFrame(new_columns)\n",
    "df_d_train_final = pd.concat([df_d_train, new_columns], axis = 1)"
   ]
  },
  {
   "cell_type": "code",
   "execution_count": null,
   "metadata": {
    "collapsed": true
   },
   "outputs": [],
   "source": [
    "#done for decade test set\n",
    "\n",
    "new_columns = []\n",
    "\n",
    "for i in range(len(df_d_test)):\n",
    "    columns = pd.Series(df_d_test[\"deep_features.X1\"][i])\n",
    "    new_columns.append(columns)\n",
    "\n",
    "new_columns = pd.DataFrame(new_columns)\n",
    "df_d_test_final = pd.concat([df_d_test, new_columns], axis = 1)"
   ]
  },
  {
   "cell_type": "code",
   "execution_count": 27,
   "metadata": {
    "collapsed": false
   },
   "outputs": [],
   "source": [
    "#split into test/train split labels\n",
    "\n",
    "df_y_train_g = df_g_train_final[\"labels\"]\n",
    "df_y_test_g = df_g_test_final[\"labels\"]\n",
    "df_X_train_g = df_g_train_final.iloc[:, 4:]\n",
    "df_X_test_g = df_g_test_final.iloc[:, 4:]\n",
    "\n",
    "df_y_train_d = df_d_train_final[\"labels\"]\n",
    "df_y_test_d = df_d_test_final[\"labels\"]\n",
    "df_X_train_d = df_d_train_final.iloc[:, 4:]\n",
    "df_X_test_d = df_d_test_final.iloc[:, 4:]"
   ]
  },
  {
   "cell_type": "markdown",
   "metadata": {},
   "source": [
    "Clustering using KMeans"
   ]
  },
  {
   "cell_type": "code",
   "execution_count": 56,
   "metadata": {
    "collapsed": false
   },
   "outputs": [
    {
     "name": "stdout",
     "output_type": "stream",
     "text": [
      "this is kmeans silhouette score for genre 2 0.0341786295815\n",
      "this is kmeans silhouette score for genre 3 0.022147421303\n",
      "this is kmeans silhouette score for genre 4 0.0249241304636\n",
      "this is kmeans silhouette score for genre 5 0.0222942568298\n",
      "this is kmeans silhouette score for genre 6 0.0221932708016\n",
      "this is kmeans silhouette score for genre 7 0.0226278184803\n",
      "this is kmeans silhouette score for genre 8 0.0204862338019\n",
      "this is kmeans silhouette score for genre 9 0.0197201646874\n",
      "this is kmeans silhouette score for genre 10 0.0202820560046\n",
      "this is kmeans silhouette score for genre 11 0.0199230106162\n",
      "this is kmeans silhouette score for genre 12 0.0193033457671\n",
      "this is kmeans silhouette score for genre 13 0.0196414257777\n",
      "this is kmeans silhouette score for decade 2 0.0343312249896\n",
      "this is kmeans silhouette score for decade 3 0.0226945130562\n",
      "this is kmeans silhouette score for decade 4 0.0252055920602\n"
     ]
    }
   ],
   "source": [
    "#ran only against train set since clustering will be only used directionally\n",
    "\n",
    "#cluster values were chosen based off of how many genres there were with the hope of rolling them together\n",
    "k_test_g = [2,3,4,5,6,7,8,9,10,11,12,13]\n",
    "\n",
    "for i in k_test_g:\n",
    "    kmeans = KMeans(n_clusters=i)\n",
    "    kmeans.fit(df_X_train_g)\n",
    "    g_train_labels = kmeans.labels_\n",
    "    print \"this is kmeans silhouette score for genre\", i, silhouette_score(df_X_train_g, g_train_labels)\n",
    "\n",
    "#cluster values were chosen based off of how many decades there were with the hope of rolling them together\n",
    "k_test_d = [2,3,4]\n",
    "for i in k_test_d:\n",
    "    kmeans = KMeans(n_clusters=i)\n",
    "    kmeans.fit(df_X_train_d)\n",
    "    d_train_labels = kmeans.labels_\n",
    "    print \"this is kmeans silhouette score for decade\", i, silhouette_score(df_X_train_d, d_train_labels)"
   ]
  },
  {
   "cell_type": "markdown",
   "metadata": {},
   "source": [
    "best performing # of clusters for decade and genre was 2. however, minimalizing to 2 genres doesn't make logical sense. further explored only 2 decades vs 2 genres"
   ]
  },
  {
   "cell_type": "code",
   "execution_count": null,
   "metadata": {
    "collapsed": true
   },
   "outputs": [],
   "source": [
    "#set kmeans to 2 clusters for the train set for decades\n",
    "\n",
    "kmeans_d = KMeans(n_clusters=2)\n",
    "kmeans_d.fit(df_X_train_d)\n",
    "d_train_labels = kmeans_d.labels_"
   ]
  },
  {
   "cell_type": "code",
   "execution_count": 70,
   "metadata": {
    "collapsed": true
   },
   "outputs": [],
   "source": [
    "#append the labels to the list and see which ones are which\n",
    "\n",
    "df_d_train_final[\"kmeans\"] = d_train_labels"
   ]
  },
  {
   "cell_type": "code",
   "execution_count": 98,
   "metadata": {
    "collapsed": false
   },
   "outputs": [],
   "source": [
    "#see the distribution of decades by cluster\n",
    "\n",
    "cluster_d = df_d_train_final.groupby([\"kmeans\", \"labels\"])[\"kmeans\"].count().to_frame(\"Count\").reset_index()"
   ]
  },
  {
   "cell_type": "code",
   "execution_count": 115,
   "metadata": {
    "collapsed": false
   },
   "outputs": [
    {
     "name": "stdout",
     "output_type": "stream",
     "text": [
      "this is decade by label  0\n",
      "this is decade by label  1\n"
     ]
    },
    {
     "data": {
      "image/png": "[encoded data removed]",
      "text/plain": [
       "<matplotlib.figure.Figure at 0x15d9e68d0>"
      ]
     },
     "metadata": {},
     "output_type": "display_data"
    },
    {
     "data": {
      "image/png": "[encoded data removed]",
      "text/plain": [
       "<matplotlib.figure.Figure at 0x15d9e6210>"
      ]
     },
     "metadata": {},
     "output_type": "display_data"
    }
   ],
   "source": [
    "#plot the distribution of the clusters\n",
    "\n",
    "for i in cluster_d[\"kmeans\"].unique():\n",
    "    plt.figure(figsize=(13,5))\n",
    "    ax = sns.barplot(x=\"labels\", y=\"Count\", data=cluster_d[cluster_d[\"kmeans\"] == i])\n",
    "    print \"this is decade by label \", i"
   ]
  },
  {
   "cell_type": "markdown",
   "metadata": {},
   "source": [
    "shows directional overconcentration of decades in each label - will use two targets for decade vs 4 from now on"
   ]
  },
  {
   "cell_type": "code",
   "execution_count": 4,
   "metadata": {
    "collapsed": false
   },
   "outputs": [],
   "source": [
    "#set new labels for the decade targets to before 1980 and after 1990\n",
    "\n",
    "df_ydecade_train_d = df_y_train_d.apply(lambda x: \"1980 to 2000\" if x == 1980 or x == 1990 else \"2000 to Present\")\n",
    "df_ydecade_test_d = df_y_test_d.apply(lambda x: \"1980 to 2000\" if x == 1980 or x == 1990 else \"2000 to Present\")"
   ]
  },
  {
   "cell_type": "markdown",
   "metadata": {},
   "source": [
    "### Implement SVM"
   ]
  },
  {
   "cell_type": "code",
   "execution_count": null,
   "metadata": {
    "collapsed": false
   },
   "outputs": [
    {
     "name": "stdout",
     "output_type": "stream",
     "text": [
      "Best Params Decade: {'estimator__kernel': 'poly', 'estimator__C': 1}\n",
      "Best Score Decade: 0.6365625\n"
     ]
    }
   ],
   "source": [
    "#implement gridsearch for decade\n",
    "\n",
    "from sklearn import grid_search\n",
    "parameters = {'estimator__kernel':['linear', 'rbf', 'poly'], 'estimator__C':[0.01, 0.1, 1, 10, 100]}\n",
    "\n",
    "estimatorz = OneVsRestClassifier(SVC())\n",
    "\n",
    "gv_d_model = grid_search.GridSearchCV(estimatorz, param_grid = parameters, n_jobs=-1)\n",
    "gv_d_model.fit(df_X_train_d, df_ydecade_train_d)\n",
    "print \"Best Params Decade:\", gv_d_model.best_params_\n",
    "print \"Best Score Decade:\", gv_d_model.best_score_\n"
   ]
  },
  {
   "cell_type": "code",
   "execution_count": 26,
   "metadata": {
    "collapsed": false
   },
   "outputs": [
    {
     "name": "stdout",
     "output_type": "stream",
     "text": [
      " this is genre  rbf 0.264423076923\n",
      "this is genre  poly 0.271153846154\n"
     ]
    }
   ],
   "source": [
    "#attempt same genre - C values actually don't make a difference so will fit only on kernels\n",
    "\n",
    "kernel_list = ['rbf', 'poly']\n",
    "\n",
    "for i in kernel_list:\n",
    "    classif = OneVsRestClassifier(SVC(kernel=i))\n",
    "    svm_g_model = classif.fit(df_X_train_g, df_y_train_g)\n",
    "    svm_g_predict = svm_g_model.predict(df_X_test_g)\n",
    "    print \"this is genre \", i,  accuracy_score(df_y_test_g, svm_g_predict)"
   ]
  },
  {
   "cell_type": "code",
   "execution_count": 7,
   "metadata": {
    "collapsed": false
   },
   "outputs": [],
   "source": [
    "#final model so can run confusion matrix\n",
    "\n",
    "classif_d = OneVsRestClassifier(SVC(kernel='poly', C = 1, probability=True))\n",
    "svm_ddecade_model = classif_d.fit(df_X_train_d, df_ydecade_train_d)\n",
    "svm_ddecade_predict = svm_ddecade_model.predict(df_X_test_d)\n",
    "\n",
    "classif = OneVsRestClassifier(SVC(kernel=\"poly\", probability=True))\n",
    "svm_g_model = classif.fit(df_X_train_g, df_y_train_g)\n",
    "svm_g_predict = svm_g_model.predict(df_X_test_g)"
   ]
  },
  {
   "cell_type": "code",
   "execution_count": 22,
   "metadata": {
    "collapsed": false
   },
   "outputs": [
    {
     "data": {
      "text/html": [
       "<div>\n",
       "<table border=\"1\" class=\"dataframe\">\n",
       "  <thead>\n",
       "    <tr style=\"text-align: right;\">\n",
       "      <th></th>\n",
       "      <th>Alternative</th>\n",
       "      <th>Blues</th>\n",
       "      <th>Country</th>\n",
       "      <th>Dance</th>\n",
       "      <th>Electronic</th>\n",
       "      <th>HipHop</th>\n",
       "      <th>Jazz</th>\n",
       "      <th>Pop</th>\n",
       "      <th>RB Soul</th>\n",
       "      <th>Reggae</th>\n",
       "      <th>Rock</th>\n",
       "      <th>Singer/Songwriter</th>\n",
       "      <th>World</th>\n",
       "    </tr>\n",
       "  </thead>\n",
       "  <tbody>\n",
       "    <tr>\n",
       "      <th>Alternative</th>\n",
       "      <td>27</td>\n",
       "      <td>12</td>\n",
       "      <td>3</td>\n",
       "      <td>7</td>\n",
       "      <td>21</td>\n",
       "      <td>11</td>\n",
       "      <td>7</td>\n",
       "      <td>7</td>\n",
       "      <td>7</td>\n",
       "      <td>5</td>\n",
       "      <td>13</td>\n",
       "      <td>15</td>\n",
       "      <td>18</td>\n",
       "    </tr>\n",
       "    <tr>\n",
       "      <th>Blues</th>\n",
       "      <td>7</td>\n",
       "      <td>73</td>\n",
       "      <td>13</td>\n",
       "      <td>5</td>\n",
       "      <td>5</td>\n",
       "      <td>7</td>\n",
       "      <td>11</td>\n",
       "      <td>7</td>\n",
       "      <td>13</td>\n",
       "      <td>10</td>\n",
       "      <td>10</td>\n",
       "      <td>6</td>\n",
       "      <td>9</td>\n",
       "    </tr>\n",
       "    <tr>\n",
       "      <th>Country</th>\n",
       "      <td>7</td>\n",
       "      <td>15</td>\n",
       "      <td>41</td>\n",
       "      <td>3</td>\n",
       "      <td>7</td>\n",
       "      <td>5</td>\n",
       "      <td>6</td>\n",
       "      <td>9</td>\n",
       "      <td>16</td>\n",
       "      <td>13</td>\n",
       "      <td>4</td>\n",
       "      <td>5</td>\n",
       "      <td>8</td>\n",
       "    </tr>\n",
       "    <tr>\n",
       "      <th>Dance</th>\n",
       "      <td>7</td>\n",
       "      <td>6</td>\n",
       "      <td>9</td>\n",
       "      <td>52</td>\n",
       "      <td>12</td>\n",
       "      <td>8</td>\n",
       "      <td>6</td>\n",
       "      <td>9</td>\n",
       "      <td>9</td>\n",
       "      <td>12</td>\n",
       "      <td>8</td>\n",
       "      <td>7</td>\n",
       "      <td>16</td>\n",
       "    </tr>\n",
       "    <tr>\n",
       "      <th>Electronic</th>\n",
       "      <td>15</td>\n",
       "      <td>4</td>\n",
       "      <td>3</td>\n",
       "      <td>23</td>\n",
       "      <td>37</td>\n",
       "      <td>15</td>\n",
       "      <td>12</td>\n",
       "      <td>6</td>\n",
       "      <td>4</td>\n",
       "      <td>10</td>\n",
       "      <td>12</td>\n",
       "      <td>7</td>\n",
       "      <td>14</td>\n",
       "    </tr>\n",
       "    <tr>\n",
       "      <th>HipHop</th>\n",
       "      <td>12</td>\n",
       "      <td>14</td>\n",
       "      <td>12</td>\n",
       "      <td>14</td>\n",
       "      <td>9</td>\n",
       "      <td>44</td>\n",
       "      <td>7</td>\n",
       "      <td>5</td>\n",
       "      <td>18</td>\n",
       "      <td>15</td>\n",
       "      <td>12</td>\n",
       "      <td>3</td>\n",
       "      <td>8</td>\n",
       "    </tr>\n",
       "    <tr>\n",
       "      <th>Jazz</th>\n",
       "      <td>11</td>\n",
       "      <td>16</td>\n",
       "      <td>13</td>\n",
       "      <td>7</td>\n",
       "      <td>10</td>\n",
       "      <td>9</td>\n",
       "      <td>35</td>\n",
       "      <td>6</td>\n",
       "      <td>13</td>\n",
       "      <td>10</td>\n",
       "      <td>5</td>\n",
       "      <td>5</td>\n",
       "      <td>15</td>\n",
       "    </tr>\n",
       "    <tr>\n",
       "      <th>Pop</th>\n",
       "      <td>12</td>\n",
       "      <td>10</td>\n",
       "      <td>24</td>\n",
       "      <td>16</td>\n",
       "      <td>9</td>\n",
       "      <td>17</td>\n",
       "      <td>8</td>\n",
       "      <td>28</td>\n",
       "      <td>13</td>\n",
       "      <td>6</td>\n",
       "      <td>9</td>\n",
       "      <td>7</td>\n",
       "      <td>5</td>\n",
       "    </tr>\n",
       "    <tr>\n",
       "      <th>RB Soul</th>\n",
       "      <td>3</td>\n",
       "      <td>6</td>\n",
       "      <td>21</td>\n",
       "      <td>11</td>\n",
       "      <td>6</td>\n",
       "      <td>6</td>\n",
       "      <td>10</td>\n",
       "      <td>12</td>\n",
       "      <td>49</td>\n",
       "      <td>17</td>\n",
       "      <td>1</td>\n",
       "      <td>5</td>\n",
       "      <td>7</td>\n",
       "    </tr>\n",
       "    <tr>\n",
       "      <th>Reggae</th>\n",
       "      <td>7</td>\n",
       "      <td>8</td>\n",
       "      <td>6</td>\n",
       "      <td>11</td>\n",
       "      <td>7</td>\n",
       "      <td>11</td>\n",
       "      <td>10</td>\n",
       "      <td>7</td>\n",
       "      <td>9</td>\n",
       "      <td>70</td>\n",
       "      <td>6</td>\n",
       "      <td>6</td>\n",
       "      <td>8</td>\n",
       "    </tr>\n",
       "    <tr>\n",
       "      <th>Rock</th>\n",
       "      <td>17</td>\n",
       "      <td>12</td>\n",
       "      <td>7</td>\n",
       "      <td>5</td>\n",
       "      <td>10</td>\n",
       "      <td>10</td>\n",
       "      <td>6</td>\n",
       "      <td>8</td>\n",
       "      <td>10</td>\n",
       "      <td>11</td>\n",
       "      <td>23</td>\n",
       "      <td>14</td>\n",
       "      <td>16</td>\n",
       "    </tr>\n",
       "    <tr>\n",
       "      <th>Singer/Songwriter</th>\n",
       "      <td>9</td>\n",
       "      <td>9</td>\n",
       "      <td>15</td>\n",
       "      <td>6</td>\n",
       "      <td>13</td>\n",
       "      <td>13</td>\n",
       "      <td>11</td>\n",
       "      <td>5</td>\n",
       "      <td>9</td>\n",
       "      <td>7</td>\n",
       "      <td>6</td>\n",
       "      <td>35</td>\n",
       "      <td>14</td>\n",
       "    </tr>\n",
       "    <tr>\n",
       "      <th>World</th>\n",
       "      <td>6</td>\n",
       "      <td>16</td>\n",
       "      <td>10</td>\n",
       "      <td>10</td>\n",
       "      <td>11</td>\n",
       "      <td>8</td>\n",
       "      <td>10</td>\n",
       "      <td>7</td>\n",
       "      <td>9</td>\n",
       "      <td>14</td>\n",
       "      <td>8</td>\n",
       "      <td>17</td>\n",
       "      <td>50</td>\n",
       "    </tr>\n",
       "  </tbody>\n",
       "</table>\n",
       "</div>"
      ],
      "text/plain": [
       "                   Alternative  Blues  Country  Dance  Electronic  HipHop  \\\n",
       "Alternative                 27     12        3      7          21      11   \n",
       "Blues                        7     73       13      5           5       7   \n",
       "Country                      7     15       41      3           7       5   \n",
       "Dance                        7      6        9     52          12       8   \n",
       "Electronic                  15      4        3     23          37      15   \n",
       "HipHop                      12     14       12     14           9      44   \n",
       "Jazz                        11     16       13      7          10       9   \n",
       "Pop                         12     10       24     16           9      17   \n",
       "RB Soul                      3      6       21     11           6       6   \n",
       "Reggae                       7      8        6     11           7      11   \n",
       "Rock                        17     12        7      5          10      10   \n",
       "Singer/Songwriter            9      9       15      6          13      13   \n",
       "World                        6     16       10     10          11       8   \n",
       "\n",
       "                   Jazz  Pop  RB Soul  Reggae  Rock  Singer/Songwriter  World  \n",
       "Alternative           7    7        7       5    13                 15     18  \n",
       "Blues                11    7       13      10    10                  6      9  \n",
       "Country               6    9       16      13     4                  5      8  \n",
       "Dance                 6    9        9      12     8                  7     16  \n",
       "Electronic           12    6        4      10    12                  7     14  \n",
       "HipHop                7    5       18      15    12                  3      8  \n",
       "Jazz                 35    6       13      10     5                  5     15  \n",
       "Pop                   8   28       13       6     9                  7      5  \n",
       "RB Soul              10   12       49      17     1                  5      7  \n",
       "Reggae               10    7        9      70     6                  6      8  \n",
       "Rock                  6    8       10      11    23                 14     16  \n",
       "Singer/Songwriter    11    5        9       7     6                 35     14  \n",
       "World                10    7        9      14     8                 17     50  "
      ]
     },
     "execution_count": 22,
     "metadata": {},
     "output_type": "execute_result"
    }
   ],
   "source": [
    "#print confusion matrix for genre\n",
    "\n",
    "g_cm = confusion_matrix(df_y_test_g, svm_g_predict, labels = svm_g_model.classes_)\n",
    "g_cm = pd.DataFrame(g_cm, columns = svm_g_model.classes_, index = svm_g_model.classes_)\n",
    "g_cm"
   ]
  },
  {
   "cell_type": "code",
   "execution_count": 27,
   "metadata": {
    "collapsed": false
   },
   "outputs": [
    {
     "name": "stdout",
     "output_type": "stream",
     "text": [
      "[[27 12  3  7 21 11  7  7  7  5 13 15 18]\n",
      " [ 7 73 13  5  5  7 11  7 13 10 10  6  9]\n",
      " [ 7 15 41  3  7  5  6  9 16 13  4  5  8]\n",
      " [ 7  6  9 52 12  8  6  9  9 12  8  7 16]\n",
      " [15  4  3 23 37 15 12  6  4 10 12  7 14]\n",
      " [12 14 12 14  9 44  7  5 18 15 12  3  8]\n",
      " [11 16 13  7 10  9 35  6 13 10  5  5 15]\n",
      " [12 10 24 16  9 17  8 28 13  6  9  7  5]\n",
      " [ 3  6 21 11  6  6 10 12 49 17  1  5  7]\n",
      " [ 7  8  6 11  7 11 10  7  9 70  6  6  8]\n",
      " [17 12  7  5 10 10  6  8 10 11 23 14 16]\n",
      " [ 9  9 15  6 13 13 11  5  9  7  6 35 14]\n",
      " [ 6 16 10 10 11  8 10  7  9 14  8 17 50]]\n"
     ]
    },
    {
     "data": {
      "image/png": "[encoded data removed]",
      "text/plain": [
       "<matplotlib.figure.Figure at 0x11e9c9cd0>"
      ]
     },
     "metadata": {},
     "output_type": "display_data"
    }
   ],
   "source": [
    "# more illustrative version of genre\n",
    "\n",
    "from sklearn.metrics import confusion_matrix\n",
    "genrelabels = list(svm_g_model.classes_)\n",
    "\n",
    "fig, ax = plt.subplots(figsize=(10,6))\n",
    "print(confusion_matrix(df_y_test_g, svm_g_predict, labels = svm_g_model.classes_))\n",
    "plt.imshow(confusion_matrix(df_y_test_g, svm_g_predict, labels = svm_g_model.classes_),\n",
    "           cmap='Blues', interpolation='nearest')\n",
    "plt.colorbar()\n",
    "plt.grid(False)\n",
    "plt.ylabel('true')\n",
    "plt.xlabel('predicted');"
   ]
  },
  {
   "cell_type": "code",
   "execution_count": 31,
   "metadata": {
    "collapsed": false
   },
   "outputs": [
    {
     "name": "stdout",
     "output_type": "stream",
     "text": [
      "             precision    recall  f1-score   support\n",
      "\n",
      "Alternative       0.19      0.18      0.18       153\n",
      "      Blues       0.36      0.41      0.39       176\n",
      "    Country       0.23      0.29      0.26       139\n",
      "      Dance       0.31      0.32      0.31       161\n",
      " Electronic       0.24      0.23      0.23       162\n",
      "     HipHop       0.27      0.25      0.26       173\n",
      "       Jazz       0.25      0.23      0.24       155\n",
      "        Pop       0.24      0.17      0.20       164\n",
      "    RB Soul       0.27      0.32      0.29       154\n",
      "     Reggae       0.35      0.42      0.38       166\n",
      "       Rock       0.20      0.15      0.17       149\n",
      "Singer/Songwriter       0.27      0.23      0.25       152\n",
      "      World       0.27      0.28      0.27       176\n",
      "\n",
      "avg / total       0.27      0.27      0.27      2080\n",
      "\n"
     ]
    }
   ],
   "source": [
    "#check classification report for genre\n",
    "\n",
    "print classification_report(df_y_test_g, svm_g_predict)"
   ]
  },
  {
   "cell_type": "code",
   "execution_count": 19,
   "metadata": {
    "collapsed": false
   },
   "outputs": [
    {
     "name": "stdout",
     "output_type": "stream",
     "text": [
      "[[258 138]\n",
      " [137 267]]\n"
     ]
    },
    {
     "data": {
      "image/png": "[encoded data removed]",
      "text/plain": [
       "<matplotlib.figure.Figure at 0x121e10e10>"
      ]
     },
     "metadata": {},
     "output_type": "display_data"
    }
   ],
   "source": [
    "#check for decade\n",
    "\n",
    "fig, ax = plt.subplots(figsize=(10,6))\n",
    "print(confusion_matrix(df_ydecade_test_d, svm_ddecade_predict, labels = svm_ddecade_model.classes_))\n",
    "plt.imshow(confusion_matrix(df_ydecade_test_d, svm_ddecade_predict, labels = svm_ddecade_model.classes_),\n",
    "           cmap='Blues', interpolation='nearest')\n",
    "plt.colorbar()\n",
    "plt.grid(False)\n",
    "plt.ylabel('true')\n",
    "plt.xlabel('predicted');"
   ]
  },
  {
   "cell_type": "code",
   "execution_count": 30,
   "metadata": {
    "collapsed": false
   },
   "outputs": [
    {
     "name": "stdout",
     "output_type": "stream",
     "text": [
      "             precision    recall  f1-score   support\n",
      "\n",
      "1980 to 2000       0.65      0.65      0.65       396\n",
      "2000 to Present       0.66      0.66      0.66       404\n",
      "\n",
      "avg / total       0.66      0.66      0.66       800\n",
      "\n"
     ]
    }
   ],
   "source": [
    "#check for decade\n",
    "\n",
    "from sklearn.metrics import classification_report\n",
    "\n",
    "print classification_report(df_ydecade_test_d, svm_ddecade_predict)"
   ]
  }
 ],
 "metadata": {
  "anaconda-cloud": {},
  "kernelspec": {
   "display_name": "Python [gl-env]",
   "language": "python",
   "name": "Python [gl-env]"
  },
  "language_info": {
   "codemirror_mode": {
    "name": "ipython",
    "version": 2
   },
   "file_extension": ".py",
   "mimetype": "text/x-python",
   "name": "python",
   "nbconvert_exporter": "python",
   "pygments_lexer": "ipython2",
   "version": "2.7.12"
  }
 },
 "nbformat": 4,
 "nbformat_minor": 0
}
