{
 "cells": [
  {
   "cell_type": "markdown",
   "metadata": {
    "focus": false,
    "id": "69b9a648-bcc7-490d-9f9b-ea244d156bd6"
   },
   "source": [
    "# Web Scraping for Indeed.com & Predicting Salaries"
   ]
  },
  {
   "cell_type": "markdown",
   "metadata": {
    "focus": false,
    "id": "34681254-c802-462f-829d-8894d0772d08"
   },
   "source": [
    "The goal of this analysis is to predict the salary of Data Scientist salaries across the US, utilizing:\n",
    "\n",
    "- Web Scraping\n",
    "- Logistic Regressions"
   ]
  },
  {
   "cell_type": "markdown",
   "metadata": {
    "focus": false,
    "id": "a948d79c-5527-4c0d-ab23-f5d43ce72056"
   },
   "source": [
    "### Pull one sample for scraping"
   ]
  },
  {
   "cell_type": "markdown",
   "metadata": {
    "focus": false,
    "id": "9732c901-ae26-4160-8376-42e22dd327df"
   },
   "source": [
    "Implement pull for one page to use as a sample for a larger pull"
   ]
  },
  {
   "cell_type": "code",
   "execution_count": 3,
   "metadata": {
    "collapsed": true,
    "focus": false,
    "id": "2efefc73-064a-482d-b3b5-ddf5508cb4ec"
   },
   "outputs": [],
   "source": [
    "#load all packages\n",
    "\n",
    "import requests\n",
    "import bs4\n",
    "from bs4 import BeautifulSoup\n",
    "import statsmodels.api as sm\n",
    "import pandas as pd\n",
    "import numpy as np\n",
    "from sklearn.metrics import classification_report, confusion_matrix, accuracy_score, precision_score, roc_auc_score, recall_score\n",
    "from sklearn.cross_validation import train_test_split, cross_val_score\n",
    "from sklearn.linear_model import LogisticRegression, LogisticRegressionCV\n",
    "from sklearn.grid_search import GridSearchCV\n",
    "import matplotlib.pyplot as plt\n",
    "%matplotlib inline\n",
    "plt.style.use('ggplot')"
   ]
  },
  {
   "cell_type": "code",
   "execution_count": 1,
   "metadata": {
    "collapsed": false,
    "focus": false,
    "id": "e915023e-6b0d-4982-af2a-b1e0355f4927"
   },
   "outputs": [],
   "source": [
    "#set one URL\n",
    "\n",
    "URL = \"http://www.indeed.com/jobs?q=data+scientist+%2420%2C000&l=New+York&start=10\""
   ]
  },
  {
   "cell_type": "code",
   "execution_count": 3,
   "metadata": {
    "collapsed": true,
    "focus": false,
    "id": "2c6752c4-7704-4c94-8bc0-6f13d2d0d570"
   },
   "outputs": [],
   "source": [
    "#set as a request\n",
    "\n",
    "r = requests.get(\"http://www.indeed.com/jobs?q=data+scientist+%2420%2C000&l=New+York&start=10\")"
   ]
  },
  {
   "cell_type": "code",
   "execution_count": 5,
   "metadata": {
    "collapsed": false
   },
   "outputs": [],
   "source": [
    "#set as beautiful soup\n",
    "\n",
    "ind_soup = BeautifulSoup(r.content, \"lxml\")"
   ]
  },
  {
   "cell_type": "code",
   "execution_count": 6,
   "metadata": {
    "collapsed": false,
    "scrolled": true
   },
   "outputs": [
    {
     "name": "stdout",
     "output_type": "stream",
     "text": [
      "<div class=\" row result\" data-jk=\"573189c2f3d45325\" data-tn-component=\"organicJob\" id=\"p_573189c2f3d45325\" itemscope=\"\" itemtype=\"http://schema.org/JobPosting\">\n",
      " <h2 class=\"jobtitle\" id=\"jl_573189c2f3d45325\">\n",
      "  <a class=\"turnstileLink\" data-tn-element=\"jobTitle\" href=\"/rc/clk?jk=573189c2f3d45325&amp;fccid=b48c1ad7c88be1fe\" itemprop=\"title\" onclick=\"setRefineByCookie(['salest']); return rclk(this,jobmap[0],true,0);\" onmousedown=\"return rclk(this,jobmap[0],0);\" rel=\"nofollow\" target=\"_blank\" title=\"Data Scientist\">\n",
      "   <b>\n",
      "    Data\n",
      "   </b>\n",
      "   <b>\n",
      "    Scientist\n",
      "   </b>\n",
      "  </a>\n",
      " </h2>\n",
      " <span class=\"company\" itemprop=\"hiringOrganization\" itemtype=\"http://schema.org/Organization\">\n",
      "  <span itemprop=\"name\">\n",
      "   Intent Media\n",
      "  </span>\n",
      " </span>\n",
      " -\n",
      " <span itemprop=\"jobLocation\" itemscope=\"\" itemtype=\"http://schema.org/Place\">\n",
      "  <span class=\"location\" itemprop=\"address\" itemscope=\"\" itemtype=\"http://schema.org/Postaladdress\">\n",
      "   <span itemprop=\"addressLocality\">\n",
      "    New York, NY\n",
      "   </span>\n",
      "  </span>\n",
      " </span>\n",
      " <table border=\"0\" cellpadding=\"0\" cellspacing=\"0\">\n",
      "  <tr>\n",
      "   <td class=\"snip\">\n",
      "    <div>\n",
      "     <span class=\"summary\" itemprop=\"description\">\n",
      "      <b>\n",
      "       Data\n",
      "      </b>\n",
      "      Science is a fundamental contributor to Intent Media’s success - your work will have a direct and tangible impact on the business....\n",
      "     </span>\n",
      "    </div>\n",
      "    <div class=\"iaP\">\n",
      "     <span class=\"iaLabel\">\n",
      "      Easily apply\n",
      "     </span>\n",
      "    </div>\n",
      "    <div class=\"result-link-bar-container\">\n",
      "     <div class=\"result-link-bar\">\n",
      "      <span class=\"date\">\n",
      "       4 days ago\n",
      "      </span>\n",
      "      <span class=\"tt_set\" id=\"tt_set_0\">\n",
      "       -\n",
      "       <span class=\"savelink2\" id=\"savelink2_573189c2f3d45325\">\n",
      "        <a class=\"sl resultLink save-job-link\" href=\"#\" id=\"sj_573189c2f3d45325\" onclick=\"changeJobState('573189c2f3d45325', 'save', 'linkbar', false);return false;\" title=\"Save this job to my.indeed\">\n",
      "         save job\n",
      "        </a>\n",
      "       </span>\n",
      "       -\n",
      "       <a class=\"sl resultLink tellafriend-link \" href=\"mailto:?subject=I found this job on Indeed&amp;body=http://www.indeed.com\" onclick=\"toggleTellAFriend('573189c2f3d45325', 0, false); return false;\">\n",
      "        email\n",
      "       </a>\n",
      "       -\n",
      "       <a class=\"sl resultLink more-link \" href=\"#\" id=\"tog_0\" onclick=\"toggleMoreLinks('573189c2f3d45325'); return false;\">\n",
      "        more...\n",
      "       </a>\n",
      "      </span>\n",
      "      <div class=\"edit_note_content\" id=\"editsaved2_573189c2f3d45325\" style=\"display:none;\">\n",
      "      </div>\n",
      "      <script>\n",
      "       window['result_573189c2f3d45325'] = {\"showSource\": false, \"source\": \"Intent Media\", \"loggedIn\": false, \"showMyJobsLinks\": true,\"undoAction\": \"unsave\",\"relativeJobAge\": \"4 days ago\",\"jobKey\": \"573189c2f3d45325\", \"myIndeedAvailable\": true, \"tellAFriendEnabled\": true, \"showMoreActionsLink\": true, \"resultNumber\": 0, \"jobStateChangedToSaved\": false, \"searchState\": \"q=data scientist $20,000&amp;l=New+York&amp;start=10\", \"basicPermaLink\": \"http://www.indeed.com\", \"saveJobFailed\": false, \"removeJobFailed\": false, \"requestPending\": false, \"notesEnabled\": true, \"currentPage\" : \"serp\", \"sponsored\" : false,\"reportJobButtonEnabled\": false, \"showMyJobsHired\": false};\n",
      "      </script>\n",
      "     </div>\n",
      "    </div>\n",
      "    <div class=\"tab-container\">\n",
      "     <div class=\"more-links-container result-tab\" id=\"tt_display_0\" style=\"display:none;\">\n",
      "      <a class=\"close-link closeLink\" href=\"#\" onclick=\"toggleMoreLinks('573189c2f3d45325'); return false;\" title=\"Close\">\n",
      "      </a>\n",
      "      <div class=\"more_actions\" id=\"more_0\">\n",
      "       <ul>\n",
      "        <li>\n",
      "         <span class=\"mat\">\n",
      "          View all\n",
      "          <a href=\"/q-Intent-Media-l-New-York,-NY-jobs.html\" rel=\"nofollow\">\n",
      "           Intent Media jobs in New York, NY\n",
      "          </a>\n",
      "          -\n",
      "          <a href=\"/l-New-York,-NY-jobs.html\">\n",
      "           New York jobs\n",
      "          </a>\n",
      "         </span>\n",
      "        </li>\n",
      "        <li>\n",
      "         <span class=\"mat\">\n",
      "          Salary Search:\n",
      "          <a href=\"/salary?q1=Data+Scientist&amp;l1=New+York%2C+NY\">\n",
      "           Data Scientist salaries in New York, NY\n",
      "          </a>\n",
      "         </span>\n",
      "        </li>\n",
      "        <li>\n",
      "         <span class=\"mat\">\n",
      "          Learn more about working at\n",
      "          <a href=\"/cmp/Intent-Media?fromjk=573189c2f3d45325&amp;from=serp-more&amp;campaignid=serp-more&amp;jcid=b48c1ad7c88be1fe\">\n",
      "           Intent Media\n",
      "          </a>\n",
      "         </span>\n",
      "        </li>\n",
      "        <li>\n",
      "         <span class=\"mat\">\n",
      "          Related forums:\n",
      "          <a href=\"/forum/loc/New-York-New-York.html\">\n",
      "           New York, New York\n",
      "          </a>\n",
      "          -\n",
      "          <a href=\"/forum/cmp/Intent-Media.html\">\n",
      "           Intent Media\n",
      "          </a>\n",
      "         </span>\n",
      "        </li>\n",
      "       </ul>\n",
      "      </div>\n",
      "     </div>\n",
      "     <div class=\"dya-container result-tab\">\n",
      "     </div>\n",
      "     <div class=\"tellafriend-container result-tab email_job_content\">\n",
      "     </div>\n",
      "     <div class=\"sign-in-container result-tab\">\n",
      "     </div>\n",
      "     <div class=\"notes-container result-tab\">\n",
      "     </div>\n",
      "    </div>\n",
      "   </td>\n",
      "  </tr>\n",
      " </table>\n",
      "</div>\n",
      "\n",
      "\n",
      "\n",
      "<div class=\" row result\" data-jk=\"77be4fe06c2eb4a5\" data-tn-component=\"organicJob\" id=\"p_77be4fe06c2eb4a5\" itemscope=\"\" itemtype=\"http://schema.org/JobPosting\">\n",
      " <h2 class=\"jobtitle\" id=\"jl_77be4fe06c2eb4a5\">\n",
      "  <a class=\"turnstileLink\" data-tn-element=\"jobTitle\" href=\"/rc/clk?jk=77be4fe06c2eb4a5&amp;fccid=c618ba0d5e55039b\" itemprop=\"title\" onclick=\"setRefineByCookie(['salest']); return rclk(this,jobmap[1],true,0);\" onmousedown=\"return rclk(this,jobmap[1],0);\" rel=\"nofollow\" target=\"_blank\" title=\"Data Scientist\">\n",
      "   <b>\n",
      "    Data\n",
      "   </b>\n",
      "   <b>\n",
      "    Scientist\n",
      "   </b>\n",
      "  </a>\n",
      " </h2>\n",
      " <span class=\"company\" itemprop=\"hiringOrganization\" itemtype=\"http://schema.org/Organization\">\n",
      "  <span itemprop=\"name\">\n",
      "   Paperless Post\n",
      "  </span>\n",
      " </span>\n",
      " -\n",
      " <span itemprop=\"jobLocation\" itemscope=\"\" itemtype=\"http://schema.org/Place\">\n",
      "  <span class=\"location\" itemprop=\"address\" itemscope=\"\" itemtype=\"http://schema.org/Postaladdress\">\n",
      "   <span itemprop=\"addressLocality\">\n",
      "    New York, NY\n",
      "   </span>\n",
      "  </span>\n",
      " </span>\n",
      " <table border=\"0\" cellpadding=\"0\" cellspacing=\"0\">\n",
      "  <tr>\n",
      "   <td class=\"snip\">\n",
      "    <div>\n",
      "     <span class=\"summary\" itemprop=\"description\">\n",
      "      Build production systems to collect and process\n",
      "      <b>\n",
      "       data\n",
      "      </b>\n",
      "      . Analyze the\n",
      "      <b>\n",
      "       data\n",
      "      </b>\n",
      "      we collect to generate important insights....\n",
      "     </span>\n",
      "    </div>\n",
      "    <div class=\"iaP\">\n",
      "     <span class=\"iaLabel\">\n",
      "      Easily apply\n",
      "     </span>\n",
      "    </div>\n",
      "    <div class=\"result-link-bar-container\">\n",
      "     <div class=\"result-link-bar\">\n",
      "      <span class=\"date\">\n",
      "       10 days ago\n",
      "      </span>\n",
      "      <span class=\"tt_set\" id=\"tt_set_1\">\n",
      "       -\n",
      "       <span class=\"savelink2\" id=\"savelink2_77be4fe06c2eb4a5\">\n",
      "        <a class=\"sl resultLink save-job-link\" href=\"#\" id=\"sj_77be4fe06c2eb4a5\" onclick=\"changeJobState('77be4fe06c2eb4a5', 'save', 'linkbar', false);return false;\" title=\"Save this job to my.indeed\">\n",
      "         save job\n",
      "        </a>\n",
      "       </span>\n",
      "       -\n",
      "       <a class=\"sl resultLink tellafriend-link \" href=\"mailto:?subject=I found this job on Indeed&amp;body=http://www.indeed.com\" onclick=\"toggleTellAFriend('77be4fe06c2eb4a5', 1, false); return false;\">\n",
      "        email\n",
      "       </a>\n",
      "       -\n",
      "       <a class=\"sl resultLink more-link \" href=\"#\" id=\"tog_1\" onclick=\"toggleMoreLinks('77be4fe06c2eb4a5'); return false;\">\n",
      "        more...\n",
      "       </a>\n",
      "      </span>\n",
      "      <div class=\"edit_note_content\" id=\"editsaved2_77be4fe06c2eb4a5\" style=\"display:none;\">\n",
      "      </div>\n",
      "      <script>\n",
      "       window['result_77be4fe06c2eb4a5'] = {\"showSource\": false, \"source\": \"Paperless Post\", \"loggedIn\": false, \"showMyJobsLinks\": true,\"undoAction\": \"unsave\",\"relativeJobAge\": \"10 days ago\",\"jobKey\": \"77be4fe06c2eb4a5\", \"myIndeedAvailable\": true, \"tellAFriendEnabled\": true, \"showMoreActionsLink\": true, \"resultNumber\": 1, \"jobStateChangedToSaved\": false, \"searchState\": \"q=data scientist $20,000&amp;l=New+York&amp;start=10\", \"basicPermaLink\": \"http://www.indeed.com\", \"saveJobFailed\": false, \"removeJobFailed\": false, \"requestPending\": false, \"notesEnabled\": true, \"currentPage\" : \"serp\", \"sponsored\" : false,\"reportJobButtonEnabled\": false, \"showMyJobsHired\": false};\n",
      "      </script>\n",
      "     </div>\n",
      "    </div>\n",
      "    <div class=\"tab-container\">\n",
      "     <div class=\"more-links-container result-tab\" id=\"tt_display_1\" style=\"display:none;\">\n",
      "      <a class=\"close-link closeLink\" href=\"#\" onclick=\"toggleMoreLinks('77be4fe06c2eb4a5'); return false;\" title=\"Close\">\n",
      "      </a>\n",
      "      <div class=\"more_actions\" id=\"more_1\">\n",
      "       <ul>\n",
      "        <li>\n",
      "         <span class=\"mat\">\n",
      "          View all\n",
      "          <a href=\"/q-Paperless-Post-l-New-York,-NY-jobs.html\" rel=\"nofollow\">\n",
      "           Paperless Post jobs in New York, NY\n",
      "          </a>\n",
      "          -\n",
      "          <a href=\"/l-New-York,-NY-jobs.html\">\n",
      "           New York jobs\n",
      "          </a>\n",
      "         </span>\n",
      "        </li>\n",
      "        <li>\n",
      "         <span class=\"mat\">\n",
      "          Salary Search:\n",
      "          <a href=\"/salary?q1=Data+Scientist&amp;l1=New+York%2C+NY\">\n",
      "           Data Scientist salaries in New York, NY\n",
      "          </a>\n",
      "         </span>\n",
      "        </li>\n",
      "        <li>\n",
      "         <span class=\"mat\">\n",
      "          Learn more about working at\n",
      "          <a href=\"/cmp/Paperless-Post?fromjk=77be4fe06c2eb4a5&amp;from=serp-more&amp;campaignid=serp-more&amp;jcid=c618ba0d5e55039b\">\n",
      "           Paperless Post\n",
      "          </a>\n",
      "         </span>\n",
      "        </li>\n",
      "        <li>\n",
      "         <span class=\"mat\">\n",
      "          Related forums:\n",
      "          <a href=\"/forum/loc/New-York-New-York.html\">\n",
      "           New York, New York\n",
      "          </a>\n",
      "          -\n",
      "          <a href=\"/forum/cmp/Paperless-Post.html\">\n",
      "           Paperless Post\n",
      "          </a>\n",
      "         </span>\n",
      "        </li>\n",
      "       </ul>\n",
      "      </div>\n",
      "     </div>\n",
      "     <div class=\"dya-container result-tab\">\n",
      "     </div>\n",
      "     <div class=\"tellafriend-container result-tab email_job_content\">\n",
      "     </div>\n",
      "     <div class=\"sign-in-container result-tab\">\n",
      "     </div>\n",
      "     <div class=\"notes-container result-tab\">\n",
      "     </div>\n",
      "    </div>\n",
      "   </td>\n",
      "  </tr>\n",
      " </table>\n",
      "</div>\n",
      "\n",
      "\n",
      "\n",
      "<div class=\" row result\" data-jk=\"014b8a78dbafbeee\" data-tn-component=\"organicJob\" id=\"p_014b8a78dbafbeee\" itemscope=\"\" itemtype=\"http://schema.org/JobPosting\">\n",
      " <h2 class=\"jobtitle\" id=\"jl_014b8a78dbafbeee\">\n",
      "  <a class=\"turnstileLink\" data-tn-element=\"jobTitle\" href=\"/rc/clk?jk=014b8a78dbafbeee&amp;fccid=3de83442785d5fca\" itemprop=\"title\" onclick=\"setRefineByCookie(['salest']); return rclk(this,jobmap[2],true,0);\" onmousedown=\"return rclk(this,jobmap[2],0);\" rel=\"nofollow\" target=\"_blank\" title=\"GrubHub - Data Scientist\">\n",
      "   GrubHub -\n",
      "   <b>\n",
      "    Data\n",
      "   </b>\n",
      "   <b>\n",
      "    Scientist\n",
      "   </b>\n",
      "  </a>\n",
      " </h2>\n",
      " <span class=\"company\" itemprop=\"hiringOrganization\" itemtype=\"http://schema.org/Organization\">\n",
      "  <span itemprop=\"name\">\n",
      "   Illinois Technology Association\n",
      "  </span>\n",
      " </span>\n",
      " -\n",
      " <span itemprop=\"jobLocation\" itemscope=\"\" itemtype=\"http://schema.org/Place\">\n",
      "  <span class=\"location\" itemprop=\"address\" itemscope=\"\" itemtype=\"http://schema.org/Postaladdress\">\n",
      "   <span itemprop=\"addressLocality\">\n",
      "    New York, NY\n",
      "   </span>\n",
      "  </span>\n",
      " </span>\n",
      " <table border=\"0\" cellpadding=\"0\" cellspacing=\"0\">\n",
      "  <tr>\n",
      "   <td class=\"snip\">\n",
      "    <div>\n",
      "     <span class=\"summary\" itemprop=\"description\">\n",
      "      Grow our real-time internal\n",
      "      <b>\n",
      "       data\n",
      "      </b>\n",
      "      intelligence API. Informal understanding of\n",
      "      <b>\n",
      "       data\n",
      "      </b>\n",
      "      structures and computational complexity....\n",
      "     </span>\n",
      "    </div>\n",
      "    <div class=\"result-link-bar-container\">\n",
      "     <div class=\"result-link-bar\">\n",
      "      <span class=\"date\">\n",
      "       10 days ago\n",
      "      </span>\n",
      "      <span class=\"tt_set\" id=\"tt_set_2\">\n",
      "       -\n",
      "       <span class=\"savelink2\" id=\"savelink2_014b8a78dbafbeee\">\n",
      "        <a class=\"sl resultLink save-job-link\" href=\"#\" id=\"sj_014b8a78dbafbeee\" onclick=\"changeJobState('014b8a78dbafbeee', 'save', 'linkbar', false);return false;\" title=\"Save this job to my.indeed\">\n",
      "         save job\n",
      "        </a>\n",
      "       </span>\n",
      "       -\n",
      "       <a class=\"sl resultLink tellafriend-link \" href=\"mailto:?subject=I found this job on Indeed&amp;body=http://www.indeed.com\" onclick=\"toggleTellAFriend('014b8a78dbafbeee', 2, false); return false;\">\n",
      "        email\n",
      "       </a>\n",
      "       -\n",
      "       <a class=\"sl resultLink more-link \" href=\"#\" id=\"tog_2\" onclick=\"toggleMoreLinks('014b8a78dbafbeee'); return false;\">\n",
      "        more...\n",
      "       </a>\n",
      "      </span>\n",
      "      <div class=\"edit_note_content\" id=\"editsaved2_014b8a78dbafbeee\" style=\"display:none;\">\n",
      "      </div>\n",
      "      <script>\n",
      "       window['result_014b8a78dbafbeee'] = {\"showSource\": false, \"source\": \"Illinois Technology Association\", \"loggedIn\": false, \"showMyJobsLinks\": true,\"undoAction\": \"unsave\",\"relativeJobAge\": \"10 days ago\",\"jobKey\": \"014b8a78dbafbeee\", \"myIndeedAvailable\": true, \"tellAFriendEnabled\": true, \"showMoreActionsLink\": true, \"resultNumber\": 2, \"jobStateChangedToSaved\": false, \"searchState\": \"q=data scientist $20,000&amp;l=New+York&amp;start=10\", \"basicPermaLink\": \"http://www.indeed.com\", \"saveJobFailed\": false, \"removeJobFailed\": false, \"requestPending\": false, \"notesEnabled\": true, \"currentPage\" : \"serp\", \"sponsored\" : false,\"reportJobButtonEnabled\": false, \"showMyJobsHired\": false};\n",
      "      </script>\n",
      "     </div>\n",
      "    </div>\n",
      "    <div class=\"tab-container\">\n",
      "     <div class=\"more-links-container result-tab\" id=\"tt_display_2\" style=\"display:none;\">\n",
      "      <a class=\"close-link closeLink\" href=\"#\" onclick=\"toggleMoreLinks('014b8a78dbafbeee'); return false;\" title=\"Close\">\n",
      "      </a>\n",
      "      <div class=\"more_actions\" id=\"more_2\">\n",
      "       <ul>\n",
      "        <li>\n",
      "         <span class=\"mat\">\n",
      "          View all\n",
      "          <a href=\"/q-Illinois-Technology-Association-l-New-York,-NY-jobs.html\" rel=\"nofollow\">\n",
      "           Illinois Technology Association jobs in New York, NY\n",
      "          </a>\n",
      "          -\n",
      "          <a href=\"/l-New-York,-NY-jobs.html\">\n",
      "           New York jobs\n",
      "          </a>\n",
      "         </span>\n",
      "        </li>\n",
      "        <li>\n",
      "         <span class=\"mat\">\n",
      "          Salary Search:\n",
      "          <a href=\"/salary?q1=Grubhub&amp;l1=New+York%2C+NY\">\n",
      "           Grubhub salaries in New York, NY\n",
      "          </a>\n",
      "         </span>\n",
      "        </li>\n",
      "        <li>\n",
      "         <span class=\"mat\">\n",
      "          Learn more about working at\n",
      "          <a href=\"/cmp/Illinois-Technology-Association?fromjk=014b8a78dbafbeee&amp;from=serp-more&amp;campaignid=serp-more&amp;jcid=3de83442785d5fca\">\n",
      "           Illinois Technology Association\n",
      "          </a>\n",
      "         </span>\n",
      "        </li>\n",
      "        <li>\n",
      "         <span class=\"mat\">\n",
      "          Related forums:\n",
      "          <a href=\"/forum/loc/New-York-New-York.html\">\n",
      "           New York, New York\n",
      "          </a>\n",
      "          -\n",
      "          <a href=\"/forum/cmp/Illinois-Technology-Association.html\">\n",
      "           Illinois Technology Association\n",
      "          </a>\n",
      "         </span>\n",
      "        </li>\n",
      "       </ul>\n",
      "      </div>\n",
      "     </div>\n",
      "     <div class=\"dya-container result-tab\">\n",
      "     </div>\n",
      "     <div class=\"tellafriend-container result-tab email_job_content\">\n",
      "     </div>\n",
      "     <div class=\"sign-in-container result-tab\">\n",
      "     </div>\n",
      "     <div class=\"notes-container result-tab\">\n",
      "     </div>\n",
      "    </div>\n",
      "   </td>\n",
      "  </tr>\n",
      " </table>\n",
      "</div>\n",
      "\n",
      "\n",
      "\n",
      "<div class=\" row result\" data-jk=\"c0fb1fe98b72b8f8\" data-tn-component=\"organicJob\" id=\"p_c0fb1fe98b72b8f8\" itemscope=\"\" itemtype=\"http://schema.org/JobPosting\">\n",
      " <h2 class=\"jobtitle\" id=\"jl_c0fb1fe98b72b8f8\">\n",
      "  <a class=\"turnstileLink\" data-tn-element=\"jobTitle\" href=\"/rc/clk?jk=c0fb1fe98b72b8f8&amp;fccid=3c371b712ace44cf\" itemprop=\"title\" onclick=\"setRefineByCookie(['salest']); return rclk(this,jobmap[3],true,0);\" onmousedown=\"return rclk(this,jobmap[3],0);\" rel=\"nofollow\" target=\"_blank\" title=\"Data Scientist\">\n",
      "   <b>\n",
      "    Data\n",
      "   </b>\n",
      "   <b>\n",
      "    Scientist\n",
      "   </b>\n",
      "  </a>\n",
      " </h2>\n",
      " <span class=\"company\" itemprop=\"hiringOrganization\" itemtype=\"http://schema.org/Organization\">\n",
      "  <span itemprop=\"name\">\n",
      "   <a href=\"/cmp/Dish?from=SERP&amp;campaignid=serp-linkcompanyname&amp;fromjk=c0fb1fe98b72b8f8&amp;jcid=9d6f5c1f25e62b5d\" target=\"_blank\">\n",
      "    DISH Network\n",
      "   </a>\n",
      "  </span>\n",
      " </span>\n",
      " -\n",
      " <a class=\"turnstileLink slNoUnderline \" data-tn-element=\"reviewStars\" data-tn-variant=\"cmplinktst2\" href=\"/cmp/Dish/reviews?jcid=9d6f5c1f25e62b5d\" onmousedown=\"this.href = appendParamsOnce(this.href, '?campaignid=cmplinktst2&amp;from=SERP&amp;jt=Data+Scientist&amp;fromjk=c0fb1fe98b72b8f8');\" target=\"_blank\" title=\"Dish Network reviews\">\n",
      "  <span class=\"ratingNumber\" style=\"font-size: 13px; vertical-align: baseline;\">\n",
      "   3.3\n",
      "  </span>\n",
      "  <span class=\"ratings\" style=\"height: 11px; line-height: 11px; background-image: url(/images/cmp/star_2_sm@2x.png); background-size: 12px 22px;width: 60px;\">\n",
      "   <span class=\"rating\" style=\"height: 11px; line-height: 11px; background-image: url(/images/cmp/star_2_sm@2x.png); background-size: 12px 22px;background-position: 0 11px; width: 40.8px;\">\n",
      "    <!-- -->\n",
      "   </span>\n",
      "  </span>\n",
      "  <span class=\"slNoUnderline\">\n",
      "   1,910 reviews\n",
      "  </span>\n",
      " </a>\n",
      " -\n",
      " <span itemprop=\"jobLocation\" itemscope=\"\" itemtype=\"http://schema.org/Place\">\n",
      "  <span class=\"location\" itemprop=\"address\" itemscope=\"\" itemtype=\"http://schema.org/Postaladdress\">\n",
      "   <span itemprop=\"addressLocality\">\n",
      "    New York, NY\n",
      "   </span>\n",
      "  </span>\n",
      " </span>\n",
      " <table border=\"0\" cellpadding=\"0\" cellspacing=\"0\">\n",
      "  <tr>\n",
      "   <td class=\"snip\">\n",
      "    <div>\n",
      "     <span class=\"summary\" itemprop=\"description\">\n",
      "      A successful\n",
      "      <b>\n",
      "       Data\n",
      "      </b>\n",
      "      <b>\n",
      "       Scientist\n",
      "      </b>\n",
      "      will have the following:. Developing critical analytics using key DISH\n",
      "      <b>\n",
      "       data\n",
      "      </b>\n",
      "      sources including the viewer measurement\n",
      "      <b>\n",
      "       data\n",
      "      </b>\n",
      "      and...\n",
      "     </span>\n",
      "    </div>\n",
      "    <div class=\"result-link-bar-container\">\n",
      "     <div class=\"result-link-bar\">\n",
      "      <span class=\"result-link-source\">\n",
      "       DISH\n",
      "      </span>\n",
      "      -\n",
      "      <span class=\"date\">\n",
      "       13 days ago\n",
      "      </span>\n",
      "      <span class=\"tt_set\" id=\"tt_set_3\">\n",
      "       -\n",
      "       <span class=\"savelink2\" id=\"savelink2_c0fb1fe98b72b8f8\">\n",
      "        <a class=\"sl resultLink save-job-link\" href=\"#\" id=\"sj_c0fb1fe98b72b8f8\" onclick=\"changeJobState('c0fb1fe98b72b8f8', 'save', 'linkbar', false);return false;\" title=\"Save this job to my.indeed\">\n",
      "         save job\n",
      "        </a>\n",
      "       </span>\n",
      "       -\n",
      "       <a class=\"sl resultLink tellafriend-link \" href=\"mailto:?subject=I found this job on Indeed&amp;body=http://www.indeed.com\" onclick=\"toggleTellAFriend('c0fb1fe98b72b8f8', 3, false); return false;\">\n",
      "        email\n",
      "       </a>\n",
      "       -\n",
      "       <a class=\"sl resultLink more-link \" href=\"#\" id=\"tog_3\" onclick=\"toggleMoreLinks('c0fb1fe98b72b8f8'); return false;\">\n",
      "        more...\n",
      "       </a>\n",
      "      </span>\n",
      "      <div class=\"edit_note_content\" id=\"editsaved2_c0fb1fe98b72b8f8\" style=\"display:none;\">\n",
      "      </div>\n",
      "      <script>\n",
      "       window['result_c0fb1fe98b72b8f8'] = {\"showSource\": true, \"source\": \"DISH\", \"loggedIn\": false, \"showMyJobsLinks\": true,\"undoAction\": \"unsave\",\"relativeJobAge\": \"13 days ago\",\"jobKey\": \"c0fb1fe98b72b8f8\", \"myIndeedAvailable\": true, \"tellAFriendEnabled\": true, \"showMoreActionsLink\": true, \"resultNumber\": 3, \"jobStateChangedToSaved\": false, \"searchState\": \"q=data scientist $20,000&amp;l=New+York&amp;start=10\", \"basicPermaLink\": \"http://www.indeed.com\", \"saveJobFailed\": false, \"removeJobFailed\": false, \"requestPending\": false, \"notesEnabled\": true, \"currentPage\" : \"serp\", \"sponsored\" : false,\"reportJobButtonEnabled\": false, \"showMyJobsHired\": false};\n",
      "      </script>\n",
      "     </div>\n",
      "    </div>\n",
      "    <div class=\"tab-container\">\n",
      "     <div class=\"more-links-container result-tab\" id=\"tt_display_3\" style=\"display:none;\">\n",
      "      <a class=\"close-link closeLink\" href=\"#\" onclick=\"toggleMoreLinks('c0fb1fe98b72b8f8'); return false;\" title=\"Close\">\n",
      "      </a>\n",
      "      <div class=\"more_actions\" id=\"more_3\">\n",
      "       <ul>\n",
      "        <li>\n",
      "         <span class=\"mat\">\n",
      "          View all\n",
      "          <a href=\"/q-Dish-Network-l-New-York,-NY-jobs.html\" rel=\"nofollow\">\n",
      "           DISH Network jobs in New York, NY\n",
      "          </a>\n",
      "          -\n",
      "          <a href=\"/l-New-York,-NY-jobs.html\">\n",
      "           New York jobs\n",
      "          </a>\n",
      "         </span>\n",
      "        </li>\n",
      "        <li>\n",
      "         <span class=\"mat\">\n",
      "          Salary Search:\n",
      "          <a href=\"/salary?q1=Data+Scientist&amp;l1=New+York%2C+NY\">\n",
      "           Data Scientist salaries in New York, NY\n",
      "          </a>\n",
      "         </span>\n",
      "        </li>\n",
      "        <li>\n",
      "         <span class=\"mat\">\n",
      "          Learn more about working at\n",
      "          <a href=\"/cmp/Dish?fromjk=c0fb1fe98b72b8f8&amp;from=serp-more&amp;campaignid=serp-more&amp;jcid=9d6f5c1f25e62b5d\">\n",
      "           Dish Network\n",
      "          </a>\n",
      "         </span>\n",
      "        </li>\n",
      "        <li>\n",
      "         <span class=\"mat\">\n",
      "          Related forums:\n",
      "          <a href=\"/forum/loc/New-York-New-York.html\">\n",
      "           New York, New York\n",
      "          </a>\n",
      "          -\n",
      "          <a href=\"/forum/cmp/Dish.html\">\n",
      "           DISH\n",
      "          </a>\n",
      "         </span>\n",
      "        </li>\n",
      "       </ul>\n",
      "      </div>\n",
      "     </div>\n",
      "     <div class=\"dya-container result-tab\">\n",
      "     </div>\n",
      "     <div class=\"tellafriend-container result-tab email_job_content\">\n",
      "     </div>\n",
      "     <div class=\"sign-in-container result-tab\">\n",
      "     </div>\n",
      "     <div class=\"notes-container result-tab\">\n",
      "     </div>\n",
      "    </div>\n",
      "   </td>\n",
      "  </tr>\n",
      " </table>\n",
      "</div>\n",
      "\n",
      "\n",
      "\n",
      "<div class=\" row result\" data-jk=\"6ca932c2af4750af\" data-tn-component=\"organicJob\" id=\"p_6ca932c2af4750af\" itemscope=\"\" itemtype=\"http://schema.org/JobPosting\">\n",
      " <h2 class=\"jobtitle\" id=\"jl_6ca932c2af4750af\">\n",
      "  <a class=\"turnstileLink\" data-tn-element=\"jobTitle\" href=\"/cmp/ShopKeep/jobs/Data-Scientist-6ca932c2af4750af?r=1&amp;fccid=11811b52a7138086\" itemprop=\"title\" onclick=\"setRefineByCookie(['salest']); return rclk(this,jobmap[4],true,0);\" onmousedown=\"return rclk(this,jobmap[4],0);\" rel=\"nofollow\" target=\"_blank\" title=\"Data Scientist\">\n",
      "   <b>\n",
      "    Data\n",
      "   </b>\n",
      "   <b>\n",
      "    Scientist\n",
      "   </b>\n",
      "  </a>\n",
      " </h2>\n",
      " <span class=\"company\" itemprop=\"hiringOrganization\" itemtype=\"http://schema.org/Organization\">\n",
      "  <span itemprop=\"name\">\n",
      "   <a href=\"/cmp/Shopkeep?from=SERP&amp;campaignid=serp-linkcompanyname&amp;fromjk=6ca932c2af4750af&amp;jcid=11811b52a7138086\" target=\"_blank\">\n",
      "    ShopKeep\n",
      "   </a>\n",
      "  </span>\n",
      " </span>\n",
      " -\n",
      " <a class=\"turnstileLink slNoUnderline \" data-tn-element=\"reviewStars\" data-tn-variant=\"cmplinktst2\" href=\"/cmp/Shopkeep/reviews?jcid=11811b52a7138086\" onmousedown=\"this.href = appendParamsOnce(this.href, '?campaignid=cmplinktst2&amp;from=SERP&amp;jt=Data+Scientist&amp;fromjk=6ca932c2af4750af');\" target=\"_blank\" title=\"Shopkeep reviews\">\n",
      "  <span class=\"ratingNumber\" style=\"font-size: 13px; vertical-align: baseline;\">\n",
      "   3.8\n",
      "  </span>\n",
      "  <span class=\"ratings\" style=\"height: 11px; line-height: 11px; background-image: url(/images/cmp/star_2_sm@2x.png); background-size: 12px 22px;width: 60px;\">\n",
      "   <span class=\"rating\" style=\"height: 11px; line-height: 11px; background-image: url(/images/cmp/star_2_sm@2x.png); background-size: 12px 22px;background-position: 0 11px; width: 43.8px;\">\n",
      "    <!-- -->\n",
      "   </span>\n",
      "  </span>\n",
      "  <span class=\"slNoUnderline\">\n",
      "   4 reviews\n",
      "  </span>\n",
      " </a>\n",
      " -\n",
      " <span itemprop=\"jobLocation\" itemscope=\"\" itemtype=\"http://schema.org/Place\">\n",
      "  <span class=\"location\" itemprop=\"address\" itemscope=\"\" itemtype=\"http://schema.org/Postaladdress\">\n",
      "   <span itemprop=\"addressLocality\">\n",
      "    New York, NY 10013\n",
      "    <span style=\"font-size: smaller\">\n",
      "     (Tribeca area)\n",
      "    </span>\n",
      "   </span>\n",
      "  </span>\n",
      " </span>\n",
      " <table border=\"0\" cellpadding=\"0\" cellspacing=\"0\">\n",
      "  <tr>\n",
      "   <td class=\"snip\">\n",
      "    <div>\n",
      "     <span class=\"summary\" itemprop=\"description\">\n",
      "      We have a mature\n",
      "      <b>\n",
      "       data\n",
      "      </b>\n",
      "      infrastructure, and we’d like someone to interrogate this\n",
      "      <b>\n",
      "       data\n",
      "      </b>\n",
      "      relentlessly.\n",
      "      <b>\n",
      "       Data\n",
      "      </b>\n",
      "      visualization / exploration tools (especially Looker)....\n",
      "     </span>\n",
      "    </div>\n",
      "    <div class=\"iaP\">\n",
      "     <span class=\"iaLabel\">\n",
      "      Easily apply\n",
      "     </span>\n",
      "    </div>\n",
      "    <div class=\"result-link-bar-container\">\n",
      "     <div class=\"result-link-bar\">\n",
      "      <span class=\"date\">\n",
      "       13 days ago\n",
      "      </span>\n",
      "      <span class=\"tt_set\" id=\"tt_set_4\">\n",
      "       -\n",
      "       <span class=\"savelink2\" id=\"savelink2_6ca932c2af4750af\">\n",
      "        <a class=\"sl resultLink save-job-link\" href=\"#\" id=\"sj_6ca932c2af4750af\" onclick=\"changeJobState('6ca932c2af4750af', 'save', 'linkbar', false);return false;\" title=\"Save this job to my.indeed\">\n",
      "         save job\n",
      "        </a>\n",
      "       </span>\n",
      "       -\n",
      "       <a class=\"sl resultLink tellafriend-link \" href=\"mailto:?subject=I found this job on Indeed&amp;body=http://www.indeed.com\" onclick=\"toggleTellAFriend('6ca932c2af4750af', 4, false); return false;\">\n",
      "        email\n",
      "       </a>\n",
      "       -\n",
      "       <a class=\"sl resultLink more-link \" href=\"#\" id=\"tog_4\" onclick=\"toggleMoreLinks('6ca932c2af4750af'); return false;\">\n",
      "        more...\n",
      "       </a>\n",
      "      </span>\n",
      "      <div class=\"edit_note_content\" id=\"editsaved2_6ca932c2af4750af\" style=\"display:none;\">\n",
      "      </div>\n",
      "      <script>\n",
      "       window['result_6ca932c2af4750af'] = {\"showSource\": false, \"source\": \"Indeed\", \"loggedIn\": false, \"showMyJobsLinks\": true,\"undoAction\": \"unsave\",\"relativeJobAge\": \"13 days ago\",\"jobKey\": \"6ca932c2af4750af\", \"myIndeedAvailable\": true, \"tellAFriendEnabled\": true, \"showMoreActionsLink\": true, \"resultNumber\": 4, \"jobStateChangedToSaved\": false, \"searchState\": \"q=data scientist $20,000&amp;l=New+York&amp;start=10\", \"basicPermaLink\": \"http://www.indeed.com\", \"saveJobFailed\": false, \"removeJobFailed\": false, \"requestPending\": false, \"notesEnabled\": true, \"currentPage\" : \"serp\", \"sponsored\" : false,\"reportJobButtonEnabled\": false, \"showMyJobsHired\": false};\n",
      "      </script>\n",
      "     </div>\n",
      "    </div>\n",
      "    <div class=\"tab-container\">\n",
      "     <div class=\"more-links-container result-tab\" id=\"tt_display_4\" style=\"display:none;\">\n",
      "      <a class=\"close-link closeLink\" href=\"#\" onclick=\"toggleMoreLinks('6ca932c2af4750af'); return false;\" title=\"Close\">\n",
      "      </a>\n",
      "      <div class=\"more_actions\" id=\"more_4\">\n",
      "       <ul>\n",
      "        <li>\n",
      "         <span class=\"mat\">\n",
      "          View all\n",
      "          <a href=\"/q-Shopkeep-l-New-York,-NY-jobs.html\" rel=\"nofollow\">\n",
      "           ShopKeep jobs in New York, NY\n",
      "          </a>\n",
      "          -\n",
      "          <a href=\"/l-New-York,-NY-jobs.html\">\n",
      "           New York jobs\n",
      "          </a>\n",
      "         </span>\n",
      "        </li>\n",
      "        <li>\n",
      "         <span class=\"mat\">\n",
      "          Salary Search:\n",
      "          <a href=\"/salary?q1=Data+Scientist&amp;l1=New+York%2C+NY\">\n",
      "           Data Scientist salaries in New York, NY\n",
      "          </a>\n",
      "         </span>\n",
      "        </li>\n",
      "        <li>\n",
      "         <span class=\"mat\">\n",
      "          Learn more about working at\n",
      "          <a href=\"/cmp/Shopkeep?fromjk=6ca932c2af4750af&amp;from=serp-more&amp;campaignid=serp-more&amp;jcid=11811b52a7138086\">\n",
      "           Shopkeep\n",
      "          </a>\n",
      "         </span>\n",
      "        </li>\n",
      "        <li>\n",
      "         <span class=\"mat\">\n",
      "          Related forums:\n",
      "          <a href=\"/forum/loc/New-York-New-York.html\">\n",
      "           New York, New York\n",
      "          </a>\n",
      "          -\n",
      "          <a href=\"/forum/cmp/Shopkeep.html\">\n",
      "           ShopKeep\n",
      "          </a>\n",
      "         </span>\n",
      "        </li>\n",
      "       </ul>\n",
      "      </div>\n",
      "     </div>\n",
      "     <div class=\"dya-container result-tab\">\n",
      "     </div>\n",
      "     <div class=\"tellafriend-container result-tab email_job_content\">\n",
      "     </div>\n",
      "     <div class=\"sign-in-container result-tab\">\n",
      "     </div>\n",
      "     <div class=\"notes-container result-tab\">\n",
      "     </div>\n",
      "    </div>\n",
      "   </td>\n",
      "  </tr>\n",
      " </table>\n",
      "</div>\n",
      "\n",
      "\n",
      "\n",
      "<div class=\" row result\" data-jk=\"30c228790352e62c\" data-tn-component=\"organicJob\" id=\"p_30c228790352e62c\" itemscope=\"\" itemtype=\"http://schema.org/JobPosting\">\n",
      " <h2 class=\"jobtitle\" id=\"jl_30c228790352e62c\">\n",
      "  <a class=\"turnstileLink\" data-tn-element=\"jobTitle\" href=\"/rc/clk?jk=30c228790352e62c&amp;fccid=c63a4b95712b07d4\" itemprop=\"title\" onclick=\"setRefineByCookie(['salest']); return rclk(this,jobmap[5],true,0);\" onmousedown=\"return rclk(this,jobmap[5],0);\" rel=\"nofollow\" target=\"_blank\" title=\"Data Scientist\">\n",
      "   <b>\n",
      "    Data\n",
      "   </b>\n",
      "   <b>\n",
      "    Scientist\n",
      "   </b>\n",
      "  </a>\n",
      " </h2>\n",
      " <span class=\"company\" itemprop=\"hiringOrganization\" itemtype=\"http://schema.org/Organization\">\n",
      "  <span itemprop=\"name\">\n",
      "   Tapad\n",
      "  </span>\n",
      " </span>\n",
      " -\n",
      " <span itemprop=\"jobLocation\" itemscope=\"\" itemtype=\"http://schema.org/Place\">\n",
      "  <span class=\"location\" itemprop=\"address\" itemscope=\"\" itemtype=\"http://schema.org/Postaladdress\">\n",
      "   <span itemprop=\"addressLocality\">\n",
      "    New York, NY\n",
      "   </span>\n",
      "  </span>\n",
      " </span>\n",
      " <table border=\"0\" cellpadding=\"0\" cellspacing=\"0\">\n",
      "  <tr>\n",
      "   <td class=\"snip\">\n",
      "    <div>\n",
      "     <span class=\"summary\" itemprop=\"description\">\n",
      "      Tapad is looking for an experienced\n",
      "      <b>\n",
      "       Data\n",
      "      </b>\n",
      "      <b>\n",
      "       Scientist\n",
      "      </b>\n",
      "      to join our Engineering team. The\n",
      "      <b>\n",
      "       Data\n",
      "      </b>\n",
      "      <b>\n",
      "       Scientist\n",
      "      </b>\n",
      "      will work on expanding and developing the core of our...\n",
      "     </span>\n",
      "    </div>\n",
      "    <div class=\"iaP\">\n",
      "     <span class=\"iaLabel\">\n",
      "      Easily apply\n",
      "     </span>\n",
      "    </div>\n",
      "    <div class=\"result-link-bar-container\">\n",
      "     <div class=\"result-link-bar\">\n",
      "      <span class=\"date\">\n",
      "       15 days ago\n",
      "      </span>\n",
      "      <span class=\"tt_set\" id=\"tt_set_5\">\n",
      "       -\n",
      "       <span class=\"savelink2\" id=\"savelink2_30c228790352e62c\">\n",
      "        <a class=\"sl resultLink save-job-link\" href=\"#\" id=\"sj_30c228790352e62c\" onclick=\"changeJobState('30c228790352e62c', 'save', 'linkbar', false);return false;\" title=\"Save this job to my.indeed\">\n",
      "         save job\n",
      "        </a>\n",
      "       </span>\n",
      "       -\n",
      "       <a class=\"sl resultLink tellafriend-link \" href=\"mailto:?subject=I found this job on Indeed&amp;body=http://www.indeed.com\" onclick=\"toggleTellAFriend('30c228790352e62c', 5, false); return false;\">\n",
      "        email\n",
      "       </a>\n",
      "       -\n",
      "       <a class=\"sl resultLink more-link \" href=\"#\" id=\"tog_5\" onclick=\"toggleMoreLinks('30c228790352e62c'); return false;\">\n",
      "        more...\n",
      "       </a>\n",
      "      </span>\n",
      "      <div class=\"edit_note_content\" id=\"editsaved2_30c228790352e62c\" style=\"display:none;\">\n",
      "      </div>\n",
      "      <script>\n",
      "       window['result_30c228790352e62c'] = {\"showSource\": false, \"source\": \"Tapad\", \"loggedIn\": false, \"showMyJobsLinks\": true,\"undoAction\": \"unsave\",\"relativeJobAge\": \"15 days ago\",\"jobKey\": \"30c228790352e62c\", \"myIndeedAvailable\": true, \"tellAFriendEnabled\": true, \"showMoreActionsLink\": true, \"resultNumber\": 5, \"jobStateChangedToSaved\": false, \"searchState\": \"q=data scientist $20,000&amp;l=New+York&amp;start=10\", \"basicPermaLink\": \"http://www.indeed.com\", \"saveJobFailed\": false, \"removeJobFailed\": false, \"requestPending\": false, \"notesEnabled\": true, \"currentPage\" : \"serp\", \"sponsored\" : false,\"reportJobButtonEnabled\": false, \"showMyJobsHired\": false};\n",
      "      </script>\n",
      "     </div>\n",
      "    </div>\n",
      "    <div class=\"tab-container\">\n",
      "     <div class=\"more-links-container result-tab\" id=\"tt_display_5\" style=\"display:none;\">\n",
      "      <a class=\"close-link closeLink\" href=\"#\" onclick=\"toggleMoreLinks('30c228790352e62c'); return false;\" title=\"Close\">\n",
      "      </a>\n",
      "      <div class=\"more_actions\" id=\"more_5\">\n",
      "       <ul>\n",
      "        <li>\n",
      "         <span class=\"mat\">\n",
      "          View all\n",
      "          <a href=\"/q-Tapad-l-New-York,-NY-jobs.html\" rel=\"nofollow\">\n",
      "           Tapad jobs in New York, NY\n",
      "          </a>\n",
      "          -\n",
      "          <a href=\"/l-New-York,-NY-jobs.html\">\n",
      "           New York jobs\n",
      "          </a>\n",
      "         </span>\n",
      "        </li>\n",
      "        <li>\n",
      "         <span class=\"mat\">\n",
      "          Salary Search:\n",
      "          <a href=\"/salary?q1=Data+Scientist&amp;l1=New+York%2C+NY\">\n",
      "           Data Scientist salaries in New York, NY\n",
      "          </a>\n",
      "         </span>\n",
      "        </li>\n",
      "        <li>\n",
      "         <span class=\"mat\">\n",
      "          Related forums:\n",
      "          <a href=\"/forum/loc/New-York-New-York.html\">\n",
      "           New York, New York\n",
      "          </a>\n",
      "          -\n",
      "          <a href=\"/forum/cmp/Tapad.html\">\n",
      "           Tapad\n",
      "          </a>\n",
      "         </span>\n",
      "        </li>\n",
      "       </ul>\n",
      "      </div>\n",
      "     </div>\n",
      "     <div class=\"dya-container result-tab\">\n",
      "     </div>\n",
      "     <div class=\"tellafriend-container result-tab email_job_content\">\n",
      "     </div>\n",
      "     <div class=\"sign-in-container result-tab\">\n",
      "     </div>\n",
      "     <div class=\"notes-container result-tab\">\n",
      "     </div>\n",
      "    </div>\n",
      "   </td>\n",
      "  </tr>\n",
      " </table>\n",
      "</div>\n",
      "\n",
      "\n",
      "\n",
      "<div class=\" row result\" data-jk=\"235f3afdc8453fc0\" data-tn-component=\"organicJob\" id=\"p_235f3afdc8453fc0\" itemscope=\"\" itemtype=\"http://schema.org/JobPosting\">\n",
      " <h2 class=\"jobtitle\" id=\"jl_235f3afdc8453fc0\">\n",
      "  <a class=\"turnstileLink\" data-tn-element=\"jobTitle\" href=\"/rc/clk?jk=235f3afdc8453fc0&amp;fccid=f7029f63fe5c906e\" itemprop=\"title\" onclick=\"setRefineByCookie(['salest']); return rclk(this,jobmap[6],true,0);\" onmousedown=\"return rclk(this,jobmap[6],0);\" rel=\"nofollow\" target=\"_blank\" title=\"Data Scientist\">\n",
      "   <b>\n",
      "    Data\n",
      "   </b>\n",
      "   <b>\n",
      "    Scientist\n",
      "   </b>\n",
      "  </a>\n",
      " </h2>\n",
      " <span class=\"company\" itemprop=\"hiringOrganization\" itemtype=\"http://schema.org/Organization\">\n",
      "  <span itemprop=\"name\">\n",
      "   <a href=\"/cmp/Verizon?from=SERP&amp;campaignid=serp-linkcompanyname&amp;fromjk=235f3afdc8453fc0&amp;jcid=f7029f63fe5c906e\" target=\"_blank\">\n",
      "    Verizon\n",
      "   </a>\n",
      "  </span>\n",
      " </span>\n",
      " -\n",
      " <a class=\"turnstileLink slNoUnderline \" data-tn-element=\"reviewStars\" data-tn-variant=\"cmplinktst2\" href=\"/cmp/Verizon/reviews?jcid=f7029f63fe5c906e\" onmousedown=\"this.href = appendParamsOnce(this.href, '?campaignid=cmplinktst2&amp;from=SERP&amp;jt=Data+Scientist&amp;fromjk=235f3afdc8453fc0');\" target=\"_blank\" title=\"Verizon reviews\">\n",
      "  <span class=\"ratingNumber\" style=\"font-size: 13px; vertical-align: baseline;\">\n",
      "   3.9\n",
      "  </span>\n",
      "  <span class=\"ratings\" style=\"height: 11px; line-height: 11px; background-image: url(/images/cmp/star_2_sm@2x.png); background-size: 12px 22px;width: 60px;\">\n",
      "   <span class=\"rating\" style=\"height: 11px; line-height: 11px; background-image: url(/images/cmp/star_2_sm@2x.png); background-size: 12px 22px;background-position: 0 11px; width: 44.4px;\">\n",
      "    <!-- -->\n",
      "   </span>\n",
      "  </span>\n",
      "  <span class=\"slNoUnderline\">\n",
      "   10,572 reviews\n",
      "  </span>\n",
      " </a>\n",
      " -\n",
      " <span itemprop=\"jobLocation\" itemscope=\"\" itemtype=\"http://schema.org/Place\">\n",
      "  <span class=\"location\" itemprop=\"address\" itemscope=\"\" itemtype=\"http://schema.org/Postaladdress\">\n",
      "   <span itemprop=\"addressLocality\">\n",
      "    New York, NY 10007\n",
      "    <span style=\"font-size: smaller\">\n",
      "     (Financial District area)\n",
      "    </span>\n",
      "   </span>\n",
      "  </span>\n",
      " </span>\n",
      " <a class=\"more_loc\" href=\"/jobs?q=data+scientist+%2420%2C000&amp;l=New+York&amp;rbt=Data+Scientist&amp;rbc=Verizon&amp;jtid=1872a3288ede048a&amp;jcid=f7029f63fe5c906e&amp;grp=tcl\" onmousedown=\"ptk('addlloc');\" rel=\"nofollow\">\n",
      "  +2 locations\n",
      " </a>\n",
      " <table border=\"0\" cellpadding=\"0\" cellspacing=\"0\">\n",
      "  <tr>\n",
      "   <td class=\"snip\">\n",
      "    <div>\n",
      "     <span class=\"summary\" itemprop=\"description\">\n",
      "      Research\n",
      "      <b>\n",
      "       data\n",
      "      </b>\n",
      "      to improve customer engagement. Understand, categorize, organize, and interpret heterogeneous\n",
      "      <b>\n",
      "       data\n",
      "      </b>\n",
      "      sets....\n",
      "     </span>\n",
      "    </div>\n",
      "    <div class=\"result-link-bar-container\">\n",
      "     <div class=\"result-link-bar\">\n",
      "      <span class=\"date\">\n",
      "       20 days ago\n",
      "      </span>\n",
      "      <span class=\"tt_set\" id=\"tt_set_6\">\n",
      "       -\n",
      "       <span class=\"savelink2\" id=\"savelink2_235f3afdc8453fc0\">\n",
      "        <a class=\"sl resultLink save-job-link\" href=\"#\" id=\"sj_235f3afdc8453fc0\" onclick=\"changeJobState('235f3afdc8453fc0', 'save', 'linkbar', false);return false;\" title=\"Save this job to my.indeed\">\n",
      "         save job\n",
      "        </a>\n",
      "       </span>\n",
      "       -\n",
      "       <a class=\"sl resultLink tellafriend-link \" href=\"mailto:?subject=I found this job on Indeed&amp;body=http://www.indeed.com\" onclick=\"toggleTellAFriend('235f3afdc8453fc0', 6, false); return false;\">\n",
      "        email\n",
      "       </a>\n",
      "       -\n",
      "       <a class=\"sl resultLink more-link \" href=\"#\" id=\"tog_6\" onclick=\"toggleMoreLinks('235f3afdc8453fc0'); return false;\">\n",
      "        more...\n",
      "       </a>\n",
      "      </span>\n",
      "      <div class=\"edit_note_content\" id=\"editsaved2_235f3afdc8453fc0\" style=\"display:none;\">\n",
      "      </div>\n",
      "      <script>\n",
      "       window['result_235f3afdc8453fc0'] = {\"showSource\": false, \"source\": \"Verizon\", \"loggedIn\": false, \"showMyJobsLinks\": true,\"undoAction\": \"unsave\",\"relativeJobAge\": \"20 days ago\",\"jobKey\": \"235f3afdc8453fc0\", \"myIndeedAvailable\": true, \"tellAFriendEnabled\": true, \"showMoreActionsLink\": true, \"resultNumber\": 6, \"jobStateChangedToSaved\": false, \"searchState\": \"q=data scientist $20,000&amp;l=New+York&amp;start=10\", \"basicPermaLink\": \"http://www.indeed.com\", \"saveJobFailed\": false, \"removeJobFailed\": false, \"requestPending\": false, \"notesEnabled\": true, \"currentPage\" : \"serp\", \"sponsored\" : false,\"reportJobButtonEnabled\": false, \"showMyJobsHired\": false};\n",
      "      </script>\n",
      "     </div>\n",
      "    </div>\n",
      "    <div class=\"tab-container\">\n",
      "     <div class=\"more-links-container result-tab\" id=\"tt_display_6\" style=\"display:none;\">\n",
      "      <a class=\"close-link closeLink\" href=\"#\" onclick=\"toggleMoreLinks('235f3afdc8453fc0'); return false;\" title=\"Close\">\n",
      "      </a>\n",
      "      <div class=\"more_actions\" id=\"more_6\">\n",
      "       <ul>\n",
      "        <li>\n",
      "         <span class=\"mat\">\n",
      "          View all\n",
      "          <a href=\"/q-Verizon-l-New-York,-NY-jobs.html\" rel=\"nofollow\">\n",
      "           Verizon jobs in New York, NY\n",
      "          </a>\n",
      "          -\n",
      "          <a href=\"/l-New-York,-NY-jobs.html\">\n",
      "           New York jobs\n",
      "          </a>\n",
      "         </span>\n",
      "        </li>\n",
      "        <li>\n",
      "         <span class=\"mat\">\n",
      "          Salary Search:\n",
      "          <a href=\"/salary?q1=Data+Scientist&amp;l1=New+York%2C+NY\">\n",
      "           Data Scientist salaries in New York, NY\n",
      "          </a>\n",
      "         </span>\n",
      "        </li>\n",
      "        <li>\n",
      "         <span class=\"mat\">\n",
      "          Learn more about working at\n",
      "          <a href=\"/cmp/Verizon?fromjk=235f3afdc8453fc0&amp;from=serp-more&amp;campaignid=serp-more&amp;jcid=f7029f63fe5c906e\">\n",
      "           Verizon\n",
      "          </a>\n",
      "         </span>\n",
      "        </li>\n",
      "        <li>\n",
      "         <span class=\"mat\">\n",
      "          Related forums:\n",
      "          <a href=\"/forum/cmp/Verizon.html\">\n",
      "           Verizon\n",
      "          </a>\n",
      "          -\n",
      "          <a href=\"/forum/loc/New-York-New-York.html\">\n",
      "           New York, New York\n",
      "          </a>\n",
      "         </span>\n",
      "        </li>\n",
      "       </ul>\n",
      "      </div>\n",
      "     </div>\n",
      "     <div class=\"dya-container result-tab\">\n",
      "     </div>\n",
      "     <div class=\"tellafriend-container result-tab email_job_content\">\n",
      "     </div>\n",
      "     <div class=\"sign-in-container result-tab\">\n",
      "     </div>\n",
      "     <div class=\"notes-container result-tab\">\n",
      "     </div>\n",
      "    </div>\n",
      "   </td>\n",
      "  </tr>\n",
      " </table>\n",
      "</div>\n",
      "\n",
      "\n",
      "\n",
      "<div class=\" row result\" data-jk=\"4409120c119aaad4\" data-tn-component=\"organicJob\" id=\"p_4409120c119aaad4\" itemscope=\"\" itemtype=\"http://schema.org/JobPosting\">\n",
      " <h2 class=\"jobtitle\" id=\"jl_4409120c119aaad4\">\n",
      "  <a class=\"turnstileLink\" data-tn-element=\"jobTitle\" href=\"/rc/clk?jk=4409120c119aaad4&amp;fccid=d0a62972bb1812fd\" itemprop=\"title\" onclick=\"setRefineByCookie(['salest']); return rclk(this,jobmap[7],true,0);\" onmousedown=\"return rclk(this,jobmap[7],0);\" rel=\"nofollow\" target=\"_blank\" title=\"Data Scientist\">\n",
      "   <b>\n",
      "    Data\n",
      "   </b>\n",
      "   <b>\n",
      "    Scientist\n",
      "   </b>\n",
      "  </a>\n",
      " </h2>\n",
      " <span class=\"company\" itemprop=\"hiringOrganization\" itemtype=\"http://schema.org/Organization\">\n",
      "  <span itemprop=\"name\">\n",
      "   <a href=\"/cmp/Crisis-Text-Line?from=SERP&amp;campaignid=serp-linkcompanyname&amp;fromjk=4409120c119aaad4&amp;jcid=fb5f16a6f0391ca1\" target=\"_blank\">\n",
      "    Crisis Text Line\n",
      "   </a>\n",
      "  </span>\n",
      " </span>\n",
      " -\n",
      " <a class=\"turnstileLink slNoUnderline \" data-tn-element=\"reviewStars\" data-tn-variant=\"cmplinktst2\" href=\"/cmp/Crisis-Text-Line/reviews?jcid=fb5f16a6f0391ca1\" onmousedown=\"this.href = appendParamsOnce(this.href, '?campaignid=cmplinktst2&amp;from=SERP&amp;jt=Data+Scientist&amp;fromjk=4409120c119aaad4');\" target=\"_blank\" title=\"Crisis Text Line reviews\">\n",
      "  <span class=\"ratingNumber\" style=\"font-size: 13px; vertical-align: baseline;\">\n",
      "   5.0\n",
      "  </span>\n",
      "  <span class=\"ratings\" style=\"height: 11px; line-height: 11px; background-image: url(/images/cmp/star_2_sm@2x.png); background-size: 12px 22px;width: 60px;\">\n",
      "   <span class=\"rating\" style=\"height: 11px; line-height: 11px; background-image: url(/images/cmp/star_2_sm@2x.png); background-size: 12px 22px;background-position: 0 11px; width: 60.0px;\">\n",
      "    <!-- -->\n",
      "   </span>\n",
      "  </span>\n",
      "  <span class=\"slNoUnderline\">\n",
      "   3 reviews\n",
      "  </span>\n",
      " </a>\n",
      " -\n",
      " <span itemprop=\"jobLocation\" itemscope=\"\" itemtype=\"http://schema.org/Place\">\n",
      "  <span class=\"location\" itemprop=\"address\" itemscope=\"\" itemtype=\"http://schema.org/Postaladdress\">\n",
      "   <span itemprop=\"addressLocality\">\n",
      "    New York, NY\n",
      "   </span>\n",
      "  </span>\n",
      " </span>\n",
      " <table border=\"0\" cellpadding=\"0\" cellspacing=\"0\">\n",
      "  <tr>\n",
      "   <td class=\"snip\">\n",
      "    <div>\n",
      "     <span class=\"summary\" itemprop=\"description\">\n",
      "      Chief\n",
      "      <b>\n",
      "       Data\n",
      "      </b>\n",
      "      <b>\n",
      "       Scientist\n",
      "      </b>\n",
      "      . The\n",
      "      <b>\n",
      "       Data\n",
      "      </b>\n",
      "      Scientist's role at Crisis Text Line is to support staff in making smarter decisions through\n",
      "      <b>\n",
      "       data\n",
      "      </b>\n",
      "      ....\n",
      "     </span>\n",
      "    </div>\n",
      "    <div class=\"iaP\">\n",
      "     <span class=\"iaLabel\">\n",
      "      Easily apply\n",
      "     </span>\n",
      "    </div>\n",
      "    <div class=\"result-link-bar-container\">\n",
      "     <div class=\"result-link-bar\">\n",
      "      <span class=\"date\">\n",
      "       11 days ago\n",
      "      </span>\n",
      "      <span class=\"tt_set\" id=\"tt_set_7\">\n",
      "       -\n",
      "       <span class=\"savelink2\" id=\"savelink2_4409120c119aaad4\">\n",
      "        <a class=\"sl resultLink save-job-link\" href=\"#\" id=\"sj_4409120c119aaad4\" onclick=\"changeJobState('4409120c119aaad4', 'save', 'linkbar', false);return false;\" title=\"Save this job to my.indeed\">\n",
      "         save job\n",
      "        </a>\n",
      "       </span>\n",
      "       -\n",
      "       <a class=\"sl resultLink tellafriend-link \" href=\"mailto:?subject=I found this job on Indeed&amp;body=http://www.indeed.com\" onclick=\"toggleTellAFriend('4409120c119aaad4', 7, false); return false;\">\n",
      "        email\n",
      "       </a>\n",
      "       -\n",
      "       <a class=\"sl resultLink more-link \" href=\"#\" id=\"tog_7\" onclick=\"toggleMoreLinks('4409120c119aaad4'); return false;\">\n",
      "        more...\n",
      "       </a>\n",
      "      </span>\n",
      "      <div class=\"edit_note_content\" id=\"editsaved2_4409120c119aaad4\" style=\"display:none;\">\n",
      "      </div>\n",
      "      <script>\n",
      "       window['result_4409120c119aaad4'] = {\"showSource\": false, \"source\": \"Crisis Text Line\", \"loggedIn\": false, \"showMyJobsLinks\": true,\"undoAction\": \"unsave\",\"relativeJobAge\": \"11 days ago\",\"jobKey\": \"4409120c119aaad4\", \"myIndeedAvailable\": true, \"tellAFriendEnabled\": true, \"showMoreActionsLink\": true, \"resultNumber\": 7, \"jobStateChangedToSaved\": false, \"searchState\": \"q=data scientist $20,000&amp;l=New+York&amp;start=10\", \"basicPermaLink\": \"http://www.indeed.com\", \"saveJobFailed\": false, \"removeJobFailed\": false, \"requestPending\": false, \"notesEnabled\": true, \"currentPage\" : \"serp\", \"sponsored\" : false,\"reportJobButtonEnabled\": false, \"showMyJobsHired\": false};\n",
      "      </script>\n",
      "     </div>\n",
      "    </div>\n",
      "    <div class=\"tab-container\">\n",
      "     <div class=\"more-links-container result-tab\" id=\"tt_display_7\" style=\"display:none;\">\n",
      "      <a class=\"close-link closeLink\" href=\"#\" onclick=\"toggleMoreLinks('4409120c119aaad4'); return false;\" title=\"Close\">\n",
      "      </a>\n",
      "      <div class=\"more_actions\" id=\"more_7\">\n",
      "       <ul>\n",
      "        <li>\n",
      "         <span class=\"mat\">\n",
      "          View all\n",
      "          <a href=\"/q-Crisis-Text-Line-l-New-York,-NY-jobs.html\" rel=\"nofollow\">\n",
      "           Crisis Text Line jobs in New York, NY\n",
      "          </a>\n",
      "          -\n",
      "          <a href=\"/l-New-York,-NY-jobs.html\">\n",
      "           New York jobs\n",
      "          </a>\n",
      "         </span>\n",
      "        </li>\n",
      "        <li>\n",
      "         <span class=\"mat\">\n",
      "          Salary Search:\n",
      "          <a href=\"/salary?q1=Data+Scientist&amp;l1=New+York%2C+NY\">\n",
      "           Data Scientist salaries in New York, NY\n",
      "          </a>\n",
      "         </span>\n",
      "        </li>\n",
      "        <li>\n",
      "         <span class=\"mat\">\n",
      "          Learn more about working at\n",
      "          <a href=\"/cmp/Crisis-Text-Line?fromjk=4409120c119aaad4&amp;from=serp-more&amp;campaignid=serp-more&amp;jcid=fb5f16a6f0391ca1\">\n",
      "           Crisis Text Line\n",
      "          </a>\n",
      "         </span>\n",
      "        </li>\n",
      "        <li>\n",
      "         <span class=\"mat\">\n",
      "          Related forums:\n",
      "          <a href=\"/forum/loc/New-York-New-York.html\">\n",
      "           New York, New York\n",
      "          </a>\n",
      "          -\n",
      "          <a href=\"/forum/cmp/Crisis-Text-Line.html\">\n",
      "           Crisis Text Line\n",
      "          </a>\n",
      "         </span>\n",
      "        </li>\n",
      "       </ul>\n",
      "      </div>\n",
      "     </div>\n",
      "     <div class=\"dya-container result-tab\">\n",
      "     </div>\n",
      "     <div class=\"tellafriend-container result-tab email_job_content\">\n",
      "     </div>\n",
      "     <div class=\"sign-in-container result-tab\">\n",
      "     </div>\n",
      "     <div class=\"notes-container result-tab\">\n",
      "     </div>\n",
      "    </div>\n",
      "   </td>\n",
      "  </tr>\n",
      " </table>\n",
      "</div>\n",
      "\n",
      "\n",
      "\n",
      "<div class=\" row result\" data-jk=\"a20263f11f5b6831\" data-tn-component=\"organicJob\" id=\"p_a20263f11f5b6831\" itemscope=\"\" itemtype=\"http://schema.org/JobPosting\">\n",
      " <h2 class=\"jobtitle\" id=\"jl_a20263f11f5b6831\">\n",
      "  <a class=\"turnstileLink\" data-tn-element=\"jobTitle\" href=\"/cmp/Memorial-Sloan-Kettering-Cancer-Center/jobs/Bioinformatic-Data-Scientist-a20263f11f5b6831?r=1&amp;fccid=6174c87d0396cbfd\" itemprop=\"title\" onclick=\"setRefineByCookie(['salest']); return rclk(this,jobmap[8],true,0);\" onmousedown=\"return rclk(this,jobmap[8],0);\" rel=\"nofollow\" target=\"_blank\" title=\"Bioinformatics Data Scientist - Cancer Genomics, NYC\">\n",
      "   Bioinformatics\n",
      "   <b>\n",
      "    Data\n",
      "   </b>\n",
      "   <b>\n",
      "    Scientist\n",
      "   </b>\n",
      "   - Cancer Genomics, NYC\n",
      "  </a>\n",
      " </h2>\n",
      " <span class=\"company\" itemprop=\"hiringOrganization\" itemtype=\"http://schema.org/Organization\">\n",
      "  <span itemprop=\"name\">\n",
      "   Memorial Sloan Kettering Cancer Center\n",
      "  </span>\n",
      " </span>\n",
      " -\n",
      " <span itemprop=\"jobLocation\" itemscope=\"\" itemtype=\"http://schema.org/Place\">\n",
      "  <span class=\"location\" itemprop=\"address\" itemscope=\"\" itemtype=\"http://schema.org/Postaladdress\">\n",
      "   <span itemprop=\"addressLocality\">\n",
      "    New York, NY 10065\n",
      "    <span style=\"font-size: smaller\">\n",
      "     (Upper East Side area)\n",
      "    </span>\n",
      "   </span>\n",
      "  </span>\n",
      " </span>\n",
      " <table border=\"0\" cellpadding=\"0\" cellspacing=\"0\">\n",
      "  <tr>\n",
      "   <td class=\"snip\">\n",
      "    <div>\n",
      "     <span class=\"summary\" itemprop=\"description\">\n",
      "      Working together with members in the group, the *Bioinformatics\n",
      "      <b>\n",
      "       Data\n",
      "      </b>\n",
      "      <b>\n",
      "       Scientist\n",
      "      </b>\n",
      "      *. As part of their role the Bioinformatics\n",
      "      <b>\n",
      "       data\n",
      "      </b>\n",
      "      <b>\n",
      "       scientist\n",
      "      </b>\n",
      "      will support end-to-end...\n",
      "     </span>\n",
      "    </div>\n",
      "    <div class=\"iaP\">\n",
      "     <span class=\"iaLabel\">\n",
      "      Easily apply\n",
      "     </span>\n",
      "    </div>\n",
      "    <div class=\"result-link-bar-container\">\n",
      "     <div class=\"result-link-bar\">\n",
      "      <span class=\"date\">\n",
      "       7 days ago\n",
      "      </span>\n",
      "      <span class=\"tt_set\" id=\"tt_set_8\">\n",
      "       -\n",
      "       <span class=\"savelink2\" id=\"savelink2_a20263f11f5b6831\">\n",
      "        <a class=\"sl resultLink save-job-link\" href=\"#\" id=\"sj_a20263f11f5b6831\" onclick=\"changeJobState('a20263f11f5b6831', 'save', 'linkbar', false);return false;\" title=\"Save this job to my.indeed\">\n",
      "         save job\n",
      "        </a>\n",
      "       </span>\n",
      "       -\n",
      "       <a class=\"sl resultLink tellafriend-link \" href=\"mailto:?subject=I found this job on Indeed&amp;body=http://www.indeed.com\" onclick=\"toggleTellAFriend('a20263f11f5b6831', 8, false); return false;\">\n",
      "        email\n",
      "       </a>\n",
      "       -\n",
      "       <a class=\"sl resultLink more-link \" href=\"#\" id=\"tog_8\" onclick=\"toggleMoreLinks('a20263f11f5b6831'); return false;\">\n",
      "        more...\n",
      "       </a>\n",
      "      </span>\n",
      "      <div class=\"edit_note_content\" id=\"editsaved2_a20263f11f5b6831\" style=\"display:none;\">\n",
      "      </div>\n",
      "      <script>\n",
      "       window['result_a20263f11f5b6831'] = {\"showSource\": false, \"source\": \"Indeed\", \"loggedIn\": false, \"showMyJobsLinks\": true,\"undoAction\": \"unsave\",\"relativeJobAge\": \"7 days ago\",\"jobKey\": \"a20263f11f5b6831\", \"myIndeedAvailable\": true, \"tellAFriendEnabled\": true, \"showMoreActionsLink\": true, \"resultNumber\": 8, \"jobStateChangedToSaved\": false, \"searchState\": \"q=data scientist $20,000&amp;l=New+York&amp;start=10\", \"basicPermaLink\": \"http://www.indeed.com\", \"saveJobFailed\": false, \"removeJobFailed\": false, \"requestPending\": false, \"notesEnabled\": true, \"currentPage\" : \"serp\", \"sponsored\" : false,\"reportJobButtonEnabled\": false, \"showMyJobsHired\": false};\n",
      "      </script>\n",
      "     </div>\n",
      "    </div>\n",
      "    <div class=\"tab-container\">\n",
      "     <div class=\"more-links-container result-tab\" id=\"tt_display_8\" style=\"display:none;\">\n",
      "      <a class=\"close-link closeLink\" href=\"#\" onclick=\"toggleMoreLinks('a20263f11f5b6831'); return false;\" title=\"Close\">\n",
      "      </a>\n",
      "      <div class=\"more_actions\" id=\"more_8\">\n",
      "       <ul>\n",
      "        <li>\n",
      "         <span class=\"mat\">\n",
      "          View all\n",
      "          <a href=\"/q-Memorial-Sloan-Kettering-Cancer-Center-l-New-York,-NY-jobs.html\" rel=\"nofollow\">\n",
      "           Memorial Sloan Kettering Cancer Center jobs in New York, NY\n",
      "          </a>\n",
      "          -\n",
      "          <a href=\"/l-New-York,-NY-jobs.html\">\n",
      "           New York jobs\n",
      "          </a>\n",
      "         </span>\n",
      "        </li>\n",
      "        <li>\n",
      "         <span class=\"mat\">\n",
      "          Salary Search:\n",
      "          <a href=\"/salary?q1=Bioinformatic+Data+Scientist&amp;l1=New+York%2C+NY\">\n",
      "           Bioinformatic Data Scientist salaries in New York, NY\n",
      "          </a>\n",
      "         </span>\n",
      "        </li>\n",
      "        <li>\n",
      "         <span class=\"mat\">\n",
      "          Related forums:\n",
      "          <a href=\"/forum/loc/New-York-New-York.html\">\n",
      "           New York, New York\n",
      "          </a>\n",
      "          -\n",
      "          <a href=\"/forum/cmp/Memorial-Sloan-Kettering-Cancer-Center-7.html\">\n",
      "           Memorial Sloan Kettering Cancer Center\n",
      "          </a>\n",
      "         </span>\n",
      "        </li>\n",
      "       </ul>\n",
      "      </div>\n",
      "     </div>\n",
      "     <div class=\"dya-container result-tab\">\n",
      "     </div>\n",
      "     <div class=\"tellafriend-container result-tab email_job_content\">\n",
      "     </div>\n",
      "     <div class=\"sign-in-container result-tab\">\n",
      "     </div>\n",
      "     <div class=\"notes-container result-tab\">\n",
      "     </div>\n",
      "    </div>\n",
      "   </td>\n",
      "  </tr>\n",
      " </table>\n",
      "</div>\n",
      "\n",
      "\n",
      "\n"
     ]
    }
   ],
   "source": [
    "#print result to look at how the page is structured and how to find info we need\n",
    "\n",
    "for item in ind_soup.findAll(\"div\", class_=\" row result\"):\n",
    "    print item.prettify()\n",
    "    print \"\"\n",
    "    print \"\""
   ]
  },
  {
   "cell_type": "markdown",
   "metadata": {
    "focus": false,
    "id": "bb0b866a-26a7-45e9-8084-5a0f90eb4b3e"
   },
   "source": [
    "Results show that:\n",
    "\n",
    "- The salary is available in a `nobr` element inside of a `td` element with `class='snip`.\n",
    "- The title of a job is in a link with class set to `jobtitle` and a `data-tn-element=\"jobTitle`.  \n",
    "- The location is set in a `span` with `class='location'`. \n",
    "- The company is set in a `span` with `class='company'`. "
   ]
  },
  {
   "cell_type": "markdown",
   "metadata": {
    "focus": false,
    "id": "f1eddb90-4ba8-483c-a229-77e93aa53119"
   },
   "source": [
    "### Write 4 functions to extract each item: location, company, job, and salary."
   ]
  },
  {
   "cell_type": "code",
   "execution_count": 5,
   "metadata": {
    "collapsed": false
   },
   "outputs": [],
   "source": [
    "#pull title\n",
    "\n",
    "def title_from_code(result):\n",
    "    titles = []\n",
    "    for items in result.findAll(\"h2\", class_=\"jobtitle\"):\n",
    "        titles.append(items.text)\n",
    "    return titles"
   ]
  },
  {
   "cell_type": "code",
   "execution_count": 6,
   "metadata": {
    "collapsed": false,
    "focus": false,
    "id": "a1af53c9-9090-494f-b82e-cadb60a54909"
   },
   "outputs": [],
   "source": [
    "#pull location\n",
    "\n",
    "def location_from_code(result):\n",
    "    locations = []\n",
    "    for items in result.findAll(\"span\", class_=\"location\"):\n",
    "        locations.append(items.text)\n",
    "    return locations"
   ]
  },
  {
   "cell_type": "code",
   "execution_count": 7,
   "metadata": {
    "collapsed": false
   },
   "outputs": [],
   "source": [
    "#pull company\n",
    "\n",
    "def company_from_code(result):\n",
    "    companies = []\n",
    "    for items in result.findAll(\"span\", class_ = \"company\"):\n",
    "        items = items.text\n",
    "        newitems = items.replace(\"\\n\", \"\")\n",
    "        newitems = newitems.replace(\"    \", \"\")\n",
    "        companies.append(newitems)\n",
    "    return companies"
   ]
  },
  {
   "cell_type": "code",
   "execution_count": 8,
   "metadata": {
    "collapsed": false
   },
   "outputs": [],
   "source": [
    "#pull salary - have to put in \"none\" since not every listing has a salary\n",
    "\n",
    "def salary_from_code(result):\n",
    "    salaries = []\n",
    "    for i in result.findAll(\"td\", class_= \"snip\"):\n",
    "        if i.find(\"nobr\") != None:\n",
    "            newitems = i.find(\"nobr\").text\n",
    "            newitems = newitems.replace(\" a year\", \"\")\n",
    "            salaries.append(str(newitems))\n",
    "        else:\n",
    "            salaries.append(\"None\")\n",
    "    return salaries"
   ]
  },
  {
   "cell_type": "markdown",
   "metadata": {
    "focus": false,
    "id": "34070e89-9521-4b45-90c8-57a6599aac68"
   },
   "source": [
    "### Apply the functions to pull key features from a larger set of data science jobs"
   ]
  },
  {
   "cell_type": "code",
   "execution_count": 11,
   "metadata": {
    "collapsed": false,
    "focus": false,
    "id": "04b0f9af-540e-402f-8292-81748707c676"
   },
   "outputs": [],
   "source": [
    "#pull beautiful soups for a series of tech-focused cities \n",
    "\n",
    "url_template = \"http://www.indeed.com/jobs?q=data+scientist+%2420%2C000&l={}&start={}\"\n",
    "max_results_per_city = 600\n",
    "\n",
    "results = []\n",
    "urllist = []\n",
    "\n",
    "for city in set(['New+York', 'San+Francisco', 'Austin', \"Seattle\", \"Boston\", \"Raleigh\", \"Charlotte\", \"Chicago\", \"Portland\", \"New+Orleans\", \"Denver\"]):\n",
    "    for start in range(0, max_results_per_city, 10):\n",
    "        newurl = url_template.replace(\"{}\", city, 1)\n",
    "        newurl = newurl.replace(\"{}\", str(start))\n",
    "        urllist.append(newurl)\n",
    "\n",
    "for url in urllist:\n",
    "    r = requests.get(url)\n",
    "    inds_soups = BeautifulSoup(r.content, \"lxml\")\n",
    "    for item in inds_soups.findAll(\"div\", class_=\" row result\"):\n",
    "        results.append(item)"
   ]
  },
  {
   "cell_type": "code",
   "execution_count": 13,
   "metadata": {
    "collapsed": false,
    "focus": false,
    "id": "6e259594-1c52-436b-ab9e-527e071941c1"
   },
   "outputs": [],
   "source": [
    "#apply functions to the beautiful soups, and use as lists\n",
    "\n",
    "locations = []\n",
    "title = []\n",
    "company = []\n",
    "salary = []\n",
    "\n",
    "for item in results:\n",
    "    locations.append(''.join(location_from_code(item)))\n",
    "    title.append(''.join(title_from_code(item)))\n",
    "    company.append(''.join(company_from_code(item)))\n",
    "    salary.append(''.join(salary_from_code(item)))"
   ]
  },
  {
   "cell_type": "code",
   "execution_count": 14,
   "metadata": {
    "collapsed": false
   },
   "outputs": [],
   "source": [
    "#append into a dataframe\n",
    "\n",
    "df = pd.DataFrame(locations, title)\n",
    "\n",
    "df[\"salary\"] = salary\n",
    "df[\"company\"] = company"
   ]
  },
  {
   "cell_type": "code",
   "execution_count": 17,
   "metadata": {
    "collapsed": true
   },
   "outputs": [],
   "source": [
    "#reset index \n",
    "\n",
    "df.reset_index(inplace = True)"
   ]
  },
  {
   "cell_type": "code",
   "execution_count": 19,
   "metadata": {
    "collapsed": false
   },
   "outputs": [
    {
     "data": {
      "text/html": [
       "<div>\n",
       "<table border=\"1\" class=\"dataframe\">\n",
       "  <thead>\n",
       "    <tr style=\"text-align: right;\">\n",
       "      <th></th>\n",
       "      <th>Title</th>\n",
       "      <th>Location</th>\n",
       "      <th>Salary</th>\n",
       "      <th>Company</th>\n",
       "    </tr>\n",
       "  </thead>\n",
       "  <tbody>\n",
       "    <tr>\n",
       "      <th>0</th>\n",
       "      <td>\\nStatistical Analyst\\n</td>\n",
       "      <td>Charlotte, NC</td>\n",
       "      <td>None</td>\n",
       "      <td>U.S. Bank</td>\n",
       "    </tr>\n",
       "    <tr>\n",
       "      <th>1</th>\n",
       "      <td>\\nHR Data Analytics / Predictive Modeling Spec...</td>\n",
       "      <td>Charlotte, NC</td>\n",
       "      <td>None</td>\n",
       "      <td>NRE</td>\n",
       "    </tr>\n",
       "    <tr>\n",
       "      <th>2</th>\n",
       "      <td>\\nStatistician/Intermediate - Levine Cancer In...</td>\n",
       "      <td>Charlotte, NC</td>\n",
       "      <td>None</td>\n",
       "      <td>Carolinas HealthCare System</td>\n",
       "    </tr>\n",
       "    <tr>\n",
       "      <th>3</th>\n",
       "      <td>\\nResearch Analyst\\n</td>\n",
       "      <td>Charlotte, NC</td>\n",
       "      <td>None</td>\n",
       "      <td>Carolinas HealthCare System</td>\n",
       "    </tr>\n",
       "    <tr>\n",
       "      <th>4</th>\n",
       "      <td>\\nData Science - Behavioral Analytics\\n</td>\n",
       "      <td>Charlotte, NC</td>\n",
       "      <td>None</td>\n",
       "      <td>Tom McDonald</td>\n",
       "    </tr>\n",
       "  </tbody>\n",
       "</table>\n",
       "</div>"
      ],
      "text/plain": [
       "                                               Title       Location Salary  \\\n",
       "0                            \\nStatistical Analyst\\n  Charlotte, NC   None   \n",
       "1  \\nHR Data Analytics / Predictive Modeling Spec...  Charlotte, NC   None   \n",
       "2  \\nStatistician/Intermediate - Levine Cancer In...  Charlotte, NC   None   \n",
       "3                               \\nResearch Analyst\\n  Charlotte, NC   None   \n",
       "4            \\nData Science - Behavioral Analytics\\n  Charlotte, NC   None   \n",
       "\n",
       "                       Company  \n",
       "0                    U.S. Bank  \n",
       "1                          NRE  \n",
       "2  Carolinas HealthCare System  \n",
       "3  Carolinas HealthCare System  \n",
       "4                 Tom McDonald  "
      ]
     },
     "execution_count": 19,
     "metadata": {},
     "output_type": "execute_result"
    }
   ],
   "source": [
    "#change column titles\n",
    "\n",
    "df.columns = [\"Title\", \"Location\", \"Salary\", \"Company\"]\n",
    "df.head()"
   ]
  },
  {
   "cell_type": "code",
   "execution_count": 20,
   "metadata": {
    "collapsed": false
   },
   "outputs": [
    {
     "data": {
      "text/plain": [
       "None                        4613\n",
       "$7,300 - $8,500 a month       52\n",
       "$7,083 - $9,166 a month       43\n",
       "$150,000                       7\n",
       "$200,000                       6\n",
       "$5,400 - $6,500 a month        6\n",
       "$130,000                       6\n",
       "$6,250 - $10,833 a month       5\n",
       "$20.65 an hour                 5\n",
       "$140,000                       5\n",
       "$85,000                        5\n",
       "$150,000 - $200,000            4\n",
       "$100,000 - $200,000            3\n",
       "$115,000 - $150,000            3\n",
       "$105,000                       3\n",
       "$20 an hour                    3\n",
       "$80,000 - $200,000             3\n",
       "$100,000 - $150,000            3\n",
       "$110,000 - $200,000            3\n",
       "$140,000 - $160,000            3\n",
       "$150,000 - $230,000            3\n",
       "$110,000 - $150,000            3\n",
       "$120,000 - $155,000            3\n",
       "$115,000 - $135,000            2\n",
       "$170,000                       2\n",
       "$80,000 - $120,000             2\n",
       "$135,000                       2\n",
       "$90,000                        2\n",
       "$57,393 - $95,037              2\n",
       "$110,000 - $180,000            2\n",
       "                            ... \n",
       "$110,000 - $130,000            1\n",
       "$15.49 an hour                 1\n",
       "$115,000 - $145,000            1\n",
       "$50,000                        1\n",
       "$85,000 - $130,000             1\n",
       "$155,000                       1\n",
       "$4,459 a month                 1\n",
       "$66,654                        1\n",
       "$25.24 an hour                 1\n",
       "$33 an hour                    1\n",
       "$886 a week                    1\n",
       "$100,000 - $170,000            1\n",
       "$43,692 - $51,120              1\n",
       "$130,000 - $155,000            1\n",
       "$45,000 - $50,000              1\n",
       "$3,837 - $5,611 a month        1\n",
       "$90,000 - $140,000             1\n",
       "$87,094 - $113,227             1\n",
       "$47,000 - $93,000              1\n",
       "$120,000 - $150,000            1\n",
       "$72,364 - $96,934              1\n",
       "$61,000 - $62,000              1\n",
       "$82,000 - $93,000              1\n",
       "$64,862 - $120,187             1\n",
       "$130,000 - $160,000            1\n",
       "$2,500 a month                 1\n",
       "$110,000                       1\n",
       "$800 a day                     1\n",
       "$42,000 - $46,500              1\n",
       "$4,792 - $6,447 a month        1\n",
       "Name: Salary, dtype: int64"
      ]
     },
     "execution_count": 20,
     "metadata": {},
     "output_type": "execute_result"
    }
   ],
   "source": [
    "#take a look at how the salary count is going - which looks a little off becuase most of it is not annual\n",
    "\n",
    "df[\"Salary\"].value_counts()"
   ]
  },
  {
   "cell_type": "markdown",
   "metadata": {
    "focus": false,
    "id": "ff98ce64-78a7-441f-a675-63464e32c834"
   },
   "source": [
    "### Clean up the dataframe"
   ]
  },
  {
   "cell_type": "markdown",
   "metadata": {},
   "source": [
    "Clean up the salaries"
   ]
  },
  {
   "cell_type": "code",
   "execution_count": 236,
   "metadata": {
    "collapsed": false,
    "focus": false,
    "id": "58533e57-f86b-494a-b841-e7b59c6229c6"
   },
   "outputs": [
    {
     "data": {
      "text/plain": [
       "Title       object\n",
       "Location    object\n",
       "Salary      object\n",
       "Company     object\n",
       "dtype: object"
      ]
     },
     "execution_count": 236,
     "metadata": {},
     "output_type": "execute_result"
    }
   ],
   "source": [
    "# Check on the dataframe types\n",
    "\n",
    "df.dtypes"
   ]
  },
  {
   "cell_type": "code",
   "execution_count": 21,
   "metadata": {
    "collapsed": false
   },
   "outputs": [
    {
     "name": "stdout",
     "output_type": "stream",
     "text": [
      "[572, 577, 609, 762, 799, 994, 1140, 1200, 1226, 1326, 1338, 1378, 1398, 1591, 1667, 1960, 2081, 2133, 2837, 2853, 2867, 2899, 2925, 2933, 2937, 2945, 2953, 2970, 2974, 2982, 2989, 2999, 3279, 3767, 3798, 3825, 3826, 4219, 4302, 4431, 4441, 4656, 4747, 4750, 4754, 4766, 4784]\n",
      "[1236, 2206, 3762, 3792, 3800, 3807, 3832, 3839, 3841, 3848, 3855, 3862, 3869, 3876, 3883, 3890, 3897, 3904, 3911, 3918, 3925, 3932, 3939, 3946, 3953, 3960, 3967, 3974, 3981, 3988, 3995, 4002, 4009, 4016, 4023, 4030, 4037, 4044, 4051, 4058, 4065, 4072, 4079, 4086, 4093, 4100, 4107, 4114, 4121, 4128, 4135, 4142, 4149, 4156, 4163, 4170, 4177, 4184, 4191, 4253, 4275, 4276, 4305, 4311, 4411, 4430, 4482, 4496, 4602, 4667, 4719, 4741, 4755, 4756, 4757, 4758, 4764, 4768, 4770, 4772, 4792, 4796, 4807, 4818, 4827, 4829, 4830, 4835, 4839, 4850, 4883, 4889, 4900, 4902, 4904, 4906, 4908, 4910, 4912, 4914, 4916, 4918, 4920, 4922, 4924, 4926, 4928, 4930, 4932, 4934, 4936, 4938, 4940, 4942, 4944, 4946, 4948, 4950, 4952, 4954, 4956, 4958, 4960, 4962, 4964, 4966, 4968, 4970, 4972, 4974, 4976, 4978, 4980, 4982]\n",
      "[32, 1675, 1894, 1957, 2038]\n",
      "[690, 1444, 1467, 4585]\n"
     ]
    }
   ],
   "source": [
    "#identify which rows have salaries that are not annual\n",
    "\n",
    "print df.loc[df['Salary'].str.contains(\"hour\")].index.tolist()\n",
    "print df.loc[df['Salary'].str.contains(\"month\")].index.tolist()\n",
    "print df.loc[df['Salary'].str.contains(\"week\")].index.tolist()\n",
    "print df.loc[df['Salary'].str.contains(\"day\")].index.tolist()"
   ]
  },
  {
   "cell_type": "code",
   "execution_count": 22,
   "metadata": {
    "collapsed": false
   },
   "outputs": [],
   "source": [
    "#put these into a list\n",
    "\n",
    "removeindex = []\n",
    "removeindex.append(df.loc[df['Salary'].str.contains(\"hour\")].index.tolist())\n",
    "removeindex.append(df.loc[df['Salary'].str.contains(\"month\")].index.tolist())\n",
    "removeindex.append(df.loc[df['Salary'].str.contains(\"week\")].index.tolist())\n",
    "removeindex.append(df.loc[df['Salary'].str.contains(\"day\")].index.tolist())"
   ]
  },
  {
   "cell_type": "code",
   "execution_count": 23,
   "metadata": {
    "collapsed": false
   },
   "outputs": [],
   "source": [
    "#flatten list\n",
    "\n",
    "removeindexfinal = [val for sublist in removeindex for val in sublist]"
   ]
  },
  {
   "cell_type": "code",
   "execution_count": 25,
   "metadata": {
    "collapsed": false
   },
   "outputs": [],
   "source": [
    "#remove all non-annual salaries\n",
    "\n",
    "df.drop(df.index[removeindexfinal], inplace = True)"
   ]
  },
  {
   "cell_type": "code",
   "execution_count": 26,
   "metadata": {
    "collapsed": false
   },
   "outputs": [
    {
     "data": {
      "text/plain": [
       "array(['None', '$110,000 - $200,000', '$100,000 - $150,000',\n",
       "       '$45,001 - $55,000', '$175,000 - $250,000', '$105,000', '$85,000',\n",
       "       '$80,000 - $110,000', '$115,000 - $150,000', '$150,000', '$145,000',\n",
       "       '$95,000', '$71,000', '$140,000', '$110,000 - $160,000',\n",
       "       '$80,000 - $100,000', '$100,000 - $120,000', '$50,000 - $60,000',\n",
       "       '$150,000 - $200,000', '$110,000 - $150,000', '$70,000 - $110,000',\n",
       "       '$65,000 - $90,000', '$120,000 - $155,000', '$75,000 - $95,000',\n",
       "       '$130,000', '$170,000', '$125,000 - $150,000', '$60,000 - $120,000',\n",
       "       '$110,000', '$120,000', '$180,000', '$80,000 - $120,000',\n",
       "       '$130,000 - $170,000', '$150,000 - $180,000', '$43,692 - $51,120',\n",
       "       '$110,000 - $180,000', '$140,000 - $160,000', '$120,000 - $165,000',\n",
       "       '$150,000 - $170,000', '$150,000 - $160,000', '$72,364 - $96,934',\n",
       "       '$125,000 - $135,000', '$120,000 - $150,000', '$115,000 - $145,000',\n",
       "       '$200,000', '$165,000 - $195,000', '$20,093 - $22,496',\n",
       "       '$140,000 - $200,000', '$80,000 - $200,000', '$130,000 - $155,000',\n",
       "       '$49,012', '$61,848 - $64,920', '$130,000 - $150,000', '$155,000',\n",
       "       '$125,000', '$170,000 - $200,000', '$100,000 - $200,000',\n",
       "       '$135,000', '$60,000 - $90,000', '$53,875', '$50,000',\n",
       "       '$200,000 - $300,000', '$150,000 - $240,000', '$165,000',\n",
       "       '$61,031 - $85,000', '$75,243 - $94,834', '$90,000', '$75,000',\n",
       "       '$65,000', '$24,000 - $56,000', '$59,250', '$75,000 - $100,000',\n",
       "       '$61,000 - $62,000', '$130,000 - $175,000', '$130,000 - $160,000',\n",
       "       '$175,000 - $275,000', '$120,000 - $170,000', '$45,488',\n",
       "       '$68,239 - $85,644', '$85,211 - $110,522', '$107,272 - $139,457',\n",
       "       '$76,341 - $99,243', '$47,000 - $93,000', '$67,588',\n",
       "       '$90,779 - $118,018', '$62,712 - $75,255', '$42,000 - $45,000',\n",
       "       '$42,000 - $46,500', '$66,654', '$45,000 - $50,000',\n",
       "       '$87,094 - $113,227', '$60,000 - $80,000', '$87,094 - $133,796',\n",
       "       '$36,363 - $80,521', '$43,000 - $49,000', '$60,347 - $94,037',\n",
       "       '$57,393 - $95,037', '$44,233 - $54,063', '$60,000 - $140,000',\n",
       "       '$120,000 - $180,000', '$110,000 - $145,000', '$230,000 - $250,000',\n",
       "       '$100,000 - $125,000', '$85,000 - $130,000', '$53,415 - $76,469',\n",
       "       '$64,586 - $91,073', '$64,862 - $120,187', '$115,000 - $135,000',\n",
       "       '$82,000 - $93,000', '$92,448 - $142,021', '$56,000 - $70,000',\n",
       "       '$90,000 - $140,000', '$42,840', '$150,000 - $230,000',\n",
       "       '$80,000 - $85,000', '$40,000', '$110,000 - $130,000',\n",
       "       '$61,920 - $81,264', '$100,000 - $170,000', '$70,000 - $100,000',\n",
       "       '$160,000'], dtype=object)"
      ]
     },
     "execution_count": 26,
     "metadata": {},
     "output_type": "execute_result"
    }
   ],
   "source": [
    "#check the remaining salaries\n",
    "\n",
    "df[\"Salary\"].unique()"
   ]
  },
  {
   "cell_type": "code",
   "execution_count": 27,
   "metadata": {
    "collapsed": false,
    "focus": false,
    "id": "a0f701e0-80bd-40ba-9101-4535860c0968"
   },
   "outputs": [],
   "source": [
    "#create a function that converts single values to floats, and those that are ranges into the average of the range\n",
    "\n",
    "def salaryfloat(item):\n",
    "    lists1 = []\n",
    "    if \"None\" in item:\n",
    "        return np.nan\n",
    "    elif \"-\" in item:\n",
    "        item = item.replace(\"$\", \"\")\n",
    "        item = item.replace(\",\", \"\")\n",
    "        lists1 = item.split(\" - \")\n",
    "        mean = (float(lists1[0]) + float(lists1[1]))/2\n",
    "        return mean\n",
    "    elif \"$\" in item:\n",
    "        item = item.replace(\"$\", \"\")\n",
    "        item = item.replace(\",\", \"\")\n",
    "        newitem = float(item)\n",
    "        return newitem"
   ]
  },
  {
   "cell_type": "code",
   "execution_count": 28,
   "metadata": {
    "collapsed": false
   },
   "outputs": [],
   "source": [
    "#apply the function\n",
    "\n",
    "df[\"Salary\"] = df[\"Salary\"].apply(salaryfloat)"
   ]
  },
  {
   "cell_type": "code",
   "execution_count": 30,
   "metadata": {
    "collapsed": true
   },
   "outputs": [],
   "source": [
    "#change the spaces in the titles \n",
    "\n",
    "df[\"Title\"] = df[\"Title\"].apply(lambda x: x.replace(\"\\n\", \"\"))"
   ]
  },
  {
   "cell_type": "code",
   "execution_count": 31,
   "metadata": {
    "collapsed": false
   },
   "outputs": [],
   "source": [
    "#encode all the titles, locations and companies into ascii\n",
    "\n",
    "df[\"Title\"] = df[\"Title\"].apply(lambda x: x.encode(\"ascii\", \"ignore\"))\n",
    "df[\"Location\"] = df[\"Location\"].apply(lambda x: x.encode(\"ascii\", \"ignore\"))\n",
    "df[\"Company\"] = df[\"Company\"].apply(lambda x: x.encode(\"ascii\", \"ignore\"))"
   ]
  },
  {
   "cell_type": "code",
   "execution_count": 34,
   "metadata": {
    "collapsed": false
   },
   "outputs": [
    {
     "data": {
      "text/html": [
       "<div>\n",
       "<table border=\"1\" class=\"dataframe\">\n",
       "  <thead>\n",
       "    <tr style=\"text-align: right;\">\n",
       "      <th></th>\n",
       "      <th>Title</th>\n",
       "      <th>Location</th>\n",
       "      <th>Salary</th>\n",
       "      <th>Company</th>\n",
       "    </tr>\n",
       "  </thead>\n",
       "  <tbody>\n",
       "    <tr>\n",
       "      <th>0</th>\n",
       "      <td>Statistical Analyst</td>\n",
       "      <td>Charlotte, NC</td>\n",
       "      <td>NaN</td>\n",
       "      <td>U.S. Bank</td>\n",
       "    </tr>\n",
       "    <tr>\n",
       "      <th>1</th>\n",
       "      <td>HR Data Analytics / Predictive Modeling Specia...</td>\n",
       "      <td>Charlotte, NC</td>\n",
       "      <td>NaN</td>\n",
       "      <td>NRE</td>\n",
       "    </tr>\n",
       "    <tr>\n",
       "      <th>2</th>\n",
       "      <td>Statistician/Intermediate - Levine Cancer Inst...</td>\n",
       "      <td>Charlotte, NC</td>\n",
       "      <td>NaN</td>\n",
       "      <td>Carolinas HealthCare System</td>\n",
       "    </tr>\n",
       "    <tr>\n",
       "      <th>3</th>\n",
       "      <td>Research Analyst</td>\n",
       "      <td>Charlotte, NC</td>\n",
       "      <td>NaN</td>\n",
       "      <td>Carolinas HealthCare System</td>\n",
       "    </tr>\n",
       "    <tr>\n",
       "      <th>4</th>\n",
       "      <td>Data Science - Behavioral Analytics</td>\n",
       "      <td>Charlotte, NC</td>\n",
       "      <td>NaN</td>\n",
       "      <td>Tom McDonald</td>\n",
       "    </tr>\n",
       "  </tbody>\n",
       "</table>\n",
       "</div>"
      ],
      "text/plain": [
       "                                               Title       Location  Salary  \\\n",
       "0                                Statistical Analyst  Charlotte, NC     NaN   \n",
       "1  HR Data Analytics / Predictive Modeling Specia...  Charlotte, NC     NaN   \n",
       "2  Statistician/Intermediate - Levine Cancer Inst...  Charlotte, NC     NaN   \n",
       "3                                   Research Analyst  Charlotte, NC     NaN   \n",
       "4                Data Science - Behavioral Analytics  Charlotte, NC     NaN   \n",
       "\n",
       "                       Company  \n",
       "0                    U.S. Bank  \n",
       "1                          NRE  \n",
       "2  Carolinas HealthCare System  \n",
       "3  Carolinas HealthCare System  \n",
       "4                 Tom McDonald  "
      ]
     },
     "execution_count": 34,
     "metadata": {},
     "output_type": "execute_result"
    }
   ],
   "source": [
    "#check to see the changes you've made\n",
    "\n",
    "df.head()"
   ]
  },
  {
   "cell_type": "markdown",
   "metadata": {
    "collapsed": false,
    "focus": false,
    "id": "43e71edd-210e-42b1-9336-70a931f048af"
   },
   "source": [
    "### Save your results as a CSV"
   ]
  },
  {
   "cell_type": "code",
   "execution_count": 280,
   "metadata": {
    "collapsed": false,
    "focus": false,
    "id": "783fd153-28ac-47ab-bfca-27e7c1de95b4"
   },
   "outputs": [],
   "source": [
    "#saved into a pdf\n",
    "\n",
    "pd.DataFrame(df).to_csv('indeeddf.csv')"
   ]
  },
  {
   "cell_type": "markdown",
   "metadata": {
    "focus": false,
    "id": "04563b69-f7b6-466f-9d65-fc62c9ddee6a"
   },
   "source": [
    "### Begin predictions"
   ]
  },
  {
   "cell_type": "code",
   "execution_count": 35,
   "metadata": {
    "collapsed": false,
    "focus": false,
    "id": "588f9845-6143-4bcc-bfd1-85d45b79303d"
   },
   "outputs": [],
   "source": [
    "# load in csv data\n",
    "\n",
    "indcsv = pd.read_csv(\"indeeddf.csv\")"
   ]
  },
  {
   "cell_type": "code",
   "execution_count": 37,
   "metadata": {
    "collapsed": false
   },
   "outputs": [
    {
     "data": {
      "text/html": [
       "<div>\n",
       "<table border=\"1\" class=\"dataframe\">\n",
       "  <thead>\n",
       "    <tr style=\"text-align: right;\">\n",
       "      <th></th>\n",
       "      <th>Title</th>\n",
       "      <th>Location</th>\n",
       "      <th>Salary</th>\n",
       "      <th>Company</th>\n",
       "    </tr>\n",
       "  </thead>\n",
       "  <tbody>\n",
       "    <tr>\n",
       "      <th>0</th>\n",
       "      <td>Associate Research Scientist</td>\n",
       "      <td>Palisades, NY</td>\n",
       "      <td>NaN</td>\n",
       "      <td>Columbia University</td>\n",
       "    </tr>\n",
       "    <tr>\n",
       "      <th>1</th>\n",
       "      <td>Director of Data Science and Analytics</td>\n",
       "      <td>New York, NY</td>\n",
       "      <td>NaN</td>\n",
       "      <td>Paperless Post</td>\n",
       "    </tr>\n",
       "    <tr>\n",
       "      <th>2</th>\n",
       "      <td>Machine Learning Engineer</td>\n",
       "      <td>New York, NY</td>\n",
       "      <td>NaN</td>\n",
       "      <td>Bloomberg</td>\n",
       "    </tr>\n",
       "    <tr>\n",
       "      <th>3</th>\n",
       "      <td>Ssr Data Scientist (R, Tableau, Python)</td>\n",
       "      <td>New York, NY</td>\n",
       "      <td>NaN</td>\n",
       "      <td>Globant</td>\n",
       "    </tr>\n",
       "    <tr>\n",
       "      <th>4</th>\n",
       "      <td>Bioinformatics Data Scientist - Cancer Genomic...</td>\n",
       "      <td>New York, NY 10065 (Upper East Side area)</td>\n",
       "      <td>NaN</td>\n",
       "      <td>Memorial Sloan Kettering Cancer Center</td>\n",
       "    </tr>\n",
       "  </tbody>\n",
       "</table>\n",
       "</div>"
      ],
      "text/plain": [
       "                                               Title  \\\n",
       "0                       Associate Research Scientist   \n",
       "1             Director of Data Science and Analytics   \n",
       "2                          Machine Learning Engineer   \n",
       "3            Ssr Data Scientist (R, Tableau, Python)   \n",
       "4  Bioinformatics Data Scientist - Cancer Genomic...   \n",
       "\n",
       "                                    Location  Salary  \\\n",
       "0                              Palisades, NY     NaN   \n",
       "1                               New York, NY     NaN   \n",
       "2                               New York, NY     NaN   \n",
       "3                               New York, NY     NaN   \n",
       "4  New York, NY 10065 (Upper East Side area)     NaN   \n",
       "\n",
       "                                  Company  \n",
       "0                     Columbia University  \n",
       "1                          Paperless Post  \n",
       "2                               Bloomberg  \n",
       "3                                 Globant  \n",
       "4  Memorial Sloan Kettering Cancer Center  "
      ]
     },
     "execution_count": 37,
     "metadata": {},
     "output_type": "execute_result"
    }
   ],
   "source": [
    "del indcsv[\"Unnamed: 0\"]\n",
    "indcsv.head()"
   ]
  },
  {
   "cell_type": "markdown",
   "metadata": {
    "focus": false,
    "id": "c7631f51-07f2-4c79-a093-3e9bc7849a48"
   },
   "source": [
    "Use salary as the target variable - this will be treated in a binary manner which is below or above the median salary in the list.\n",
    "\n",
    "This means that the baseline accuracy for this will be 50%"
   ]
  },
  {
   "cell_type": "code",
   "execution_count": 114,
   "metadata": {
    "collapsed": false
   },
   "outputs": [
    {
     "data": {
      "image/png": "[encoded data removed]",
      "text/plain": [
       "<matplotlib.figure.Figure at 0x18b857a50>"
      ]
     },
     "metadata": {},
     "output_type": "display_data"
    }
   ],
   "source": [
    "#take a look at the original plot of salaries\n",
    "\n",
    "indcsvmore[\"Salary\"].plot(kind = \"hist\", figsize = (15,5), color = \"orange\", bins = 50)\n",
    "\n",
    "ax = plt.gca()\n",
    "ax.set_title(\"Distribution of Salary\")\n",
    "ax.set_ylabel(\"Count\")\n",
    "ax.set_xlabel(\"Salary\")\n",
    "plt.show()"
   ]
  },
  {
   "cell_type": "code",
   "execution_count": 38,
   "metadata": {
    "collapsed": false,
    "focus": false,
    "id": "c20d2498-151c-44c3-a453-3a333c79a0ac"
   },
   "outputs": [
    {
     "name": "stdout",
     "output_type": "stream",
     "text": [
      "117234.5\n"
     ]
    }
   ],
   "source": [
    "#calculate the median\n",
    "\n",
    "print indcsv[\"Salary\"].median()"
   ]
  },
  {
   "cell_type": "code",
   "execution_count": 39,
   "metadata": {
    "collapsed": true
   },
   "outputs": [],
   "source": [
    "#write a function that creates the target variable of high or low if above or below the median\n",
    "\n",
    "def highlow(boops):\n",
    "    if boops == np.nan:\n",
    "        return np.nan\n",
    "    elif boops > 117234.5:\n",
    "        return \"High\"\n",
    "    elif boops <= 117234.5:\n",
    "        return \"Low\"        "
   ]
  },
  {
   "cell_type": "code",
   "execution_count": 40,
   "metadata": {
    "collapsed": true
   },
   "outputs": [],
   "source": [
    "#apply the function\n",
    "\n",
    "indcsv[\"SalaryBinary\"] = indcsv[\"Salary\"].apply(highlow)"
   ]
  },
  {
   "cell_type": "code",
   "execution_count": 41,
   "metadata": {
    "collapsed": false
   },
   "outputs": [
    {
     "data": {
      "text/html": [
       "<div>\n",
       "<table border=\"1\" class=\"dataframe\">\n",
       "  <thead>\n",
       "    <tr style=\"text-align: right;\">\n",
       "      <th></th>\n",
       "      <th>Title</th>\n",
       "      <th>Location</th>\n",
       "      <th>Salary</th>\n",
       "      <th>Company</th>\n",
       "      <th>SalaryBinary</th>\n",
       "    </tr>\n",
       "  </thead>\n",
       "  <tbody>\n",
       "    <tr>\n",
       "      <th>2084</th>\n",
       "      <td>Chief Data Scientist</td>\n",
       "      <td>Boston, MA 02116 (South End area)</td>\n",
       "      <td>240000.0</td>\n",
       "      <td>Jobspring Partners</td>\n",
       "      <td>High</td>\n",
       "    </tr>\n",
       "    <tr>\n",
       "      <th>146</th>\n",
       "      <td>Quantitative Analyst for Global Quant Fund</td>\n",
       "      <td>New York, NY</td>\n",
       "      <td>225000.0</td>\n",
       "      <td>Averity</td>\n",
       "      <td>High</td>\n",
       "    </tr>\n",
       "    <tr>\n",
       "      <th>556</th>\n",
       "      <td>Practice Leader for Management Consulting in P...</td>\n",
       "      <td>Charlotte, NC</td>\n",
       "      <td>212500.0</td>\n",
       "      <td>BIG 6 Search International</td>\n",
       "      <td>High</td>\n",
       "    </tr>\n",
       "    <tr>\n",
       "      <th>277</th>\n",
       "      <td>Junior Quantitative Analyst / Developer for $5...</td>\n",
       "      <td>New York, NY</td>\n",
       "      <td>200000.0</td>\n",
       "      <td>Averity</td>\n",
       "      <td>High</td>\n",
       "    </tr>\n",
       "    <tr>\n",
       "      <th>2114</th>\n",
       "      <td>Software Engineer - Machine Learning Team</td>\n",
       "      <td>Boston, MA</td>\n",
       "      <td>200000.0</td>\n",
       "      <td>NJF Search</td>\n",
       "      <td>High</td>\n",
       "    </tr>\n",
       "    <tr>\n",
       "      <th>252</th>\n",
       "      <td>Quantitative Analyst (Fundamental Quant Equiti...</td>\n",
       "      <td>New York, NY 10022 (Midtown area)</td>\n",
       "      <td>200000.0</td>\n",
       "      <td>Datacom Technology Group</td>\n",
       "      <td>High</td>\n",
       "    </tr>\n",
       "    <tr>\n",
       "      <th>391</th>\n",
       "      <td>Senior/ Lead Data Scientist for Digital Media ...</td>\n",
       "      <td>New York, NY</td>\n",
       "      <td>200000.0</td>\n",
       "      <td>Averity</td>\n",
       "      <td>High</td>\n",
       "    </tr>\n",
       "    <tr>\n",
       "      <th>1937</th>\n",
       "      <td>Quantitative Researcher - Statistical Machine ...</td>\n",
       "      <td>Berkeley, CA</td>\n",
       "      <td>200000.0</td>\n",
       "      <td>NJF Search</td>\n",
       "      <td>High</td>\n",
       "    </tr>\n",
       "    <tr>\n",
       "      <th>134</th>\n",
       "      <td>Data Scientist</td>\n",
       "      <td>Armonk, NY</td>\n",
       "      <td>200000.0</td>\n",
       "      <td>Technical Source</td>\n",
       "      <td>High</td>\n",
       "    </tr>\n",
       "    <tr>\n",
       "      <th>1169</th>\n",
       "      <td>Quantitative Researcher, Machine Learning &amp; Ba...</td>\n",
       "      <td>Chicago, IL</td>\n",
       "      <td>200000.0</td>\n",
       "      <td>NJF Search</td>\n",
       "      <td>High</td>\n",
       "    </tr>\n",
       "  </tbody>\n",
       "</table>\n",
       "</div>"
      ],
      "text/plain": [
       "                                                  Title  \\\n",
       "2084                               Chief Data Scientist   \n",
       "146          Quantitative Analyst for Global Quant Fund   \n",
       "556   Practice Leader for Management Consulting in P...   \n",
       "277   Junior Quantitative Analyst / Developer for $5...   \n",
       "2114          Software Engineer - Machine Learning Team   \n",
       "252   Quantitative Analyst (Fundamental Quant Equiti...   \n",
       "391   Senior/ Lead Data Scientist for Digital Media ...   \n",
       "1937  Quantitative Researcher - Statistical Machine ...   \n",
       "134                                      Data Scientist   \n",
       "1169  Quantitative Researcher, Machine Learning & Ba...   \n",
       "\n",
       "                               Location    Salary                     Company  \\\n",
       "2084  Boston, MA 02116 (South End area)  240000.0          Jobspring Partners   \n",
       "146                        New York, NY  225000.0                     Averity   \n",
       "556                       Charlotte, NC  212500.0  BIG 6 Search International   \n",
       "277                        New York, NY  200000.0                     Averity   \n",
       "2114                         Boston, MA  200000.0                  NJF Search   \n",
       "252   New York, NY 10022 (Midtown area)  200000.0    Datacom Technology Group   \n",
       "391                        New York, NY  200000.0                     Averity   \n",
       "1937                       Berkeley, CA  200000.0                  NJF Search   \n",
       "134                          Armonk, NY  200000.0            Technical Source   \n",
       "1169                        Chicago, IL  200000.0                  NJF Search   \n",
       "\n",
       "     SalaryBinary  \n",
       "2084         High  \n",
       "146          High  \n",
       "556          High  \n",
       "277          High  \n",
       "2114         High  \n",
       "252          High  \n",
       "391          High  \n",
       "1937         High  \n",
       "134          High  \n",
       "1169         High  "
      ]
     },
     "execution_count": 41,
     "metadata": {},
     "output_type": "execute_result"
    }
   ],
   "source": [
    "#sort the data table to see how if it worked\n",
    "\n",
    "indcsv.sort_values(\"Salary\", ascending = False).head(10)"
   ]
  },
  {
   "cell_type": "markdown",
   "metadata": {
    "focus": false,
    "id": "4fb29de2-5b98-474c-a4ad-5170b72b9aea"
   },
   "source": [
    "use location only as the first run"
   ]
  },
  {
   "cell_type": "code",
   "execution_count": 42,
   "metadata": {
    "collapsed": false,
    "focus": false,
    "id": "ddbc6159-6854-4ca7-857f-bfecdaf6d9c2"
   },
   "outputs": [],
   "source": [
    "#make the target variable a dummy variable\n",
    "\n",
    "indcsvrun = pd.concat([indcsv, pd.get_dummies(indcsv[\"SalaryBinary\"])], axis = 1)"
   ]
  },
  {
   "cell_type": "code",
   "execution_count": 43,
   "metadata": {
    "collapsed": false
   },
   "outputs": [
    {
     "data": {
      "text/html": [
       "<div>\n",
       "<table border=\"1\" class=\"dataframe\">\n",
       "  <thead>\n",
       "    <tr style=\"text-align: right;\">\n",
       "      <th></th>\n",
       "      <th>Title</th>\n",
       "      <th>Location</th>\n",
       "      <th>Salary</th>\n",
       "      <th>Company</th>\n",
       "      <th>SalaryBinary</th>\n",
       "      <th>High</th>\n",
       "      <th>Low</th>\n",
       "    </tr>\n",
       "  </thead>\n",
       "  <tbody>\n",
       "    <tr>\n",
       "      <th>0</th>\n",
       "      <td>Associate Research Scientist</td>\n",
       "      <td>Palisades, NY</td>\n",
       "      <td>NaN</td>\n",
       "      <td>Columbia University</td>\n",
       "      <td>None</td>\n",
       "      <td>0.0</td>\n",
       "      <td>0.0</td>\n",
       "    </tr>\n",
       "    <tr>\n",
       "      <th>1</th>\n",
       "      <td>Director of Data Science and Analytics</td>\n",
       "      <td>New York, NY</td>\n",
       "      <td>NaN</td>\n",
       "      <td>Paperless Post</td>\n",
       "      <td>None</td>\n",
       "      <td>0.0</td>\n",
       "      <td>0.0</td>\n",
       "    </tr>\n",
       "    <tr>\n",
       "      <th>2</th>\n",
       "      <td>Machine Learning Engineer</td>\n",
       "      <td>New York, NY</td>\n",
       "      <td>NaN</td>\n",
       "      <td>Bloomberg</td>\n",
       "      <td>None</td>\n",
       "      <td>0.0</td>\n",
       "      <td>0.0</td>\n",
       "    </tr>\n",
       "    <tr>\n",
       "      <th>3</th>\n",
       "      <td>Ssr Data Scientist (R, Tableau, Python)</td>\n",
       "      <td>New York, NY</td>\n",
       "      <td>NaN</td>\n",
       "      <td>Globant</td>\n",
       "      <td>None</td>\n",
       "      <td>0.0</td>\n",
       "      <td>0.0</td>\n",
       "    </tr>\n",
       "    <tr>\n",
       "      <th>4</th>\n",
       "      <td>Bioinformatics Data Scientist - Cancer Genomic...</td>\n",
       "      <td>New York, NY 10065 (Upper East Side area)</td>\n",
       "      <td>NaN</td>\n",
       "      <td>Memorial Sloan Kettering Cancer Center</td>\n",
       "      <td>None</td>\n",
       "      <td>0.0</td>\n",
       "      <td>0.0</td>\n",
       "    </tr>\n",
       "  </tbody>\n",
       "</table>\n",
       "</div>"
      ],
      "text/plain": [
       "                                               Title  \\\n",
       "0                       Associate Research Scientist   \n",
       "1             Director of Data Science and Analytics   \n",
       "2                          Machine Learning Engineer   \n",
       "3            Ssr Data Scientist (R, Tableau, Python)   \n",
       "4  Bioinformatics Data Scientist - Cancer Genomic...   \n",
       "\n",
       "                                    Location  Salary  \\\n",
       "0                              Palisades, NY     NaN   \n",
       "1                               New York, NY     NaN   \n",
       "2                               New York, NY     NaN   \n",
       "3                               New York, NY     NaN   \n",
       "4  New York, NY 10065 (Upper East Side area)     NaN   \n",
       "\n",
       "                                  Company SalaryBinary  High  Low  \n",
       "0                     Columbia University         None   0.0  0.0  \n",
       "1                          Paperless Post         None   0.0  0.0  \n",
       "2                               Bloomberg         None   0.0  0.0  \n",
       "3                                 Globant         None   0.0  0.0  \n",
       "4  Memorial Sloan Kettering Cancer Center         None   0.0  0.0  "
      ]
     },
     "execution_count": 43,
     "metadata": {},
     "output_type": "execute_result"
    }
   ],
   "source": [
    "indcsvrun.head()"
   ]
  },
  {
   "cell_type": "code",
   "execution_count": 44,
   "metadata": {
    "collapsed": true
   },
   "outputs": [],
   "source": [
    "#drop one of the variables and set the \"high\" one as target\n",
    "\n",
    "del indcsvrun[\"Low\"]\n",
    "y = indcsvrun[\"High\"]"
   ]
  },
  {
   "cell_type": "code",
   "execution_count": 46,
   "metadata": {
    "collapsed": false
   },
   "outputs": [],
   "source": [
    "#drop all NAs\n",
    "\n",
    "indcsvrun.dropna(subset = [\"Salary\"], inplace = True)"
   ]
  },
  {
   "cell_type": "code",
   "execution_count": 48,
   "metadata": {
    "collapsed": false
   },
   "outputs": [
    {
     "data": {
      "text/plain": [
       "array(['New York, NY', 'New York, NY 10105 (Midtown area)',\n",
       "       'New York, NY 10032 (Washington Heights area)', 'Armonk, NY',\n",
       "       'Jefferson Valley-Yorktown, NY',\n",
       "       'New York, NY 10017 (Midtown area)', 'Manhattan, NY',\n",
       "       'New York, NY 10018 (Clinton area)',\n",
       "       'New York, NY 10167 (Midtown area)',\n",
       "       'New York, NY 10022 (Midtown area)', 'Queens, NY', 'Albany, NY',\n",
       "       'Brooklyn, NY', 'Charlotte, NC 28202 (Downtown Charlotte area)',\n",
       "       'Charlotte, NC', 'Chicago, IL', 'Chicago, IL 60603 (Loop area)',\n",
       "       'Deerfield, IL', 'Des Plaines, IL', 'Hines, IL', 'Bloomingdale, IL',\n",
       "       'Northbrook, IL 60062', 'San Francisco, CA',\n",
       "       'San Francisco, CA 94104 (Financial District area)',\n",
       "       'San Francisco Bay Area, CA', 'Berkeley, CA', 'Oakland, CA',\n",
       "       'Brisbane, CA', 'San Mateo, CA 94402 (Beresford area)',\n",
       "       'San Francisco, CA 94108 (Financial District area)',\n",
       "       'San Mateo, CA', 'Boston, MA', 'Boston, MA 02116 (South End area)',\n",
       "       'Cambridge, MA', 'Boston, MA 02108 (Back Bay-Beacon Hill area)',\n",
       "       'Waltham, MA', 'Denver, CO 80201',\n",
       "       'Denver, CO 80204 (Central West Denver area)', 'Lakewood, CO',\n",
       "       'Englewood, CO 80112', 'Aurora, CO', 'Boulder, CO', 'Denver, CO',\n",
       "       'Westminster, CO 80234', 'Houston, TX',\n",
       "       'Houston, TX 77058 (Pasadena area)', 'Raleigh-Durham, NC',\n",
       "       'Research Triangle Park, NC', 'Durham, NC', 'Wake County, NC',\n",
       "       'Raleigh, NC', 'Chapel Hill, NC 27517', 'Portland, OR',\n",
       "       'Seattle, WA 98119 (Queen Anne area)', 'Seattle, WA',\n",
       "       'Bothell, WA 98011', 'Port Orchard, WA', 'Austin, TX',\n",
       "       'Austin, TX 78729', 'Austin, TX 78746',\n",
       "       'Austin, TX 78701 (Downtown area)'], dtype=object)"
      ]
     },
     "execution_count": 48,
     "metadata": {},
     "output_type": "execute_result"
    }
   ],
   "source": [
    "#notice that locations don't have the same name even though they are for specific regions - these have ot be converted\n",
    "\n",
    "indcsvrun[\"Location\"].unique()"
   ]
  },
  {
   "cell_type": "code",
   "execution_count": 49,
   "metadata": {
    "collapsed": false
   },
   "outputs": [],
   "source": [
    "#wrote a function to change all the surrounding areas to apply to the original regions in the search field\n",
    "\n",
    "def citieschange(boops):\n",
    "    if \"CA\" in boops:\n",
    "        return \"San Francisco\"\n",
    "    elif \"WA\" in boops:\n",
    "        return \"Seattle\"\n",
    "    elif \"IL\" in boops:\n",
    "        return \"Chicago\"\n",
    "    elif \"NY\" in boops:\n",
    "        return \"New York\"\n",
    "    elif \"TX\" in boops:\n",
    "        return \"Austin\"\n",
    "    elif \"MA\" in boops:\n",
    "        return \"Boston\"\n",
    "    elif \"OR\" in boops:\n",
    "        return \"Portland\"\n",
    "    elif \"CO\" in boops:\n",
    "        return \"Denver\"\n",
    "    elif \"Raleigh\" in boops:\n",
    "        return \"Raleigh\"\n",
    "    elif \"Triangle\" in boops:\n",
    "        return \"Raleigh\"\n",
    "    elif \"Wake\" in boops:\n",
    "        return \"Raleigh\"\n",
    "    elif \"Chapel\" in boops:\n",
    "        return \"Raleigh\"\n",
    "    elif \"Durham\" in boops:\n",
    "        return \"Raleigh\"\n",
    "    elif \"Charlotte\" in boops:\n",
    "        return \"Charlotte\"\n",
    "    else:\n",
    "        return boops\n",
    "\n",
    "indcsvrun[\"Location\"] = indcsvrun[\"Location\"].apply(citieschange)"
   ]
  },
  {
   "cell_type": "code",
   "execution_count": 51,
   "metadata": {
    "collapsed": false
   },
   "outputs": [
    {
     "data": {
      "text/plain": [
       "array(['New York', 'Charlotte', 'Chicago', 'San Francisco', 'Boston',\n",
       "       'Denver', 'Austin', 'Raleigh', 'Portland', 'Seattle'], dtype=object)"
      ]
     },
     "execution_count": 51,
     "metadata": {},
     "output_type": "execute_result"
    }
   ],
   "source": [
    "#checked that these worked\n",
    "\n",
    "indcsvrun[\"Location\"].unique()"
   ]
  },
  {
   "cell_type": "code",
   "execution_count": 52,
   "metadata": {
    "collapsed": true
   },
   "outputs": [],
   "source": [
    "#convert locations to dummies\n",
    "\n",
    "indcsvrun = pd.concat([indcsvrun, pd.get_dummies(indcsvrun[\"Location\"])], axis = 1)"
   ]
  },
  {
   "cell_type": "code",
   "execution_count": 540,
   "metadata": {
    "collapsed": false
   },
   "outputs": [],
   "source": [
    "#set the X variable by dropping one city\n",
    "\n",
    "X2 = indcsvrun.drop([\"Title\", \"Location\", \"Salary\", \"Company\", \"SalaryBinary\", \"High\", \"Austin\"], 1)"
   ]
  },
  {
   "cell_type": "code",
   "execution_count": 541,
   "metadata": {
    "collapsed": false
   },
   "outputs": [
    {
     "data": {
      "text/html": [
       "<div>\n",
       "<table border=\"1\" class=\"dataframe\">\n",
       "  <thead>\n",
       "    <tr style=\"text-align: right;\">\n",
       "      <th></th>\n",
       "      <th>Boston</th>\n",
       "      <th>Charlotte</th>\n",
       "      <th>Chicago</th>\n",
       "      <th>Denver</th>\n",
       "      <th>New York</th>\n",
       "      <th>Portland</th>\n",
       "      <th>Raleigh</th>\n",
       "      <th>San Francisco</th>\n",
       "      <th>Seattle</th>\n",
       "    </tr>\n",
       "  </thead>\n",
       "  <tbody>\n",
       "    <tr>\n",
       "      <th>33</th>\n",
       "      <td>0.0</td>\n",
       "      <td>0.0</td>\n",
       "      <td>0.0</td>\n",
       "      <td>0.0</td>\n",
       "      <td>1.0</td>\n",
       "      <td>0.0</td>\n",
       "      <td>0.0</td>\n",
       "      <td>0.0</td>\n",
       "      <td>0.0</td>\n",
       "    </tr>\n",
       "    <tr>\n",
       "      <th>36</th>\n",
       "      <td>0.0</td>\n",
       "      <td>0.0</td>\n",
       "      <td>0.0</td>\n",
       "      <td>0.0</td>\n",
       "      <td>1.0</td>\n",
       "      <td>0.0</td>\n",
       "      <td>0.0</td>\n",
       "      <td>0.0</td>\n",
       "      <td>0.0</td>\n",
       "    </tr>\n",
       "    <tr>\n",
       "      <th>39</th>\n",
       "      <td>0.0</td>\n",
       "      <td>0.0</td>\n",
       "      <td>0.0</td>\n",
       "      <td>0.0</td>\n",
       "      <td>1.0</td>\n",
       "      <td>0.0</td>\n",
       "      <td>0.0</td>\n",
       "      <td>0.0</td>\n",
       "      <td>0.0</td>\n",
       "    </tr>\n",
       "    <tr>\n",
       "      <th>61</th>\n",
       "      <td>0.0</td>\n",
       "      <td>0.0</td>\n",
       "      <td>0.0</td>\n",
       "      <td>0.0</td>\n",
       "      <td>1.0</td>\n",
       "      <td>0.0</td>\n",
       "      <td>0.0</td>\n",
       "      <td>0.0</td>\n",
       "      <td>0.0</td>\n",
       "    </tr>\n",
       "    <tr>\n",
       "      <th>85</th>\n",
       "      <td>0.0</td>\n",
       "      <td>0.0</td>\n",
       "      <td>0.0</td>\n",
       "      <td>0.0</td>\n",
       "      <td>1.0</td>\n",
       "      <td>0.0</td>\n",
       "      <td>0.0</td>\n",
       "      <td>0.0</td>\n",
       "      <td>0.0</td>\n",
       "    </tr>\n",
       "  </tbody>\n",
       "</table>\n",
       "</div>"
      ],
      "text/plain": [
       "    Boston  Charlotte  Chicago  Denver  New York  Portland  Raleigh  \\\n",
       "33     0.0        0.0      0.0     0.0       1.0       0.0      0.0   \n",
       "36     0.0        0.0      0.0     0.0       1.0       0.0      0.0   \n",
       "39     0.0        0.0      0.0     0.0       1.0       0.0      0.0   \n",
       "61     0.0        0.0      0.0     0.0       1.0       0.0      0.0   \n",
       "85     0.0        0.0      0.0     0.0       1.0       0.0      0.0   \n",
       "\n",
       "    San Francisco  Seattle  \n",
       "33            0.0      0.0  \n",
       "36            0.0      0.0  \n",
       "39            0.0      0.0  \n",
       "61            0.0      0.0  \n",
       "85            0.0      0.0  "
      ]
     },
     "execution_count": 541,
     "metadata": {},
     "output_type": "execute_result"
    }
   ],
   "source": [
    "X2.head()"
   ]
  },
  {
   "cell_type": "code",
   "execution_count": 542,
   "metadata": {
    "collapsed": false
   },
   "outputs": [
    {
     "data": {
      "text/plain": [
       "(203, 9)"
      ]
     },
     "execution_count": 542,
     "metadata": {},
     "output_type": "execute_result"
    }
   ],
   "source": [
    "X2.shape"
   ]
  },
  {
   "cell_type": "code",
   "execution_count": 543,
   "metadata": {
    "collapsed": false
   },
   "outputs": [],
   "source": [
    "y2 = indcsvrun[\"High\"]"
   ]
  },
  {
   "cell_type": "markdown",
   "metadata": {},
   "source": [
    "Begin to run a logistic regression"
   ]
  },
  {
   "cell_type": "code",
   "execution_count": 545,
   "metadata": {
    "collapsed": false
   },
   "outputs": [
    {
     "data": {
      "text/plain": [
       "GridSearchCV(cv=15, error_score='raise',\n",
       "       estimator=LogisticRegression(C=1.0, class_weight=None, dual=False, fit_intercept=True,\n",
       "          intercept_scaling=1, max_iter=100, multi_class='ovr', n_jobs=1,\n",
       "          penalty='l2', random_state=None, solver='liblinear', tol=0.0001,\n",
       "          verbose=0, warm_start=False),\n",
       "       fit_params={}, iid=True, n_jobs=1,\n",
       "       param_grid={'penalty': ['l1', 'l2'], 'C': [0.0001, 0.001, 0.01, 0.1, 0.15, 0.25, 0.275, 0.33, 0.5, 0.66, 0.75, 1.0, 2.5, 5.0, 10.0, 100.0, 1000.0]},\n",
       "       pre_dispatch='2*n_jobs', refit=True, scoring=None, verbose=False)"
      ]
     },
     "execution_count": 545,
     "metadata": {},
     "output_type": "execute_result"
    }
   ],
   "source": [
    "#grid searched against a series of penalties and Cs\n",
    "\n",
    "logreg = LogisticRegression(solver='liblinear')\n",
    "C_vals = [0.0001, 0.001, 0.01, 0.1, .15, .25, .275, .33, 0.5, .66, 0.75, 1.0, 2.5, 5.0, 10.0, 100.0, 1000.0]\n",
    "penalties = ['l1','l2']\n",
    "\n",
    "gs = GridSearchCV(logreg, {'penalty': penalties, 'C': C_vals}, verbose=False, cv=15)\n",
    "gs.fit(X2, y2)"
   ]
  },
  {
   "cell_type": "code",
   "execution_count": 546,
   "metadata": {
    "collapsed": false
   },
   "outputs": [
    {
     "data": {
      "text/plain": [
       "{'C': 0.75, 'penalty': 'l1'}"
      ]
     },
     "execution_count": 546,
     "metadata": {},
     "output_type": "execute_result"
    }
   ],
   "source": [
    "#print best parameter\n",
    "\n",
    "gs.best_params_"
   ]
  },
  {
   "cell_type": "code",
   "execution_count": 547,
   "metadata": {
    "collapsed": false
   },
   "outputs": [],
   "source": [
    "#train test split with 33% and apply the best parameters to a logistic regression\n",
    "\n",
    "X_train, X_test, y_train, y_test = train_test_split(X2, y2, test_size=0.33)\n",
    "lr = LogisticRegression(C=gs.best_params_['C'], penalty=gs.best_params_['penalty']) \n",
    "lr_model = lr.fit(X_train, y_train)\n",
    "lr_ypred = lr_model.predict(X_test)"
   ]
  },
  {
   "cell_type": "code",
   "execution_count": 548,
   "metadata": {
    "collapsed": false
   },
   "outputs": [
    {
     "data": {
      "text/html": [
       "<div>\n",
       "<table border=\"1\" class=\"dataframe\">\n",
       "  <thead>\n",
       "    <tr style=\"text-align: right;\">\n",
       "      <th></th>\n",
       "      <th>0.0</th>\n",
       "      <th>1.0</th>\n",
       "    </tr>\n",
       "  </thead>\n",
       "  <tbody>\n",
       "    <tr>\n",
       "      <th>0.0</th>\n",
       "      <td>24</td>\n",
       "      <td>9</td>\n",
       "    </tr>\n",
       "    <tr>\n",
       "      <th>1.0</th>\n",
       "      <td>12</td>\n",
       "      <td>22</td>\n",
       "    </tr>\n",
       "  </tbody>\n",
       "</table>\n",
       "</div>"
      ],
      "text/plain": [
       "     0.0  1.0\n",
       "0.0   24    9\n",
       "1.0   12   22"
      ]
     },
     "execution_count": 548,
     "metadata": {},
     "output_type": "execute_result"
    }
   ],
   "source": [
    "#print the confusion matrix - did ok.\n",
    "\n",
    "lr_cm = confusion_matrix(y_test, lr_ypred, labels=lr.classes_)\n",
    "lr_cm = pd.DataFrame(lr_cm, columns=lr.classes_, index=lr.classes_)\n",
    "lr_cm"
   ]
  },
  {
   "cell_type": "code",
   "execution_count": 550,
   "metadata": {
    "collapsed": false
   },
   "outputs": [
    {
     "name": "stdout",
     "output_type": "stream",
     "text": [
      "             precision    recall  f1-score   support\n",
      "\n",
      "        0.0       0.67      0.73      0.70        33\n",
      "        1.0       0.71      0.65      0.68        34\n",
      "\n",
      "avg / total       0.69      0.69      0.69        67\n",
      "\n"
     ]
    }
   ],
   "source": [
    "#print the classification report - did ok. \n",
    "\n",
    "print(classification_report(y_test, lr_ypred, labels=lr.classes_))"
   ]
  },
  {
   "cell_type": "code",
   "execution_count": 554,
   "metadata": {
    "collapsed": false
   },
   "outputs": [
    {
     "data": {
      "text/html": [
       "<div>\n",
       "<table border=\"1\" class=\"dataframe\">\n",
       "  <thead>\n",
       "    <tr style=\"text-align: right;\">\n",
       "      <th></th>\n",
       "      <th>0.0</th>\n",
       "      <th>1.0</th>\n",
       "    </tr>\n",
       "  </thead>\n",
       "  <tbody>\n",
       "    <tr>\n",
       "      <th>0.0</th>\n",
       "      <td>24</td>\n",
       "      <td>9</td>\n",
       "    </tr>\n",
       "    <tr>\n",
       "      <th>1.0</th>\n",
       "      <td>10</td>\n",
       "      <td>24</td>\n",
       "    </tr>\n",
       "  </tbody>\n",
       "</table>\n",
       "</div>"
      ],
      "text/plain": [
       "     0.0  1.0\n",
       "0.0   24    9\n",
       "1.0   10   24"
      ]
     },
     "execution_count": 554,
     "metadata": {},
     "output_type": "execute_result"
    }
   ],
   "source": [
    "#Logistic regression with no extra doodads actually did slightly better but not by much\n",
    "\n",
    "lr2 = LogisticRegression() \n",
    "lr2_model = lr2.fit(X_train, y_train)\n",
    "lr2_ypred = lr2_model.predict(X_test)\n",
    "lr2_cm = confusion_matrix(y_test, lr2_ypred, labels=lr2.classes_)\n",
    "lr2_cm = pd.DataFrame(lr2_cm, columns=lr2.classes_, index=lr2.classes_)\n",
    "lr2_cm"
   ]
  },
  {
   "cell_type": "code",
   "execution_count": 555,
   "metadata": {
    "collapsed": false
   },
   "outputs": [
    {
     "name": "stdout",
     "output_type": "stream",
     "text": [
      "             precision    recall  f1-score   support\n",
      "\n",
      "        0.0       0.71      0.73      0.72        33\n",
      "        1.0       0.73      0.71      0.72        34\n",
      "\n",
      "avg / total       0.72      0.72      0.72        67\n",
      "\n"
     ]
    }
   ],
   "source": [
    "#classification report shows that it did better\n",
    "\n",
    "print(classification_report(y_test, lr2_ypred, labels=lr2.classes_))"
   ]
  },
  {
   "cell_type": "markdown",
   "metadata": {
    "focus": false,
    "id": "0ef04f32-419c-4bf2-baf7-48201f03df89"
   },
   "source": [
    "Try a few more variables aside from just location"
   ]
  },
  {
   "cell_type": "code",
   "execution_count": 501,
   "metadata": {
    "collapsed": false,
    "focus": false,
    "id": "068dc1cf-7fd7-4f27-a1f1-7f0a5a221d29"
   },
   "outputs": [
    {
     "data": {
      "text/plain": [
       "<bound method Series.unique of 33                                  STATISTICIAN, LEVEL I\n",
       "36                        Machine Learning Data Scientist\n",
       "39                               AVP/Quantitative Analyst\n",
       "61                    Sr. Machine Learning Data Scientist\n",
       "85                          Lead/Principal Data Scientist\n",
       "94                 Data Scientist - Advertising Analytics\n",
       "102                          Data Scientist - Health+Care\n",
       "128                          Assistant Research Scientist\n",
       "134                                        Data Scientist\n",
       "143                                        Data Scientist\n",
       "145                         Senior Data Scientist ($150k)\n",
       "146            Quantitative Analyst for Global Quant Fund\n",
       "150                                        Data Scientist\n",
       "153                                 Data Scientist (Lead)\n",
       "158     Data Analyst, Bureau of Environmental Sciences...\n",
       "170                                        Data Scientist\n",
       "175                                        Data Scientist\n",
       "176                     CITY RESEARCH SCIENTIST, LEVEL II\n",
       "206                       SENIOR RESEARCH STAFF ASSISTANT\n",
       "213                                   Lead Data Scientist\n",
       "223                               Predictive Risk Analyst\n",
       "230                                 Senior Data Scientist\n",
       "236         Research Technician III, Grade 21, Job 735195\n",
       "240                                  Quantitative Analyst\n",
       "243     Big Data Engineer/ ETL Developer for a Global ...\n",
       "252     Quantitative Analyst (Fundamental Quant Equiti...\n",
       "262                                   Senior Data Analyst\n",
       "265                  Data Manager, Adolescent Health Unit\n",
       "266     Director of Research, Evaluation and Reporting...\n",
       "268                             Research and Data Analyst\n",
       "                              ...                        \n",
       "3741                                  Associate Scientist\n",
       "3747                  Public Health Zika Virus Specialist\n",
       "3766                      Machine Learning Econometrician\n",
       "3788                                  Teaching Technician\n",
       "3808                           Sr. Pricing Data Scientist\n",
       "3810                           Executive Assistant - DPET\n",
       "3822    Research Plant Physiologist (Postdoctoral Rese...\n",
       "4029                                  Statistical Analyst\n",
       "4031                                  Postdoctoral Fellow\n",
       "4306                                       Data Scientist\n",
       "4308                               Digital Data Scientist\n",
       "4341                Data Scientist (Software Engineering)\n",
       "4346           Sr. Data Scientist, Compensation Analytics\n",
       "4386     Software Development Engineer (Machine Learning)\n",
       "4428                                    BI/Data Architect\n",
       "4481          Senior Business Intelligence Data Scientist\n",
       "4504                             Document Control Manager\n",
       "4518    Medical Technologist (Laboratory Information M...\n",
       "4537                                       Data Scientist\n",
       "4553                      Business Intelligence Scientist\n",
       "4593    Quality Assurance Coordinator (Chemist 4) (In-...\n",
       "4636                 Business Intelligence Data Scientist\n",
       "4769               Senior Business Intelligence Scientist\n",
       "4817          Data Scientist - North Austin/80k/Analytics\n",
       "4825                 Data Scientist Programmer/Specialist\n",
       "4834                  Senior Deep Learning Data Scientist\n",
       "4874    Robotics software engineer (involves machine l...\n",
       "4913                       Research Analyst/Customer Serv\n",
       "4918               International Environmental Specialist\n",
       "4922    Research Analyst (excel, analysis, client-facing)\n",
       "Name: Title, dtype: object>"
      ]
     },
     "execution_count": 501,
     "metadata": {},
     "output_type": "execute_result"
    }
   ],
   "source": [
    "#see what we can do with the titles\n",
    "\n",
    "indcsvrun[\"Title\"].unique"
   ]
  },
  {
   "cell_type": "markdown",
   "metadata": {},
   "source": [
    "Will use the following words as features in for titles:\n",
    "    - Senior / Sr\n",
    "    - Engineer\n",
    "    - Analyst \n",
    "    - Statistician\n",
    "    - Specialist\n",
    "    - Manager\n",
    "    - all other words will be treated as n/a"
   ]
  },
  {
   "cell_type": "code",
   "execution_count": 97,
   "metadata": {
    "collapsed": false
   },
   "outputs": [],
   "source": [
    "#write a function that does what has been described above\n",
    "\n",
    "def titletest(boops):\n",
    "    if \"Senior\" in boops:\n",
    "        return \"Senior\"\n",
    "    elif \"senior\" in boops:\n",
    "        return \"Senior\"\n",
    "    elif \"sr\" in boops:\n",
    "        return \"Senior\"\n",
    "    elif \"Sr\" in boops:\n",
    "        return \"Senior\"\n",
    "    elif \"Engineer\" in boops:\n",
    "        return \"Engineer\"\n",
    "    elif \"engineer\" in boops:\n",
    "        return \"Engineer\"\n",
    "    elif \"Analyst\" in boops:\n",
    "        return \"Analyst\"\n",
    "    elif \"analyst\" in boops:\n",
    "        return \"Analyst\"\n",
    "    elif \"Statistician\" in boops:\n",
    "        return \"Statistician\"\n",
    "    elif \"statistician\" in boops:\n",
    "        return \"Statistician\"\n",
    "    elif \"specialist\" in boops:\n",
    "        return \"Specialist\"\n",
    "    elif \"Specialist\" in boops:\n",
    "        return \"Specialist\"\n",
    "    elif \"manager\" in boops:\n",
    "        return \"Manager\"\n",
    "    elif \"Manager\" in boops:\n",
    "        return \"Manager\"\n",
    "    else:\n",
    "        return \"Other\""
   ]
  },
  {
   "cell_type": "code",
   "execution_count": 98,
   "metadata": {
    "collapsed": false
   },
   "outputs": [],
   "source": [
    "#apply this to the data frame\n",
    "\n",
    "indcsvrun[\"Title Features\"] = indcsvrun[\"Title\"].apply(titletest)"
   ]
  },
  {
   "cell_type": "code",
   "execution_count": 100,
   "metadata": {
    "collapsed": false
   },
   "outputs": [
    {
     "data": {
      "text/plain": [
       "Other           109\n",
       "Senior           34\n",
       "Analyst          26\n",
       "Engineer         13\n",
       "Manager          11\n",
       "Specialist        6\n",
       "Statistician      4\n",
       "Name: Title Features, dtype: int64"
      ]
     },
     "execution_count": 100,
     "metadata": {},
     "output_type": "execute_result"
    }
   ],
   "source": [
    "#take a look at how many ended up with this result \n",
    "\n",
    "indcsvrun[\"Title Features\"].value_counts()"
   ]
  },
  {
   "cell_type": "code",
   "execution_count": 101,
   "metadata": {
    "collapsed": false,
    "scrolled": true
   },
   "outputs": [],
   "source": [
    "#anything that does not fit the Title FEatures is being treated as a nan and thus is used as a base line in the dummies\n",
    "\n",
    "indcsvmore = pd.concat([indcsvrun, pd.get_dummies(indcsvrun[\"Title Features\"])], axis = 1)"
   ]
  },
  {
   "cell_type": "code",
   "execution_count": 508,
   "metadata": {
    "collapsed": false
   },
   "outputs": [
    {
     "data": {
      "text/html": [
       "<div>\n",
       "<table border=\"1\" class=\"dataframe\">\n",
       "  <thead>\n",
       "    <tr style=\"text-align: right;\">\n",
       "      <th></th>\n",
       "      <th>Title</th>\n",
       "      <th>Location</th>\n",
       "      <th>Salary</th>\n",
       "      <th>Company</th>\n",
       "      <th>SalaryBinary</th>\n",
       "      <th>High</th>\n",
       "      <th>Austin</th>\n",
       "      <th>Boston</th>\n",
       "      <th>Charlotte</th>\n",
       "      <th>Chicago</th>\n",
       "      <th>...</th>\n",
       "      <th>Raleigh</th>\n",
       "      <th>San Francisco</th>\n",
       "      <th>Seattle</th>\n",
       "      <th>Title Features</th>\n",
       "      <th>Analyst</th>\n",
       "      <th>Engineer</th>\n",
       "      <th>Manager</th>\n",
       "      <th>Senior</th>\n",
       "      <th>Specialist</th>\n",
       "      <th>Statistician</th>\n",
       "    </tr>\n",
       "  </thead>\n",
       "  <tbody>\n",
       "    <tr>\n",
       "      <th>33</th>\n",
       "      <td>STATISTICIAN, LEVEL I</td>\n",
       "      <td>New York</td>\n",
       "      <td>51363.0</td>\n",
       "      <td>POLICE DEPARTMENT</td>\n",
       "      <td>Low</td>\n",
       "      <td>0.0</td>\n",
       "      <td>0.0</td>\n",
       "      <td>0.0</td>\n",
       "      <td>0.0</td>\n",
       "      <td>0.0</td>\n",
       "      <td>...</td>\n",
       "      <td>0.0</td>\n",
       "      <td>0.0</td>\n",
       "      <td>0.0</td>\n",
       "      <td>NaN</td>\n",
       "      <td>0.0</td>\n",
       "      <td>0.0</td>\n",
       "      <td>0.0</td>\n",
       "      <td>0.0</td>\n",
       "      <td>0.0</td>\n",
       "      <td>0.0</td>\n",
       "    </tr>\n",
       "    <tr>\n",
       "      <th>36</th>\n",
       "      <td>Machine Learning Data Scientist</td>\n",
       "      <td>New York</td>\n",
       "      <td>132500.0</td>\n",
       "      <td>All-In Analytics</td>\n",
       "      <td>High</td>\n",
       "      <td>1.0</td>\n",
       "      <td>0.0</td>\n",
       "      <td>0.0</td>\n",
       "      <td>0.0</td>\n",
       "      <td>0.0</td>\n",
       "      <td>...</td>\n",
       "      <td>0.0</td>\n",
       "      <td>0.0</td>\n",
       "      <td>0.0</td>\n",
       "      <td>NaN</td>\n",
       "      <td>0.0</td>\n",
       "      <td>0.0</td>\n",
       "      <td>0.0</td>\n",
       "      <td>0.0</td>\n",
       "      <td>0.0</td>\n",
       "      <td>0.0</td>\n",
       "    </tr>\n",
       "    <tr>\n",
       "      <th>39</th>\n",
       "      <td>AVP/Quantitative Analyst</td>\n",
       "      <td>New York</td>\n",
       "      <td>122500.0</td>\n",
       "      <td>AllianceBernstein</td>\n",
       "      <td>High</td>\n",
       "      <td>1.0</td>\n",
       "      <td>0.0</td>\n",
       "      <td>0.0</td>\n",
       "      <td>0.0</td>\n",
       "      <td>0.0</td>\n",
       "      <td>...</td>\n",
       "      <td>0.0</td>\n",
       "      <td>0.0</td>\n",
       "      <td>0.0</td>\n",
       "      <td>Analyst</td>\n",
       "      <td>1.0</td>\n",
       "      <td>0.0</td>\n",
       "      <td>0.0</td>\n",
       "      <td>0.0</td>\n",
       "      <td>0.0</td>\n",
       "      <td>0.0</td>\n",
       "    </tr>\n",
       "    <tr>\n",
       "      <th>61</th>\n",
       "      <td>Sr. Machine Learning Data Scientist</td>\n",
       "      <td>New York</td>\n",
       "      <td>130000.0</td>\n",
       "      <td>Wade &amp; Wendy</td>\n",
       "      <td>High</td>\n",
       "      <td>1.0</td>\n",
       "      <td>0.0</td>\n",
       "      <td>0.0</td>\n",
       "      <td>0.0</td>\n",
       "      <td>0.0</td>\n",
       "      <td>...</td>\n",
       "      <td>0.0</td>\n",
       "      <td>0.0</td>\n",
       "      <td>0.0</td>\n",
       "      <td>Senior</td>\n",
       "      <td>0.0</td>\n",
       "      <td>0.0</td>\n",
       "      <td>0.0</td>\n",
       "      <td>1.0</td>\n",
       "      <td>0.0</td>\n",
       "      <td>0.0</td>\n",
       "    </tr>\n",
       "    <tr>\n",
       "      <th>85</th>\n",
       "      <td>Lead/Principal Data Scientist</td>\n",
       "      <td>New York</td>\n",
       "      <td>165000.0</td>\n",
       "      <td>Empiric Solutions</td>\n",
       "      <td>High</td>\n",
       "      <td>1.0</td>\n",
       "      <td>0.0</td>\n",
       "      <td>0.0</td>\n",
       "      <td>0.0</td>\n",
       "      <td>0.0</td>\n",
       "      <td>...</td>\n",
       "      <td>0.0</td>\n",
       "      <td>0.0</td>\n",
       "      <td>0.0</td>\n",
       "      <td>NaN</td>\n",
       "      <td>0.0</td>\n",
       "      <td>0.0</td>\n",
       "      <td>0.0</td>\n",
       "      <td>0.0</td>\n",
       "      <td>0.0</td>\n",
       "      <td>0.0</td>\n",
       "    </tr>\n",
       "  </tbody>\n",
       "</table>\n",
       "<p>5 rows × 23 columns</p>\n",
       "</div>"
      ],
      "text/plain": [
       "                                  Title  Location    Salary  \\\n",
       "33                STATISTICIAN, LEVEL I  New York   51363.0   \n",
       "36      Machine Learning Data Scientist  New York  132500.0   \n",
       "39             AVP/Quantitative Analyst  New York  122500.0   \n",
       "61  Sr. Machine Learning Data Scientist  New York  130000.0   \n",
       "85        Lead/Principal Data Scientist  New York  165000.0   \n",
       "\n",
       "              Company SalaryBinary  High  Austin  Boston  Charlotte  Chicago  \\\n",
       "33  POLICE DEPARTMENT          Low   0.0     0.0     0.0        0.0      0.0   \n",
       "36   All-In Analytics         High   1.0     0.0     0.0        0.0      0.0   \n",
       "39  AllianceBernstein         High   1.0     0.0     0.0        0.0      0.0   \n",
       "61       Wade & Wendy         High   1.0     0.0     0.0        0.0      0.0   \n",
       "85  Empiric Solutions         High   1.0     0.0     0.0        0.0      0.0   \n",
       "\n",
       "        ...       Raleigh  San Francisco  Seattle  Title Features  Analyst  \\\n",
       "33      ...           0.0            0.0      0.0             NaN      0.0   \n",
       "36      ...           0.0            0.0      0.0             NaN      0.0   \n",
       "39      ...           0.0            0.0      0.0         Analyst      1.0   \n",
       "61      ...           0.0            0.0      0.0          Senior      0.0   \n",
       "85      ...           0.0            0.0      0.0             NaN      0.0   \n",
       "\n",
       "    Engineer Manager  Senior  Specialist  Statistician  \n",
       "33       0.0     0.0     0.0         0.0           0.0  \n",
       "36       0.0     0.0     0.0         0.0           0.0  \n",
       "39       0.0     0.0     0.0         0.0           0.0  \n",
       "61       0.0     0.0     1.0         0.0           0.0  \n",
       "85       0.0     0.0     0.0         0.0           0.0  \n",
       "\n",
       "[5 rows x 23 columns]"
      ]
     },
     "execution_count": 508,
     "metadata": {},
     "output_type": "execute_result"
    }
   ],
   "source": [
    "#check to see if it worked\n",
    "\n",
    "indcsvmore.head()"
   ]
  },
  {
   "cell_type": "code",
   "execution_count": 572,
   "metadata": {
    "collapsed": true
   },
   "outputs": [],
   "source": [
    "#since going to try stats model, add in an intercept column\n",
    "\n",
    "indcsvmore[\"intercept\"] = 1"
   ]
  },
  {
   "cell_type": "code",
   "execution_count": 573,
   "metadata": {
    "collapsed": false
   },
   "outputs": [
    {
     "data": {
      "text/plain": [
       "Index([u'Title', u'Location', u'Salary', u'Company', u'SalaryBinary', u'High',\n",
       "       u'Austin', u'Boston', u'Charlotte', u'Chicago', u'Denver', u'New York',\n",
       "       u'Portland', u'Raleigh', u'San Francisco', u'Seattle',\n",
       "       u'Title Features', u'Analyst', u'Engineer', u'Manager', u'Senior',\n",
       "       u'Specialist', u'Statistician', u'intercept'],\n",
       "      dtype='object')"
      ]
     },
     "execution_count": 573,
     "metadata": {},
     "output_type": "execute_result"
    }
   ],
   "source": [
    "indcsvmore.columns"
   ]
  },
  {
   "cell_type": "code",
   "execution_count": 593,
   "metadata": {
    "collapsed": true
   },
   "outputs": [],
   "source": [
    "#dropped austin and dropped the imaginary np.nan for features - this one is without the intercept\n",
    "\n",
    "X = indcsvmore.iloc[:][[7,8,9,10,11,12,13,14,15,17,18,19,20,21,22]]"
   ]
  },
  {
   "cell_type": "code",
   "execution_count": 512,
   "metadata": {
    "collapsed": false
   },
   "outputs": [
    {
     "data": {
      "text/plain": [
       "(203,)"
      ]
     },
     "execution_count": 512,
     "metadata": {},
     "output_type": "execute_result"
    }
   ],
   "source": [
    "y.shape"
   ]
  },
  {
   "cell_type": "code",
   "execution_count": 574,
   "metadata": {
    "collapsed": false
   },
   "outputs": [
    {
     "data": {
      "text/plain": [
       "(203, 16)"
      ]
     },
     "execution_count": 574,
     "metadata": {},
     "output_type": "execute_result"
    }
   ],
   "source": [
    "X.shape"
   ]
  },
  {
   "cell_type": "code",
   "execution_count": 579,
   "metadata": {
    "collapsed": true
   },
   "outputs": [],
   "source": [
    "#this includes the intercept\n",
    "\n",
    "X2s = indcsvmore.iloc[:][[7,8,9,10,11,12,13,14,15,17,18,19,20,21,22,23]]"
   ]
  },
  {
   "cell_type": "code",
   "execution_count": 586,
   "metadata": {
    "collapsed": true
   },
   "outputs": [],
   "source": [
    "#convert to matrix to use for stats model \n",
    "\n",
    "Xss = X2s.as_matrix(columns=None)\n",
    "yss = y.as_matrix(columns=None)"
   ]
  },
  {
   "cell_type": "code",
   "execution_count": 588,
   "metadata": {
    "collapsed": false
   },
   "outputs": [
    {
     "name": "stdout",
     "output_type": "stream",
     "text": [
      "Warning: Maximum number of iterations has been exceeded.\n",
      "         Current function value: 0.531564\n",
      "         Iterations: 35\n"
     ]
    },
    {
     "name": "stderr",
     "output_type": "stream",
     "text": [
      "/Users/katty/anaconda/lib/python2.7/site-packages/statsmodels/base/model.py:466: ConvergenceWarning: Maximum Likelihood optimization failed to converge. Check mle_retvals\n",
      "  \"Check mle_retvals\", ConvergenceWarning)\n"
     ]
    }
   ],
   "source": [
    "#fit to stats model logistic regression\n",
    "\n",
    "mdl = sm.MNLogit(yss, Xss)\n",
    "mdl_fit = mdl.fit()"
   ]
  },
  {
   "cell_type": "code",
   "execution_count": 589,
   "metadata": {
    "collapsed": false
   },
   "outputs": [
    {
     "data": {
      "text/html": [
       "<table class=\"simpletable\">\n",
       "<caption>MNLogit Regression Results</caption>\n",
       "<tr>\n",
       "  <th>Dep. Variable:</th>         <td>y</td>        <th>  No. Observations:  </th>  <td>   203</td>  \n",
       "</tr>\n",
       "<tr>\n",
       "  <th>Model:</th>              <td>MNLogit</td>     <th>  Df Residuals:      </th>  <td>   187</td>  \n",
       "</tr>\n",
       "<tr>\n",
       "  <th>Method:</th>               <td>MLE</td>       <th>  Df Model:          </th>  <td>    15</td>  \n",
       "</tr>\n",
       "<tr>\n",
       "  <th>Date:</th>          <td>Wed, 06 Jul 2016</td> <th>  Pseudo R-squ.:     </th>  <td>0.2331</td>  \n",
       "</tr>\n",
       "<tr>\n",
       "  <th>Time:</th>              <td>15:32:00</td>     <th>  Log-Likelihood:    </th> <td> -107.91</td> \n",
       "</tr>\n",
       "<tr>\n",
       "  <th>converged:</th>           <td>False</td>      <th>  LL-Null:           </th> <td> -140.71</td> \n",
       "</tr>\n",
       "<tr>\n",
       "  <th> </th>                      <td> </td>        <th>  LLR p-value:       </th> <td>2.684e-08</td>\n",
       "</tr>\n",
       "</table>\n",
       "<table class=\"simpletable\">\n",
       "<tr>\n",
       "   <th>y=1</th>     <th>coef</th>     <th>std err</th>      <th>z</th>      <th>P>|z|</th> <th>[95.0% Conf. Int.]</th> \n",
       "</tr>\n",
       "<tr>\n",
       "  <th>x1</th>    <td>    1.0092</td> <td>    0.851</td> <td>    1.186</td> <td> 0.236</td> <td>   -0.659     2.678</td>\n",
       "</tr>\n",
       "<tr>\n",
       "  <th>x2</th>    <td>   21.8821</td> <td>  1.3e+04</td> <td>    0.002</td> <td> 0.999</td> <td>-2.55e+04  2.56e+04</td>\n",
       "</tr>\n",
       "<tr>\n",
       "  <th>x3</th>    <td>    2.0162</td> <td>    0.820</td> <td>    2.458</td> <td> 0.014</td> <td>    0.409     3.624</td>\n",
       "</tr>\n",
       "<tr>\n",
       "  <th>x4</th>    <td>   -0.1568</td> <td>    1.069</td> <td>   -0.147</td> <td> 0.883</td> <td>   -2.251     1.938</td>\n",
       "</tr>\n",
       "<tr>\n",
       "  <th>x5</th>    <td>    1.2268</td> <td>    0.774</td> <td>    1.585</td> <td> 0.113</td> <td>   -0.290     2.743</td>\n",
       "</tr>\n",
       "<tr>\n",
       "  <th>x6</th>    <td>  -18.1191</td> <td> 1.53e+04</td> <td>   -0.001</td> <td> 0.999</td> <td>   -3e+04     3e+04</td>\n",
       "</tr>\n",
       "<tr>\n",
       "  <th>x7</th>    <td>    0.6914</td> <td>    0.986</td> <td>    0.701</td> <td> 0.483</td> <td>   -1.241     2.624</td>\n",
       "</tr>\n",
       "<tr>\n",
       "  <th>x8</th>    <td>    2.4169</td> <td>    0.850</td> <td>    2.845</td> <td> 0.004</td> <td>    0.752     4.082</td>\n",
       "</tr>\n",
       "<tr>\n",
       "  <th>x9</th>    <td>    2.1980</td> <td>    0.954</td> <td>    2.304</td> <td> 0.021</td> <td>    0.328     4.068</td>\n",
       "</tr>\n",
       "<tr>\n",
       "  <th>x10</th>   <td>   -0.7345</td> <td>    0.518</td> <td>   -1.419</td> <td> 0.156</td> <td>   -1.749     0.280</td>\n",
       "</tr>\n",
       "<tr>\n",
       "  <th>x11</th>   <td>    0.8360</td> <td>    0.670</td> <td>    1.248</td> <td> 0.212</td> <td>   -0.477     2.149</td>\n",
       "</tr>\n",
       "<tr>\n",
       "  <th>x12</th>   <td>   -0.6618</td> <td>    0.794</td> <td>   -0.833</td> <td> 0.405</td> <td>   -2.219     0.895</td>\n",
       "</tr>\n",
       "<tr>\n",
       "  <th>x13</th>   <td>    1.8468</td> <td>    0.554</td> <td>    3.335</td> <td> 0.001</td> <td>    0.761     2.932</td>\n",
       "</tr>\n",
       "<tr>\n",
       "  <th>x14</th>   <td>   -0.8485</td> <td>    1.191</td> <td>   -0.712</td> <td> 0.476</td> <td>   -3.184     1.487</td>\n",
       "</tr>\n",
       "<tr>\n",
       "  <th>x15</th>   <td>  -45.6972</td> <td> 4.88e+09</td> <td>-9.37e-09</td> <td> 1.000</td> <td>-9.56e+09  9.56e+09</td>\n",
       "</tr>\n",
       "<tr>\n",
       "  <th>const</th> <td>   -1.5464</td> <td>    0.742</td> <td>   -2.084</td> <td> 0.037</td> <td>   -3.001    -0.092</td>\n",
       "</tr>\n",
       "</table>"
      ],
      "text/plain": [
       "<class 'statsmodels.iolib.summary.Summary'>\n",
       "\"\"\"\n",
       "                          MNLogit Regression Results                          \n",
       "==============================================================================\n",
       "Dep. Variable:                      y   No. Observations:                  203\n",
       "Model:                        MNLogit   Df Residuals:                      187\n",
       "Method:                           MLE   Df Model:                           15\n",
       "Date:                Wed, 06 Jul 2016   Pseudo R-squ.:                  0.2331\n",
       "Time:                        15:32:00   Log-Likelihood:                -107.91\n",
       "converged:                      False   LL-Null:                       -140.71\n",
       "                                        LLR p-value:                 2.684e-08\n",
       "==============================================================================\n",
       "       y=1       coef    std err          z      P>|z|      [95.0% Conf. Int.]\n",
       "------------------------------------------------------------------------------\n",
       "x1             1.0092      0.851      1.186      0.236        -0.659     2.678\n",
       "x2            21.8821    1.3e+04      0.002      0.999     -2.55e+04  2.56e+04\n",
       "x3             2.0162      0.820      2.458      0.014         0.409     3.624\n",
       "x4            -0.1568      1.069     -0.147      0.883        -2.251     1.938\n",
       "x5             1.2268      0.774      1.585      0.113        -0.290     2.743\n",
       "x6           -18.1191   1.53e+04     -0.001      0.999        -3e+04     3e+04\n",
       "x7             0.6914      0.986      0.701      0.483        -1.241     2.624\n",
       "x8             2.4169      0.850      2.845      0.004         0.752     4.082\n",
       "x9             2.1980      0.954      2.304      0.021         0.328     4.068\n",
       "x10           -0.7345      0.518     -1.419      0.156        -1.749     0.280\n",
       "x11            0.8360      0.670      1.248      0.212        -0.477     2.149\n",
       "x12           -0.6618      0.794     -0.833      0.405        -2.219     0.895\n",
       "x13            1.8468      0.554      3.335      0.001         0.761     2.932\n",
       "x14           -0.8485      1.191     -0.712      0.476        -3.184     1.487\n",
       "x15          -45.6972   4.88e+09  -9.37e-09      1.000     -9.56e+09  9.56e+09\n",
       "const         -1.5464      0.742     -2.084      0.037        -3.001    -0.092\n",
       "==============================================================================\n",
       "\"\"\""
      ]
     },
     "execution_count": 589,
     "metadata": {},
     "output_type": "execute_result"
    }
   ],
   "source": [
    "#print summary\n",
    "\n",
    "mdl_fit.summary()"
   ]
  },
  {
   "cell_type": "markdown",
   "metadata": {},
   "source": [
    "did not do well at all"
   ]
  },
  {
   "cell_type": "markdown",
   "metadata": {
    "focus": false,
    "id": "9c9274ef-c9f5-4d56-b286-ecc8709eff9f"
   },
   "source": [
    "attempt this with scikitlearn"
   ]
  },
  {
   "cell_type": "code",
   "execution_count": 599,
   "metadata": {
    "collapsed": false
   },
   "outputs": [
    {
     "data": {
      "text/plain": [
       "GridSearchCV(cv=15, error_score='raise',\n",
       "       estimator=LogisticRegression(C=1.0, class_weight=None, dual=False, fit_intercept=True,\n",
       "          intercept_scaling=1, max_iter=100, multi_class='ovr', n_jobs=1,\n",
       "          penalty='l2', random_state=None, solver='liblinear', tol=0.0001,\n",
       "          verbose=0, warm_start=False),\n",
       "       fit_params={}, iid=True, n_jobs=1,\n",
       "       param_grid={'penalty': ['l1', 'l2'], 'C': [0.0001, 0.001, 0.01, 0.1, 0.15, 0.25, 0.275, 0.33, 0.5, 0.66, 0.75, 1.0, 2.5, 5.0, 10.0, 100.0, 1000.0]},\n",
       "       pre_dispatch='2*n_jobs', refit=True, scoring=None, verbose=False)"
      ]
     },
     "execution_count": 599,
     "metadata": {},
     "output_type": "execute_result"
    }
   ],
   "source": [
    "#try gridsearch\n",
    "\n",
    "logreg = LogisticRegression(solver='liblinear')\n",
    "C_vals = [0.0001, 0.001, 0.01, 0.1, .15, .25, .275, .33, 0.5, .66, 0.75, 1.0, 2.5, 5.0, 10.0, 100.0, 1000.0]\n",
    "penalties = ['l1','l2']\n",
    "\n",
    "gs = GridSearchCV(logreg, {'penalty': penalties, 'C': C_vals}, verbose=False, cv=15)\n",
    "gs.fit(X, y)"
   ]
  },
  {
   "cell_type": "code",
   "execution_count": 600,
   "metadata": {
    "collapsed": false
   },
   "outputs": [
    {
     "data": {
      "text/plain": [
       "{'C': 0.0001, 'penalty': 'l2'}"
      ]
     },
     "execution_count": 600,
     "metadata": {},
     "output_type": "execute_result"
    }
   ],
   "source": [
    "#print best parameters\n",
    "\n",
    "gs.best_params_"
   ]
  },
  {
   "cell_type": "code",
   "execution_count": 601,
   "metadata": {
    "collapsed": true
   },
   "outputs": [],
   "source": [
    "#train test split at 33% and fit to best parameters\n",
    "\n",
    "X_train, X_test, y_train, y_test = train_test_split(X, y, test_size=0.33)\n",
    "lr = LogisticRegression(C=gs.best_params_['C'], penalty=gs.best_params_['penalty']) \n",
    "lr_model = lr.fit(X_train, y_train)\n",
    "lr_ypred = lr_model.predict(X_test)"
   ]
  },
  {
   "cell_type": "code",
   "execution_count": 602,
   "metadata": {
    "collapsed": false
   },
   "outputs": [
    {
     "data": {
      "text/html": [
       "<div>\n",
       "<table border=\"1\" class=\"dataframe\">\n",
       "  <thead>\n",
       "    <tr style=\"text-align: right;\">\n",
       "      <th></th>\n",
       "      <th>0.0</th>\n",
       "      <th>1.0</th>\n",
       "    </tr>\n",
       "  </thead>\n",
       "  <tbody>\n",
       "    <tr>\n",
       "      <th>0.0</th>\n",
       "      <td>27</td>\n",
       "      <td>7</td>\n",
       "    </tr>\n",
       "    <tr>\n",
       "      <th>1.0</th>\n",
       "      <td>19</td>\n",
       "      <td>14</td>\n",
       "    </tr>\n",
       "  </tbody>\n",
       "</table>\n",
       "</div>"
      ],
      "text/plain": [
       "     0.0  1.0\n",
       "0.0   27    7\n",
       "1.0   19   14"
      ]
     },
     "execution_count": 602,
     "metadata": {},
     "output_type": "execute_result"
    }
   ],
   "source": [
    "#print confusion matrix\n",
    "\n",
    "lr_cm = confusion_matrix(y_test, lr_ypred, labels=lr.classes_)\n",
    "lr_cm = pd.DataFrame(lr_cm, columns=lr.classes_, index=lr.classes_)\n",
    "lr_cm"
   ]
  },
  {
   "cell_type": "code",
   "execution_count": 603,
   "metadata": {
    "collapsed": false
   },
   "outputs": [
    {
     "name": "stdout",
     "output_type": "stream",
     "text": [
      "             precision    recall  f1-score   support\n",
      "\n",
      "        0.0       0.59      0.79      0.68        34\n",
      "        1.0       0.67      0.42      0.52        33\n",
      "\n",
      "avg / total       0.63      0.61      0.60        67\n",
      "\n"
     ]
    }
   ],
   "source": [
    "#did not perform better than location only\n",
    "\n",
    "print(classification_report(y_test, lr_ypred, labels=lr.classes_))"
   ]
  },
  {
   "cell_type": "code",
   "execution_count": 604,
   "metadata": {
    "collapsed": false
   },
   "outputs": [
    {
     "data": {
      "text/html": [
       "<div>\n",
       "<table border=\"1\" class=\"dataframe\">\n",
       "  <thead>\n",
       "    <tr style=\"text-align: right;\">\n",
       "      <th></th>\n",
       "      <th>0.0</th>\n",
       "      <th>1.0</th>\n",
       "    </tr>\n",
       "  </thead>\n",
       "  <tbody>\n",
       "    <tr>\n",
       "      <th>0.0</th>\n",
       "      <td>26</td>\n",
       "      <td>8</td>\n",
       "    </tr>\n",
       "    <tr>\n",
       "      <th>1.0</th>\n",
       "      <td>14</td>\n",
       "      <td>19</td>\n",
       "    </tr>\n",
       "  </tbody>\n",
       "</table>\n",
       "</div>"
      ],
      "text/plain": [
       "     0.0  1.0\n",
       "0.0   26    8\n",
       "1.0   14   19"
      ]
     },
     "execution_count": 604,
     "metadata": {},
     "output_type": "execute_result"
    }
   ],
   "source": [
    "#fit without the gridsearch\n",
    "\n",
    "lr2 = LogisticRegression() \n",
    "lr2_model = lr2.fit(X_train, y_train)\n",
    "lr2_ypred = lr2_model.predict(X_test)\n",
    "\n",
    "lr2_cm = confusion_matrix(y_test, lr2_ypred, labels=lr2.classes_)\n",
    "lr2_cm = pd.DataFrame(lr2_cm, columns=lr2.classes_, index=lr2.classes_)\n",
    "lr2_cm"
   ]
  },
  {
   "cell_type": "code",
   "execution_count": 606,
   "metadata": {
    "collapsed": false
   },
   "outputs": [
    {
     "name": "stdout",
     "output_type": "stream",
     "text": [
      "             precision    recall  f1-score   support\n",
      "\n",
      "        0.0       0.65      0.76      0.70        34\n",
      "        1.0       0.70      0.58      0.63        33\n",
      "\n",
      "avg / total       0.68      0.67      0.67        67\n",
      "\n"
     ]
    }
   ],
   "source": [
    "#definitely performed better than gridsearch but not that much better than location only\n",
    "\n",
    "print(classification_report(y_test, lr2_ypred, labels=lr2.classes_))"
   ]
  },
  {
   "cell_type": "code",
   "execution_count": 614,
   "metadata": {
    "collapsed": false,
    "focus": false,
    "id": "269b9e7c-60b5-4a06-8255-881d7395bc1b"
   },
   "outputs": [
    {
     "name": "stdout",
     "output_type": "stream",
     "text": [
      "accuracy score:  0.671641791045\n",
      "auc:  0.670231729055\n",
      "precision score:  0.703703703704\n",
      "recall score:  0.575757575758\n"
     ]
    }
   ],
   "source": [
    "# print a few more scores\n",
    "\n",
    "print \"accuracy score: \", accuracy_score(y_test, lr2_ypred)\n",
    "print \"auc: \", roc_auc_score(y_test, lr2_ypred)\n",
    "print \"precision score: \", precision_score(y_test, lr2_ypred)\n",
    "print \"recall score: \", recall_score(y_test, lr2_ypred)"
   ]
  },
  {
   "cell_type": "markdown",
   "metadata": {
    "focus": false,
    "id": "fead9b5b-7316-405d-87fd-e144dff0cbeb"
   },
   "source": [
    "incorporate more features - the addition of title didn't do too much"
   ]
  },
  {
   "cell_type": "code",
   "execution_count": 628,
   "metadata": {
    "collapsed": false
   },
   "outputs": [
    {
     "data": {
      "text/plain": [
       "array(['POLICE DEPARTMENT', 'All-In Analytics', 'AllianceBernstein',\n",
       "       'Wade & Wendy', 'Empiric Solutions',\n",
       "       'Research Foundation for Mental Hygiene, Inc.', 'Technical Source',\n",
       "       'New York State Senate', 'Averity', 'TalentHub Worldwide',\n",
       "       'Smart Host', 'DEPT OF HEALTH/MENTAL HYGIENE',\n",
       "       'Datacom Technology Group', 'Smith Hanley Associates',\n",
       "       'Columbia University', 'City of New York', 'Selby Jennings',\n",
       "       'Emerald Resource Group', 'Helix Sleep',\n",
       "       'NYC Dept. of Health and Mental Hygiene',\n",
       "       \"ADMIN FOR CHILDREN'S SVCS\",\n",
       "       'Research Foundation of The City University of New...',\n",
       "       'Princeton Consulting', 'NYC Department of Buildings',\n",
       "       'NYC Health + Hospitals', 'Univision communications inc',\n",
       "       'DEPARTMENT OF SANITATION',\n",
       "       'Environmental Conservation, Department of',\n",
       "       'Workbridge Associates', 'Lighthouse Recruiting', 'Access Staffing',\n",
       "       'Parker and Lynch', 'Smith Arnold Partners', '3coast',\n",
       "       'HRA/DEPT OF SOCIAL SERVICES', 'Jobspring Partners',\n",
       "       'DEPARTMENT OF FINANCE', 'Atrium Staffing',\n",
       "       'Seeking Alpha Search International', 'BIG 6 Search International',\n",
       "       'Etech Hi Inc.', 'Analytic Recruiting', 'Hirewell',\n",
       "       'Department Of Veterans Affairs', 'CREhire.com', 'NJF Search',\n",
       "       'Food Management Search', 'Modis', 'ITStaff Technical Resources',\n",
       "       'Medlytic', 'kWh Analytics', 'MarkMonitor', 'Mines.io',\n",
       "       'San Francisco State University', 'Oakland Unified School District',\n",
       "       'Corporate Labs Technology', 'Brilent', 'HSF Consulting',\n",
       "       'Talent Compliance Consulting Services',\n",
       "       'University of California Berkeley', 'Zachary Piper, LLC',\n",
       "       'Apptopia Inc', 'Strategic Employment Partners', 'The Bivium Group',\n",
       "       'Boston Redevelopment Authority', 'Fanning Personnel',\n",
       "       'U.S. Department of Labor', 'Execu | Search',\n",
       "       'Human Capital Resource, LLC.', 'Department Of Labor',\n",
       "       'U.S. Federal Government', 'Commonwealth of Massachusetts',\n",
       "       'Mental Health Center of Denver', 'Denver Health',\n",
       "       'Department Of The Interior', 'Computer Enterprises, Inc.',\n",
       "       'University of Colorado', 'Fahrenheit IT', 'DigitalGlobe',\n",
       "       'Potatoes USA', 'Oscar Technology', 'Texas A&M University',\n",
       "       'MD ANDERSON CANCER CENTER', 'Baylor College of Medicine',\n",
       "       'PeopleScout', 'Piper Enterprise Solutions',\n",
       "       'Piper Clinical Solutions', 'State of North Carolina',\n",
       "       'North Carolina State University', 'University of North Carolina',\n",
       "       'Department Of Agriculture', 'Oregon Health & Science University',\n",
       "       'Prime Team Partners', 'Pullskill Technologies', 'Rakuten, Inc.',\n",
       "       'Seattle Pacific University', 'Job Brokers, Inc.',\n",
       "       'State of Washington', 'Roc Search',\n",
       "       'TechTank Staffing & Consulting Solutions', 'Emoters Robotics',\n",
       "       'Myriad Development', 'JE Compliance', 'Providence Partners'], dtype=object)"
      ]
     },
     "execution_count": 628,
     "metadata": {},
     "output_type": "execute_result"
    }
   ],
   "source": [
    "#take a look if there's anything that can be done for company\n",
    "\n",
    "indcsvmore[\"Company\"].unique()"
   ]
  },
  {
   "cell_type": "markdown",
   "metadata": {},
   "source": [
    "Consider using the following as features for company:\n",
    "\n",
    "* education: \"university\", \"school\", \"college\"\n",
    "* hospital/health: \"hospital, hospitals, cancer, health\"\n",
    "* government: \"department, dept\""
   ]
  },
  {
   "cell_type": "code",
   "execution_count": 79,
   "metadata": {
    "collapsed": true
   },
   "outputs": [],
   "source": [
    "#write a function to help do the above with the company one\n",
    "\n",
    "def companychange(boops):\n",
    "    if \"university\" in boops:\n",
    "        return \"Education\"\n",
    "    elif \"University\" in boops:\n",
    "        return \"Education\"\n",
    "    elif \"College\" in boops:\n",
    "        return \"Education\"\n",
    "    elif \"college\" in boops:\n",
    "        return \"Education\" \n",
    "    elif \"School\" in boops:\n",
    "        return \"Education\" \n",
    "    elif \"school\" in boops:\n",
    "        return \"Education\"\n",
    "    elif \"department\" in boops:\n",
    "        return \"Government\"\n",
    "    elif \"Department\" in boops:\n",
    "        return \"Government\"\n",
    "    elif \"dept\"in boops:\n",
    "        return \"Government\"\n",
    "    elif \"Dept\" in boops:\n",
    "        return \"Government\"\n",
    "    elif \"State\" in boops:\n",
    "        return \"Government\"\n",
    "    elif \"state\" in boops:\n",
    "        return \"Government\"\n",
    "    elif \"DEPARTMENT\" in boops:\n",
    "        return \"Government\"\n",
    "    elif \"hospital\" in boops:\n",
    "        return \"Healthcare\"\n",
    "    elif \"hospitals\" in boops:\n",
    "        return \"Healthcare\"\n",
    "    elif \"Hospital\" in boops:\n",
    "        return \"Healthcare\"\n",
    "    elif \"Hospitals\" in boops:\n",
    "        return \"Healthcare\"\n",
    "    elif \"Cancer\" in boops:\n",
    "        return \"Healthcare\"\n",
    "    elif \"cancer\" in boops:\n",
    "        return \"Healthcare\"\n",
    "    elif \"health\" in boops:\n",
    "        return \"Healthcare\"\n",
    "    elif \"Health\" in boops:\n",
    "        return \"Healthcare\"\n",
    "    elif \"center\" in boops:\n",
    "        return \"Healthcare\"\n",
    "    elif \"Center\" in boops:\n",
    "        return \"Healthcare\"\n",
    "    else:\n",
    "        return \"Other\""
   ]
  },
  {
   "cell_type": "code",
   "execution_count": 80,
   "metadata": {
    "collapsed": false
   },
   "outputs": [],
   "source": [
    "#apply changes\n",
    "\n",
    "indcsvmore[\"Company Features\"] = indcsvmore[\"Company\"].apply(companychange)"
   ]
  },
  {
   "cell_type": "code",
   "execution_count": 81,
   "metadata": {
    "collapsed": false
   },
   "outputs": [
    {
     "data": {
      "text/plain": [
       "array(['Government', 'Other', 'Education', 'Healthcare'], dtype=object)"
      ]
     },
     "execution_count": 81,
     "metadata": {},
     "output_type": "execute_result"
    }
   ],
   "source": [
    "#check that this actually works\n",
    "\n",
    "indcsvmore[\"Company Features\"].unique()"
   ]
  },
  {
   "cell_type": "code",
   "execution_count": 82,
   "metadata": {
    "collapsed": false
   },
   "outputs": [
    {
     "data": {
      "text/plain": [
       "Other         160\n",
       "Education      22\n",
       "Government     16\n",
       "Healthcare      5\n",
       "Name: Company Features, dtype: int64"
      ]
     },
     "execution_count": 82,
     "metadata": {},
     "output_type": "execute_result"
    }
   ],
   "source": [
    "indcsvmore[\"Company Features\"].value_counts()"
   ]
  },
  {
   "cell_type": "code",
   "execution_count": 102,
   "metadata": {
    "collapsed": true
   },
   "outputs": [
    {
     "ename": "KeyError",
     "evalue": "'Company Features'",
     "output_type": "error",
     "traceback": [
      "\u001b[0;31m---------------------------------------------------------------------------\u001b[0m",
      "\u001b[0;31mKeyError\u001b[0m                                  Traceback (most recent call last)",
      "\u001b[0;32m<ipython-input-102-755454e6ce0d>\u001b[0m in \u001b[0;36m<module>\u001b[0;34m()\u001b[0m\n\u001b[0;32m----> 1\u001b[0;31m \u001b[0mindcsvmore1\u001b[0m \u001b[0;34m=\u001b[0m \u001b[0mpd\u001b[0m\u001b[0;34m.\u001b[0m\u001b[0mconcat\u001b[0m\u001b[0;34m(\u001b[0m\u001b[0;34m[\u001b[0m\u001b[0mindcsvmore\u001b[0m\u001b[0;34m,\u001b[0m \u001b[0mpd\u001b[0m\u001b[0;34m.\u001b[0m\u001b[0mget_dummies\u001b[0m\u001b[0;34m(\u001b[0m\u001b[0mindcsvmore\u001b[0m\u001b[0;34m[\u001b[0m\u001b[0;34m\"Company Features\"\u001b[0m\u001b[0;34m]\u001b[0m\u001b[0;34m)\u001b[0m\u001b[0;34m]\u001b[0m\u001b[0;34m,\u001b[0m \u001b[0maxis\u001b[0m \u001b[0;34m=\u001b[0m \u001b[0;36m1\u001b[0m\u001b[0;34m)\u001b[0m\u001b[0;34m\u001b[0m\u001b[0m\n\u001b[0m",
      "\u001b[0;32m/Users/katty/anaconda/lib/python2.7/site-packages/pandas/core/frame.pyc\u001b[0m in \u001b[0;36m__getitem__\u001b[0;34m(self, key)\u001b[0m\n\u001b[1;32m   1990\u001b[0m             \u001b[0;32mreturn\u001b[0m \u001b[0mself\u001b[0m\u001b[0;34m.\u001b[0m\u001b[0m_getitem_multilevel\u001b[0m\u001b[0;34m(\u001b[0m\u001b[0mkey\u001b[0m\u001b[0;34m)\u001b[0m\u001b[0;34m\u001b[0m\u001b[0m\n\u001b[1;32m   1991\u001b[0m         \u001b[0;32melse\u001b[0m\u001b[0;34m:\u001b[0m\u001b[0;34m\u001b[0m\u001b[0m\n\u001b[0;32m-> 1992\u001b[0;31m             \u001b[0;32mreturn\u001b[0m \u001b[0mself\u001b[0m\u001b[0;34m.\u001b[0m\u001b[0m_getitem_column\u001b[0m\u001b[0;34m(\u001b[0m\u001b[0mkey\u001b[0m\u001b[0;34m)\u001b[0m\u001b[0;34m\u001b[0m\u001b[0m\n\u001b[0m\u001b[1;32m   1993\u001b[0m \u001b[0;34m\u001b[0m\u001b[0m\n\u001b[1;32m   1994\u001b[0m     \u001b[0;32mdef\u001b[0m \u001b[0m_getitem_column\u001b[0m\u001b[0;34m(\u001b[0m\u001b[0mself\u001b[0m\u001b[0;34m,\u001b[0m \u001b[0mkey\u001b[0m\u001b[0;34m)\u001b[0m\u001b[0;34m:\u001b[0m\u001b[0;34m\u001b[0m\u001b[0m\n",
      "\u001b[0;32m/Users/katty/anaconda/lib/python2.7/site-packages/pandas/core/frame.pyc\u001b[0m in \u001b[0;36m_getitem_column\u001b[0;34m(self, key)\u001b[0m\n\u001b[1;32m   1997\u001b[0m         \u001b[0;31m# get column\u001b[0m\u001b[0;34m\u001b[0m\u001b[0;34m\u001b[0m\u001b[0m\n\u001b[1;32m   1998\u001b[0m         \u001b[0;32mif\u001b[0m \u001b[0mself\u001b[0m\u001b[0;34m.\u001b[0m\u001b[0mcolumns\u001b[0m\u001b[0;34m.\u001b[0m\u001b[0mis_unique\u001b[0m\u001b[0;34m:\u001b[0m\u001b[0;34m\u001b[0m\u001b[0m\n\u001b[0;32m-> 1999\u001b[0;31m             \u001b[0;32mreturn\u001b[0m \u001b[0mself\u001b[0m\u001b[0;34m.\u001b[0m\u001b[0m_get_item_cache\u001b[0m\u001b[0;34m(\u001b[0m\u001b[0mkey\u001b[0m\u001b[0;34m)\u001b[0m\u001b[0;34m\u001b[0m\u001b[0m\n\u001b[0m\u001b[1;32m   2000\u001b[0m \u001b[0;34m\u001b[0m\u001b[0m\n\u001b[1;32m   2001\u001b[0m         \u001b[0;31m# duplicate columns & possible reduce dimensionality\u001b[0m\u001b[0;34m\u001b[0m\u001b[0;34m\u001b[0m\u001b[0m\n",
      "\u001b[0;32m/Users/katty/anaconda/lib/python2.7/site-packages/pandas/core/generic.pyc\u001b[0m in \u001b[0;36m_get_item_cache\u001b[0;34m(self, item)\u001b[0m\n\u001b[1;32m   1343\u001b[0m         \u001b[0mres\u001b[0m \u001b[0;34m=\u001b[0m \u001b[0mcache\u001b[0m\u001b[0;34m.\u001b[0m\u001b[0mget\u001b[0m\u001b[0;34m(\u001b[0m\u001b[0mitem\u001b[0m\u001b[0;34m)\u001b[0m\u001b[0;34m\u001b[0m\u001b[0m\n\u001b[1;32m   1344\u001b[0m         \u001b[0;32mif\u001b[0m \u001b[0mres\u001b[0m \u001b[0;32mis\u001b[0m \u001b[0mNone\u001b[0m\u001b[0;34m:\u001b[0m\u001b[0;34m\u001b[0m\u001b[0m\n\u001b[0;32m-> 1345\u001b[0;31m             \u001b[0mvalues\u001b[0m \u001b[0;34m=\u001b[0m \u001b[0mself\u001b[0m\u001b[0;34m.\u001b[0m\u001b[0m_data\u001b[0m\u001b[0;34m.\u001b[0m\u001b[0mget\u001b[0m\u001b[0;34m(\u001b[0m\u001b[0mitem\u001b[0m\u001b[0;34m)\u001b[0m\u001b[0;34m\u001b[0m\u001b[0m\n\u001b[0m\u001b[1;32m   1346\u001b[0m             \u001b[0mres\u001b[0m \u001b[0;34m=\u001b[0m \u001b[0mself\u001b[0m\u001b[0;34m.\u001b[0m\u001b[0m_box_item_values\u001b[0m\u001b[0;34m(\u001b[0m\u001b[0mitem\u001b[0m\u001b[0;34m,\u001b[0m \u001b[0mvalues\u001b[0m\u001b[0;34m)\u001b[0m\u001b[0;34m\u001b[0m\u001b[0m\n\u001b[1;32m   1347\u001b[0m             \u001b[0mcache\u001b[0m\u001b[0;34m[\u001b[0m\u001b[0mitem\u001b[0m\u001b[0;34m]\u001b[0m \u001b[0;34m=\u001b[0m \u001b[0mres\u001b[0m\u001b[0;34m\u001b[0m\u001b[0m\n",
      "\u001b[0;32m/Users/katty/anaconda/lib/python2.7/site-packages/pandas/core/internals.pyc\u001b[0m in \u001b[0;36mget\u001b[0;34m(self, item, fastpath)\u001b[0m\n\u001b[1;32m   3223\u001b[0m \u001b[0;34m\u001b[0m\u001b[0m\n\u001b[1;32m   3224\u001b[0m             \u001b[0;32mif\u001b[0m \u001b[0;32mnot\u001b[0m \u001b[0misnull\u001b[0m\u001b[0;34m(\u001b[0m\u001b[0mitem\u001b[0m\u001b[0;34m)\u001b[0m\u001b[0;34m:\u001b[0m\u001b[0;34m\u001b[0m\u001b[0m\n\u001b[0;32m-> 3225\u001b[0;31m                 \u001b[0mloc\u001b[0m \u001b[0;34m=\u001b[0m \u001b[0mself\u001b[0m\u001b[0;34m.\u001b[0m\u001b[0mitems\u001b[0m\u001b[0;34m.\u001b[0m\u001b[0mget_loc\u001b[0m\u001b[0;34m(\u001b[0m\u001b[0mitem\u001b[0m\u001b[0;34m)\u001b[0m\u001b[0;34m\u001b[0m\u001b[0m\n\u001b[0m\u001b[1;32m   3226\u001b[0m             \u001b[0;32melse\u001b[0m\u001b[0;34m:\u001b[0m\u001b[0;34m\u001b[0m\u001b[0m\n\u001b[1;32m   3227\u001b[0m                 \u001b[0mindexer\u001b[0m \u001b[0;34m=\u001b[0m \u001b[0mnp\u001b[0m\u001b[0;34m.\u001b[0m\u001b[0marange\u001b[0m\u001b[0;34m(\u001b[0m\u001b[0mlen\u001b[0m\u001b[0;34m(\u001b[0m\u001b[0mself\u001b[0m\u001b[0;34m.\u001b[0m\u001b[0mitems\u001b[0m\u001b[0;34m)\u001b[0m\u001b[0;34m)\u001b[0m\u001b[0;34m[\u001b[0m\u001b[0misnull\u001b[0m\u001b[0;34m(\u001b[0m\u001b[0mself\u001b[0m\u001b[0;34m.\u001b[0m\u001b[0mitems\u001b[0m\u001b[0;34m)\u001b[0m\u001b[0;34m]\u001b[0m\u001b[0;34m\u001b[0m\u001b[0m\n",
      "\u001b[0;32m/Users/katty/anaconda/lib/python2.7/site-packages/pandas/indexes/base.pyc\u001b[0m in \u001b[0;36mget_loc\u001b[0;34m(self, key, method, tolerance)\u001b[0m\n\u001b[1;32m   1876\u001b[0m                 \u001b[0;32mreturn\u001b[0m \u001b[0mself\u001b[0m\u001b[0;34m.\u001b[0m\u001b[0m_engine\u001b[0m\u001b[0;34m.\u001b[0m\u001b[0mget_loc\u001b[0m\u001b[0;34m(\u001b[0m\u001b[0mkey\u001b[0m\u001b[0;34m)\u001b[0m\u001b[0;34m\u001b[0m\u001b[0m\n\u001b[1;32m   1877\u001b[0m             \u001b[0;32mexcept\u001b[0m \u001b[0mKeyError\u001b[0m\u001b[0;34m:\u001b[0m\u001b[0;34m\u001b[0m\u001b[0m\n\u001b[0;32m-> 1878\u001b[0;31m                 \u001b[0;32mreturn\u001b[0m \u001b[0mself\u001b[0m\u001b[0;34m.\u001b[0m\u001b[0m_engine\u001b[0m\u001b[0;34m.\u001b[0m\u001b[0mget_loc\u001b[0m\u001b[0;34m(\u001b[0m\u001b[0mself\u001b[0m\u001b[0;34m.\u001b[0m\u001b[0m_maybe_cast_indexer\u001b[0m\u001b[0;34m(\u001b[0m\u001b[0mkey\u001b[0m\u001b[0;34m)\u001b[0m\u001b[0;34m)\u001b[0m\u001b[0;34m\u001b[0m\u001b[0m\n\u001b[0m\u001b[1;32m   1879\u001b[0m \u001b[0;34m\u001b[0m\u001b[0m\n\u001b[1;32m   1880\u001b[0m         \u001b[0mindexer\u001b[0m \u001b[0;34m=\u001b[0m \u001b[0mself\u001b[0m\u001b[0;34m.\u001b[0m\u001b[0mget_indexer\u001b[0m\u001b[0;34m(\u001b[0m\u001b[0;34m[\u001b[0m\u001b[0mkey\u001b[0m\u001b[0;34m]\u001b[0m\u001b[0;34m,\u001b[0m \u001b[0mmethod\u001b[0m\u001b[0;34m=\u001b[0m\u001b[0mmethod\u001b[0m\u001b[0;34m,\u001b[0m \u001b[0mtolerance\u001b[0m\u001b[0;34m=\u001b[0m\u001b[0mtolerance\u001b[0m\u001b[0;34m)\u001b[0m\u001b[0;34m\u001b[0m\u001b[0m\n",
      "\u001b[0;32mpandas/index.pyx\u001b[0m in \u001b[0;36mpandas.index.IndexEngine.get_loc (pandas/index.c:4027)\u001b[0;34m()\u001b[0m\n",
      "\u001b[0;32mpandas/index.pyx\u001b[0m in \u001b[0;36mpandas.index.IndexEngine.get_loc (pandas/index.c:3891)\u001b[0;34m()\u001b[0m\n",
      "\u001b[0;32mpandas/hashtable.pyx\u001b[0m in \u001b[0;36mpandas.hashtable.PyObjectHashTable.get_item (pandas/hashtable.c:12408)\u001b[0;34m()\u001b[0m\n",
      "\u001b[0;32mpandas/hashtable.pyx\u001b[0m in \u001b[0;36mpandas.hashtable.PyObjectHashTable.get_item (pandas/hashtable.c:12359)\u001b[0;34m()\u001b[0m\n",
      "\u001b[0;31mKeyError\u001b[0m: 'Company Features'"
     ]
    }
   ],
   "source": [
    "#make into dummies and make into new data frame\n",
    "\n",
    "indcsvmore1 = pd.concat([indcsvmore, pd.get_dummies(indcsvmore[\"Company Features\"])], axis = 1)"
   ]
  },
  {
   "cell_type": "markdown",
   "metadata": {},
   "source": [
    "### Take a look at our full distribution of features now that we have all of them"
   ]
  },
  {
   "cell_type": "code",
   "execution_count": 92,
   "metadata": {
    "collapsed": false
   },
   "outputs": [
    {
     "data": {
      "image/png": "[encoded data removed]",
      "text/plain": [
       "<matplotlib.figure.Figure at 0x1853fc390>"
      ]
     },
     "metadata": {},
     "output_type": "display_data"
    }
   ],
   "source": [
    "#take a look at company types\n",
    "\n",
    "pd.value_counts(indcsvmore1[\"Company Features\"]).plot(kind = \"bar\", figsize = (10,5), color = \"darkblue\")\n",
    "\n",
    "ax = plt.gca()\n",
    "ax.set_title(\"Distribution of Company Types\")\n",
    "ax.set_ylabel(\"Count\")\n",
    "ax.set_xlabel(\"Company Type\")\n",
    "plt.show()"
   ]
  },
  {
   "cell_type": "code",
   "execution_count": 93,
   "metadata": {
    "collapsed": false
   },
   "outputs": [
    {
     "data": {
      "image/png": "[encoded data removed]",
      "text/plain": [
       "<matplotlib.figure.Figure at 0x185618f50>"
      ]
     },
     "metadata": {},
     "output_type": "display_data"
    }
   ],
   "source": [
    "#take a look of distribution of locations\n",
    "\n",
    "pd.value_counts(indcsvmore1[\"Location\"]).plot(kind = \"bar\", figsize = (10,5), color = \"green\")\n",
    "\n",
    "ax = plt.gca()\n",
    "ax.set_title(\"Distribution of Location\")\n",
    "ax.set_ylabel(\"Count\")\n",
    "ax.set_xlabel(\"Location\")\n",
    "plt.show()"
   ]
  },
  {
   "cell_type": "code",
   "execution_count": 104,
   "metadata": {
    "collapsed": false
   },
   "outputs": [
    {
     "data": {
      "image/png": "[encoded data removed]",
      "text/plain": [
       "<matplotlib.figure.Figure at 0x186957610>"
      ]
     },
     "metadata": {},
     "output_type": "display_data"
    }
   ],
   "source": [
    "#take a look at title descriptions\n",
    "\n",
    "pd.value_counts(indcsvmore[\"Title Features\"]).plot(kind = \"bar\", figsize = (10,5), color = \"red\")\n",
    "\n",
    "ax = plt.gca()\n",
    "ax.set_title(\"Distribution of Title Keywords\")\n",
    "ax.set_ylabel(\"Count\")\n",
    "ax.set_xlabel(\"Title Keywords\")\n",
    "plt.show()"
   ]
  },
  {
   "cell_type": "code",
   "execution_count": 656,
   "metadata": {
    "collapsed": false
   },
   "outputs": [
    {
     "data": {
      "text/html": [
       "<div>\n",
       "<table border=\"1\" class=\"dataframe\">\n",
       "  <thead>\n",
       "    <tr style=\"text-align: right;\">\n",
       "      <th></th>\n",
       "      <th>Title</th>\n",
       "      <th>Location</th>\n",
       "      <th>Salary</th>\n",
       "      <th>Company</th>\n",
       "      <th>SalaryBinary</th>\n",
       "      <th>High</th>\n",
       "      <th>Austin</th>\n",
       "      <th>Boston</th>\n",
       "      <th>Charlotte</th>\n",
       "      <th>Chicago</th>\n",
       "      <th>...</th>\n",
       "      <th>Analyst</th>\n",
       "      <th>Engineer</th>\n",
       "      <th>Manager</th>\n",
       "      <th>Senior</th>\n",
       "      <th>Specialist</th>\n",
       "      <th>Statistician</th>\n",
       "      <th>Company Features</th>\n",
       "      <th>Education</th>\n",
       "      <th>Government</th>\n",
       "      <th>Healthcare</th>\n",
       "    </tr>\n",
       "  </thead>\n",
       "  <tbody>\n",
       "    <tr>\n",
       "      <th>33</th>\n",
       "      <td>STATISTICIAN, LEVEL I</td>\n",
       "      <td>New York</td>\n",
       "      <td>51363.0</td>\n",
       "      <td>POLICE DEPARTMENT</td>\n",
       "      <td>Low</td>\n",
       "      <td>0.0</td>\n",
       "      <td>0.0</td>\n",
       "      <td>0.0</td>\n",
       "      <td>0.0</td>\n",
       "      <td>0.0</td>\n",
       "      <td>...</td>\n",
       "      <td>0.0</td>\n",
       "      <td>0.0</td>\n",
       "      <td>0.0</td>\n",
       "      <td>0.0</td>\n",
       "      <td>0.0</td>\n",
       "      <td>0.0</td>\n",
       "      <td>Government</td>\n",
       "      <td>0.0</td>\n",
       "      <td>1.0</td>\n",
       "      <td>0.0</td>\n",
       "    </tr>\n",
       "    <tr>\n",
       "      <th>36</th>\n",
       "      <td>Machine Learning Data Scientist</td>\n",
       "      <td>New York</td>\n",
       "      <td>132500.0</td>\n",
       "      <td>All-In Analytics</td>\n",
       "      <td>High</td>\n",
       "      <td>1.0</td>\n",
       "      <td>0.0</td>\n",
       "      <td>0.0</td>\n",
       "      <td>0.0</td>\n",
       "      <td>0.0</td>\n",
       "      <td>...</td>\n",
       "      <td>0.0</td>\n",
       "      <td>0.0</td>\n",
       "      <td>0.0</td>\n",
       "      <td>0.0</td>\n",
       "      <td>0.0</td>\n",
       "      <td>0.0</td>\n",
       "      <td>NaN</td>\n",
       "      <td>0.0</td>\n",
       "      <td>0.0</td>\n",
       "      <td>0.0</td>\n",
       "    </tr>\n",
       "    <tr>\n",
       "      <th>39</th>\n",
       "      <td>AVP/Quantitative Analyst</td>\n",
       "      <td>New York</td>\n",
       "      <td>122500.0</td>\n",
       "      <td>AllianceBernstein</td>\n",
       "      <td>High</td>\n",
       "      <td>1.0</td>\n",
       "      <td>0.0</td>\n",
       "      <td>0.0</td>\n",
       "      <td>0.0</td>\n",
       "      <td>0.0</td>\n",
       "      <td>...</td>\n",
       "      <td>1.0</td>\n",
       "      <td>0.0</td>\n",
       "      <td>0.0</td>\n",
       "      <td>0.0</td>\n",
       "      <td>0.0</td>\n",
       "      <td>0.0</td>\n",
       "      <td>NaN</td>\n",
       "      <td>0.0</td>\n",
       "      <td>0.0</td>\n",
       "      <td>0.0</td>\n",
       "    </tr>\n",
       "    <tr>\n",
       "      <th>61</th>\n",
       "      <td>Sr. Machine Learning Data Scientist</td>\n",
       "      <td>New York</td>\n",
       "      <td>130000.0</td>\n",
       "      <td>Wade &amp; Wendy</td>\n",
       "      <td>High</td>\n",
       "      <td>1.0</td>\n",
       "      <td>0.0</td>\n",
       "      <td>0.0</td>\n",
       "      <td>0.0</td>\n",
       "      <td>0.0</td>\n",
       "      <td>...</td>\n",
       "      <td>0.0</td>\n",
       "      <td>0.0</td>\n",
       "      <td>0.0</td>\n",
       "      <td>1.0</td>\n",
       "      <td>0.0</td>\n",
       "      <td>0.0</td>\n",
       "      <td>NaN</td>\n",
       "      <td>0.0</td>\n",
       "      <td>0.0</td>\n",
       "      <td>0.0</td>\n",
       "    </tr>\n",
       "    <tr>\n",
       "      <th>85</th>\n",
       "      <td>Lead/Principal Data Scientist</td>\n",
       "      <td>New York</td>\n",
       "      <td>165000.0</td>\n",
       "      <td>Empiric Solutions</td>\n",
       "      <td>High</td>\n",
       "      <td>1.0</td>\n",
       "      <td>0.0</td>\n",
       "      <td>0.0</td>\n",
       "      <td>0.0</td>\n",
       "      <td>0.0</td>\n",
       "      <td>...</td>\n",
       "      <td>0.0</td>\n",
       "      <td>0.0</td>\n",
       "      <td>0.0</td>\n",
       "      <td>0.0</td>\n",
       "      <td>0.0</td>\n",
       "      <td>0.0</td>\n",
       "      <td>NaN</td>\n",
       "      <td>0.0</td>\n",
       "      <td>0.0</td>\n",
       "      <td>0.0</td>\n",
       "    </tr>\n",
       "  </tbody>\n",
       "</table>\n",
       "<p>5 rows × 27 columns</p>\n",
       "</div>"
      ],
      "text/plain": [
       "                                  Title  Location    Salary  \\\n",
       "33                STATISTICIAN, LEVEL I  New York   51363.0   \n",
       "36      Machine Learning Data Scientist  New York  132500.0   \n",
       "39             AVP/Quantitative Analyst  New York  122500.0   \n",
       "61  Sr. Machine Learning Data Scientist  New York  130000.0   \n",
       "85        Lead/Principal Data Scientist  New York  165000.0   \n",
       "\n",
       "              Company SalaryBinary  High  Austin  Boston  Charlotte  Chicago  \\\n",
       "33  POLICE DEPARTMENT          Low   0.0     0.0     0.0        0.0      0.0   \n",
       "36   All-In Analytics         High   1.0     0.0     0.0        0.0      0.0   \n",
       "39  AllianceBernstein         High   1.0     0.0     0.0        0.0      0.0   \n",
       "61       Wade & Wendy         High   1.0     0.0     0.0        0.0      0.0   \n",
       "85  Empiric Solutions         High   1.0     0.0     0.0        0.0      0.0   \n",
       "\n",
       "       ...      Analyst  Engineer  Manager  Senior  Specialist  Statistician  \\\n",
       "33     ...          0.0       0.0      0.0     0.0         0.0           0.0   \n",
       "36     ...          0.0       0.0      0.0     0.0         0.0           0.0   \n",
       "39     ...          1.0       0.0      0.0     0.0         0.0           0.0   \n",
       "61     ...          0.0       0.0      0.0     1.0         0.0           0.0   \n",
       "85     ...          0.0       0.0      0.0     0.0         0.0           0.0   \n",
       "\n",
       "   Company Features  Education  Government  Healthcare  \n",
       "33       Government        0.0         1.0         0.0  \n",
       "36              NaN        0.0         0.0         0.0  \n",
       "39              NaN        0.0         0.0         0.0  \n",
       "61              NaN        0.0         0.0         0.0  \n",
       "85              NaN        0.0         0.0         0.0  \n",
       "\n",
       "[5 rows x 27 columns]"
      ]
     },
     "execution_count": 656,
     "metadata": {},
     "output_type": "execute_result"
    }
   ],
   "source": [
    "del indcsvmore1[\"intercept\"]\n",
    "indcsvmore1.head()"
   ]
  },
  {
   "cell_type": "code",
   "execution_count": 677,
   "metadata": {
    "collapsed": true
   },
   "outputs": [],
   "source": [
    "#set the final X\n",
    "\n",
    "X_finalcv = indcsvmore1.iloc[:][[7,8,9,10,11,12,13,14,15,17,18,19,20,21,22,24,25,26]]"
   ]
  },
  {
   "cell_type": "code",
   "execution_count": 678,
   "metadata": {
    "collapsed": true
   },
   "outputs": [],
   "source": [
    "#set the final y\n",
    "\n",
    "y_finalcv = indcsvmore1[\"High\"]"
   ]
  },
  {
   "cell_type": "code",
   "execution_count": 679,
   "metadata": {
    "collapsed": false
   },
   "outputs": [
    {
     "data": {
      "text/plain": [
       "GridSearchCV(cv=15, error_score='raise',\n",
       "       estimator=LogisticRegression(C=1.0, class_weight=None, dual=False, fit_intercept=True,\n",
       "          intercept_scaling=1, max_iter=100, multi_class='ovr', n_jobs=1,\n",
       "          penalty='l2', random_state=None, solver='liblinear', tol=0.0001,\n",
       "          verbose=0, warm_start=False),\n",
       "       fit_params={}, iid=True, n_jobs=1,\n",
       "       param_grid={'penalty': ['l1', 'l2'], 'C': [0.0001, 0.001, 0.01, 0.1, 0.15, 0.25, 0.275, 0.33, 0.5, 0.66, 0.75, 1.0, 2.5, 5.0, 10.0, 100.0, 1000.0]},\n",
       "       pre_dispatch='2*n_jobs', refit=True, scoring=None, verbose=False)"
      ]
     },
     "execution_count": 679,
     "metadata": {},
     "output_type": "execute_result"
    }
   ],
   "source": [
    "#attempt logistic regression for all 3 feature categories\n",
    "\n",
    "logreg = LogisticRegression(solver='liblinear')\n",
    "C_vals = [0.0001, 0.001, 0.01, 0.1, .15, .25, .275, .33, 0.5, .66, 0.75, 1.0, 2.5, 5.0, 10.0, 100.0, 1000.0]\n",
    "penalties = ['l1','l2']\n",
    "\n",
    "gs = GridSearchCV(logreg, {'penalty': penalties, 'C': C_vals}, verbose=False, cv=15)\n",
    "gs.fit(X_finalcv, y_finalcv)"
   ]
  },
  {
   "cell_type": "code",
   "execution_count": 685,
   "metadata": {
    "collapsed": false
   },
   "outputs": [
    {
     "data": {
      "text/html": [
       "<div>\n",
       "<table border=\"1\" class=\"dataframe\">\n",
       "  <thead>\n",
       "    <tr style=\"text-align: right;\">\n",
       "      <th></th>\n",
       "      <th>0.0</th>\n",
       "      <th>1.0</th>\n",
       "    </tr>\n",
       "  </thead>\n",
       "  <tbody>\n",
       "    <tr>\n",
       "      <th>0.0</th>\n",
       "      <td>27</td>\n",
       "      <td>5</td>\n",
       "    </tr>\n",
       "    <tr>\n",
       "      <th>1.0</th>\n",
       "      <td>14</td>\n",
       "      <td>21</td>\n",
       "    </tr>\n",
       "  </tbody>\n",
       "</table>\n",
       "</div>"
      ],
      "text/plain": [
       "     0.0  1.0\n",
       "0.0   27    5\n",
       "1.0   14   21"
      ]
     },
     "execution_count": 685,
     "metadata": {},
     "output_type": "execute_result"
    }
   ],
   "source": [
    "#fit to gridsearch lr, and print confusion matrix\n",
    "\n",
    "X_train, X_test, y_train, y_test = train_test_split(X_finalcv, y_finalcv, test_size=0.33)\n",
    "lr = LogisticRegression(C=gs.best_params_['C'], penalty=gs.best_params_['penalty']) \n",
    "lr_model = lr.fit(X_train, y_train)\n",
    "lr_ypred = lr_model.predict(X_test)\n",
    "\n",
    "lr_cm = confusion_matrix(y_test, lr_ypred, labels=lr.classes_)\n",
    "lr_cm = pd.DataFrame(lr_cm, columns=lr.classes_, index=lr.classes_)\n",
    "lr_cm"
   ]
  },
  {
   "cell_type": "code",
   "execution_count": 688,
   "metadata": {
    "collapsed": false
   },
   "outputs": [
    {
     "name": "stdout",
     "output_type": "stream",
     "text": [
      "             precision    recall  f1-score   support\n",
      "\n",
      "        0.0       0.66      0.84      0.74        32\n",
      "        1.0       0.81      0.60      0.69        35\n",
      "\n",
      "avg / total       0.74      0.72      0.71        67\n",
      "\n",
      "0.661120789779\n"
     ]
    }
   ],
   "source": [
    "#did marginally better than before\n",
    "\n",
    "print(classification_report(y_test, lr_ypred, labels=lr.classes_))\n",
    "print cross_val_score(lr, X_finalcv, y_finalcv, cv=5).mean()"
   ]
  },
  {
   "cell_type": "code",
   "execution_count": 689,
   "metadata": {
    "collapsed": false
   },
   "outputs": [
    {
     "data": {
      "text/plain": [
       "array([[-0.01393623,  0.01498557,  0.0290792 , -0.03250664, -0.02073666,\n",
       "        -0.00464901, -0.00920429,  0.04695336,  0.01028424, -0.04685126,\n",
       "         0.0103617 , -0.02299791,  0.07998058, -0.0145017 , -0.01910134,\n",
       "        -0.07605302, -0.06641964, -0.01926149]])"
      ]
     },
     "execution_count": 689,
     "metadata": {},
     "output_type": "execute_result"
    }
   ],
   "source": [
    "#check the coefficients\n",
    "\n",
    "lr_model.coef_"
   ]
  },
  {
   "cell_type": "code",
   "execution_count": 690,
   "metadata": {
    "collapsed": false
   },
   "outputs": [
    {
     "data": {
      "text/html": [
       "<div>\n",
       "<table border=\"1\" class=\"dataframe\">\n",
       "  <thead>\n",
       "    <tr style=\"text-align: right;\">\n",
       "      <th></th>\n",
       "      <th>Boston</th>\n",
       "      <th>Charlotte</th>\n",
       "      <th>Chicago</th>\n",
       "      <th>Denver</th>\n",
       "      <th>New York</th>\n",
       "      <th>Portland</th>\n",
       "      <th>Raleigh</th>\n",
       "      <th>San Francisco</th>\n",
       "      <th>Seattle</th>\n",
       "      <th>Analyst</th>\n",
       "      <th>Engineer</th>\n",
       "      <th>Manager</th>\n",
       "      <th>Senior</th>\n",
       "      <th>Specialist</th>\n",
       "      <th>Statistician</th>\n",
       "      <th>Education</th>\n",
       "      <th>Government</th>\n",
       "      <th>Healthcare</th>\n",
       "      <th>intercept</th>\n",
       "    </tr>\n",
       "  </thead>\n",
       "  <tbody>\n",
       "    <tr>\n",
       "      <th>33</th>\n",
       "      <td>0.0</td>\n",
       "      <td>0.0</td>\n",
       "      <td>0.0</td>\n",
       "      <td>0.0</td>\n",
       "      <td>1.0</td>\n",
       "      <td>0.0</td>\n",
       "      <td>0.0</td>\n",
       "      <td>0.0</td>\n",
       "      <td>0.0</td>\n",
       "      <td>0.0</td>\n",
       "      <td>0.0</td>\n",
       "      <td>0.0</td>\n",
       "      <td>0.0</td>\n",
       "      <td>0.0</td>\n",
       "      <td>0.0</td>\n",
       "      <td>0.0</td>\n",
       "      <td>1.0</td>\n",
       "      <td>0.0</td>\n",
       "      <td>1</td>\n",
       "    </tr>\n",
       "    <tr>\n",
       "      <th>36</th>\n",
       "      <td>0.0</td>\n",
       "      <td>0.0</td>\n",
       "      <td>0.0</td>\n",
       "      <td>0.0</td>\n",
       "      <td>1.0</td>\n",
       "      <td>0.0</td>\n",
       "      <td>0.0</td>\n",
       "      <td>0.0</td>\n",
       "      <td>0.0</td>\n",
       "      <td>0.0</td>\n",
       "      <td>0.0</td>\n",
       "      <td>0.0</td>\n",
       "      <td>0.0</td>\n",
       "      <td>0.0</td>\n",
       "      <td>0.0</td>\n",
       "      <td>0.0</td>\n",
       "      <td>0.0</td>\n",
       "      <td>0.0</td>\n",
       "      <td>1</td>\n",
       "    </tr>\n",
       "    <tr>\n",
       "      <th>39</th>\n",
       "      <td>0.0</td>\n",
       "      <td>0.0</td>\n",
       "      <td>0.0</td>\n",
       "      <td>0.0</td>\n",
       "      <td>1.0</td>\n",
       "      <td>0.0</td>\n",
       "      <td>0.0</td>\n",
       "      <td>0.0</td>\n",
       "      <td>0.0</td>\n",
       "      <td>1.0</td>\n",
       "      <td>0.0</td>\n",
       "      <td>0.0</td>\n",
       "      <td>0.0</td>\n",
       "      <td>0.0</td>\n",
       "      <td>0.0</td>\n",
       "      <td>0.0</td>\n",
       "      <td>0.0</td>\n",
       "      <td>0.0</td>\n",
       "      <td>1</td>\n",
       "    </tr>\n",
       "    <tr>\n",
       "      <th>61</th>\n",
       "      <td>0.0</td>\n",
       "      <td>0.0</td>\n",
       "      <td>0.0</td>\n",
       "      <td>0.0</td>\n",
       "      <td>1.0</td>\n",
       "      <td>0.0</td>\n",
       "      <td>0.0</td>\n",
       "      <td>0.0</td>\n",
       "      <td>0.0</td>\n",
       "      <td>0.0</td>\n",
       "      <td>0.0</td>\n",
       "      <td>0.0</td>\n",
       "      <td>1.0</td>\n",
       "      <td>0.0</td>\n",
       "      <td>0.0</td>\n",
       "      <td>0.0</td>\n",
       "      <td>0.0</td>\n",
       "      <td>0.0</td>\n",
       "      <td>1</td>\n",
       "    </tr>\n",
       "    <tr>\n",
       "      <th>85</th>\n",
       "      <td>0.0</td>\n",
       "      <td>0.0</td>\n",
       "      <td>0.0</td>\n",
       "      <td>0.0</td>\n",
       "      <td>1.0</td>\n",
       "      <td>0.0</td>\n",
       "      <td>0.0</td>\n",
       "      <td>0.0</td>\n",
       "      <td>0.0</td>\n",
       "      <td>0.0</td>\n",
       "      <td>0.0</td>\n",
       "      <td>0.0</td>\n",
       "      <td>0.0</td>\n",
       "      <td>0.0</td>\n",
       "      <td>0.0</td>\n",
       "      <td>0.0</td>\n",
       "      <td>0.0</td>\n",
       "      <td>0.0</td>\n",
       "      <td>1</td>\n",
       "    </tr>\n",
       "  </tbody>\n",
       "</table>\n",
       "</div>"
      ],
      "text/plain": [
       "    Boston  Charlotte  Chicago  Denver  New York  Portland  Raleigh  \\\n",
       "33     0.0        0.0      0.0     0.0       1.0       0.0      0.0   \n",
       "36     0.0        0.0      0.0     0.0       1.0       0.0      0.0   \n",
       "39     0.0        0.0      0.0     0.0       1.0       0.0      0.0   \n",
       "61     0.0        0.0      0.0     0.0       1.0       0.0      0.0   \n",
       "85     0.0        0.0      0.0     0.0       1.0       0.0      0.0   \n",
       "\n",
       "    San Francisco  Seattle  Analyst  Engineer  Manager  Senior  Specialist  \\\n",
       "33            0.0      0.0      0.0       0.0      0.0     0.0         0.0   \n",
       "36            0.0      0.0      0.0       0.0      0.0     0.0         0.0   \n",
       "39            0.0      0.0      1.0       0.0      0.0     0.0         0.0   \n",
       "61            0.0      0.0      0.0       0.0      0.0     1.0         0.0   \n",
       "85            0.0      0.0      0.0       0.0      0.0     0.0         0.0   \n",
       "\n",
       "    Statistician  Education  Government  Healthcare  intercept  \n",
       "33           0.0        0.0         1.0         0.0          1  \n",
       "36           0.0        0.0         0.0         0.0          1  \n",
       "39           0.0        0.0         0.0         0.0          1  \n",
       "61           0.0        0.0         0.0         0.0          1  \n",
       "85           0.0        0.0         0.0         0.0          1  "
      ]
     },
     "execution_count": 690,
     "metadata": {},
     "output_type": "execute_result"
    }
   ],
   "source": [
    "indcsvmore1.iloc[:][[7,8,9,10,11,12,13,14,15,17,18,19,20,21,22,24,25,26,27]].head()"
   ]
  },
  {
   "cell_type": "markdown",
   "metadata": {},
   "source": [
    "San Francisco, and Senior are the most positively correlated - THIS IS THE FINAL MODEL"
   ]
  },
  {
   "cell_type": "code",
   "execution_count": 115,
   "metadata": {
    "collapsed": false
   },
   "outputs": [],
   "source": [
    "#print the fancy confusion matrix\n",
    "\n",
    "import matplotlib.patheffects as path_effects\n",
    "import matplotlib.pyplot as plt\n",
    "%matplotlib inline\n",
    "\n",
    "def plot_confusion_matrix(cm, title='Confusion matrix', labels=['Positive','Negative'], cmap=plt.cm.Blues):\n",
    "    \n",
    "    plt.figure(figsize=(6,6))\n",
    "    plt.imshow(cm, interpolation='nearest', cmap=cmap)\n",
    "    \n",
    "    tick_marks = np.arange(2)\n",
    "    plt.xticks(tick_marks, labels)\n",
    "    plt.yticks(tick_marks, labels)\n",
    "        \n",
    "    plt.title(title)\n",
    "    plt.ylabel('True Label', size = 12)\n",
    "    plt.xlabel('Predicted Label', size = 12)\n",
    "    plt.tight_layout()\n",
    "    \n",
    "    width, height = cm.shape\n",
    "    \n",
    "    for x in xrange(width):\n",
    "        for y in xrange(height):\n",
    "            plt.annotate(str(cm[x][y]), xy=(y, x), \n",
    "                        horizontalalignment='center',\n",
    "                        verticalalignment='center',\n",
    "                        color = 'white',\n",
    "                        fontsize=18).set_path_effects([path_effects.Stroke(linewidth=1, foreground='black'),\n",
    "                                                       path_effects.Normal()])"
   ]
  },
  {
   "cell_type": "code",
   "execution_count": 116,
   "metadata": {
    "collapsed": true
   },
   "outputs": [
    {
     "ename": "NameError",
     "evalue": "name 'lr_cm' is not defined",
     "output_type": "error",
     "traceback": [
      "\u001b[0;31m---------------------------------------------------------------------------\u001b[0m",
      "\u001b[0;31mNameError\u001b[0m                                 Traceback (most recent call last)",
      "\u001b[0;32m<ipython-input-116-48dc8235cfcf>\u001b[0m in \u001b[0;36m<module>\u001b[0;34m()\u001b[0m\n\u001b[0;32m----> 1\u001b[0;31m \u001b[0mplot_confusion_matrix\u001b[0m\u001b[0;34m(\u001b[0m\u001b[0mlr_cm\u001b[0m\u001b[0;34m,\u001b[0m \u001b[0mtitle\u001b[0m\u001b[0;34m=\u001b[0m\u001b[0;34m'Confusion Matrix - High or Low Salary'\u001b[0m\u001b[0;34m,\u001b[0m \u001b[0mlabels\u001b[0m\u001b[0;34m=\u001b[0m\u001b[0;34m[\u001b[0m\u001b[0;34m'Low'\u001b[0m\u001b[0;34m,\u001b[0m\u001b[0;34m'High'\u001b[0m\u001b[0;34m]\u001b[0m\u001b[0;34m,\u001b[0m \u001b[0mcmap\u001b[0m\u001b[0;34m=\u001b[0m\u001b[0mplt\u001b[0m\u001b[0;34m.\u001b[0m\u001b[0mcm\u001b[0m\u001b[0;34m.\u001b[0m\u001b[0mGreens\u001b[0m\u001b[0;34m)\u001b[0m\u001b[0;34m\u001b[0m\u001b[0m\n\u001b[0m",
      "\u001b[0;31mNameError\u001b[0m: name 'lr_cm' is not defined"
     ]
    }
   ],
   "source": [
    "plot_confusion_matrix(lr_cm, title='Confusion Matrix - High or Low Salary', labels=['Low','High'], cmap=plt.cm.Greens)"
   ]
  }
 ],
 "metadata": {
  "kernelspec": {
   "display_name": "Python [Root]",
   "language": "python",
   "name": "Python [Root]"
  },
  "language_info": {
   "codemirror_mode": {
    "name": "ipython",
    "version": 2
   },
   "file_extension": ".py",
   "mimetype": "text/x-python",
   "name": "python",
   "nbconvert_exporter": "python",
   "pygments_lexer": "ipython2",
   "version": "2.7.12"
  }
 },
 "nbformat": 4,
 "nbformat_minor": 0
}
