{
 "cells": [
  {
   "cell_type": "markdown",
   "metadata": {},
   "source": [
    "## Initial Data"
   ]
  },
  {
   "cell_type": "code",
   "execution_count": 2,
   "metadata": {
    "collapsed": false
   },
   "outputs": [],
   "source": [
    "import pandas as pd\n",
    "%matplotlib inline\n",
    "import cv2\n",
    "import numpy as np\n",
    "import matplotlib.pyplot as plt\n",
    "import seaborn as sns\n",
    "import graphlab as gl"
   ]
  },
  {
   "cell_type": "code",
   "execution_count": 3,
   "metadata": {
    "collapsed": false
   },
   "outputs": [
    {
     "data": {
      "text/html": [
       "<div>\n",
       "<table border=\"1\" class=\"dataframe\">\n",
       "  <thead>\n",
       "    <tr style=\"text-align: right;\">\n",
       "      <th></th>\n",
       "      <th>artistName</th>\n",
       "      <th>artworkUrl100</th>\n",
       "      <th>releaseDate</th>\n",
       "      <th>collectionName</th>\n",
       "      <th>decade</th>\n",
       "      <th>updated_genre</th>\n",
       "      <th>target</th>\n",
       "    </tr>\n",
       "  </thead>\n",
       "  <tbody>\n",
       "    <tr>\n",
       "      <th>0</th>\n",
       "      <td>Admiral Bailey</td>\n",
       "      <td>http://is5.mzstatic.com/image/thumb/Music/v4/0...</td>\n",
       "      <td>1987-06-09T07:00:00Z</td>\n",
       "      <td>The Best of Admiral Bailey</td>\n",
       "      <td>1980.0</td>\n",
       "      <td>Reggae</td>\n",
       "      <td>Reggae-1980.0</td>\n",
       "    </tr>\n",
       "    <tr>\n",
       "      <th>1</th>\n",
       "      <td>Admiral Bailey</td>\n",
       "      <td>http://is3.mzstatic.com/image/thumb/Music/v4/0...</td>\n",
       "      <td>1988-01-01T08:00:00Z</td>\n",
       "      <td>Big Belly</td>\n",
       "      <td>1980.0</td>\n",
       "      <td>Reggae</td>\n",
       "      <td>Reggae-1980.0</td>\n",
       "    </tr>\n",
       "    <tr>\n",
       "      <th>2</th>\n",
       "      <td>Admiral Bailey</td>\n",
       "      <td>http://is4.mzstatic.com/image/thumb/Music/v4/3...</td>\n",
       "      <td>1987-06-09T07:00:00Z</td>\n",
       "      <td>Best of Admiral Bailey</td>\n",
       "      <td>1980.0</td>\n",
       "      <td>Reggae</td>\n",
       "      <td>Reggae-1980.0</td>\n",
       "    </tr>\n",
       "    <tr>\n",
       "      <th>3</th>\n",
       "      <td>Admiral Bailey</td>\n",
       "      <td>http://is5.mzstatic.com/image/thumb/Music/v4/2...</td>\n",
       "      <td>2006-06-24T07:00:00Z</td>\n",
       "      <td>Admiral Bailey's Turn Off the Heat - EP</td>\n",
       "      <td>2000.0</td>\n",
       "      <td>World</td>\n",
       "      <td>World-2000.0</td>\n",
       "    </tr>\n",
       "    <tr>\n",
       "      <th>4</th>\n",
       "      <td>Admiral Bailey</td>\n",
       "      <td>http://is5.mzstatic.com/image/thumb/Music/v4/8...</td>\n",
       "      <td>2011-06-20T07:00:00Z</td>\n",
       "      <td>Dela Move</td>\n",
       "      <td>2010.0</td>\n",
       "      <td>Reggae</td>\n",
       "      <td>Reggae-2010.0</td>\n",
       "    </tr>\n",
       "  </tbody>\n",
       "</table>\n",
       "</div>"
      ],
      "text/plain": [
       "       artistName                                      artworkUrl100  \\\n",
       "0  Admiral Bailey  http://is5.mzstatic.com/image/thumb/Music/v4/0...   \n",
       "1  Admiral Bailey  http://is3.mzstatic.com/image/thumb/Music/v4/0...   \n",
       "2  Admiral Bailey  http://is4.mzstatic.com/image/thumb/Music/v4/3...   \n",
       "3  Admiral Bailey  http://is5.mzstatic.com/image/thumb/Music/v4/2...   \n",
       "4  Admiral Bailey  http://is5.mzstatic.com/image/thumb/Music/v4/8...   \n",
       "\n",
       "            releaseDate                           collectionName  decade  \\\n",
       "0  1987-06-09T07:00:00Z               The Best of Admiral Bailey  1980.0   \n",
       "1  1988-01-01T08:00:00Z                                Big Belly  1980.0   \n",
       "2  1987-06-09T07:00:00Z                   Best of Admiral Bailey  1980.0   \n",
       "3  2006-06-24T07:00:00Z  Admiral Bailey's Turn Off the Heat - EP  2000.0   \n",
       "4  2011-06-20T07:00:00Z                                Dela Move  2010.0   \n",
       "\n",
       "  updated_genre         target  \n",
       "0        Reggae  Reggae-1980.0  \n",
       "1        Reggae  Reggae-1980.0  \n",
       "2        Reggae  Reggae-1980.0  \n",
       "3         World   World-2000.0  \n",
       "4        Reggae  Reggae-2010.0  "
      ]
     },
     "execution_count": 3,
     "metadata": {},
     "output_type": "execute_result"
    }
   ],
   "source": [
    "final = pd.read_csv(\"final_pull.csv\")\n",
    "del final[\"Unnamed: 0\"]\n",
    "final.head()"
   ]
  },
  {
   "cell_type": "code",
   "execution_count": 3,
   "metadata": {
    "collapsed": false
   },
   "outputs": [
    {
     "data": {
      "text/html": [
       "<div>\n",
       "<table border=\"1\" class=\"dataframe\">\n",
       "  <thead>\n",
       "    <tr>\n",
       "      <th></th>\n",
       "      <th colspan=\"4\" halign=\"left\">artistName</th>\n",
       "    </tr>\n",
       "    <tr>\n",
       "      <th>decade</th>\n",
       "      <th>1980.0</th>\n",
       "      <th>1990.0</th>\n",
       "      <th>2000.0</th>\n",
       "      <th>2010.0</th>\n",
       "    </tr>\n",
       "    <tr>\n",
       "      <th>updated_genre</th>\n",
       "      <th></th>\n",
       "      <th></th>\n",
       "      <th></th>\n",
       "      <th></th>\n",
       "    </tr>\n",
       "  </thead>\n",
       "  <tbody>\n",
       "    <tr>\n",
       "      <th>Alternative</th>\n",
       "      <td>401</td>\n",
       "      <td>1527</td>\n",
       "      <td>6718</td>\n",
       "      <td>7961</td>\n",
       "    </tr>\n",
       "    <tr>\n",
       "      <th>Blues</th>\n",
       "      <td>13</td>\n",
       "      <td>112</td>\n",
       "      <td>545</td>\n",
       "      <td>406</td>\n",
       "    </tr>\n",
       "    <tr>\n",
       "      <th>Country</th>\n",
       "      <td>202</td>\n",
       "      <td>1023</td>\n",
       "      <td>4098</td>\n",
       "      <td>4931</td>\n",
       "    </tr>\n",
       "    <tr>\n",
       "      <th>Dance</th>\n",
       "      <td>91</td>\n",
       "      <td>686</td>\n",
       "      <td>7278</td>\n",
       "      <td>18717</td>\n",
       "    </tr>\n",
       "    <tr>\n",
       "      <th>Electronic</th>\n",
       "      <td>71</td>\n",
       "      <td>966</td>\n",
       "      <td>5275</td>\n",
       "      <td>8165</td>\n",
       "    </tr>\n",
       "    <tr>\n",
       "      <th>HipHop</th>\n",
       "      <td>21</td>\n",
       "      <td>266</td>\n",
       "      <td>2444</td>\n",
       "      <td>4441</td>\n",
       "    </tr>\n",
       "    <tr>\n",
       "      <th>Jazz</th>\n",
       "      <td>83</td>\n",
       "      <td>329</td>\n",
       "      <td>1481</td>\n",
       "      <td>1564</td>\n",
       "    </tr>\n",
       "    <tr>\n",
       "      <th>Pop</th>\n",
       "      <td>277</td>\n",
       "      <td>889</td>\n",
       "      <td>4718</td>\n",
       "      <td>7438</td>\n",
       "    </tr>\n",
       "    <tr>\n",
       "      <th>RB Soul</th>\n",
       "      <td>62</td>\n",
       "      <td>267</td>\n",
       "      <td>1167</td>\n",
       "      <td>1523</td>\n",
       "    </tr>\n",
       "    <tr>\n",
       "      <th>Reggae</th>\n",
       "      <td>185</td>\n",
       "      <td>633</td>\n",
       "      <td>3233</td>\n",
       "      <td>6821</td>\n",
       "    </tr>\n",
       "    <tr>\n",
       "      <th>Rock</th>\n",
       "      <td>576</td>\n",
       "      <td>1945</td>\n",
       "      <td>9243</td>\n",
       "      <td>10537</td>\n",
       "    </tr>\n",
       "    <tr>\n",
       "      <th>Singer/Songwriter</th>\n",
       "      <td>69</td>\n",
       "      <td>224</td>\n",
       "      <td>1094</td>\n",
       "      <td>1696</td>\n",
       "    </tr>\n",
       "    <tr>\n",
       "      <th>World</th>\n",
       "      <td>118</td>\n",
       "      <td>567</td>\n",
       "      <td>2150</td>\n",
       "      <td>2176</td>\n",
       "    </tr>\n",
       "  </tbody>\n",
       "</table>\n",
       "</div>"
      ],
      "text/plain": [
       "                  artistName                     \n",
       "decade                1980.0 1990.0 2000.0 2010.0\n",
       "updated_genre                                    \n",
       "Alternative              401   1527   6718   7961\n",
       "Blues                     13    112    545    406\n",
       "Country                  202   1023   4098   4931\n",
       "Dance                     91    686   7278  18717\n",
       "Electronic                71    966   5275   8165\n",
       "HipHop                    21    266   2444   4441\n",
       "Jazz                      83    329   1481   1564\n",
       "Pop                      277    889   4718   7438\n",
       "RB Soul                   62    267   1167   1523\n",
       "Reggae                   185    633   3233   6821\n",
       "Rock                     576   1945   9243  10537\n",
       "Singer/Songwriter         69    224   1094   1696\n",
       "World                    118    567   2150   2176"
      ]
     },
     "execution_count": 3,
     "metadata": {},
     "output_type": "execute_result"
    }
   ],
   "source": [
    "genre_decade = pd.pivot_table(final, index = [\"updated_genre\", \"decade\"], values = [\"artistName\"], aggfunc = len).unstack()\n",
    "genre_decade"
   ]
  },
  {
   "cell_type": "code",
   "execution_count": 4,
   "metadata": {
    "collapsed": false
   },
   "outputs": [
    {
     "data": {
      "text/plain": [
       "            decade\n",
       "artistName  1980.0     2169\n",
       "            1990.0     9434\n",
       "            2000.0    49444\n",
       "            2010.0    76376\n",
       "dtype: int64"
      ]
     },
     "execution_count": 4,
     "metadata": {},
     "output_type": "execute_result"
    }
   ],
   "source": [
    "genre_decade.sum()"
   ]
  },
  {
   "cell_type": "code",
   "execution_count": 47,
   "metadata": {
    "collapsed": false
   },
   "outputs": [
    {
     "data": {
      "text/plain": [
       "updated_genre\n",
       "Blues                 1076\n",
       "RB Soul               3019\n",
       "Singer/Songwriter     3083\n",
       "Jazz                  3457\n",
       "World                 5011\n",
       "HipHop                7172\n",
       "Country              10254\n",
       "Reggae               10872\n",
       "Pop                  13322\n",
       "Electronic           14477\n",
       "Alternative          16607\n",
       "Rock                 22301\n",
       "Dance                26772\n",
       "dtype: int64"
      ]
     },
     "execution_count": 47,
     "metadata": {},
     "output_type": "execute_result"
    }
   ],
   "source": [
    "genre_decade.T.sum().sort_values()"
   ]
  },
  {
   "cell_type": "markdown",
   "metadata": {},
   "source": [
    "## Rebalance the data\n"
   ]
  },
  {
   "cell_type": "markdown",
   "metadata": {},
   "source": [
    "Only use Genre and Decade, not the combined one - 15% sample for each"
   ]
  },
  {
   "cell_type": "code",
   "execution_count": 4,
   "metadata": {
    "collapsed": false
   },
   "outputs": [],
   "source": [
    "#pull 1K of each of sample\n",
    "\n",
    "decade_list = list(final[\"decade\"].unique())\n",
    "\n",
    "decade_samps = []\n",
    "for i in decade_list:\n",
    "    decade = final[final[\"decade\"] == i].sample(n=1000, random_state = 77)\n",
    "    decade_samps.append(decade)\n",
    "    \n",
    "decade_sample = pd.concat(decade_samps)\n"
   ]
  },
  {
   "cell_type": "code",
   "execution_count": 5,
   "metadata": {
    "collapsed": false
   },
   "outputs": [
    {
     "data": {
      "text/plain": [
       "2010.0    1000\n",
       "2000.0    1000\n",
       "1990.0    1000\n",
       "1980.0    1000\n",
       "Name: decade, dtype: int64"
      ]
     },
     "execution_count": 5,
     "metadata": {},
     "output_type": "execute_result"
    }
   ],
   "source": [
    "decade_sample[\"decade\"].value_counts()"
   ]
  },
  {
   "cell_type": "code",
   "execution_count": 6,
   "metadata": {
    "collapsed": false
   },
   "outputs": [
    {
     "data": {
      "text/plain": [
       "Rock                 797\n",
       "Alternative          580\n",
       "Dance                498\n",
       "Pop                  390\n",
       "Electronic           380\n",
       "Country              362\n",
       "Reggae               305\n",
       "World                166\n",
       "HipHop               156\n",
       "Jazz                 134\n",
       "RB Soul              110\n",
       "Singer/Songwriter     88\n",
       "Blues                 34\n",
       "Name: updated_genre, dtype: int64"
      ]
     },
     "execution_count": 6,
     "metadata": {},
     "output_type": "execute_result"
    }
   ],
   "source": [
    "decade_sample[\"updated_genre\"].value_counts()"
   ]
  },
  {
   "cell_type": "code",
   "execution_count": 7,
   "metadata": {
    "collapsed": false
   },
   "outputs": [],
   "source": [
    "#pull 800 of each of sample\n",
    "\n",
    "genre_list = list(final[\"updated_genre\"].unique())\n",
    "\n",
    "genre_samps = []\n",
    "for i in genre_list:\n",
    "    genre = final[final[\"updated_genre\"] == i].sample(n=800, random_state = 77)\n",
    "    genre_samps.append(genre)\n",
    "genre_sample = pd.concat(genre_samps)"
   ]
  },
  {
   "cell_type": "code",
   "execution_count": 8,
   "metadata": {
    "collapsed": false
   },
   "outputs": [
    {
     "data": {
      "text/plain": [
       "Country              800\n",
       "Electronic           800\n",
       "Blues                800\n",
       "RB Soul              800\n",
       "Rock                 800\n",
       "Jazz                 800\n",
       "Dance                800\n",
       "Pop                  800\n",
       "Reggae               800\n",
       "Singer/Songwriter    800\n",
       "World                800\n",
       "HipHop               800\n",
       "Alternative          800\n",
       "Name: updated_genre, dtype: int64"
      ]
     },
     "execution_count": 8,
     "metadata": {},
     "output_type": "execute_result"
    }
   ],
   "source": [
    "genre_sample[\"updated_genre\"].value_counts()"
   ]
  },
  {
   "cell_type": "code",
   "execution_count": 9,
   "metadata": {
    "collapsed": false
   },
   "outputs": [
    {
     "data": {
      "text/plain": [
       "2010.0    5421\n",
       "2000.0    3962\n",
       "1990.0     839\n",
       "1980.0     178\n",
       "Name: decade, dtype: int64"
      ]
     },
     "execution_count": 9,
     "metadata": {},
     "output_type": "execute_result"
    }
   ],
   "source": [
    "genre_sample[\"decade\"].value_counts()"
   ]
  },
  {
   "cell_type": "markdown",
   "metadata": {},
   "source": [
    "### 2. Begin to train test split for each"
   ]
  },
  {
   "cell_type": "code",
   "execution_count": 10,
   "metadata": {
    "collapsed": true
   },
   "outputs": [],
   "source": [
    "y_genre = genre_sample[\"updated_genre\"]\n",
    "y_decade = decade_sample[\"decade\"]"
   ]
  },
  {
   "cell_type": "code",
   "execution_count": 11,
   "metadata": {
    "collapsed": false
   },
   "outputs": [
    {
     "data": {
      "text/plain": [
       "Int64Index([ 91338, 101107,  12564,   5415,   4449,   3550,  41918,   5324,\n",
       "              3849, 101913,\n",
       "            ...\n",
       "             45215, 126428, 107491,  14989,  85675, 129945,  51417, 120238,\n",
       "            116312, 111723],\n",
       "           dtype='int64', length=10400)"
      ]
     },
     "execution_count": 11,
     "metadata": {},
     "output_type": "execute_result"
    }
   ],
   "source": [
    "y_genre.index"
   ]
  },
  {
   "cell_type": "code",
   "execution_count": 12,
   "metadata": {
    "collapsed": true
   },
   "outputs": [],
   "source": [
    "X_g_paths = [\"./image/\"+ str(i+1)+\".jpg\" for i in y_genre.index]\n",
    "X_d_paths = [\"./image/\"+ str(i+1)+\".jpg\" for i in y_decade.index]"
   ]
  },
  {
   "cell_type": "code",
   "execution_count": 13,
   "metadata": {
    "collapsed": false
   },
   "outputs": [
    {
     "data": {
      "text/plain": [
       "'./image/1217.jpg'"
      ]
     },
     "execution_count": 13,
     "metadata": {},
     "output_type": "execute_result"
    }
   ],
   "source": [
    "#make sure this is right\n",
    "X_g_paths[25]"
   ]
  },
  {
   "cell_type": "code",
   "execution_count": 14,
   "metadata": {
    "collapsed": false
   },
   "outputs": [
    {
     "data": {
      "text/plain": [
       "'Reggae'"
      ]
     },
     "execution_count": 14,
     "metadata": {},
     "output_type": "execute_result"
    }
   ],
   "source": [
    "y_genre.iloc[25]"
   ]
  },
  {
   "cell_type": "code",
   "execution_count": 15,
   "metadata": {
    "collapsed": false
   },
   "outputs": [
    {
     "data": {
      "text/plain": [
       "artistName                 Beenie Man, Bounty Killer & Sly & Robbie\n",
       "artworkUrl100     http://is4.mzstatic.com/image/thumb/Music/v4/7...\n",
       "releaseDate                                    2011-06-14T07:00:00Z\n",
       "collectionName    Sly & Robbie presents Beenie \\ Bounty: The Tax...\n",
       "decade                                                         2010\n",
       "updated_genre                                                Reggae\n",
       "target                                                Reggae-2010.0\n",
       "Name: 1216, dtype: object"
      ]
     },
     "execution_count": 15,
     "metadata": {},
     "output_type": "execute_result"
    }
   ],
   "source": [
    "genre_sample.iloc[25]"
   ]
  },
  {
   "cell_type": "code",
   "execution_count": 16,
   "metadata": {
    "collapsed": true
   },
   "outputs": [],
   "source": [
    "from sklearn.cross_validation import train_test_split\n",
    "X_train_g, X_test_g, y_train_g, y_test_g = train_test_split(X_g_paths, y_genre, test_size = .20)\n",
    "X_train_d, X_test_d, y_train_d, y_test_d = train_test_split(X_d_paths, y_decade, test_size = .20)"
   ]
  },
  {
   "cell_type": "markdown",
   "metadata": {},
   "source": [
    "### 3. Attempt to fit data with Neural Nets using Graph Lab"
   ]
  },
  {
   "cell_type": "code",
   "execution_count": 17,
   "metadata": {
    "collapsed": false
   },
   "outputs": [
    {
     "name": "stdout",
     "output_type": "stream",
     "text": [
      "This non-commercial license of GraphLab Create for academic use is assigned to katty.lein@gmail.com and will expire on August 13, 2017.\n"
     ]
    },
    {
     "name": "stderr",
     "output_type": "stream",
     "text": [
      "[INFO] graphlab.cython.cy_server: GraphLab Create v2.1 started. Logging: /tmp/graphlab_server_1471400353.log\n"
     ]
    },
    {
     "name": "stdout",
     "output_type": "stream",
     "text": [
      "+------------------------+-------------+\n",
      "|           X1           |    labels   |\n",
      "+------------------------+-------------+\n",
      "| Height: 100 Width: 100 | Alternative |\n",
      "| Height: 100 Width: 100 |  Electronic |\n",
      "| Height: 100 Width: 100 |  Electronic |\n",
      "| Height: 100 Width: 100 |     Jazz    |\n",
      "| Height: 100 Width: 100 |  Electronic |\n",
      "| Height: 100 Width: 100 |    Reggae   |\n",
      "| Height: 100 Width: 100 |     Rock    |\n",
      "| Height: 100 Width: 100 |    HipHop   |\n",
      "| Height: 100 Width: 100 |    Reggae   |\n",
      "| Height: 100 Width: 100 |    Reggae   |\n",
      "+------------------------+-------------+\n",
      "[8320 rows x 2 columns]\n",
      "Note: Only the head of the SFrame is printed.\n",
      "You can use print_rows(num_rows=m, num_columns=n) to print more rows and columns.\n"
     ]
    }
   ],
   "source": [
    "X_train_g_sf = [gl.Image(i) for i in X_train_g]\n",
    "X_train_g_sf = [gl.image_analysis.resize(i, 100, 100, 3, decode=True) for i in X_train_g_sf]\n",
    "X_train_g_sf = gl.SFrame(X_train_g_sf)\n",
    "X_train_g_sf[\"labels\"] = y_train_g\n",
    "print X_train_g_sf"
   ]
  },
  {
   "cell_type": "code",
   "execution_count": 18,
   "metadata": {
    "collapsed": false
   },
   "outputs": [
    {
     "name": "stdout",
     "output_type": "stream",
     "text": [
      "+------------------------+-------------+\n",
      "|           X1           |    labels   |\n",
      "+------------------------+-------------+\n",
      "| Height: 100 Width: 100 |     Pop     |\n",
      "| Height: 100 Width: 100 |     Jazz    |\n",
      "| Height: 100 Width: 100 |   RB Soul   |\n",
      "| Height: 100 Width: 100 |     Rock    |\n",
      "| Height: 100 Width: 100 |   Country   |\n",
      "| Height: 100 Width: 100 |    HipHop   |\n",
      "| Height: 100 Width: 100 | Alternative |\n",
      "| Height: 100 Width: 100 |     Rock    |\n",
      "| Height: 100 Width: 100 |     Rock    |\n",
      "| Height: 100 Width: 100 |     Pop     |\n",
      "+------------------------+-------------+\n",
      "[2080 rows x 2 columns]\n",
      "Note: Only the head of the SFrame is printed.\n",
      "You can use print_rows(num_rows=m, num_columns=n) to print more rows and columns.\n"
     ]
    }
   ],
   "source": [
    "X_test_g_sf = [gl.Image(i) for i in X_test_g]\n",
    "X_test_g_sf = [gl.image_analysis.resize(i, 100, 100, 3, decode=True) for i in X_test_g_sf]\n",
    "X_test_g_sf = gl.SFrame(X_test_g_sf)\n",
    "X_test_g_sf[\"labels\"] = y_test_g\n",
    "print X_test_g_sf"
   ]
  },
  {
   "cell_type": "code",
   "execution_count": 152,
   "metadata": {
    "collapsed": false
   },
   "outputs": [],
   "source": [
    "net_g = gl.deeplearning.create(X_train_g_sf[[\"X1\", \"labels\"]], target=\"labels\")"
   ]
  },
  {
   "cell_type": "code",
   "execution_count": 153,
   "metadata": {
    "collapsed": false
   },
   "outputs": [
    {
     "name": "stdout",
     "output_type": "stream",
     "text": [
      "Using network:\n",
      "\n",
      "### network layers ###\n",
      "layer[0]: ConvolutionLayer\n",
      "  init_random = gaussian\n",
      "  padding = 0\n",
      "  stride = 2\n",
      "  num_channels = 10\n",
      "  num_groups = 1\n",
      "  kernel_size = 3\n",
      "layer[1]: MaxPoolingLayer\n",
      "  padding = 0\n",
      "  stride = 2\n",
      "  kernel_size = 3\n",
      "layer[2]: FlattenLayer\n",
      "layer[3]: FullConnectionLayer\n",
      "  init_sigma = 0.01\n",
      "  init_random = gaussian\n",
      "  init_bias = 0\n",
      "  num_hidden_units = 100\n",
      "layer[4]: RectifiedLinearLayer\n",
      "layer[5]: DropoutLayer\n",
      "  threshold = 0.5\n",
      "layer[6]: FullConnectionLayer\n",
      "  init_sigma = 0.01\n",
      "  init_random = gaussian\n",
      "  init_bias = 0\n",
      "  num_hidden_units = 13\n",
      "layer[7]: SoftmaxLayer\n",
      "### end network layers ###\n",
      "\n",
      "### network parameters ###\n",
      "learning_rate = 0.001\n",
      "metric = accuracy,recall@2\n",
      "momentum = 0.9\n",
      "### end network parameters ###\n",
      "\n",
      "PROGRESS: Creating a validation set from 5 percent of training data. This may take a while.\n",
      "          You can set ``validation_set=None`` to disable validation tracking.\n",
      "\n"
     ]
    },
    {
     "data": {
      "text/html": [
       "<pre>Computing mean image...</pre>"
      ],
      "text/plain": [
       "Computing mean image..."
      ]
     },
     "metadata": {},
     "output_type": "display_data"
    },
    {
     "data": {
      "text/html": [
       "<pre>Done computing mean image.</pre>"
      ],
      "text/plain": [
       "Done computing mean image."
      ]
     },
     "metadata": {},
     "output_type": "display_data"
    },
    {
     "data": {
      "text/html": [
       "<pre>Creating neuralnet using cpu</pre>"
      ],
      "text/plain": [
       "Creating neuralnet using cpu"
      ]
     },
     "metadata": {},
     "output_type": "display_data"
    },
    {
     "data": {
      "text/html": [
       "<pre>Training with batch size = 100</pre>"
      ],
      "text/plain": [
       "Training with batch size = 100"
      ]
     },
     "metadata": {},
     "output_type": "display_data"
    },
    {
     "data": {
      "text/html": [
       "<pre>+-----------+----------+--------------+-------------------+---------------------+-------------------+---------------------+-----------------+</pre>"
      ],
      "text/plain": [
       "+-----------+----------+--------------+-------------------+---------------------+-------------------+---------------------+-----------------+"
      ]
     },
     "metadata": {},
     "output_type": "display_data"
    },
    {
     "data": {
      "text/html": [
       "<pre>| Iteration | Examples | Elapsed Time | Training-accuracy | Validation-accuracy | Training-recall@2 | Validation-recall@2 | Examples/second |</pre>"
      ],
      "text/plain": [
       "| Iteration | Examples | Elapsed Time | Training-accuracy | Validation-accuracy | Training-recall@2 | Validation-recall@2 | Examples/second |"
      ]
     },
     "metadata": {},
     "output_type": "display_data"
    },
    {
     "data": {
      "text/html": [
       "<pre>+-----------+----------+--------------+-------------------+---------------------+-------------------+---------------------+-----------------+</pre>"
      ],
      "text/plain": [
       "+-----------+----------+--------------+-------------------+---------------------+-------------------+---------------------+-----------------+"
      ]
     },
     "metadata": {},
     "output_type": "display_data"
    },
    {
     "data": {
      "text/html": [
       "<pre>| 1         | 1600     | 10.239134    | 0.078750          |                     | 0.163750          |                     | 156.263275      |</pre>"
      ],
      "text/plain": [
       "| 1         | 1600     | 10.239134    | 0.078750          |                     | 0.163750          |                     | 156.263275      |"
      ]
     },
     "metadata": {},
     "output_type": "display_data"
    },
    {
     "data": {
      "text/html": [
       "<pre>| 1         | 3200     | 20.460733    | 0.074062          |                     | 0.160000          |                     | 156.531311      |</pre>"
      ],
      "text/plain": [
       "| 1         | 3200     | 20.460733    | 0.074062          |                     | 0.160000          |                     | 156.531311      |"
      ]
     },
     "metadata": {},
     "output_type": "display_data"
    },
    {
     "data": {
      "text/html": [
       "<pre>| 1         | 4900     | 30.841066    | 0.073673          |                     | 0.161429          |                     | 163.771225      |</pre>"
      ],
      "text/plain": [
       "| 1         | 4900     | 30.841066    | 0.073673          |                     | 0.161429          |                     | 163.771225      |"
      ]
     },
     "metadata": {},
     "output_type": "display_data"
    },
    {
     "data": {
      "text/html": [
       "<pre>| 1         | 6600     | 41.392995    | 0.078333          |                     | 0.165758          |                     | 161.107971      |</pre>"
      ],
      "text/plain": [
       "| 1         | 6600     | 41.392995    | 0.078333          |                     | 0.165758          |                     | 161.107971      |"
      ]
     },
     "metadata": {},
     "output_type": "display_data"
    },
    {
     "data": {
      "text/html": [
       "<pre>| 1         | 8000     | 51.419922    | 0.081750          | 0.093199            | 0.167875          | 0.146096            | 139.623978      |</pre>"
      ],
      "text/plain": [
       "| 1         | 8000     | 51.419922    | 0.081750          | 0.093199            | 0.167875          | 0.146096            | 139.623978      |"
      ]
     },
     "metadata": {},
     "output_type": "display_data"
    },
    {
     "data": {
      "text/html": [
       "<pre>| 2         | 1700     | 61.673538    | 0.106471          |                     | 0.191765          |                     | 165.798721      |</pre>"
      ],
      "text/plain": [
       "| 2         | 1700     | 61.673538    | 0.106471          |                     | 0.191765          |                     | 165.798721      |"
      ]
     },
     "metadata": {},
     "output_type": "display_data"
    },
    {
     "data": {
      "text/html": [
       "<pre>| 2         | 3400     | 71.845298    | 0.105588          |                     | 0.184412          |                     | 167.129364      |</pre>"
      ],
      "text/plain": [
       "| 2         | 3400     | 71.845298    | 0.105588          |                     | 0.184412          |                     | 167.129364      |"
      ]
     },
     "metadata": {},
     "output_type": "display_data"
    },
    {
     "data": {
      "text/html": [
       "<pre>| 2         | 5100     | 82.068577    | 0.103529          |                     | 0.187843          |                     | 166.287155      |</pre>"
      ],
      "text/plain": [
       "| 2         | 5100     | 82.068577    | 0.103529          |                     | 0.187843          |                     | 166.287155      |"
      ]
     },
     "metadata": {},
     "output_type": "display_data"
    },
    {
     "data": {
      "text/html": [
       "<pre>| 2         | 6800     | 92.424121    | 0.108088          |                     | 0.192500          |                     | 164.163269      |</pre>"
      ],
      "text/plain": [
       "| 2         | 6800     | 92.424121    | 0.108088          |                     | 0.192500          |                     | 164.163269      |"
      ]
     },
     "metadata": {},
     "output_type": "display_data"
    },
    {
     "data": {
      "text/html": [
       "<pre>| 2         | 8000     | 100.687324   | 0.107125          | 0.118388            | 0.192875          | 0.186398            | 145.222092      |</pre>"
      ],
      "text/plain": [
       "| 2         | 8000     | 100.687324   | 0.107125          | 0.118388            | 0.192875          | 0.186398            | 145.222092      |"
      ]
     },
     "metadata": {},
     "output_type": "display_data"
    },
    {
     "data": {
      "text/html": [
       "<pre>| 3         | 1700     | 111.214681   | 0.102353          |                     | 0.195294          |                     | 161.485458      |</pre>"
      ],
      "text/plain": [
       "| 3         | 1700     | 111.214681   | 0.102353          |                     | 0.195294          |                     | 161.485458      |"
      ]
     },
     "metadata": {},
     "output_type": "display_data"
    },
    {
     "data": {
      "text/html": [
       "<pre>| 3         | 3400     | 121.615506   | 0.104118          |                     | 0.199118          |                     | 163.448563      |</pre>"
      ],
      "text/plain": [
       "| 3         | 3400     | 121.615506   | 0.104118          |                     | 0.199118          |                     | 163.448563      |"
      ]
     },
     "metadata": {},
     "output_type": "display_data"
    },
    {
     "data": {
      "text/html": [
       "<pre>| 3         | 5100     | 132.159414   | 0.106863          |                     | 0.199608          |                     | 161.230530      |</pre>"
      ],
      "text/plain": [
       "| 3         | 5100     | 132.159414   | 0.106863          |                     | 0.199608          |                     | 161.230530      |"
      ]
     },
     "metadata": {},
     "output_type": "display_data"
    },
    {
     "data": {
      "text/html": [
       "<pre>| 3         | 6800     | 142.555707   | 0.110588          |                     | 0.204853          |                     | 163.519836      |</pre>"
      ],
      "text/plain": [
       "| 3         | 6800     | 142.555707   | 0.110588          |                     | 0.204853          |                     | 163.519836      |"
      ]
     },
     "metadata": {},
     "output_type": "display_data"
    },
    {
     "data": {
      "text/html": [
       "<pre>| 3         | 8000     | 150.942017   | 0.110500          | 0.085642            | 0.203125          | 0.183879            | 143.090271      |</pre>"
      ],
      "text/plain": [
       "| 3         | 8000     | 150.942017   | 0.110500          | 0.085642            | 0.203125          | 0.183879            | 143.090271      |"
      ]
     },
     "metadata": {},
     "output_type": "display_data"
    },
    {
     "data": {
      "text/html": [
       "<pre>+-----------+----------+--------------+-------------------+---------------------+-------------------+---------------------+-----------------+</pre>"
      ],
      "text/plain": [
       "+-----------+----------+--------------+-------------------+---------------------+-------------------+---------------------+-----------------+"
      ]
     },
     "metadata": {},
     "output_type": "display_data"
    }
   ],
   "source": [
    "nn_model_g = gl.neuralnet_classifier.create(X_train_g_sf[[\"X1\", \"labels\"]], target='labels', network = net_g, metric=['accuracy', 'recall@2'], max_iterations=3)"
   ]
  },
  {
   "cell_type": "code",
   "execution_count": 154,
   "metadata": {
    "collapsed": false
   },
   "outputs": [],
   "source": [
    "eval_g_sf = nn_model_g.evaluate(X_test_g_sf)"
   ]
  },
  {
   "cell_type": "code",
   "execution_count": 159,
   "metadata": {
    "collapsed": false
   },
   "outputs": [
    {
     "data": {
      "text/plain": [
       "{'accuracy': 0.11730769276618958, 'confusion_matrix': Columns:\n",
       " \ttarget_label\tstr\n",
       " \tpredicted_label\tstr\n",
       " \tcount\tint\n",
       " \n",
       " Rows: 165\n",
       " \n",
       " Data:\n",
       " +--------------+-----------------+-------+\n",
       " | target_label | predicted_label | count |\n",
       " +--------------+-----------------+-------+\n",
       " | Alternative  |   Alternative   |   29  |\n",
       " |    Blues     |   Alternative   |   12  |\n",
       " |   Country    |   Alternative   |   14  |\n",
       " |    Dance     |   Alternative   |   12  |\n",
       " |  Electronic  |   Alternative   |   21  |\n",
       " |    HipHop    |   Alternative   |   13  |\n",
       " |     Jazz     |   Alternative   |   19  |\n",
       " |     Pop      |   Alternative   |   14  |\n",
       " |   RB Soul    |   Alternative   |   8   |\n",
       " |    Reggae    |   Alternative   |   9   |\n",
       " +--------------+-----------------+-------+\n",
       " [165 rows x 3 columns]\n",
       " Note: Only the head of the SFrame is printed.\n",
       " You can use print_rows(num_rows=m, num_columns=n) to print more rows and columns.}"
      ]
     },
     "execution_count": 159,
     "metadata": {},
     "output_type": "execute_result"
    }
   ],
   "source": [
    "#performed very poorly\n",
    "eval_g_sf"
   ]
  },
  {
   "cell_type": "code",
   "execution_count": 19,
   "metadata": {
    "collapsed": true
   },
   "outputs": [],
   "source": [
    "X_train_d_sf = [gl.Image(i) for i in X_train_d]\n",
    "X_train_d_sf = [gl.image_analysis.resize(i, 100, 100, 3, decode=True) for i in X_train_d_sf]\n",
    "X_train_d_sf = gl.SFrame(X_train_d_sf)\n",
    "X_train_d_sf[\"labels\"] = y_train_d"
   ]
  },
  {
   "cell_type": "code",
   "execution_count": 20,
   "metadata": {
    "collapsed": true
   },
   "outputs": [],
   "source": [
    "X_test_d_sf = [gl.Image(i) for i in X_test_d]\n",
    "X_test_d_sf = [gl.image_analysis.resize(i, 100, 100, 3, decode=True) for i in X_test_d_sf]\n",
    "X_test_d_sf = gl.SFrame(X_test_d_sf)\n",
    "X_test_d_sf[\"labels\"] = y_test_d"
   ]
  },
  {
   "cell_type": "code",
   "execution_count": 21,
   "metadata": {
    "collapsed": true
   },
   "outputs": [],
   "source": [
    "X_test_d_sf[\"labels\"] = X_test_d_sf[\"labels\"].apply(lambda x: int(x))\n",
    "X_train_d_sf[\"labels\"] = X_train_d_sf[\"labels\"].apply(lambda x: int(x))"
   ]
  },
  {
   "cell_type": "code",
   "execution_count": 127,
   "metadata": {
    "collapsed": false
   },
   "outputs": [],
   "source": [
    "net_d = gl.deeplearning.create(X_train_d_sf[[\"X1\", \"labels\"]], target=\"labels\")"
   ]
  },
  {
   "cell_type": "code",
   "execution_count": 128,
   "metadata": {
    "collapsed": false
   },
   "outputs": [
    {
     "data": {
      "text/plain": [
       "layer[0]: ConvolutionLayer\n",
       "  init_random = gaussian\n",
       "  padding = 0\n",
       "  stride = 2\n",
       "  num_channels = 10\n",
       "  num_groups = 1\n",
       "  kernel_size = 3\n",
       "layer[1]: MaxPoolingLayer\n",
       "  padding = 0\n",
       "  stride = 2\n",
       "  kernel_size = 3\n",
       "layer[2]: FlattenLayer\n",
       "layer[3]: FullConnectionLayer\n",
       "  init_sigma = 0.01\n",
       "  init_random = gaussian\n",
       "  init_bias = 0\n",
       "  num_hidden_units = 100\n",
       "layer[4]: RectifiedLinearLayer\n",
       "layer[5]: DropoutLayer\n",
       "  threshold = 0.5\n",
       "layer[6]: FullConnectionLayer\n",
       "  init_sigma = 0.01\n",
       "  init_random = gaussian\n",
       "  init_bias = 0\n",
       "  num_hidden_units = 4\n",
       "layer[7]: SoftmaxLayer"
      ]
     },
     "execution_count": 128,
     "metadata": {},
     "output_type": "execute_result"
    }
   ],
   "source": [
    "net_d.layers"
   ]
  },
  {
   "cell_type": "code",
   "execution_count": 139,
   "metadata": {
    "collapsed": true
   },
   "outputs": [],
   "source": [
    "#did slightly better at 50\n",
    "net_d.layers[3].num_hidden_units = 50"
   ]
  },
  {
   "cell_type": "code",
   "execution_count": 140,
   "metadata": {
    "collapsed": false
   },
   "outputs": [
    {
     "name": "stdout",
     "output_type": "stream",
     "text": [
      "Using network:\n",
      "\n",
      "### network layers ###\n",
      "layer[0]: ConvolutionLayer\n",
      "  init_random = gaussian\n",
      "  padding = 0\n",
      "  stride = 2\n",
      "  num_channels = 10\n",
      "  num_groups = 1\n",
      "  kernel_size = 3\n",
      "layer[1]: MaxPoolingLayer\n",
      "  padding = 0\n",
      "  stride = 2\n",
      "  kernel_size = 3\n",
      "layer[2]: FlattenLayer\n",
      "layer[3]: FullConnectionLayer\n",
      "  init_sigma = 0.01\n",
      "  init_random = gaussian\n",
      "  init_bias = 0\n",
      "  num_hidden_units = 50\n",
      "layer[4]: RectifiedLinearLayer\n",
      "layer[5]: DropoutLayer\n",
      "  threshold = 0.5\n",
      "layer[6]: FullConnectionLayer\n",
      "  init_sigma = 0.01\n",
      "  init_random = gaussian\n",
      "  init_bias = 0\n",
      "  num_hidden_units = 4\n",
      "layer[7]: SoftmaxLayer\n",
      "### end network layers ###\n",
      "\n",
      "### network parameters ###\n",
      "learning_rate = 0.001\n",
      "metric = accuracy,recall@2\n",
      "momentum = 0.9\n",
      "### end network parameters ###\n",
      "\n",
      "PROGRESS: Creating a validation set from 5 percent of training data. This may take a while.\n",
      "          You can set ``validation_set=None`` to disable validation tracking.\n",
      "\n"
     ]
    },
    {
     "data": {
      "text/html": [
       "<pre>Computing mean image...</pre>"
      ],
      "text/plain": [
       "Computing mean image..."
      ]
     },
     "metadata": {},
     "output_type": "display_data"
    },
    {
     "data": {
      "text/html": [
       "<pre>Done computing mean image.</pre>"
      ],
      "text/plain": [
       "Done computing mean image."
      ]
     },
     "metadata": {},
     "output_type": "display_data"
    },
    {
     "data": {
      "text/html": [
       "<pre>Creating neuralnet using cpu</pre>"
      ],
      "text/plain": [
       "Creating neuralnet using cpu"
      ]
     },
     "metadata": {},
     "output_type": "display_data"
    },
    {
     "data": {
      "text/html": [
       "<pre>Training with batch size = 100</pre>"
      ],
      "text/plain": [
       "Training with batch size = 100"
      ]
     },
     "metadata": {},
     "output_type": "display_data"
    },
    {
     "data": {
      "text/html": [
       "<pre>+-----------+----------+--------------+-------------------+---------------------+-------------------+---------------------+-----------------+</pre>"
      ],
      "text/plain": [
       "+-----------+----------+--------------+-------------------+---------------------+-------------------+---------------------+-----------------+"
      ]
     },
     "metadata": {},
     "output_type": "display_data"
    },
    {
     "data": {
      "text/html": [
       "<pre>| Iteration | Examples | Elapsed Time | Training-accuracy | Validation-accuracy | Training-recall@2 | Validation-recall@2 | Examples/second |</pre>"
      ],
      "text/plain": [
       "| Iteration | Examples | Elapsed Time | Training-accuracy | Validation-accuracy | Training-recall@2 | Validation-recall@2 | Examples/second |"
      ]
     },
     "metadata": {},
     "output_type": "display_data"
    },
    {
     "data": {
      "text/html": [
       "<pre>+-----------+----------+--------------+-------------------+---------------------+-------------------+---------------------+-----------------+</pre>"
      ],
      "text/plain": [
       "+-----------+----------+--------------+-------------------+---------------------+-------------------+---------------------+-----------------+"
      ]
     },
     "metadata": {},
     "output_type": "display_data"
    },
    {
     "data": {
      "text/html": [
       "<pre>| 1         | 1800     | 10.365268    | 0.247778          |                     | 0.497222          |                     | 173.656921      |</pre>"
      ],
      "text/plain": [
       "| 1         | 1800     | 10.365268    | 0.247778          |                     | 0.497222          |                     | 173.656921      |"
      ]
     },
     "metadata": {},
     "output_type": "display_data"
    },
    {
     "data": {
      "text/html": [
       "<pre>| 1         | 3100     | 18.286396    | 0.244516          | 0.266667            | 0.494839          | 0.569697            | 164.117966      |</pre>"
      ],
      "text/plain": [
       "| 1         | 3100     | 18.286396    | 0.244516          | 0.266667            | 0.494839          | 0.569697            | 164.117966      |"
      ]
     },
     "metadata": {},
     "output_type": "display_data"
    },
    {
     "data": {
      "text/html": [
       "<pre>| 2         | 1800     | 28.550208    | 0.275000          |                     | 0.532778          |                     | 175.583176      |</pre>"
      ],
      "text/plain": [
       "| 2         | 1800     | 28.550208    | 0.275000          |                     | 0.532778          |                     | 175.583176      |"
      ]
     },
     "metadata": {},
     "output_type": "display_data"
    },
    {
     "data": {
      "text/html": [
       "<pre>| 2         | 3100     | 36.311898    | 0.283226          | 0.309091            | 0.539032          | 0.539394            | 167.489212      |</pre>"
      ],
      "text/plain": [
       "| 2         | 3100     | 36.311898    | 0.283226          | 0.309091            | 0.539032          | 0.539394            | 167.489212      |"
      ]
     },
     "metadata": {},
     "output_type": "display_data"
    },
    {
     "data": {
      "text/html": [
       "<pre>| 3         | 1800     | 46.522040    | 0.283333          |                     | 0.532222          |                     | 176.497528      |</pre>"
      ],
      "text/plain": [
       "| 3         | 1800     | 46.522040    | 0.283333          |                     | 0.532222          |                     | 176.497528      |"
      ]
     },
     "metadata": {},
     "output_type": "display_data"
    },
    {
     "data": {
      "text/html": [
       "<pre>| 3         | 3100     | 54.285828    | 0.287419          | 0.260606            | 0.537742          | 0.600000            | 167.443939      |</pre>"
      ],
      "text/plain": [
       "| 3         | 3100     | 54.285828    | 0.287419          | 0.260606            | 0.537742          | 0.600000            | 167.443939      |"
      ]
     },
     "metadata": {},
     "output_type": "display_data"
    },
    {
     "data": {
      "text/html": [
       "<pre>+-----------+----------+--------------+-------------------+---------------------+-------------------+---------------------+-----------------+</pre>"
      ],
      "text/plain": [
       "+-----------+----------+--------------+-------------------+---------------------+-------------------+---------------------+-----------------+"
      ]
     },
     "metadata": {},
     "output_type": "display_data"
    }
   ],
   "source": [
    "nn_model_d = gl.neuralnet_classifier.create(X_train_d_sf[[\"X1\", \"labels\"]], target='labels', network = net_d, metric=['accuracy', 'recall@2'], max_iterations=3)"
   ]
  },
  {
   "cell_type": "code",
   "execution_count": 142,
   "metadata": {
    "collapsed": false
   },
   "outputs": [],
   "source": [
    "eval_d_sf = nn_model_d.evaluate(X_test_d_sf)"
   ]
  },
  {
   "cell_type": "code",
   "execution_count": 143,
   "metadata": {
    "collapsed": false
   },
   "outputs": [
    {
     "data": {
      "text/plain": [
       "{'accuracy': 0.29875001311302185, 'confusion_matrix': Columns:\n",
       " \ttarget_label\tint\n",
       " \tpredicted_label\tint\n",
       " \tcount\tint\n",
       " \n",
       " Rows: 16\n",
       " \n",
       " Data:\n",
       " +--------------+-----------------+-------+\n",
       " | target_label | predicted_label | count |\n",
       " +--------------+-----------------+-------+\n",
       " |     1980     |       1980      |   71  |\n",
       " |     1990     |       1980      |   68  |\n",
       " |     2000     |       1980      |   46  |\n",
       " |     2010     |       1980      |   49  |\n",
       " |     1980     |       1990      |   14  |\n",
       " |     1990     |       1990      |   16  |\n",
       " |     2000     |       1990      |   11  |\n",
       " |     2010     |       1990      |   12  |\n",
       " |     1980     |       2000      |   31  |\n",
       " |     1990     |       2000      |   40  |\n",
       " +--------------+-----------------+-------+\n",
       " [16 rows x 3 columns]\n",
       " Note: Only the head of the SFrame is printed.\n",
       " You can use print_rows(num_rows=m, num_columns=n) to print more rows and columns.}"
      ]
     },
     "execution_count": 143,
     "metadata": {},
     "output_type": "execute_result"
    }
   ],
   "source": [
    "#best performing so far but only predicting 3 values\n",
    "eval_d_sf"
   ]
  },
  {
   "cell_type": "markdown",
   "metadata": {},
   "source": [
    "### 4. Feature Extraction"
   ]
  },
  {
   "cell_type": "markdown",
   "metadata": {},
   "source": [
    "deep feature extractor "
   ]
  },
  {
   "cell_type": "code",
   "execution_count": 22,
   "metadata": {
    "collapsed": false
   },
   "outputs": [
    {
     "data": {
      "text/html": [
       "<pre>Downloading https://static.turi.com/products/graphlab-create/resources/models/python2.7/imagenet_model_iter45/dir_archive.ini to /var/tmp/graphlab-katty/2559/1bab91a8-879a-46a3-a95f-6ed5c0a884e2.ini</pre>"
      ],
      "text/plain": [
       "Downloading https://static.turi.com/products/graphlab-create/resources/models/python2.7/imagenet_model_iter45/dir_archive.ini to /var/tmp/graphlab-katty/2559/1bab91a8-879a-46a3-a95f-6ed5c0a884e2.ini"
      ]
     },
     "metadata": {},
     "output_type": "display_data"
    },
    {
     "data": {
      "text/html": [
       "<pre>Downloading https://static.turi.com/products/graphlab-create/resources/models/python2.7/imagenet_model_iter45/objects.bin to /var/tmp/graphlab-katty/2559/7a7f5edd-a8ad-487b-98f0-ea6d509ef033.bin</pre>"
      ],
      "text/plain": [
       "Downloading https://static.turi.com/products/graphlab-create/resources/models/python2.7/imagenet_model_iter45/objects.bin to /var/tmp/graphlab-katty/2559/7a7f5edd-a8ad-487b-98f0-ea6d509ef033.bin"
      ]
     },
     "metadata": {},
     "output_type": "display_data"
    }
   ],
   "source": [
    "extractor = gl.feature_engineering.DeepFeatureExtractor(features = 'X1', model='auto')"
   ]
  },
  {
   "cell_type": "code",
   "execution_count": 23,
   "metadata": {
    "collapsed": false
   },
   "outputs": [
    {
     "data": {
      "text/html": [
       "<pre>Images being resized.</pre>"
      ],
      "text/plain": [
       "Images being resized."
      ]
     },
     "metadata": {},
     "output_type": "display_data"
    },
    {
     "data": {
      "text/html": [
       "<div style=\"max-height:1000px;max-width:1500px;overflow:auto;\"><table frame=\"box\" rules=\"cols\">\n",
       "    <tr>\n",
       "        <th style=\"padding-left: 1em; padding-right: 1em; text-align: center\">X1</th>\n",
       "        <th style=\"padding-left: 1em; padding-right: 1em; text-align: center\">labels</th>\n",
       "        <th style=\"padding-left: 1em; padding-right: 1em; text-align: center\">deep_features.X1</th>\n",
       "    </tr>\n",
       "    <tr>\n",
       "        <td style=\"padding-left: 1em; padding-right: 1em; text-align: center; vertical-align: top\">Height: 100 Width: 100</td>\n",
       "        <td style=\"padding-left: 1em; padding-right: 1em; text-align: center; vertical-align: top\">Alternative</td>\n",
       "        <td style=\"padding-left: 1em; padding-right: 1em; text-align: center; vertical-align: top\">[0.0, 0.0, 0.0, 0.0, 0.0,<br>0.0, 3.14219546318, 0.0, ...</td>\n",
       "    </tr>\n",
       "    <tr>\n",
       "        <td style=\"padding-left: 1em; padding-right: 1em; text-align: center; vertical-align: top\">Height: 100 Width: 100</td>\n",
       "        <td style=\"padding-left: 1em; padding-right: 1em; text-align: center; vertical-align: top\">Electronic</td>\n",
       "        <td style=\"padding-left: 1em; padding-right: 1em; text-align: center; vertical-align: top\">[0.0, 0.0210257172585,<br>1.28963172436, 0.0, 0.0, ...</td>\n",
       "    </tr>\n",
       "    <tr>\n",
       "        <td style=\"padding-left: 1em; padding-right: 1em; text-align: center; vertical-align: top\">Height: 100 Width: 100</td>\n",
       "        <td style=\"padding-left: 1em; padding-right: 1em; text-align: center; vertical-align: top\">Electronic</td>\n",
       "        <td style=\"padding-left: 1em; padding-right: 1em; text-align: center; vertical-align: top\">[0.0, 0.0, 0.0,<br>2.37297391891, ...</td>\n",
       "    </tr>\n",
       "    <tr>\n",
       "        <td style=\"padding-left: 1em; padding-right: 1em; text-align: center; vertical-align: top\">Height: 100 Width: 100</td>\n",
       "        <td style=\"padding-left: 1em; padding-right: 1em; text-align: center; vertical-align: top\">Jazz</td>\n",
       "        <td style=\"padding-left: 1em; padding-right: 1em; text-align: center; vertical-align: top\">[0.0, 4.92607307434, 0.0,<br>0.0, 0.0, 0.0, ...</td>\n",
       "    </tr>\n",
       "    <tr>\n",
       "        <td style=\"padding-left: 1em; padding-right: 1em; text-align: center; vertical-align: top\">Height: 100 Width: 100</td>\n",
       "        <td style=\"padding-left: 1em; padding-right: 1em; text-align: center; vertical-align: top\">Electronic</td>\n",
       "        <td style=\"padding-left: 1em; padding-right: 1em; text-align: center; vertical-align: top\">[0.0, 0.0, 0.0, 0.0, 0.0,<br>0.13795119524, ...</td>\n",
       "    </tr>\n",
       "    <tr>\n",
       "        <td style=\"padding-left: 1em; padding-right: 1em; text-align: center; vertical-align: top\">Height: 100 Width: 100</td>\n",
       "        <td style=\"padding-left: 1em; padding-right: 1em; text-align: center; vertical-align: top\">Reggae</td>\n",
       "        <td style=\"padding-left: 1em; padding-right: 1em; text-align: center; vertical-align: top\">[0.0, 0.0, 0.0, 0.0, 0.0,<br>3.0610909462, ...</td>\n",
       "    </tr>\n",
       "    <tr>\n",
       "        <td style=\"padding-left: 1em; padding-right: 1em; text-align: center; vertical-align: top\">Height: 100 Width: 100</td>\n",
       "        <td style=\"padding-left: 1em; padding-right: 1em; text-align: center; vertical-align: top\">Rock</td>\n",
       "        <td style=\"padding-left: 1em; padding-right: 1em; text-align: center; vertical-align: top\">[0.0, 0.0, 0.0, 0.0,<br>1.22484409809, ...</td>\n",
       "    </tr>\n",
       "    <tr>\n",
       "        <td style=\"padding-left: 1em; padding-right: 1em; text-align: center; vertical-align: top\">Height: 100 Width: 100</td>\n",
       "        <td style=\"padding-left: 1em; padding-right: 1em; text-align: center; vertical-align: top\">HipHop</td>\n",
       "        <td style=\"padding-left: 1em; padding-right: 1em; text-align: center; vertical-align: top\">[0.0, 1.95456123352,<br>0.49214309454, 0.0, ...</td>\n",
       "    </tr>\n",
       "    <tr>\n",
       "        <td style=\"padding-left: 1em; padding-right: 1em; text-align: center; vertical-align: top\">Height: 100 Width: 100</td>\n",
       "        <td style=\"padding-left: 1em; padding-right: 1em; text-align: center; vertical-align: top\">Reggae</td>\n",
       "        <td style=\"padding-left: 1em; padding-right: 1em; text-align: center; vertical-align: top\">[0.0, 0.0, 0.0, 0.0, 0.0,<br>0.0, 3.9449672699, ...</td>\n",
       "    </tr>\n",
       "    <tr>\n",
       "        <td style=\"padding-left: 1em; padding-right: 1em; text-align: center; vertical-align: top\">Height: 100 Width: 100</td>\n",
       "        <td style=\"padding-left: 1em; padding-right: 1em; text-align: center; vertical-align: top\">Reggae</td>\n",
       "        <td style=\"padding-left: 1em; padding-right: 1em; text-align: center; vertical-align: top\">[0.0, 0.0, 0.0, 0.0,<br>0.422669410706, ...</td>\n",
       "    </tr>\n",
       "</table>\n",
       "[8320 rows x 3 columns]<br/>Note: Only the head of the SFrame is printed.<br/>You can use print_rows(num_rows=m, num_columns=n) to print more rows and columns.\n",
       "</div>"
      ],
      "text/plain": [
       "Columns:\n",
       "\tX1\tImage\n",
       "\tlabels\tstr\n",
       "\tdeep_features.X1\tarray\n",
       "\n",
       "Rows: 8320\n",
       "\n",
       "Data:\n",
       "+------------------------+-------------+-------------------------------+\n",
       "|           X1           |    labels   |        deep_features.X1       |\n",
       "+------------------------+-------------+-------------------------------+\n",
       "| Height: 100 Width: 100 | Alternative | [0.0, 0.0, 0.0, 0.0, 0.0, ... |\n",
       "| Height: 100 Width: 100 |  Electronic | [0.0, 0.0210257172585, 1.2... |\n",
       "| Height: 100 Width: 100 |  Electronic | [0.0, 0.0, 0.0, 2.37297391... |\n",
       "| Height: 100 Width: 100 |     Jazz    | [0.0, 4.92607307434, 0.0, ... |\n",
       "| Height: 100 Width: 100 |  Electronic | [0.0, 0.0, 0.0, 0.0, 0.0, ... |\n",
       "| Height: 100 Width: 100 |    Reggae   | [0.0, 0.0, 0.0, 0.0, 0.0, ... |\n",
       "| Height: 100 Width: 100 |     Rock    | [0.0, 0.0, 0.0, 0.0, 1.224... |\n",
       "| Height: 100 Width: 100 |    HipHop   | [0.0, 1.95456123352, 0.492... |\n",
       "| Height: 100 Width: 100 |    Reggae   | [0.0, 0.0, 0.0, 0.0, 0.0, ... |\n",
       "| Height: 100 Width: 100 |    Reggae   | [0.0, 0.0, 0.0, 0.0, 0.422... |\n",
       "+------------------------+-------------+-------------------------------+\n",
       "[8320 rows x 3 columns]\n",
       "Note: Only the head of the SFrame is printed.\n",
       "You can use print_rows(num_rows=m, num_columns=n) to print more rows and columns."
      ]
     },
     "execution_count": 23,
     "metadata": {},
     "output_type": "execute_result"
    }
   ],
   "source": [
    "extractor_g_train = extractor.fit(X_train_g_sf)\n",
    "features_g_train = extractor_g_train.transform(X_train_g_sf)\n",
    "features_g_train"
   ]
  },
  {
   "cell_type": "code",
   "execution_count": 83,
   "metadata": {
    "collapsed": false
   },
   "outputs": [
    {
     "name": "stdout",
     "output_type": "stream",
     "text": [
      "Class                : DeepFeatureExtractor\n",
      "\n",
      "Model fields\n",
      "------------\n",
      "Feature(s)           : ['X1']\n",
      "Output column prefix : deep_features\n",
      "\n"
     ]
    }
   ],
   "source": [
    "extractor_g_train.summary()"
   ]
  },
  {
   "cell_type": "code",
   "execution_count": 24,
   "metadata": {
    "collapsed": false
   },
   "outputs": [
    {
     "data": {
      "text/html": [
       "<pre>Images being resized.</pre>"
      ],
      "text/plain": [
       "Images being resized."
      ]
     },
     "metadata": {},
     "output_type": "display_data"
    },
    {
     "data": {
      "text/html": [
       "<div style=\"max-height:1000px;max-width:1500px;overflow:auto;\"><table frame=\"box\" rules=\"cols\">\n",
       "    <tr>\n",
       "        <th style=\"padding-left: 1em; padding-right: 1em; text-align: center\">X1</th>\n",
       "        <th style=\"padding-left: 1em; padding-right: 1em; text-align: center\">labels</th>\n",
       "        <th style=\"padding-left: 1em; padding-right: 1em; text-align: center\">deep_features.X1</th>\n",
       "    </tr>\n",
       "    <tr>\n",
       "        <td style=\"padding-left: 1em; padding-right: 1em; text-align: center; vertical-align: top\">Height: 100 Width: 100</td>\n",
       "        <td style=\"padding-left: 1em; padding-right: 1em; text-align: center; vertical-align: top\">Pop</td>\n",
       "        <td style=\"padding-left: 1em; padding-right: 1em; text-align: center; vertical-align: top\">[0.0, 0.0, 0.0, 0.0,<br>2.71038007736, 0.0, ...</td>\n",
       "    </tr>\n",
       "    <tr>\n",
       "        <td style=\"padding-left: 1em; padding-right: 1em; text-align: center; vertical-align: top\">Height: 100 Width: 100</td>\n",
       "        <td style=\"padding-left: 1em; padding-right: 1em; text-align: center; vertical-align: top\">Jazz</td>\n",
       "        <td style=\"padding-left: 1em; padding-right: 1em; text-align: center; vertical-align: top\">[0.0, 0.0, 0.0,<br>1.16559708118, ...</td>\n",
       "    </tr>\n",
       "    <tr>\n",
       "        <td style=\"padding-left: 1em; padding-right: 1em; text-align: center; vertical-align: top\">Height: 100 Width: 100</td>\n",
       "        <td style=\"padding-left: 1em; padding-right: 1em; text-align: center; vertical-align: top\">RB Soul</td>\n",
       "        <td style=\"padding-left: 1em; padding-right: 1em; text-align: center; vertical-align: top\">[0.0, 0.0, 0.0, 0.0,<br>0.440298557281, ...</td>\n",
       "    </tr>\n",
       "    <tr>\n",
       "        <td style=\"padding-left: 1em; padding-right: 1em; text-align: center; vertical-align: top\">Height: 100 Width: 100</td>\n",
       "        <td style=\"padding-left: 1em; padding-right: 1em; text-align: center; vertical-align: top\">Rock</td>\n",
       "        <td style=\"padding-left: 1em; padding-right: 1em; text-align: center; vertical-align: top\">[1.43266046047,<br>0.849198520184, ...</td>\n",
       "    </tr>\n",
       "    <tr>\n",
       "        <td style=\"padding-left: 1em; padding-right: 1em; text-align: center; vertical-align: top\">Height: 100 Width: 100</td>\n",
       "        <td style=\"padding-left: 1em; padding-right: 1em; text-align: center; vertical-align: top\">Country</td>\n",
       "        <td style=\"padding-left: 1em; padding-right: 1em; text-align: center; vertical-align: top\">[0.0, 3.45019960403, 0.0,<br>0.0, 0.0, 0.316090643 ...</td>\n",
       "    </tr>\n",
       "    <tr>\n",
       "        <td style=\"padding-left: 1em; padding-right: 1em; text-align: center; vertical-align: top\">Height: 100 Width: 100</td>\n",
       "        <td style=\"padding-left: 1em; padding-right: 1em; text-align: center; vertical-align: top\">HipHop</td>\n",
       "        <td style=\"padding-left: 1em; padding-right: 1em; text-align: center; vertical-align: top\">[0.0, 0.0, 0.0,<br>0.360220193863, 0.0,  ...</td>\n",
       "    </tr>\n",
       "    <tr>\n",
       "        <td style=\"padding-left: 1em; padding-right: 1em; text-align: center; vertical-align: top\">Height: 100 Width: 100</td>\n",
       "        <td style=\"padding-left: 1em; padding-right: 1em; text-align: center; vertical-align: top\">Alternative</td>\n",
       "        <td style=\"padding-left: 1em; padding-right: 1em; text-align: center; vertical-align: top\">[0.0, 1.16141164303, 0.0,<br>0.0, 0.0, 0.0, ...</td>\n",
       "    </tr>\n",
       "    <tr>\n",
       "        <td style=\"padding-left: 1em; padding-right: 1em; text-align: center; vertical-align: top\">Height: 100 Width: 100</td>\n",
       "        <td style=\"padding-left: 1em; padding-right: 1em; text-align: center; vertical-align: top\">Rock</td>\n",
       "        <td style=\"padding-left: 1em; padding-right: 1em; text-align: center; vertical-align: top\">[0.0, 1.4160169363, 0.0,<br>0.0, 0.0, 0.1148660779, ...</td>\n",
       "    </tr>\n",
       "    <tr>\n",
       "        <td style=\"padding-left: 1em; padding-right: 1em; text-align: center; vertical-align: top\">Height: 100 Width: 100</td>\n",
       "        <td style=\"padding-left: 1em; padding-right: 1em; text-align: center; vertical-align: top\">Rock</td>\n",
       "        <td style=\"padding-left: 1em; padding-right: 1em; text-align: center; vertical-align: top\">[0.545539796352, 0.0,<br>0.0658822655678, 0.0, ...</td>\n",
       "    </tr>\n",
       "    <tr>\n",
       "        <td style=\"padding-left: 1em; padding-right: 1em; text-align: center; vertical-align: top\">Height: 100 Width: 100</td>\n",
       "        <td style=\"padding-left: 1em; padding-right: 1em; text-align: center; vertical-align: top\">Pop</td>\n",
       "        <td style=\"padding-left: 1em; padding-right: 1em; text-align: center; vertical-align: top\">[0.0, 0.0, 0.0, 0.0, 0.0,<br>1.31371116638, ...</td>\n",
       "    </tr>\n",
       "</table>\n",
       "[2080 rows x 3 columns]<br/>Note: Only the head of the SFrame is printed.<br/>You can use print_rows(num_rows=m, num_columns=n) to print more rows and columns.\n",
       "</div>"
      ],
      "text/plain": [
       "Columns:\n",
       "\tX1\tImage\n",
       "\tlabels\tstr\n",
       "\tdeep_features.X1\tarray\n",
       "\n",
       "Rows: 2080\n",
       "\n",
       "Data:\n",
       "+------------------------+-------------+-------------------------------+\n",
       "|           X1           |    labels   |        deep_features.X1       |\n",
       "+------------------------+-------------+-------------------------------+\n",
       "| Height: 100 Width: 100 |     Pop     | [0.0, 0.0, 0.0, 0.0, 2.710... |\n",
       "| Height: 100 Width: 100 |     Jazz    | [0.0, 0.0, 0.0, 1.16559708... |\n",
       "| Height: 100 Width: 100 |   RB Soul   | [0.0, 0.0, 0.0, 0.0, 0.440... |\n",
       "| Height: 100 Width: 100 |     Rock    | [1.43266046047, 0.84919852... |\n",
       "| Height: 100 Width: 100 |   Country   | [0.0, 3.45019960403, 0.0, ... |\n",
       "| Height: 100 Width: 100 |    HipHop   | [0.0, 0.0, 0.0, 0.36022019... |\n",
       "| Height: 100 Width: 100 | Alternative | [0.0, 1.16141164303, 0.0, ... |\n",
       "| Height: 100 Width: 100 |     Rock    | [0.0, 1.4160169363, 0.0, 0... |\n",
       "| Height: 100 Width: 100 |     Rock    | [0.545539796352, 0.0, 0.06... |\n",
       "| Height: 100 Width: 100 |     Pop     | [0.0, 0.0, 0.0, 0.0, 0.0, ... |\n",
       "+------------------------+-------------+-------------------------------+\n",
       "[2080 rows x 3 columns]\n",
       "Note: Only the head of the SFrame is printed.\n",
       "You can use print_rows(num_rows=m, num_columns=n) to print more rows and columns."
      ]
     },
     "execution_count": 24,
     "metadata": {},
     "output_type": "execute_result"
    }
   ],
   "source": [
    "extractor_g_test = extractor.fit(X_test_g_sf)\n",
    "features_g_test = extractor_g_test.transform(X_test_g_sf)\n",
    "features_g_test"
   ]
  },
  {
   "cell_type": "code",
   "execution_count": 25,
   "metadata": {
    "collapsed": false
   },
   "outputs": [
    {
     "data": {
      "text/html": [
       "<pre>Images being resized.</pre>"
      ],
      "text/plain": [
       "Images being resized."
      ]
     },
     "metadata": {},
     "output_type": "display_data"
    }
   ],
   "source": [
    "#set up deep feature extraction for decades as well\n",
    "extractor_d_train = extractor.fit(X_train_d_sf)\n",
    "features_d_train = extractor_d_train.transform(X_train_d_sf)"
   ]
  },
  {
   "cell_type": "code",
   "execution_count": 31,
   "metadata": {
    "collapsed": false
   },
   "outputs": [],
   "source": [
    "features_d_train.export_csv(\"features_d_train.csv\")"
   ]
  },
  {
   "cell_type": "code",
   "execution_count": 32,
   "metadata": {
    "collapsed": true
   },
   "outputs": [],
   "source": [
    "features_g_test.export_csv(\"features_g_test.csv\")\n",
    "features_g_train.export_csv(\"features_g_train.csv\")"
   ]
  },
  {
   "cell_type": "code",
   "execution_count": 34,
   "metadata": {
    "collapsed": false
   },
   "outputs": [
    {
     "data": {
      "text/html": [
       "<pre>Images being resized.</pre>"
      ],
      "text/plain": [
       "Images being resized."
      ]
     },
     "metadata": {},
     "output_type": "display_data"
    }
   ],
   "source": [
    "extractor_d_test = extractor.fit(X_test_d_sf)\n",
    "\n",
    "features_d_test = extractor_d_test.transform(X_test_d_sf)"
   ]
  },
  {
   "cell_type": "code",
   "execution_count": 35,
   "metadata": {
    "collapsed": true
   },
   "outputs": [],
   "source": [
    "features_d_test.export_csv(\"features_d_test.csv\")"
   ]
  },
  {
   "cell_type": "markdown",
   "metadata": {},
   "source": [
    "try to extract features from the previous neural net"
   ]
  },
  {
   "cell_type": "code",
   "execution_count": 90,
   "metadata": {
    "collapsed": false
   },
   "outputs": [],
   "source": [
    "X_train_g_sf['feat_test'] = nn_model_g.extract_features(X_train_g_sf)"
   ]
  },
  {
   "cell_type": "code",
   "execution_count": 155,
   "metadata": {
    "collapsed": true
   },
   "outputs": [],
   "source": [
    "X_train_d_sf['feat_test'] = nn_model_d.extract_features(X_train_d_sf)"
   ]
  },
  {
   "cell_type": "code",
   "execution_count": 94,
   "metadata": {
    "collapsed": false
   },
   "outputs": [
    {
     "name": "stdout",
     "output_type": "stream",
     "text": [
      "Using network:\n",
      "\n",
      "### network layers ###\n",
      "layer[0]: ConvolutionLayer\n",
      "  init_random = gaussian\n",
      "  padding = 0\n",
      "  stride = 2\n",
      "  num_channels = 10\n",
      "  num_groups = 1\n",
      "  kernel_size = 3\n",
      "layer[1]: MaxPoolingLayer\n",
      "  padding = 0\n",
      "  stride = 2\n",
      "  kernel_size = 3\n",
      "layer[2]: FlattenLayer\n",
      "layer[3]: FullConnectionLayer\n",
      "  init_sigma = 0.01\n",
      "  init_random = gaussian\n",
      "  init_bias = 0\n",
      "  num_hidden_units = 100\n",
      "layer[4]: RectifiedLinearLayer\n",
      "layer[5]: DropoutLayer\n",
      "  threshold = 0.5\n",
      "layer[6]: FullConnectionLayer\n",
      "  init_sigma = 0.01\n",
      "  init_random = gaussian\n",
      "  init_bias = 0\n",
      "  num_hidden_units = 13\n",
      "layer[7]: SoftmaxLayer\n",
      "### end network layers ###\n",
      "\n",
      "### network parameters ###\n",
      "learning_rate = 0.001\n",
      "metric = accuracy,recall@2\n",
      "momentum = 0.9\n",
      "### end network parameters ###\n",
      "\n",
      "PROGRESS: Creating a validation set from 5 percent of training data. This may take a while.\n",
      "          You can set ``validation_set=None`` to disable validation tracking.\n",
      "\n"
     ]
    },
    {
     "data": {
      "text/html": [
       "<pre>Computing mean image...</pre>"
      ],
      "text/plain": [
       "Computing mean image..."
      ]
     },
     "metadata": {},
     "output_type": "display_data"
    },
    {
     "data": {
      "text/html": [
       "<pre>Done computing mean image.</pre>"
      ],
      "text/plain": [
       "Done computing mean image."
      ]
     },
     "metadata": {},
     "output_type": "display_data"
    },
    {
     "data": {
      "text/html": [
       "<pre>Creating neuralnet using cpu</pre>"
      ],
      "text/plain": [
       "Creating neuralnet using cpu"
      ]
     },
     "metadata": {},
     "output_type": "display_data"
    },
    {
     "data": {
      "text/html": [
       "<pre>Training with batch size = 100</pre>"
      ],
      "text/plain": [
       "Training with batch size = 100"
      ]
     },
     "metadata": {},
     "output_type": "display_data"
    },
    {
     "data": {
      "text/html": [
       "<pre>+-----------+----------+--------------+-------------------+---------------------+-------------------+---------------------+-----------------+</pre>"
      ],
      "text/plain": [
       "+-----------+----------+--------------+-------------------+---------------------+-------------------+---------------------+-----------------+"
      ]
     },
     "metadata": {},
     "output_type": "display_data"
    },
    {
     "data": {
      "text/html": [
       "<pre>| Iteration | Examples | Elapsed Time | Training-accuracy | Validation-accuracy | Training-recall@2 | Validation-recall@2 | Examples/second |</pre>"
      ],
      "text/plain": [
       "| Iteration | Examples | Elapsed Time | Training-accuracy | Validation-accuracy | Training-recall@2 | Validation-recall@2 | Examples/second |"
      ]
     },
     "metadata": {},
     "output_type": "display_data"
    },
    {
     "data": {
      "text/html": [
       "<pre>+-----------+----------+--------------+-------------------+---------------------+-------------------+---------------------+-----------------+</pre>"
      ],
      "text/plain": [
       "+-----------+----------+--------------+-------------------+---------------------+-------------------+---------------------+-----------------+"
      ]
     },
     "metadata": {},
     "output_type": "display_data"
    },
    {
     "data": {
      "text/html": [
       "<pre>| 1         | 1600     | 10.514867    | 0.079375          |                     | 0.154375          |                     | 152.165543      |</pre>"
      ],
      "text/plain": [
       "| 1         | 1600     | 10.514867    | 0.079375          |                     | 0.154375          |                     | 152.165543      |"
      ]
     },
     "metadata": {},
     "output_type": "display_data"
    },
    {
     "data": {
      "text/html": [
       "<pre>| 1         | 2000     | 13.523098    | 0.076500          | 0.138889            | 0.155000          | 0.268519            | 132.968399      |</pre>"
      ],
      "text/plain": [
       "| 1         | 2000     | 13.523098    | 0.076500          | 0.138889            | 0.155000          | 0.268519            | 132.968399      |"
      ]
     },
     "metadata": {},
     "output_type": "display_data"
    },
    {
     "data": {
      "text/html": [
       "<pre>| 2         | 1600     | 23.708863    | 0.100000          |                     | 0.183125          |                     | 157.083542      |</pre>"
      ],
      "text/plain": [
       "| 2         | 1600     | 23.708863    | 0.100000          |                     | 0.183125          |                     | 157.083542      |"
      ]
     },
     "metadata": {},
     "output_type": "display_data"
    },
    {
     "data": {
      "text/html": [
       "<pre>| 2         | 2000     | 26.806397    | 0.098500          | 0.101852            | 0.181500          | 0.203704            | 129.134857      |</pre>"
      ],
      "text/plain": [
       "| 2         | 2000     | 26.806397    | 0.098500          | 0.101852            | 0.181500          | 0.203704            | 129.134857      |"
      ]
     },
     "metadata": {},
     "output_type": "display_data"
    },
    {
     "data": {
      "text/html": [
       "<pre>| 3         | 1700     | 37.386610    | 0.090000          |                     | 0.172941          |                     | 160.678879      |</pre>"
      ],
      "text/plain": [
       "| 3         | 1700     | 37.386610    | 0.090000          |                     | 0.172941          |                     | 160.678879      |"
      ]
     },
     "metadata": {},
     "output_type": "display_data"
    },
    {
     "data": {
      "text/html": [
       "<pre>| 3         | 2000     | 39.879027    | 0.091500          | 0.083333            | 0.173500          | 0.166667            | 120.364922      |</pre>"
      ],
      "text/plain": [
       "| 3         | 2000     | 39.879027    | 0.091500          | 0.083333            | 0.173500          | 0.166667            | 120.364922      |"
      ]
     },
     "metadata": {},
     "output_type": "display_data"
    },
    {
     "data": {
      "text/html": [
       "<pre>+-----------+----------+--------------+-------------------+---------------------+-------------------+---------------------+-----------------+</pre>"
      ],
      "text/plain": [
       "+-----------+----------+--------------+-------------------+---------------------+-------------------+---------------------+-----------------+"
      ]
     },
     "metadata": {},
     "output_type": "display_data"
    }
   ],
   "source": [
    "net_g_test = gl.deeplearning.create(X_test_g_sf, target=\"labels\")\n",
    "nn_model_g_test = gl.neuralnet_classifier.create(X_test_g_sf, target='labels', network = net_g_test, metric=['accuracy', 'recall@2'], max_iterations=3)"
   ]
  },
  {
   "cell_type": "code",
   "execution_count": 157,
   "metadata": {
    "collapsed": false
   },
   "outputs": [],
   "source": [
    "net_d_test = gl.deeplearning.create(X_test_d_sf[[\"X1\", \"labels\"]], target=\"labels\")"
   ]
  },
  {
   "cell_type": "code",
   "execution_count": 158,
   "metadata": {
    "collapsed": true
   },
   "outputs": [],
   "source": [
    "net_d_test.layers[3].num_hidden_units = 50"
   ]
  },
  {
   "cell_type": "code",
   "execution_count": 159,
   "metadata": {
    "collapsed": false
   },
   "outputs": [
    {
     "name": "stdout",
     "output_type": "stream",
     "text": [
      "Using network:\n",
      "\n",
      "### network layers ###\n",
      "layer[0]: ConvolutionLayer\n",
      "  init_random = gaussian\n",
      "  padding = 0\n",
      "  stride = 2\n",
      "  num_channels = 10\n",
      "  num_groups = 1\n",
      "  kernel_size = 3\n",
      "layer[1]: MaxPoolingLayer\n",
      "  padding = 0\n",
      "  stride = 2\n",
      "  kernel_size = 3\n",
      "layer[2]: FlattenLayer\n",
      "layer[3]: FullConnectionLayer\n",
      "  init_sigma = 0.01\n",
      "  init_random = gaussian\n",
      "  init_bias = 0\n",
      "  num_hidden_units = 50\n",
      "layer[4]: RectifiedLinearLayer\n",
      "layer[5]: DropoutLayer\n",
      "  threshold = 0.5\n",
      "layer[6]: FullConnectionLayer\n",
      "  init_sigma = 0.01\n",
      "  init_random = gaussian\n",
      "  init_bias = 0\n",
      "  num_hidden_units = 4\n",
      "layer[7]: SoftmaxLayer\n",
      "### end network layers ###\n",
      "\n",
      "### network parameters ###\n",
      "learning_rate = 0.001\n",
      "metric = accuracy,recall@2\n",
      "momentum = 0.9\n",
      "### end network parameters ###\n",
      "\n",
      "PROGRESS: Creating a validation set from 5 percent of training data. This may take a while.\n",
      "          You can set ``validation_set=None`` to disable validation tracking.\n",
      "\n"
     ]
    },
    {
     "data": {
      "text/html": [
       "<pre>Computing mean image...</pre>"
      ],
      "text/plain": [
       "Computing mean image..."
      ]
     },
     "metadata": {},
     "output_type": "display_data"
    },
    {
     "data": {
      "text/html": [
       "<pre>Done computing mean image.</pre>"
      ],
      "text/plain": [
       "Done computing mean image."
      ]
     },
     "metadata": {},
     "output_type": "display_data"
    },
    {
     "data": {
      "text/html": [
       "<pre>Creating neuralnet using cpu</pre>"
      ],
      "text/plain": [
       "Creating neuralnet using cpu"
      ]
     },
     "metadata": {},
     "output_type": "display_data"
    },
    {
     "data": {
      "text/html": [
       "<pre>Training with batch size = 100</pre>"
      ],
      "text/plain": [
       "Training with batch size = 100"
      ]
     },
     "metadata": {},
     "output_type": "display_data"
    },
    {
     "data": {
      "text/html": [
       "<pre>+-----------+----------+--------------+-------------------+---------------------+-------------------+---------------------+-----------------+</pre>"
      ],
      "text/plain": [
       "+-----------+----------+--------------+-------------------+---------------------+-------------------+---------------------+-----------------+"
      ]
     },
     "metadata": {},
     "output_type": "display_data"
    },
    {
     "data": {
      "text/html": [
       "<pre>| Iteration | Examples | Elapsed Time | Training-accuracy | Validation-accuracy | Training-recall@2 | Validation-recall@2 | Examples/second |</pre>"
      ],
      "text/plain": [
       "| Iteration | Examples | Elapsed Time | Training-accuracy | Validation-accuracy | Training-recall@2 | Validation-recall@2 | Examples/second |"
      ]
     },
     "metadata": {},
     "output_type": "display_data"
    },
    {
     "data": {
      "text/html": [
       "<pre>+-----------+----------+--------------+-------------------+---------------------+-------------------+---------------------+-----------------+</pre>"
      ],
      "text/plain": [
       "+-----------+----------+--------------+-------------------+---------------------+-------------------+---------------------+-----------------+"
      ]
     },
     "metadata": {},
     "output_type": "display_data"
    },
    {
     "data": {
      "text/html": [
       "<pre>| 1         | 800      | 5.137082     | 0.258750          | 0.235294            | 0.511250          | 0.392157            | 155.730438      |</pre>"
      ],
      "text/plain": [
       "| 1         | 800      | 5.137082     | 0.258750          | 0.235294            | 0.511250          | 0.392157            | 155.730438      |"
      ]
     },
     "metadata": {},
     "output_type": "display_data"
    },
    {
     "data": {
      "text/html": [
       "<pre>| 2         | 800      | 9.833789     | 0.297500          | 0.235294            | 0.546250          | 0.470588            | 170.336517      |</pre>"
      ],
      "text/plain": [
       "| 2         | 800      | 9.833789     | 0.297500          | 0.235294            | 0.546250          | 0.470588            | 170.336517      |"
      ]
     },
     "metadata": {},
     "output_type": "display_data"
    },
    {
     "data": {
      "text/html": [
       "<pre>| 3         | 800      | 14.579892    | 0.341250          | 0.235294            | 0.588750          | 0.372549            | 168.562775      |</pre>"
      ],
      "text/plain": [
       "| 3         | 800      | 14.579892    | 0.341250          | 0.235294            | 0.588750          | 0.372549            | 168.562775      |"
      ]
     },
     "metadata": {},
     "output_type": "display_data"
    },
    {
     "data": {
      "text/html": [
       "<pre>+-----------+----------+--------------+-------------------+---------------------+-------------------+---------------------+-----------------+</pre>"
      ],
      "text/plain": [
       "+-----------+----------+--------------+-------------------+---------------------+-------------------+---------------------+-----------------+"
      ]
     },
     "metadata": {},
     "output_type": "display_data"
    }
   ],
   "source": [
    "nn_model_d_test = gl.neuralnet_classifier.create(X_test_d_sf[[\"X1\", \"labels\"]], target='labels', network = net_d_test, metric=['accuracy', 'recall@2'], max_iterations=3)"
   ]
  },
  {
   "cell_type": "code",
   "execution_count": 160,
   "metadata": {
    "collapsed": true
   },
   "outputs": [],
   "source": [
    "X_test_g_sf['feat_test'] = nn_model_g_test.extract_features(X_test_g_sf)\n",
    "X_test_d_sf['feat_test'] = nn_model_d_test.extract_features(X_test_d_sf)"
   ]
  },
  {
   "cell_type": "markdown",
   "metadata": {},
   "source": [
    "### None of this working! Why don't we try to fit our own neural network?'"
   ]
  },
  {
   "cell_type": "code",
   "execution_count": 163,
   "metadata": {
    "collapsed": true
   },
   "outputs": [],
   "source": [
    "#create mlp for decades\n",
    "percpt_net_d = gl.deeplearning.MultiLayerPerceptrons(num_hidden_layers=3,\n",
    "                                                num_hidden_units=[50,10,4])"
   ]
  },
  {
   "cell_type": "code",
   "execution_count": 164,
   "metadata": {
    "collapsed": true
   },
   "outputs": [],
   "source": [
    "#create convolutionnet for decades\n",
    "conv_net_d = gl.deeplearning.ConvolutionNet(num_convolution_layers=2,\n",
    "                                              kernel_size=3,\n",
    "                                              num_channels=10,\n",
    "                                              num_output_units=4)"
   ]
  },
  {
   "cell_type": "code",
   "execution_count": 165,
   "metadata": {
    "collapsed": true
   },
   "outputs": [],
   "source": [
    "#i dont know what im doinggggggg\n",
    "conv_net_d = gl.deeplearning.ConvolutionNet(num_convolution_layers=2,\n",
    "                                              kernel_size=3,\n",
    "                                              num_channels=10,\n",
    "                                              num_output_units=0)\n"
   ]
  },
  {
   "cell_type": "code",
   "execution_count": 167,
   "metadata": {
    "collapsed": false
   },
   "outputs": [
    {
     "data": {
      "text/plain": [
       "layer[0]: ConvolutionLayer\n",
       "  init_random = gaussian\n",
       "  padding = 0\n",
       "  stride = 1\n",
       "  num_channels = 10\n",
       "  num_groups = 1\n",
       "  kernel_size = 3\n",
       "layer[1]: MaxPoolingLayer\n",
       "  padding = 0\n",
       "  stride = 1\n",
       "  kernel_size = 3\n",
       "layer[2]: ConvolutionLayer\n",
       "  init_random = gaussian\n",
       "  padding = 0\n",
       "  stride = 1\n",
       "  num_channels = 10\n",
       "  num_groups = 1\n",
       "  kernel_size = 3\n",
       "layer[3]: MaxPoolingLayer\n",
       "  padding = 0\n",
       "  stride = 1\n",
       "  kernel_size = 3\n",
       "layer[4]: FlattenLayer"
      ]
     },
     "execution_count": 167,
     "metadata": {},
     "output_type": "execute_result"
    }
   ],
   "source": [
    "conv_net_d.layers"
   ]
  },
  {
   "cell_type": "code",
   "execution_count": 168,
   "metadata": {
    "collapsed": true
   },
   "outputs": [],
   "source": [
    "conv_net_d.layers.extend(percpt_net_d.layers)"
   ]
  },
  {
   "cell_type": "code",
   "execution_count": 169,
   "metadata": {
    "collapsed": false
   },
   "outputs": [
    {
     "data": {
      "text/plain": [
       "layer[0]: ConvolutionLayer\n",
       "  init_random = gaussian\n",
       "  padding = 0\n",
       "  stride = 1\n",
       "  num_channels = 10\n",
       "  num_groups = 1\n",
       "  kernel_size = 3\n",
       "layer[1]: MaxPoolingLayer\n",
       "  padding = 0\n",
       "  stride = 1\n",
       "  kernel_size = 3\n",
       "layer[2]: ConvolutionLayer\n",
       "  init_random = gaussian\n",
       "  padding = 0\n",
       "  stride = 1\n",
       "  num_channels = 10\n",
       "  num_groups = 1\n",
       "  kernel_size = 3\n",
       "layer[3]: MaxPoolingLayer\n",
       "  padding = 0\n",
       "  stride = 1\n",
       "  kernel_size = 3\n",
       "layer[4]: FlattenLayer\n",
       "layer[5]: FullConnectionLayer\n",
       "  init_sigma = 0.01\n",
       "  init_random = gaussian\n",
       "  init_bias = 0\n",
       "  num_hidden_units = 50\n",
       "layer[6]: SigmoidLayer\n",
       "layer[7]: FullConnectionLayer\n",
       "  init_sigma = 0.01\n",
       "  init_random = gaussian\n",
       "  init_bias = 0\n",
       "  num_hidden_units = 10\n",
       "layer[8]: SigmoidLayer\n",
       "layer[9]: FullConnectionLayer\n",
       "  init_sigma = 0.01\n",
       "  init_random = gaussian\n",
       "  init_bias = 0\n",
       "  num_hidden_units = 4\n",
       "layer[10]: SoftmaxLayer"
      ]
     },
     "execution_count": 169,
     "metadata": {},
     "output_type": "execute_result"
    }
   ],
   "source": [
    "conv_net_d.layers"
   ]
  },
  {
   "cell_type": "code",
   "execution_count": 171,
   "metadata": {
    "collapsed": false
   },
   "outputs": [
    {
     "name": "stdout",
     "output_type": "stream",
     "text": [
      "Using network:\n",
      "\n",
      "### network layers ###\n",
      "layer[0]: ConvolutionLayer\n",
      "  init_random = gaussian\n",
      "  padding = 0\n",
      "  stride = 2\n",
      "  num_channels = 10\n",
      "  num_groups = 1\n",
      "  kernel_size = 3\n",
      "layer[1]: MaxPoolingLayer\n",
      "  padding = 0\n",
      "  stride = 2\n",
      "  kernel_size = 3\n",
      "layer[2]: FlattenLayer\n",
      "layer[3]: FullConnectionLayer\n",
      "  init_sigma = 0.01\n",
      "  init_random = gaussian\n",
      "  init_bias = 0\n",
      "  num_hidden_units = 100\n",
      "layer[4]: RectifiedLinearLayer\n",
      "layer[5]: DropoutLayer\n",
      "  threshold = 0.5\n",
      "layer[6]: FullConnectionLayer\n",
      "  init_sigma = 0.01\n",
      "  init_random = gaussian\n",
      "  init_bias = 0\n",
      "  num_hidden_units = 4\n",
      "layer[7]: SoftmaxLayer\n",
      "### end network layers ###\n",
      "\n",
      "### network parameters ###\n",
      "learning_rate = 0.001\n",
      "metric = accuracy,recall@2\n",
      "momentum = 0.9\n",
      "### end network parameters ###\n",
      "\n",
      "PROGRESS: Creating a validation set from 5 percent of training data. This may take a while.\n",
      "          You can set ``validation_set=None`` to disable validation tracking.\n",
      "\n"
     ]
    },
    {
     "data": {
      "text/html": [
       "<pre>Computing mean image...</pre>"
      ],
      "text/plain": [
       "Computing mean image..."
      ]
     },
     "metadata": {},
     "output_type": "display_data"
    },
    {
     "data": {
      "text/html": [
       "<pre>Done computing mean image.</pre>"
      ],
      "text/plain": [
       "Done computing mean image."
      ]
     },
     "metadata": {},
     "output_type": "display_data"
    },
    {
     "data": {
      "text/html": [
       "<pre>Creating neuralnet using cpu</pre>"
      ],
      "text/plain": [
       "Creating neuralnet using cpu"
      ]
     },
     "metadata": {},
     "output_type": "display_data"
    },
    {
     "data": {
      "text/html": [
       "<pre>Training with batch size = 100</pre>"
      ],
      "text/plain": [
       "Training with batch size = 100"
      ]
     },
     "metadata": {},
     "output_type": "display_data"
    },
    {
     "data": {
      "text/html": [
       "<pre>+-----------+----------+--------------+-------------------+---------------------+-------------------+---------------------+-----------------+</pre>"
      ],
      "text/plain": [
       "+-----------+----------+--------------+-------------------+---------------------+-------------------+---------------------+-----------------+"
      ]
     },
     "metadata": {},
     "output_type": "display_data"
    },
    {
     "data": {
      "text/html": [
       "<pre>| Iteration | Examples | Elapsed Time | Training-accuracy | Validation-accuracy | Training-recall@2 | Validation-recall@2 | Examples/second |</pre>"
      ],
      "text/plain": [
       "| Iteration | Examples | Elapsed Time | Training-accuracy | Validation-accuracy | Training-recall@2 | Validation-recall@2 | Examples/second |"
      ]
     },
     "metadata": {},
     "output_type": "display_data"
    },
    {
     "data": {
      "text/html": [
       "<pre>+-----------+----------+--------------+-------------------+---------------------+-------------------+---------------------+-----------------+</pre>"
      ],
      "text/plain": [
       "+-----------+----------+--------------+-------------------+---------------------+-------------------+---------------------+-----------------+"
      ]
     },
     "metadata": {},
     "output_type": "display_data"
    },
    {
     "data": {
      "text/html": [
       "<pre>| 1         | 1800     | 10.503427    | 0.255556          |                     | 0.503333          |                     | 171.975296      |</pre>"
      ],
      "text/plain": [
       "| 1         | 1800     | 10.503427    | 0.255556          |                     | 0.503333          |                     | 171.975296      |"
      ]
     },
     "metadata": {},
     "output_type": "display_data"
    },
    {
     "data": {
      "text/html": [
       "<pre>| 1         | 3100     | 18.489593    | 0.250323          | 0.229412            | 0.498710          | 0.517647            | 162.034698      |</pre>"
      ],
      "text/plain": [
       "| 1         | 3100     | 18.489593    | 0.250323          | 0.229412            | 0.498710          | 0.517647            | 162.034698      |"
      ]
     },
     "metadata": {},
     "output_type": "display_data"
    },
    {
     "data": {
      "text/html": [
       "<pre>| 2         | 1800     | 28.740949    | 0.275000          |                     | 0.545556          |                     | 175.763687      |</pre>"
      ],
      "text/plain": [
       "| 2         | 1800     | 28.740949    | 0.275000          |                     | 0.545556          |                     | 175.763687      |"
      ]
     },
     "metadata": {},
     "output_type": "display_data"
    },
    {
     "data": {
      "text/html": [
       "<pre>| 2         | 3100     | 36.546628    | 0.278387          | 0.247059            | 0.534839          | 0.505882            | 166.545319      |</pre>"
      ],
      "text/plain": [
       "| 2         | 3100     | 36.546628    | 0.278387          | 0.247059            | 0.534839          | 0.505882            | 166.545319      |"
      ]
     },
     "metadata": {},
     "output_type": "display_data"
    },
    {
     "data": {
      "text/html": [
       "<pre>| 3         | 1800     | 46.618211    | 0.299444          |                     | 0.562778          |                     | 178.722595      |</pre>"
      ],
      "text/plain": [
       "| 3         | 1800     | 46.618211    | 0.299444          |                     | 0.562778          |                     | 178.722595      |"
      ]
     },
     "metadata": {},
     "output_type": "display_data"
    },
    {
     "data": {
      "text/html": [
       "<pre>| 3         | 3100     | 54.414823    | 0.286452          | 0.288235            | 0.550323          | 0.594118            | 166.739014      |</pre>"
      ],
      "text/plain": [
       "| 3         | 3100     | 54.414823    | 0.286452          | 0.288235            | 0.550323          | 0.594118            | 166.739014      |"
      ]
     },
     "metadata": {},
     "output_type": "display_data"
    },
    {
     "data": {
      "text/html": [
       "<pre>+-----------+----------+--------------+-------------------+---------------------+-------------------+---------------------+-----------------+</pre>"
      ],
      "text/plain": [
       "+-----------+----------+--------------+-------------------+---------------------+-------------------+---------------------+-----------------+"
      ]
     },
     "metadata": {},
     "output_type": "display_data"
    }
   ],
   "source": [
    "#fit decades \n",
    "nettest_d = gl.deeplearning.create(X_train_d_sf[[\"X1\", \"labels\"]], target=\"labels\")\n",
    "nn_nnettest_d = gl.neuralnet_classifier.create(X_train_d_sf[[\"X1\", \"labels\"]], target='labels', network = nettest_d, metric=['accuracy', 'recall@2'], max_iterations=3)"
   ]
  },
  {
   "cell_type": "code",
   "execution_count": 172,
   "metadata": {
    "collapsed": false
   },
   "outputs": [
    {
     "data": {
      "text/plain": [
       "{'accuracy': 0.27000001072883606, 'confusion_matrix': Columns:\n",
       " \ttarget_label\tint\n",
       " \tpredicted_label\tint\n",
       " \tcount\tint\n",
       " \n",
       " Rows: 16\n",
       " \n",
       " Data:\n",
       " +--------------+-----------------+-------+\n",
       " | target_label | predicted_label | count |\n",
       " +--------------+-----------------+-------+\n",
       " |     1980     |       1980      |   36  |\n",
       " |     1990     |       1980      |   36  |\n",
       " |     2000     |       1980      |   27  |\n",
       " |     2010     |       1980      |   16  |\n",
       " |     1980     |       1990      |   19  |\n",
       " |     1990     |       1990      |   17  |\n",
       " |     2000     |       1990      |   15  |\n",
       " |     2010     |       1990      |   16  |\n",
       " |     1980     |       2000      |   90  |\n",
       " |     1990     |       2000      |   96  |\n",
       " +--------------+-----------------+-------+\n",
       " [16 rows x 3 columns]\n",
       " Note: Only the head of the SFrame is printed.\n",
       " You can use print_rows(num_rows=m, num_columns=n) to print more rows and columns.}"
      ]
     },
     "execution_count": 172,
     "metadata": {},
     "output_type": "execute_result"
    }
   ],
   "source": [
    "#did not perform that much better than the other neural network\n",
    "nn_nnettest_d.evaluate(X_test_d_sf)"
   ]
  },
  {
   "cell_type": "code",
   "execution_count": 222,
   "metadata": {
    "collapsed": false
   },
   "outputs": [],
   "source": [
    "#try one a few other neural nets. increase hidden layers\n",
    "\n",
    "percpt_net_d = gl.deeplearning.MultiLayerPerceptrons(num_hidden_layers=6,\n",
    "                                                num_hidden_units=[200,150, 100, 50,30,4])\n",
    "\n",
    "#change output units to exactly 4\n",
    "conv_net_d = gl.deeplearning.ConvolutionNet(num_convolution_layers=2,\n",
    "                                              kernel_size=3,\n",
    "                                              num_channels=10,\n",
    "                                              num_output_units=0)\n",
    "\n",
    "\n",
    "conv_net_d.layers.extend(percpt_net_d.layers)"
   ]
  },
  {
   "cell_type": "code",
   "execution_count": 223,
   "metadata": {
    "collapsed": false
   },
   "outputs": [
    {
     "data": {
      "text/plain": [
       "layer[0]: ConvolutionLayer\n",
       "  init_random = gaussian\n",
       "  padding = 0\n",
       "  stride = 1\n",
       "  num_channels = 10\n",
       "  num_groups = 1\n",
       "  kernel_size = 3\n",
       "layer[1]: MaxPoolingLayer\n",
       "  padding = 0\n",
       "  stride = 1\n",
       "  kernel_size = 3\n",
       "layer[2]: ConvolutionLayer\n",
       "  init_random = gaussian\n",
       "  padding = 0\n",
       "  stride = 1\n",
       "  num_channels = 10\n",
       "  num_groups = 1\n",
       "  kernel_size = 3\n",
       "layer[3]: MaxPoolingLayer\n",
       "  padding = 0\n",
       "  stride = 1\n",
       "  kernel_size = 3\n",
       "layer[4]: FlattenLayer\n",
       "layer[5]: FullConnectionLayer\n",
       "  init_sigma = 0.01\n",
       "  init_random = gaussian\n",
       "  init_bias = 0\n",
       "  num_hidden_units = 200\n",
       "layer[6]: SigmoidLayer\n",
       "layer[7]: FullConnectionLayer\n",
       "  init_sigma = 0.01\n",
       "  init_random = gaussian\n",
       "  init_bias = 0\n",
       "  num_hidden_units = 150\n",
       "layer[8]: SigmoidLayer\n",
       "layer[9]: FullConnectionLayer\n",
       "  init_sigma = 0.01\n",
       "  init_random = gaussian\n",
       "  init_bias = 0\n",
       "  num_hidden_units = 100\n",
       "layer[10]: SigmoidLayer\n",
       "layer[11]: FullConnectionLayer\n",
       "  init_sigma = 0.01\n",
       "  init_random = gaussian\n",
       "  init_bias = 0\n",
       "  num_hidden_units = 50\n",
       "layer[12]: SigmoidLayer\n",
       "layer[13]: FullConnectionLayer\n",
       "  init_sigma = 0.01\n",
       "  init_random = gaussian\n",
       "  init_bias = 0\n",
       "  num_hidden_units = 30\n",
       "layer[14]: SigmoidLayer\n",
       "layer[15]: FullConnectionLayer\n",
       "  init_sigma = 0.01\n",
       "  init_random = gaussian\n",
       "  init_bias = 0\n",
       "  num_hidden_units = 4\n",
       "layer[16]: SoftmaxLayer"
      ]
     },
     "execution_count": 223,
     "metadata": {},
     "output_type": "execute_result"
    }
   ],
   "source": [
    "conv_net_d.layers"
   ]
  },
  {
   "cell_type": "code",
   "execution_count": 224,
   "metadata": {
    "collapsed": false
   },
   "outputs": [
    {
     "name": "stdout",
     "output_type": "stream",
     "text": [
      "Using network:\n",
      "\n",
      "### network layers ###\n",
      "layer[0]: ConvolutionLayer\n",
      "  init_random = gaussian\n",
      "  padding = 0\n",
      "  stride = 1\n",
      "  num_channels = 10\n",
      "  num_groups = 1\n",
      "  kernel_size = 3\n",
      "layer[1]: MaxPoolingLayer\n",
      "  padding = 0\n",
      "  stride = 1\n",
      "  kernel_size = 3\n",
      "layer[2]: ConvolutionLayer\n",
      "  init_random = gaussian\n",
      "  padding = 0\n",
      "  stride = 1\n",
      "  num_channels = 10\n",
      "  num_groups = 1\n",
      "  kernel_size = 3\n",
      "layer[3]: MaxPoolingLayer\n",
      "  padding = 0\n",
      "  stride = 1\n",
      "  kernel_size = 3\n",
      "layer[4]: FlattenLayer\n",
      "layer[5]: FullConnectionLayer\n",
      "  init_sigma = 0.01\n",
      "  init_random = gaussian\n",
      "  init_bias = 0\n",
      "  num_hidden_units = 200\n",
      "layer[6]: SigmoidLayer\n",
      "layer[7]: FullConnectionLayer\n",
      "  init_sigma = 0.01\n",
      "  init_random = gaussian\n",
      "  init_bias = 0\n",
      "  num_hidden_units = 150\n",
      "layer[8]: SigmoidLayer\n",
      "layer[9]: FullConnectionLayer\n",
      "  init_sigma = 0.01\n",
      "  init_random = gaussian\n",
      "  init_bias = 0\n",
      "  num_hidden_units = 100\n",
      "layer[10]: SigmoidLayer\n",
      "layer[11]: FullConnectionLayer\n",
      "  init_sigma = 0.01\n",
      "  init_random = gaussian\n",
      "  init_bias = 0\n",
      "  num_hidden_units = 50\n",
      "layer[12]: SigmoidLayer\n",
      "layer[13]: FullConnectionLayer\n",
      "  init_sigma = 0.01\n",
      "  init_random = gaussian\n",
      "  init_bias = 0\n",
      "  num_hidden_units = 30\n",
      "layer[14]: SigmoidLayer\n",
      "layer[15]: FullConnectionLayer\n",
      "  init_sigma = 0.01\n",
      "  init_random = gaussian\n",
      "  init_bias = 0\n",
      "  num_hidden_units = 4\n",
      "layer[16]: SoftmaxLayer\n",
      "### end network layers ###\n",
      "\n",
      "### network parameters ###\n",
      "learning_rate = 0.001\n",
      "metric = accuracy,recall@2\n",
      "momentum = 0.9\n",
      "### end network parameters ###\n",
      "\n",
      "PROGRESS: Creating a validation set from 5 percent of training data. This may take a while.\n",
      "          You can set ``validation_set=None`` to disable validation tracking.\n",
      "\n"
     ]
    },
    {
     "data": {
      "text/html": [
       "<pre>Computing mean image...</pre>"
      ],
      "text/plain": [
       "Computing mean image..."
      ]
     },
     "metadata": {},
     "output_type": "display_data"
    },
    {
     "data": {
      "text/html": [
       "<pre>Done computing mean image.</pre>"
      ],
      "text/plain": [
       "Done computing mean image."
      ]
     },
     "metadata": {},
     "output_type": "display_data"
    },
    {
     "data": {
      "text/html": [
       "<pre>Creating neuralnet using cpu</pre>"
      ],
      "text/plain": [
       "Creating neuralnet using cpu"
      ]
     },
     "metadata": {},
     "output_type": "display_data"
    },
    {
     "data": {
      "text/html": [
       "<pre>Training with batch size = 100</pre>"
      ],
      "text/plain": [
       "Training with batch size = 100"
      ]
     },
     "metadata": {},
     "output_type": "display_data"
    },
    {
     "data": {
      "text/html": [
       "<pre>+-----------+----------+--------------+-------------------+---------------------+-------------------+---------------------+-----------------+</pre>"
      ],
      "text/plain": [
       "+-----------+----------+--------------+-------------------+---------------------+-------------------+---------------------+-----------------+"
      ]
     },
     "metadata": {},
     "output_type": "display_data"
    },
    {
     "data": {
      "text/html": [
       "<pre>| Iteration | Examples | Elapsed Time | Training-accuracy | Validation-accuracy | Training-recall@2 | Validation-recall@2 | Examples/second |</pre>"
      ],
      "text/plain": [
       "| Iteration | Examples | Elapsed Time | Training-accuracy | Validation-accuracy | Training-recall@2 | Validation-recall@2 | Examples/second |"
      ]
     },
     "metadata": {},
     "output_type": "display_data"
    },
    {
     "data": {
      "text/html": [
       "<pre>+-----------+----------+--------------+-------------------+---------------------+-------------------+---------------------+-----------------+</pre>"
      ],
      "text/plain": [
       "+-----------+----------+--------------+-------------------+---------------------+-------------------+---------------------+-----------------+"
      ]
     },
     "metadata": {},
     "output_type": "display_data"
    },
    {
     "data": {
      "text/html": [
       "<pre>| 1         | 100      | 13.753072    | 0.310000          |                     | 0.510000          |                     | 7.271105        |</pre>"
      ],
      "text/plain": [
       "| 1         | 100      | 13.753072    | 0.310000          |                     | 0.510000          |                     | 7.271105        |"
      ]
     },
     "metadata": {},
     "output_type": "display_data"
    },
    {
     "data": {
      "text/html": [
       "<pre>| 1         | 200      | 26.729864    | 0.280000          |                     | 0.530000          |                     | 7.706066        |</pre>"
      ],
      "text/plain": [
       "| 1         | 200      | 26.729864    | 0.280000          |                     | 0.530000          |                     | 7.706066        |"
      ]
     },
     "metadata": {},
     "output_type": "display_data"
    },
    {
     "data": {
      "text/html": [
       "<pre>| 1         | 300      | 39.486927    | 0.286667          |                     | 0.526667          |                     | 7.838795        |</pre>"
      ],
      "text/plain": [
       "| 1         | 300      | 39.486927    | 0.286667          |                     | 0.526667          |                     | 7.838795        |"
      ]
     },
     "metadata": {},
     "output_type": "display_data"
    },
    {
     "data": {
      "text/html": [
       "<pre>| 1         | 400      | 52.206592    | 0.272500          |                     | 0.527500          |                     | 7.861842        |</pre>"
      ],
      "text/plain": [
       "| 1         | 400      | 52.206592    | 0.272500          |                     | 0.527500          |                     | 7.861842        |"
      ]
     },
     "metadata": {},
     "output_type": "display_data"
    },
    {
     "data": {
      "text/html": [
       "<pre>| 1         | 500      | 64.904282    | 0.266000          |                     | 0.510000          |                     | 7.875448        |</pre>"
      ],
      "text/plain": [
       "| 1         | 500      | 64.904282    | 0.266000          |                     | 0.510000          |                     | 7.875448        |"
      ]
     },
     "metadata": {},
     "output_type": "display_data"
    },
    {
     "data": {
      "text/html": [
       "<pre>| 1         | 600      | 77.627904    | 0.250000          |                     | 0.506667          |                     | 7.859397        |</pre>"
      ],
      "text/plain": [
       "| 1         | 600      | 77.627904    | 0.250000          |                     | 0.506667          |                     | 7.859397        |"
      ]
     },
     "metadata": {},
     "output_type": "display_data"
    },
    {
     "data": {
      "text/html": [
       "<pre>| 1         | 700      | 90.330115    | 0.240000          |                     | 0.497143          |                     | 7.872645        |</pre>"
      ],
      "text/plain": [
       "| 1         | 700      | 90.330115    | 0.240000          |                     | 0.497143          |                     | 7.872645        |"
      ]
     },
     "metadata": {},
     "output_type": "display_data"
    },
    {
     "data": {
      "text/html": [
       "<pre>| 1         | 800      | 103.039749   | 0.242500          |                     | 0.498750          |                     | 7.868046        |</pre>"
      ],
      "text/plain": [
       "| 1         | 800      | 103.039749   | 0.242500          |                     | 0.498750          |                     | 7.868046        |"
      ]
     },
     "metadata": {},
     "output_type": "display_data"
    },
    {
     "data": {
      "text/html": [
       "<pre>| 1         | 900      | 115.756764   | 0.240000          |                     | 0.498889          |                     | 7.863481        |</pre>"
      ],
      "text/plain": [
       "| 1         | 900      | 115.756764   | 0.240000          |                     | 0.498889          |                     | 7.863481        |"
      ]
     },
     "metadata": {},
     "output_type": "display_data"
    },
    {
     "data": {
      "text/html": [
       "<pre>| 1         | 1000     | 128.478602   | 0.243000          |                     | 0.499000          |                     | 7.860500        |</pre>"
      ],
      "text/plain": [
       "| 1         | 1000     | 128.478602   | 0.243000          |                     | 0.499000          |                     | 7.860500        |"
      ]
     },
     "metadata": {},
     "output_type": "display_data"
    },
    {
     "data": {
      "text/html": [
       "<pre>| 1         | 1100     | 141.179647   | 0.242727          |                     | 0.493636          |                     | 7.873368        |</pre>"
      ],
      "text/plain": [
       "| 1         | 1100     | 141.179647   | 0.242727          |                     | 0.493636          |                     | 7.873368        |"
      ]
     },
     "metadata": {},
     "output_type": "display_data"
    },
    {
     "data": {
      "text/html": [
       "<pre>| 1         | 1200     | 153.905336   | 0.242500          |                     | 0.492500          |                     | 7.858120        |</pre>"
      ],
      "text/plain": [
       "| 1         | 1200     | 153.905336   | 0.242500          |                     | 0.492500          |                     | 7.858120        |"
      ]
     },
     "metadata": {},
     "output_type": "display_data"
    },
    {
     "data": {
      "text/html": [
       "<pre>| 1         | 1300     | 166.640762   | 0.244615          |                     | 0.497692          |                     | 7.852113        |</pre>"
      ],
      "text/plain": [
       "| 1         | 1300     | 166.640762   | 0.244615          |                     | 0.497692          |                     | 7.852113        |"
      ]
     },
     "metadata": {},
     "output_type": "display_data"
    },
    {
     "data": {
      "text/html": [
       "<pre>| 1         | 1400     | 179.379090   | 0.242143          |                     | 0.490714          |                     | 7.850324        |</pre>"
      ],
      "text/plain": [
       "| 1         | 1400     | 179.379090   | 0.242143          |                     | 0.490714          |                     | 7.850324        |"
      ]
     },
     "metadata": {},
     "output_type": "display_data"
    },
    {
     "data": {
      "text/html": [
       "<pre>| 1         | 1500     | 192.223149   | 0.236667          |                     | 0.487333          |                     | 7.785701        |</pre>"
      ],
      "text/plain": [
       "| 1         | 1500     | 192.223149   | 0.236667          |                     | 0.487333          |                     | 7.785701        |"
      ]
     },
     "metadata": {},
     "output_type": "display_data"
    },
    {
     "data": {
      "text/html": [
       "<pre>| 1         | 1600     | 205.283695   | 0.233750          |                     | 0.486250          |                     | 7.656647        |</pre>"
      ],
      "text/plain": [
       "| 1         | 1600     | 205.283695   | 0.233750          |                     | 0.486250          |                     | 7.656647        |"
      ]
     },
     "metadata": {},
     "output_type": "display_data"
    },
    {
     "data": {
      "text/html": [
       "<pre>| 1         | 1700     | 218.021522   | 0.231765          |                     | 0.485294          |                     | 7.850633        |</pre>"
      ],
      "text/plain": [
       "| 1         | 1700     | 218.021522   | 0.231765          |                     | 0.485294          |                     | 7.850633        |"
      ]
     },
     "metadata": {},
     "output_type": "display_data"
    },
    {
     "data": {
      "text/html": [
       "<pre>| 1         | 1800     | 230.779126   | 0.229444          |                     | 0.484444          |                     | 7.838463        |</pre>"
      ],
      "text/plain": [
       "| 1         | 1800     | 230.779126   | 0.229444          |                     | 0.484444          |                     | 7.838463        |"
      ]
     },
     "metadata": {},
     "output_type": "display_data"
    },
    {
     "data": {
      "text/html": [
       "<pre>| 1         | 1900     | 243.464044   | 0.230526          |                     | 0.483684          |                     | 7.883378        |</pre>"
      ],
      "text/plain": [
       "| 1         | 1900     | 243.464044   | 0.230526          |                     | 0.483684          |                     | 7.883378        |"
      ]
     },
     "metadata": {},
     "output_type": "display_data"
    },
    {
     "data": {
      "text/html": [
       "<pre>| 1         | 2000     | 256.208697   | 0.231000          |                     | 0.487000          |                     | 7.846428        |</pre>"
      ],
      "text/plain": [
       "| 1         | 2000     | 256.208697   | 0.231000          |                     | 0.487000          |                     | 7.846428        |"
      ]
     },
     "metadata": {},
     "output_type": "display_data"
    },
    {
     "data": {
      "text/html": [
       "<pre>| 1         | 2100     | 268.904215   | 0.232857          |                     | 0.490476          |                     | 7.876795        |</pre>"
      ],
      "text/plain": [
       "| 1         | 2100     | 268.904215   | 0.232857          |                     | 0.490476          |                     | 7.876795        |"
      ]
     },
     "metadata": {},
     "output_type": "display_data"
    },
    {
     "data": {
      "text/html": [
       "<pre>| 1         | 2200     | 281.633618   | 0.232273          |                     | 0.489545          |                     | 7.855828        |</pre>"
      ],
      "text/plain": [
       "| 1         | 2200     | 281.633618   | 0.232273          |                     | 0.489545          |                     | 7.855828        |"
      ]
     },
     "metadata": {},
     "output_type": "display_data"
    },
    {
     "data": {
      "text/html": [
       "<pre>| 1         | 2300     | 294.341297   | 0.231739          |                     | 0.488696          |                     | 7.869257        |</pre>"
      ],
      "text/plain": [
       "| 1         | 2300     | 294.341297   | 0.231739          |                     | 0.488696          |                     | 7.869257        |"
      ]
     },
     "metadata": {},
     "output_type": "display_data"
    },
    {
     "data": {
      "text/html": [
       "<pre>| 1         | 2400     | 307.029005   | 0.232500          |                     | 0.487917          |                     | 7.881645        |</pre>"
      ],
      "text/plain": [
       "| 1         | 2400     | 307.029005   | 0.232500          |                     | 0.487917          |                     | 7.881645        |"
      ]
     },
     "metadata": {},
     "output_type": "display_data"
    },
    {
     "data": {
      "text/html": [
       "<pre>| 1         | 2500     | 319.822039   | 0.235200          |                     | 0.489600          |                     | 7.816754        |</pre>"
      ],
      "text/plain": [
       "| 1         | 2500     | 319.822039   | 0.235200          |                     | 0.489600          |                     | 7.816754        |"
      ]
     },
     "metadata": {},
     "output_type": "display_data"
    },
    {
     "data": {
      "text/html": [
       "<pre>| 1         | 2600     | 332.591698   | 0.235769          |                     | 0.489231          |                     | 7.831063        |</pre>"
      ],
      "text/plain": [
       "| 1         | 2600     | 332.591698   | 0.235769          |                     | 0.489231          |                     | 7.831063        |"
      ]
     },
     "metadata": {},
     "output_type": "display_data"
    },
    {
     "data": {
      "text/html": [
       "<pre>| 1         | 2700     | 345.286295   | 0.235556          |                     | 0.487778          |                     | 7.877367        |</pre>"
      ],
      "text/plain": [
       "| 1         | 2700     | 345.286295   | 0.235556          |                     | 0.487778          |                     | 7.877367        |"
      ]
     },
     "metadata": {},
     "output_type": "display_data"
    },
    {
     "data": {
      "text/html": [
       "<pre>| 1         | 2800     | 357.950470   | 0.235000          |                     | 0.488929          |                     | 7.896290        |</pre>"
      ],
      "text/plain": [
       "| 1         | 2800     | 357.950470   | 0.235000          |                     | 0.488929          |                     | 7.896290        |"
      ]
     },
     "metadata": {},
     "output_type": "display_data"
    },
    {
     "data": {
      "text/html": [
       "<pre>| 1         | 2900     | 370.656154   | 0.236552          |                     | 0.489655          |                     | 7.870493        |</pre>"
      ],
      "text/plain": [
       "| 1         | 2900     | 370.656154   | 0.236552          |                     | 0.489655          |                     | 7.870493        |"
      ]
     },
     "metadata": {},
     "output_type": "display_data"
    },
    {
     "data": {
      "text/html": [
       "<pre>| 1         | 3000     | 383.361423   | 0.235667          |                     | 0.490000          |                     | 7.870750        |</pre>"
      ],
      "text/plain": [
       "| 1         | 3000     | 383.361423   | 0.235667          |                     | 0.490000          |                     | 7.870750        |"
      ]
     },
     "metadata": {},
     "output_type": "display_data"
    },
    {
     "data": {
      "text/html": [
       "<pre>| 1         | 3100     | 396.093632   | 0.233548          |                     | 0.487419          |                     | 7.854096        |</pre>"
      ],
      "text/plain": [
       "| 1         | 3100     | 396.093632   | 0.233548          |                     | 0.487419          |                     | 7.854096        |"
      ]
     },
     "metadata": {},
     "output_type": "display_data"
    },
    {
     "data": {
      "text/html": [
       "<pre>| 1         | 3100     | 406.722712   | 0.233548          | 0.254658            | 0.487419          | 0.490683            | 7.854096        |</pre>"
      ],
      "text/plain": [
       "| 1         | 3100     | 406.722712   | 0.233548          | 0.254658            | 0.487419          | 0.490683            | 7.854096        |"
      ]
     },
     "metadata": {},
     "output_type": "display_data"
    },
    {
     "data": {
      "text/html": [
       "<pre>| 2         | 100      | 419.419258   | 0.200000          |                     | 0.410000          |                     | 7.876279        |</pre>"
      ],
      "text/plain": [
       "| 2         | 100      | 419.419258   | 0.200000          |                     | 0.410000          |                     | 7.876279        |"
      ]
     },
     "metadata": {},
     "output_type": "display_data"
    },
    {
     "data": {
      "text/html": [
       "<pre>| 2         | 200      | 432.090468   | 0.250000          |                     | 0.480000          |                     | 7.891907        |</pre>"
      ],
      "text/plain": [
       "| 2         | 200      | 432.090468   | 0.250000          |                     | 0.480000          |                     | 7.891907        |"
      ]
     },
     "metadata": {},
     "output_type": "display_data"
    },
    {
     "data": {
      "text/html": [
       "<pre>| 2         | 300      | 444.777164   | 0.240000          |                     | 0.476667          |                     | 7.882272        |</pre>"
      ],
      "text/plain": [
       "| 2         | 300      | 444.777164   | 0.240000          |                     | 0.476667          |                     | 7.882272        |"
      ]
     },
     "metadata": {},
     "output_type": "display_data"
    },
    {
     "data": {
      "text/html": [
       "<pre>| 2         | 400      | 457.471788   | 0.255000          |                     | 0.490000          |                     | 7.877350        |</pre>"
      ],
      "text/plain": [
       "| 2         | 400      | 457.471788   | 0.255000          |                     | 0.490000          |                     | 7.877350        |"
      ]
     },
     "metadata": {},
     "output_type": "display_data"
    },
    {
     "data": {
      "text/html": [
       "<pre>| 2         | 500      | 470.171907   | 0.244000          |                     | 0.480000          |                     | 7.873941        |</pre>"
      ],
      "text/plain": [
       "| 2         | 500      | 470.171907   | 0.244000          |                     | 0.480000          |                     | 7.873941        |"
      ]
     },
     "metadata": {},
     "output_type": "display_data"
    },
    {
     "data": {
      "text/html": [
       "<pre>| 2         | 600      | 482.869380   | 0.231667          |                     | 0.458333          |                     | 7.875584        |</pre>"
      ],
      "text/plain": [
       "| 2         | 600      | 482.869380   | 0.231667          |                     | 0.458333          |                     | 7.875584        |"
      ]
     },
     "metadata": {},
     "output_type": "display_data"
    },
    {
     "data": {
      "text/html": [
       "<pre>| 2         | 700      | 495.572074   | 0.224286          |                     | 0.455714          |                     | 7.872346        |</pre>"
      ],
      "text/plain": [
       "| 2         | 700      | 495.572074   | 0.224286          |                     | 0.455714          |                     | 7.872346        |"
      ]
     },
     "metadata": {},
     "output_type": "display_data"
    },
    {
     "data": {
      "text/html": [
       "<pre>| 2         | 800      | 508.273456   | 0.227500          |                     | 0.462500          |                     | 7.873158        |</pre>"
      ],
      "text/plain": [
       "| 2         | 800      | 508.273456   | 0.227500          |                     | 0.462500          |                     | 7.873158        |"
      ]
     },
     "metadata": {},
     "output_type": "display_data"
    },
    {
     "data": {
      "text/html": [
       "<pre>| 2         | 900      | 520.963605   | 0.233333          |                     | 0.466667          |                     | 7.880127        |</pre>"
      ],
      "text/plain": [
       "| 2         | 900      | 520.963605   | 0.233333          |                     | 0.466667          |                     | 7.880127        |"
      ]
     },
     "metadata": {},
     "output_type": "display_data"
    },
    {
     "data": {
      "text/html": [
       "<pre>| 2         | 1000     | 533.676868   | 0.233000          |                     | 0.470000          |                     | 7.865802        |</pre>"
      ],
      "text/plain": [
       "| 2         | 1000     | 533.676868   | 0.233000          |                     | 0.470000          |                     | 7.865802        |"
      ]
     },
     "metadata": {},
     "output_type": "display_data"
    },
    {
     "data": {
      "text/html": [
       "<pre>| 2         | 1100     | 546.340961   | 0.230000          |                     | 0.467273          |                     | 7.896340        |</pre>"
      ],
      "text/plain": [
       "| 2         | 1100     | 546.340961   | 0.230000          |                     | 0.467273          |                     | 7.896340        |"
      ]
     },
     "metadata": {},
     "output_type": "display_data"
    },
    {
     "data": {
      "text/html": [
       "<pre>| 2         | 1200     | 559.013156   | 0.230833          |                     | 0.468333          |                     | 7.891293        |</pre>"
      ],
      "text/plain": [
       "| 2         | 1200     | 559.013156   | 0.230833          |                     | 0.468333          |                     | 7.891293        |"
      ]
     },
     "metadata": {},
     "output_type": "display_data"
    },
    {
     "data": {
      "text/html": [
       "<pre>| 2         | 1300     | 571.702913   | 0.233846          |                     | 0.475385          |                     | 7.880372        |</pre>"
      ],
      "text/plain": [
       "| 2         | 1300     | 571.702913   | 0.233846          |                     | 0.475385          |                     | 7.880372        |"
      ]
     },
     "metadata": {},
     "output_type": "display_data"
    },
    {
     "data": {
      "text/html": [
       "<pre>| 2         | 1400     | 584.365500   | 0.232143          |                     | 0.470000          |                     | 7.897281        |</pre>"
      ],
      "text/plain": [
       "| 2         | 1400     | 584.365500   | 0.232143          |                     | 0.470000          |                     | 7.897281        |"
      ]
     },
     "metadata": {},
     "output_type": "display_data"
    },
    {
     "data": {
      "text/html": [
       "<pre>| 2         | 1500     | 597.092043   | 0.227333          |                     | 0.468000          |                     | 7.857592        |</pre>"
      ],
      "text/plain": [
       "| 2         | 1500     | 597.092043   | 0.227333          |                     | 0.468000          |                     | 7.857592        |"
      ]
     },
     "metadata": {},
     "output_type": "display_data"
    },
    {
     "data": {
      "text/html": [
       "<pre>| 2         | 1600     | 609.780888   | 0.225000          |                     | 0.468125          |                     | 7.880939        |</pre>"
      ],
      "text/plain": [
       "| 2         | 1600     | 609.780888   | 0.225000          |                     | 0.468125          |                     | 7.880939        |"
      ]
     },
     "metadata": {},
     "output_type": "display_data"
    },
    {
     "data": {
      "text/html": [
       "<pre>| 2         | 1700     | 622.486568   | 0.223529          |                     | 0.468235          |                     | 7.870495        |</pre>"
      ],
      "text/plain": [
       "| 2         | 1700     | 622.486568   | 0.223529          |                     | 0.468235          |                     | 7.870495        |"
      ]
     },
     "metadata": {},
     "output_type": "display_data"
    },
    {
     "data": {
      "text/html": [
       "<pre>| 2         | 1800     | 635.181060   | 0.226667          |                     | 0.468333          |                     | 7.877432        |</pre>"
      ],
      "text/plain": [
       "| 2         | 1800     | 635.181060   | 0.226667          |                     | 0.468333          |                     | 7.877432        |"
      ]
     },
     "metadata": {},
     "output_type": "display_data"
    },
    {
     "data": {
      "text/html": [
       "<pre>| 2         | 1900     | 647.880677   | 0.226316          |                     | 0.464737          |                     | 7.874253        |</pre>"
      ],
      "text/plain": [
       "| 2         | 1900     | 647.880677   | 0.226316          |                     | 0.464737          |                     | 7.874253        |"
      ]
     },
     "metadata": {},
     "output_type": "display_data"
    },
    {
     "data": {
      "text/html": [
       "<pre>| 2         | 2000     | 660.589164   | 0.230500          |                     | 0.469000          |                     | 7.868758        |</pre>"
      ],
      "text/plain": [
       "| 2         | 2000     | 660.589164   | 0.230500          |                     | 0.469000          |                     | 7.868758        |"
      ]
     },
     "metadata": {},
     "output_type": "display_data"
    },
    {
     "data": {
      "text/html": [
       "<pre>| 2         | 2100     | 673.247657   | 0.230000          |                     | 0.470952          |                     | 7.899834        |</pre>"
      ],
      "text/plain": [
       "| 2         | 2100     | 673.247657   | 0.230000          |                     | 0.470952          |                     | 7.899834        |"
      ]
     },
     "metadata": {},
     "output_type": "display_data"
    },
    {
     "data": {
      "text/html": [
       "<pre>| 2         | 2200     | 686.149393   | 0.230909          |                     | 0.470909          |                     | 7.750895        |</pre>"
      ],
      "text/plain": [
       "| 2         | 2200     | 686.149393   | 0.230909          |                     | 0.470909          |                     | 7.750895        |"
      ]
     },
     "metadata": {},
     "output_type": "display_data"
    },
    {
     "data": {
      "text/html": [
       "<pre>| 2         | 2300     | 698.923092   | 0.230435          |                     | 0.472174          |                     | 7.828585        |</pre>"
      ],
      "text/plain": [
       "| 2         | 2300     | 698.923092   | 0.230435          |                     | 0.472174          |                     | 7.828585        |"
      ]
     },
     "metadata": {},
     "output_type": "display_data"
    },
    {
     "data": {
      "text/html": [
       "<pre>| 2         | 2400     | 711.610283   | 0.231250          |                     | 0.477083          |                     | 7.881966        |</pre>"
      ],
      "text/plain": [
       "| 2         | 2400     | 711.610283   | 0.231250          |                     | 0.477083          |                     | 7.881966        |"
      ]
     },
     "metadata": {},
     "output_type": "display_data"
    },
    {
     "data": {
      "text/html": [
       "<pre>| 2         | 2500     | 724.270213   | 0.234000          |                     | 0.480400          |                     | 7.898937        |</pre>"
      ],
      "text/plain": [
       "| 2         | 2500     | 724.270213   | 0.234000          |                     | 0.480400          |                     | 7.898937        |"
      ]
     },
     "metadata": {},
     "output_type": "display_data"
    },
    {
     "data": {
      "text/html": [
       "<pre>| 2         | 2600     | 737.017468   | 0.234615          |                     | 0.480385          |                     | 7.844827        |</pre>"
      ],
      "text/plain": [
       "| 2         | 2600     | 737.017468   | 0.234615          |                     | 0.480385          |                     | 7.844827        |"
      ]
     },
     "metadata": {},
     "output_type": "display_data"
    },
    {
     "data": {
      "text/html": [
       "<pre>| 2         | 2700     | 749.703248   | 0.234444          |                     | 0.479259          |                     | 7.882843        |</pre>"
      ],
      "text/plain": [
       "| 2         | 2700     | 749.703248   | 0.234444          |                     | 0.479259          |                     | 7.882843        |"
      ]
     },
     "metadata": {},
     "output_type": "display_data"
    },
    {
     "data": {
      "text/html": [
       "<pre>| 2         | 2800     | 762.399173   | 0.233929          |                     | 0.480714          |                     | 7.876542        |</pre>"
      ],
      "text/plain": [
       "| 2         | 2800     | 762.399173   | 0.233929          |                     | 0.480714          |                     | 7.876542        |"
      ]
     },
     "metadata": {},
     "output_type": "display_data"
    },
    {
     "data": {
      "text/html": [
       "<pre>| 2         | 2900     | 775.093147   | 0.235517          |                     | 0.481724          |                     | 7.877754        |</pre>"
      ],
      "text/plain": [
       "| 2         | 2900     | 775.093147   | 0.235517          |                     | 0.481724          |                     | 7.877754        |"
      ]
     },
     "metadata": {},
     "output_type": "display_data"
    },
    {
     "data": {
      "text/html": [
       "<pre>| 2         | 3000     | 787.800568   | 0.234667          |                     | 0.482333          |                     | 7.869418        |</pre>"
      ],
      "text/plain": [
       "| 2         | 3000     | 787.800568   | 0.234667          |                     | 0.482333          |                     | 7.869418        |"
      ]
     },
     "metadata": {},
     "output_type": "display_data"
    },
    {
     "data": {
      "text/html": [
       "<pre>| 2         | 3100     | 800.514093   | 0.232581          |                     | 0.480000          |                     | 7.865639        |</pre>"
      ],
      "text/plain": [
       "| 2         | 3100     | 800.514093   | 0.232581          |                     | 0.480000          |                     | 7.865639        |"
      ]
     },
     "metadata": {},
     "output_type": "display_data"
    },
    {
     "data": {
      "text/html": [
       "<pre>| 2         | 3100     | 811.176974   | 0.232581          | 0.254658            | 0.480000          | 0.490683            | 7.865639        |</pre>"
      ],
      "text/plain": [
       "| 2         | 3100     | 811.176974   | 0.232581          | 0.254658            | 0.480000          | 0.490683            | 7.865639        |"
      ]
     },
     "metadata": {},
     "output_type": "display_data"
    },
    {
     "data": {
      "text/html": [
       "<pre>| 3         | 100      | 823.870791   | 0.200000          |                     | 0.410000          |                     | 7.877924        |</pre>"
      ],
      "text/plain": [
       "| 3         | 100      | 823.870791   | 0.200000          |                     | 0.410000          |                     | 7.877924        |"
      ]
     },
     "metadata": {},
     "output_type": "display_data"
    },
    {
     "data": {
      "text/html": [
       "<pre>| 3         | 200      | 836.558110   | 0.250000          |                     | 0.480000          |                     | 7.881886        |</pre>"
      ],
      "text/plain": [
       "| 3         | 200      | 836.558110   | 0.250000          |                     | 0.480000          |                     | 7.881886        |"
      ]
     },
     "metadata": {},
     "output_type": "display_data"
    },
    {
     "data": {
      "text/html": [
       "<pre>| 3         | 300      | 849.330364   | 0.240000          |                     | 0.476667          |                     | 7.829471        |</pre>"
      ],
      "text/plain": [
       "| 3         | 300      | 849.330364   | 0.240000          |                     | 0.476667          |                     | 7.829471        |"
      ]
     },
     "metadata": {},
     "output_type": "display_data"
    },
    {
     "data": {
      "text/html": [
       "<pre>| 3         | 400      | 862.056919   | 0.252500          |                     | 0.505000          |                     | 7.857586        |</pre>"
      ],
      "text/plain": [
       "| 3         | 400      | 862.056919   | 0.252500          |                     | 0.505000          |                     | 7.857586        |"
      ]
     },
     "metadata": {},
     "output_type": "display_data"
    },
    {
     "data": {
      "text/html": [
       "<pre>| 3         | 500      | 874.748372   | 0.266000          |                     | 0.508000          |                     | 7.879319        |</pre>"
      ],
      "text/plain": [
       "| 3         | 500      | 874.748372   | 0.266000          |                     | 0.508000          |                     | 7.879319        |"
      ]
     },
     "metadata": {},
     "output_type": "display_data"
    },
    {
     "data": {
      "text/html": [
       "<pre>| 3         | 600      | 887.454130   | 0.275000          |                     | 0.506667          |                     | 7.870447        |</pre>"
      ],
      "text/plain": [
       "| 3         | 600      | 887.454130   | 0.275000          |                     | 0.506667          |                     | 7.870447        |"
      ]
     },
     "metadata": {},
     "output_type": "display_data"
    },
    {
     "data": {
      "text/html": [
       "<pre>| 3         | 700      | 900.201767   | 0.272857          |                     | 0.497143          |                     | 7.844592        |</pre>"
      ],
      "text/plain": [
       "| 3         | 700      | 900.201767   | 0.272857          |                     | 0.497143          |                     | 7.844592        |"
      ]
     },
     "metadata": {},
     "output_type": "display_data"
    },
    {
     "data": {
      "text/html": [
       "<pre>| 3         | 800      | 912.930771   | 0.270000          |                     | 0.498750          |                     | 7.856074        |</pre>"
      ],
      "text/plain": [
       "| 3         | 800      | 912.930771   | 0.270000          |                     | 0.498750          |                     | 7.856074        |"
      ]
     },
     "metadata": {},
     "output_type": "display_data"
    },
    {
     "data": {
      "text/html": [
       "<pre>| 3         | 900      | 925.669439   | 0.271111          |                     | 0.498889          |                     | 7.850115        |</pre>"
      ],
      "text/plain": [
       "| 3         | 900      | 925.669439   | 0.271111          |                     | 0.498889          |                     | 7.850115        |"
      ]
     },
     "metadata": {},
     "output_type": "display_data"
    },
    {
     "data": {
      "text/html": [
       "<pre>| 3         | 1000     | 938.386412   | 0.267000          |                     | 0.499000          |                     | 7.863507        |</pre>"
      ],
      "text/plain": [
       "| 3         | 1000     | 938.386412   | 0.267000          |                     | 0.499000          |                     | 7.863507        |"
      ]
     },
     "metadata": {},
     "output_type": "display_data"
    },
    {
     "data": {
      "text/html": [
       "<pre>| 3         | 1100     | 951.168831   | 0.260909          |                     | 0.493636          |                     | 7.823245        |</pre>"
      ],
      "text/plain": [
       "| 3         | 1100     | 951.168831   | 0.260909          |                     | 0.493636          |                     | 7.823245        |"
      ]
     },
     "metadata": {},
     "output_type": "display_data"
    },
    {
     "data": {
      "text/html": [
       "<pre>| 3         | 1200     | 963.857396   | 0.259167          |                     | 0.492500          |                     | 7.881112        |</pre>"
      ],
      "text/plain": [
       "| 3         | 1200     | 963.857396   | 0.259167          |                     | 0.492500          |                     | 7.881112        |"
      ]
     },
     "metadata": {},
     "output_type": "display_data"
    },
    {
     "data": {
      "text/html": [
       "<pre>| 3         | 1300     | 976.554033   | 0.260000          |                     | 0.497692          |                     | 7.876101        |</pre>"
      ],
      "text/plain": [
       "| 3         | 1300     | 976.554033   | 0.260000          |                     | 0.497692          |                     | 7.876101        |"
      ]
     },
     "metadata": {},
     "output_type": "display_data"
    },
    {
     "data": {
      "text/html": [
       "<pre>| 3         | 1400     | 989.243101   | 0.256429          |                     | 0.490714          |                     | 7.880801        |</pre>"
      ],
      "text/plain": [
       "| 3         | 1400     | 989.243101   | 0.256429          |                     | 0.490714          |                     | 7.880801        |"
      ]
     },
     "metadata": {},
     "output_type": "display_data"
    },
    {
     "data": {
      "text/html": [
       "<pre>| 3         | 1500     | 1001.941524  | 0.250000          |                     | 0.487333          |                     | 7.874992        |</pre>"
      ],
      "text/plain": [
       "| 3         | 1500     | 1001.941524  | 0.250000          |                     | 0.487333          |                     | 7.874992        |"
      ]
     },
     "metadata": {},
     "output_type": "display_data"
    },
    {
     "data": {
      "text/html": [
       "<pre>| 3         | 1600     | 1014.702997  | 0.246250          |                     | 0.484375          |                     | 7.836086        |</pre>"
      ],
      "text/plain": [
       "| 3         | 1600     | 1014.702997  | 0.246250          |                     | 0.484375          |                     | 7.836086        |"
      ]
     },
     "metadata": {},
     "output_type": "display_data"
    },
    {
     "data": {
      "text/html": [
       "<pre>| 3         | 1700     | 1027.474941  | 0.243529          |                     | 0.482353          |                     | 7.829661        |</pre>"
      ],
      "text/plain": [
       "| 3         | 1700     | 1027.474941  | 0.243529          |                     | 0.482353          |                     | 7.829661        |"
      ]
     },
     "metadata": {},
     "output_type": "display_data"
    },
    {
     "data": {
      "text/html": [
       "<pre>| 3         | 1800     | 1040.173862  | 0.245556          |                     | 0.484444          |                     | 7.874684        |</pre>"
      ],
      "text/plain": [
       "| 3         | 1800     | 1040.173862  | 0.245556          |                     | 0.484444          |                     | 7.874684        |"
      ]
     },
     "metadata": {},
     "output_type": "display_data"
    },
    {
     "data": {
      "text/html": [
       "<pre>| 3         | 1900     | 1052.919964  | 0.244211          |                     | 0.480000          |                     | 7.845536        |</pre>"
      ],
      "text/plain": [
       "| 3         | 1900     | 1052.919964  | 0.244211          |                     | 0.480000          |                     | 7.845536        |"
      ]
     },
     "metadata": {},
     "output_type": "display_data"
    },
    {
     "data": {
      "text/html": [
       "<pre>| 3         | 2000     | 1065.599932  | 0.247500          |                     | 0.483500          |                     | 7.886455        |</pre>"
      ],
      "text/plain": [
       "| 3         | 2000     | 1065.599932  | 0.247500          |                     | 0.483500          |                     | 7.886455        |"
      ]
     },
     "metadata": {},
     "output_type": "display_data"
    },
    {
     "data": {
      "text/html": [
       "<pre>| 3         | 2100     | 1078.301870  | 0.246190          |                     | 0.481429          |                     | 7.872814        |</pre>"
      ],
      "text/plain": [
       "| 3         | 2100     | 1078.301870  | 0.246190          |                     | 0.481429          |                     | 7.872814        |"
      ]
     },
     "metadata": {},
     "output_type": "display_data"
    },
    {
     "data": {
      "text/html": [
       "<pre>| 3         | 2200     | 1091.005492  | 0.246364          |                     | 0.483636          |                     | 7.871771        |</pre>"
      ],
      "text/plain": [
       "| 3         | 2200     | 1091.005492  | 0.246364          |                     | 0.483636          |                     | 7.871771        |"
      ]
     },
     "metadata": {},
     "output_type": "display_data"
    },
    {
     "data": {
      "text/html": [
       "<pre>| 3         | 2300     | 1103.731920  | 0.247826          |                     | 0.485652          |                     | 7.857664        |</pre>"
      ],
      "text/plain": [
       "| 3         | 2300     | 1103.731920  | 0.247826          |                     | 0.485652          |                     | 7.857664        |"
      ]
     },
     "metadata": {},
     "output_type": "display_data"
    },
    {
     "data": {
      "text/html": [
       "<pre>| 3         | 2400     | 1116.468698  | 0.251667          |                     | 0.490000          |                     | 7.851279        |</pre>"
      ],
      "text/plain": [
       "| 3         | 2400     | 1116.468698  | 0.251667          |                     | 0.490000          |                     | 7.851279        |"
      ]
     },
     "metadata": {},
     "output_type": "display_data"
    },
    {
     "data": {
      "text/html": [
       "<pre>| 3         | 2500     | 1129.290540  | 0.252000          |                     | 0.492800          |                     | 7.799191        |</pre>"
      ],
      "text/plain": [
       "| 3         | 2500     | 1129.290540  | 0.252000          |                     | 0.492800          |                     | 7.799191        |"
      ]
     },
     "metadata": {},
     "output_type": "display_data"
    },
    {
     "data": {
      "text/html": [
       "<pre>| 3         | 2600     | 1141.978586  | 0.251923          |                     | 0.492308          |                     | 7.881435        |</pre>"
      ],
      "text/plain": [
       "| 3         | 2600     | 1141.978586  | 0.251923          |                     | 0.492308          |                     | 7.881435        |"
      ]
     },
     "metadata": {},
     "output_type": "display_data"
    },
    {
     "data": {
      "text/html": [
       "<pre>| 3         | 2700     | 1154.642778  | 0.251111          |                     | 0.490741          |                     | 7.896279        |</pre>"
      ],
      "text/plain": [
       "| 3         | 2700     | 1154.642778  | 0.251111          |                     | 0.490741          |                     | 7.896279        |"
      ]
     },
     "metadata": {},
     "output_type": "display_data"
    },
    {
     "data": {
      "text/html": [
       "<pre>| 3         | 2800     | 1167.321065  | 0.250000          |                     | 0.491786          |                     | 7.887500        |</pre>"
      ],
      "text/plain": [
       "| 3         | 2800     | 1167.321065  | 0.250000          |                     | 0.491786          |                     | 7.887500        |"
      ]
     },
     "metadata": {},
     "output_type": "display_data"
    },
    {
     "data": {
      "text/html": [
       "<pre>| 3         | 2900     | 1180.012661  | 0.251034          |                     | 0.492414          |                     | 7.879230        |</pre>"
      ],
      "text/plain": [
       "| 3         | 2900     | 1180.012661  | 0.251034          |                     | 0.492414          |                     | 7.879230        |"
      ]
     },
     "metadata": {},
     "output_type": "display_data"
    },
    {
     "data": {
      "text/html": [
       "<pre>| 3         | 3000     | 1192.688191  | 0.249667          |                     | 0.492667          |                     | 7.889216        |</pre>"
      ],
      "text/plain": [
       "| 3         | 3000     | 1192.688191  | 0.249667          |                     | 0.492667          |                     | 7.889216        |"
      ]
     },
     "metadata": {},
     "output_type": "display_data"
    },
    {
     "data": {
      "text/html": [
       "<pre>| 3         | 3100     | 1205.472060  | 0.247097          |                     | 0.490000          |                     | 7.822358        |</pre>"
      ],
      "text/plain": [
       "| 3         | 3100     | 1205.472060  | 0.247097          |                     | 0.490000          |                     | 7.822358        |"
      ]
     },
     "metadata": {},
     "output_type": "display_data"
    },
    {
     "data": {
      "text/html": [
       "<pre>| 3         | 3100     | 1216.128330  | 0.247097          | 0.254658            | 0.490000          | 0.490683            | 7.822358        |</pre>"
      ],
      "text/plain": [
       "| 3         | 3100     | 1216.128330  | 0.247097          | 0.254658            | 0.490000          | 0.490683            | 7.822358        |"
      ]
     },
     "metadata": {},
     "output_type": "display_data"
    },
    {
     "data": {
      "text/html": [
       "<pre>+-----------+----------+--------------+-------------------+---------------------+-------------------+---------------------+-----------------+</pre>"
      ],
      "text/plain": [
       "+-----------+----------+--------------+-------------------+---------------------+-------------------+---------------------+-----------------+"
      ]
     },
     "metadata": {},
     "output_type": "display_data"
    }
   ],
   "source": [
    "nettest_d = gl.deeplearning.create(X_train_d_sf[[\"X1\", \"labels\"]], target=\"labels\")\n",
    "nn_nnettest_d = gl.neuralnet_classifier.create(X_train_d_sf[[\"X1\", \"labels\"]], target='labels', network = conv_net_d, metric=['accuracy', 'recall@2'], max_iterations=3)"
   ]
  },
  {
   "cell_type": "code",
   "execution_count": 225,
   "metadata": {
    "collapsed": false
   },
   "outputs": [
    {
     "data": {
      "text/plain": [
       "{'accuracy': 0.24375000596046448, 'confusion_matrix': Columns:\n",
       " \ttarget_label\tint\n",
       " \tpredicted_label\tint\n",
       " \tcount\tint\n",
       " \n",
       " Rows: 4\n",
       " \n",
       " Data:\n",
       " +--------------+-----------------+-------+\n",
       " | target_label | predicted_label | count |\n",
       " +--------------+-----------------+-------+\n",
       " |     1980     |       2010      |  199  |\n",
       " |     1990     |       2010      |  210  |\n",
       " |     2000     |       2010      |  196  |\n",
       " |     2010     |       2010      |  195  |\n",
       " +--------------+-----------------+-------+\n",
       " [4 rows x 3 columns]}"
      ]
     },
     "execution_count": 225,
     "metadata": {},
     "output_type": "execute_result"
    }
   ],
   "source": [
    "nn_nnettest_d.evaluate(X_test_d_sf)"
   ]
  },
  {
   "cell_type": "markdown",
   "metadata": {},
   "source": [
    "This doesn't seem too successful for decade only... might be better to stick with original nn.\n",
    "\n",
    "Also had tried to run this for with a few variations that aren't seen here - 1 convolution net vs 2, 7 hidden layers vs 5,4,3,2 with different hidden units."
   ]
  },
  {
   "cell_type": "markdown",
   "metadata": {},
   "source": [
    "### 5. KNN"
   ]
  },
  {
   "cell_type": "markdown",
   "metadata": {},
   "source": [
    "try extracted features from nn"
   ]
  },
  {
   "cell_type": "code",
   "execution_count": 98,
   "metadata": {
    "collapsed": false
   },
   "outputs": [
    {
     "data": {
      "text/html": [
       "<pre>Starting ball tree nearest neighbors model training.</pre>"
      ],
      "text/plain": [
       "Starting ball tree nearest neighbors model training."
      ]
     },
     "metadata": {},
     "output_type": "display_data"
    },
    {
     "data": {
      "text/html": [
       "<pre>+------------+--------------+</pre>"
      ],
      "text/plain": [
       "+------------+--------------+"
      ]
     },
     "metadata": {},
     "output_type": "display_data"
    },
    {
     "data": {
      "text/html": [
       "<pre>| Tree level | Elapsed Time |</pre>"
      ],
      "text/plain": [
       "| Tree level | Elapsed Time |"
      ]
     },
     "metadata": {},
     "output_type": "display_data"
    },
    {
     "data": {
      "text/html": [
       "<pre>+------------+--------------+</pre>"
      ],
      "text/plain": [
       "+------------+--------------+"
      ]
     },
     "metadata": {},
     "output_type": "display_data"
    },
    {
     "data": {
      "text/html": [
       "<pre>| 0          | 109.852ms    |</pre>"
      ],
      "text/plain": [
       "| 0          | 109.852ms    |"
      ]
     },
     "metadata": {},
     "output_type": "display_data"
    },
    {
     "data": {
      "text/html": [
       "<pre>| 1          | 197.157ms    |</pre>"
      ],
      "text/plain": [
       "| 1          | 197.157ms    |"
      ]
     },
     "metadata": {},
     "output_type": "display_data"
    },
    {
     "data": {
      "text/html": [
       "<pre>| 2          | 265.954ms    |</pre>"
      ],
      "text/plain": [
       "| 2          | 265.954ms    |"
      ]
     },
     "metadata": {},
     "output_type": "display_data"
    },
    {
     "data": {
      "text/html": [
       "<pre>| 3          | 333.45ms     |</pre>"
      ],
      "text/plain": [
       "| 3          | 333.45ms     |"
      ]
     },
     "metadata": {},
     "output_type": "display_data"
    },
    {
     "data": {
      "text/html": [
       "<pre>| 4          | 367.421ms    |</pre>"
      ],
      "text/plain": [
       "| 4          | 367.421ms    |"
      ]
     },
     "metadata": {},
     "output_type": "display_data"
    },
    {
     "data": {
      "text/html": [
       "<pre>+------------+--------------+</pre>"
      ],
      "text/plain": [
       "+------------+--------------+"
      ]
     },
     "metadata": {},
     "output_type": "display_data"
    }
   ],
   "source": [
    "knn_g_ft = gl.nearest_neighbor_classifier.create(X_train_g_sf[[\"labels\", \"feat_test\"]], \"labels\")"
   ]
  },
  {
   "cell_type": "code",
   "execution_count": 103,
   "metadata": {
    "collapsed": false
   },
   "outputs": [
    {
     "name": "stdout",
     "output_type": "stream",
     "text": [
      "WARNING: Ignoring `roc_curve`. Not supported for multi-class classification.\n"
     ]
    },
    {
     "data": {
      "text/html": [
       "<pre>+--------------+-------------+--------------+</pre>"
      ],
      "text/plain": [
       "+--------------+-------------+--------------+"
      ]
     },
     "metadata": {},
     "output_type": "display_data"
    },
    {
     "data": {
      "text/html": [
       "<pre>| Query points | % Complete. | Elapsed Time |</pre>"
      ],
      "text/plain": [
       "| Query points | % Complete. | Elapsed Time |"
      ]
     },
     "metadata": {},
     "output_type": "display_data"
    },
    {
     "data": {
      "text/html": [
       "<pre>+--------------+-------------+--------------+</pre>"
      ],
      "text/plain": [
       "+--------------+-------------+--------------+"
      ]
     },
     "metadata": {},
     "output_type": "display_data"
    },
    {
     "data": {
      "text/html": [
       "<pre>| 1            | 0           | 140.631ms    |</pre>"
      ],
      "text/plain": [
       "| 1            | 0           | 140.631ms    |"
      ]
     },
     "metadata": {},
     "output_type": "display_data"
    },
    {
     "data": {
      "text/html": [
       "<pre>| 33           | 1.5         | 1.21s        |</pre>"
      ],
      "text/plain": [
       "| 33           | 1.5         | 1.21s        |"
      ]
     },
     "metadata": {},
     "output_type": "display_data"
    },
    {
     "data": {
      "text/html": [
       "<pre>| 61           | 2.75        | 2.19s        |</pre>"
      ],
      "text/plain": [
       "| 61           | 2.75        | 2.19s        |"
      ]
     },
     "metadata": {},
     "output_type": "display_data"
    },
    {
     "data": {
      "text/html": [
       "<pre>| 96           | 4.5         | 3.14s        |</pre>"
      ],
      "text/plain": [
       "| 96           | 4.5         | 3.14s        |"
      ]
     },
     "metadata": {},
     "output_type": "display_data"
    },
    {
     "data": {
      "text/html": [
       "<pre>| 135          | 6.25        | 4.18s        |</pre>"
      ],
      "text/plain": [
       "| 135          | 6.25        | 4.18s        |"
      ]
     },
     "metadata": {},
     "output_type": "display_data"
    },
    {
     "data": {
      "text/html": [
       "<pre>| 171          | 8           | 5.14s        |</pre>"
      ],
      "text/plain": [
       "| 171          | 8           | 5.14s        |"
      ]
     },
     "metadata": {},
     "output_type": "display_data"
    },
    {
     "data": {
      "text/html": [
       "<pre>| 208          | 10          | 6.22s        |</pre>"
      ],
      "text/plain": [
       "| 208          | 10          | 6.22s        |"
      ]
     },
     "metadata": {},
     "output_type": "display_data"
    },
    {
     "data": {
      "text/html": [
       "<pre>| 242          | 11.5        | 7.16s        |</pre>"
      ],
      "text/plain": [
       "| 242          | 11.5        | 7.16s        |"
      ]
     },
     "metadata": {},
     "output_type": "display_data"
    },
    {
     "data": {
      "text/html": [
       "<pre>| 278          | 13.25       | 8.15s        |</pre>"
      ],
      "text/plain": [
       "| 278          | 13.25       | 8.15s        |"
      ]
     },
     "metadata": {},
     "output_type": "display_data"
    },
    {
     "data": {
      "text/html": [
       "<pre>| 317          | 15          | 9.15s        |</pre>"
      ],
      "text/plain": [
       "| 317          | 15          | 9.15s        |"
      ]
     },
     "metadata": {},
     "output_type": "display_data"
    },
    {
     "data": {
      "text/html": [
       "<pre>| 351          | 16.75       | 10.19s       |</pre>"
      ],
      "text/plain": [
       "| 351          | 16.75       | 10.19s       |"
      ]
     },
     "metadata": {},
     "output_type": "display_data"
    },
    {
     "data": {
      "text/html": [
       "<pre>| 386          | 18.5        | 11.20s       |</pre>"
      ],
      "text/plain": [
       "| 386          | 18.5        | 11.20s       |"
      ]
     },
     "metadata": {},
     "output_type": "display_data"
    },
    {
     "data": {
      "text/html": [
       "<pre>| 421          | 20          | 12.14s       |</pre>"
      ],
      "text/plain": [
       "| 421          | 20          | 12.14s       |"
      ]
     },
     "metadata": {},
     "output_type": "display_data"
    },
    {
     "data": {
      "text/html": [
       "<pre>| 458          | 22          | 13.15s       |</pre>"
      ],
      "text/plain": [
       "| 458          | 22          | 13.15s       |"
      ]
     },
     "metadata": {},
     "output_type": "display_data"
    },
    {
     "data": {
      "text/html": [
       "<pre>| 496          | 23.75       | 14.22s       |</pre>"
      ],
      "text/plain": [
       "| 496          | 23.75       | 14.22s       |"
      ]
     },
     "metadata": {},
     "output_type": "display_data"
    },
    {
     "data": {
      "text/html": [
       "<pre>| 527          | 25.25       | 15.15s       |</pre>"
      ],
      "text/plain": [
       "| 527          | 25.25       | 15.15s       |"
      ]
     },
     "metadata": {},
     "output_type": "display_data"
    },
    {
     "data": {
      "text/html": [
       "<pre>| 569          | 27.25       | 16.22s       |</pre>"
      ],
      "text/plain": [
       "| 569          | 27.25       | 16.22s       |"
      ]
     },
     "metadata": {},
     "output_type": "display_data"
    },
    {
     "data": {
      "text/html": [
       "<pre>| 606          | 29          | 17.17s       |</pre>"
      ],
      "text/plain": [
       "| 606          | 29          | 17.17s       |"
      ]
     },
     "metadata": {},
     "output_type": "display_data"
    },
    {
     "data": {
      "text/html": [
       "<pre>| 644          | 30.75       | 18.15s       |</pre>"
      ],
      "text/plain": [
       "| 644          | 30.75       | 18.15s       |"
      ]
     },
     "metadata": {},
     "output_type": "display_data"
    },
    {
     "data": {
      "text/html": [
       "<pre>| 683          | 32.75       | 19.15s       |</pre>"
      ],
      "text/plain": [
       "| 683          | 32.75       | 19.15s       |"
      ]
     },
     "metadata": {},
     "output_type": "display_data"
    },
    {
     "data": {
      "text/html": [
       "<pre>| 716          | 34.25       | 20.16s       |</pre>"
      ],
      "text/plain": [
       "| 716          | 34.25       | 20.16s       |"
      ]
     },
     "metadata": {},
     "output_type": "display_data"
    },
    {
     "data": {
      "text/html": [
       "<pre>| 747          | 35.75       | 21.15s       |</pre>"
      ],
      "text/plain": [
       "| 747          | 35.75       | 21.15s       |"
      ]
     },
     "metadata": {},
     "output_type": "display_data"
    },
    {
     "data": {
      "text/html": [
       "<pre>| 783          | 37.5        | 22.22s       |</pre>"
      ],
      "text/plain": [
       "| 783          | 37.5        | 22.22s       |"
      ]
     },
     "metadata": {},
     "output_type": "display_data"
    },
    {
     "data": {
      "text/html": [
       "<pre>| 816          | 39          | 23.15s       |</pre>"
      ],
      "text/plain": [
       "| 816          | 39          | 23.15s       |"
      ]
     },
     "metadata": {},
     "output_type": "display_data"
    },
    {
     "data": {
      "text/html": [
       "<pre>| 846          | 40.5        | 24.19s       |</pre>"
      ],
      "text/plain": [
       "| 846          | 40.5        | 24.19s       |"
      ]
     },
     "metadata": {},
     "output_type": "display_data"
    },
    {
     "data": {
      "text/html": [
       "<pre>| 867          | 41.5        | 25.17s       |</pre>"
      ],
      "text/plain": [
       "| 867          | 41.5        | 25.17s       |"
      ]
     },
     "metadata": {},
     "output_type": "display_data"
    },
    {
     "data": {
      "text/html": [
       "<pre>| 893          | 42.75       | 26.17s       |</pre>"
      ],
      "text/plain": [
       "| 893          | 42.75       | 26.17s       |"
      ]
     },
     "metadata": {},
     "output_type": "display_data"
    },
    {
     "data": {
      "text/html": [
       "<pre>| 922          | 44.25       | 27.19s       |</pre>"
      ],
      "text/plain": [
       "| 922          | 44.25       | 27.19s       |"
      ]
     },
     "metadata": {},
     "output_type": "display_data"
    },
    {
     "data": {
      "text/html": [
       "<pre>| 954          | 45.75       | 28.19s       |</pre>"
      ],
      "text/plain": [
       "| 954          | 45.75       | 28.19s       |"
      ]
     },
     "metadata": {},
     "output_type": "display_data"
    },
    {
     "data": {
      "text/html": [
       "<pre>| 986          | 47.25       | 29.21s       |</pre>"
      ],
      "text/plain": [
       "| 986          | 47.25       | 29.21s       |"
      ]
     },
     "metadata": {},
     "output_type": "display_data"
    },
    {
     "data": {
      "text/html": [
       "<pre>| 1026         | 49.25       | 30.18s       |</pre>"
      ],
      "text/plain": [
       "| 1026         | 49.25       | 30.18s       |"
      ]
     },
     "metadata": {},
     "output_type": "display_data"
    },
    {
     "data": {
      "text/html": [
       "<pre>| 1062         | 51          | 31.15s       |</pre>"
      ],
      "text/plain": [
       "| 1062         | 51          | 31.15s       |"
      ]
     },
     "metadata": {},
     "output_type": "display_data"
    },
    {
     "data": {
      "text/html": [
       "<pre>| 1102         | 52.75       | 32.21s       |</pre>"
      ],
      "text/plain": [
       "| 1102         | 52.75       | 32.21s       |"
      ]
     },
     "metadata": {},
     "output_type": "display_data"
    },
    {
     "data": {
      "text/html": [
       "<pre>| 1135         | 54.5        | 33.20s       |</pre>"
      ],
      "text/plain": [
       "| 1135         | 54.5        | 33.20s       |"
      ]
     },
     "metadata": {},
     "output_type": "display_data"
    },
    {
     "data": {
      "text/html": [
       "<pre>| 1171         | 56.25       | 34.17s       |</pre>"
      ],
      "text/plain": [
       "| 1171         | 56.25       | 34.17s       |"
      ]
     },
     "metadata": {},
     "output_type": "display_data"
    },
    {
     "data": {
      "text/html": [
       "<pre>| 1205         | 57.75       | 35.17s       |</pre>"
      ],
      "text/plain": [
       "| 1205         | 57.75       | 35.17s       |"
      ]
     },
     "metadata": {},
     "output_type": "display_data"
    },
    {
     "data": {
      "text/html": [
       "<pre>| 1234         | 59.25       | 36.21s       |</pre>"
      ],
      "text/plain": [
       "| 1234         | 59.25       | 36.21s       |"
      ]
     },
     "metadata": {},
     "output_type": "display_data"
    },
    {
     "data": {
      "text/html": [
       "<pre>| 1266         | 60.75       | 37.18s       |</pre>"
      ],
      "text/plain": [
       "| 1266         | 60.75       | 37.18s       |"
      ]
     },
     "metadata": {},
     "output_type": "display_data"
    },
    {
     "data": {
      "text/html": [
       "<pre>| 1303         | 62.5        | 38.16s       |</pre>"
      ],
      "text/plain": [
       "| 1303         | 62.5        | 38.16s       |"
      ]
     },
     "metadata": {},
     "output_type": "display_data"
    },
    {
     "data": {
      "text/html": [
       "<pre>| 1340         | 64.25       | 39.20s       |</pre>"
      ],
      "text/plain": [
       "| 1340         | 64.25       | 39.20s       |"
      ]
     },
     "metadata": {},
     "output_type": "display_data"
    },
    {
     "data": {
      "text/html": [
       "<pre>| 1381         | 66.25       | 40.18s       |</pre>"
      ],
      "text/plain": [
       "| 1381         | 66.25       | 40.18s       |"
      ]
     },
     "metadata": {},
     "output_type": "display_data"
    },
    {
     "data": {
      "text/html": [
       "<pre>| 1408         | 67.5        | 41.17s       |</pre>"
      ],
      "text/plain": [
       "| 1408         | 67.5        | 41.17s       |"
      ]
     },
     "metadata": {},
     "output_type": "display_data"
    },
    {
     "data": {
      "text/html": [
       "<pre>| 1440         | 69          | 42.16s       |</pre>"
      ],
      "text/plain": [
       "| 1440         | 69          | 42.16s       |"
      ]
     },
     "metadata": {},
     "output_type": "display_data"
    },
    {
     "data": {
      "text/html": [
       "<pre>| 1475         | 70.75       | 43.16s       |</pre>"
      ],
      "text/plain": [
       "| 1475         | 70.75       | 43.16s       |"
      ]
     },
     "metadata": {},
     "output_type": "display_data"
    },
    {
     "data": {
      "text/html": [
       "<pre>| 1512         | 72.5        | 44.17s       |</pre>"
      ],
      "text/plain": [
       "| 1512         | 72.5        | 44.17s       |"
      ]
     },
     "metadata": {},
     "output_type": "display_data"
    },
    {
     "data": {
      "text/html": [
       "<pre>| 1548         | 74.25       | 45.21s       |</pre>"
      ],
      "text/plain": [
       "| 1548         | 74.25       | 45.21s       |"
      ]
     },
     "metadata": {},
     "output_type": "display_data"
    },
    {
     "data": {
      "text/html": [
       "<pre>| 1584         | 76          | 46.18s       |</pre>"
      ],
      "text/plain": [
       "| 1584         | 76          | 46.18s       |"
      ]
     },
     "metadata": {},
     "output_type": "display_data"
    },
    {
     "data": {
      "text/html": [
       "<pre>| 1623         | 78          | 47.19s       |</pre>"
      ],
      "text/plain": [
       "| 1623         | 78          | 47.19s       |"
      ]
     },
     "metadata": {},
     "output_type": "display_data"
    },
    {
     "data": {
      "text/html": [
       "<pre>| 1657         | 79.5        | 48.16s       |</pre>"
      ],
      "text/plain": [
       "| 1657         | 79.5        | 48.16s       |"
      ]
     },
     "metadata": {},
     "output_type": "display_data"
    },
    {
     "data": {
      "text/html": [
       "<pre>| 1694         | 81.25       | 49.20s       |</pre>"
      ],
      "text/plain": [
       "| 1694         | 81.25       | 49.20s       |"
      ]
     },
     "metadata": {},
     "output_type": "display_data"
    },
    {
     "data": {
      "text/html": [
       "<pre>| 1733         | 83.25       | 50.18s       |</pre>"
      ],
      "text/plain": [
       "| 1733         | 83.25       | 50.18s       |"
      ]
     },
     "metadata": {},
     "output_type": "display_data"
    },
    {
     "data": {
      "text/html": [
       "<pre>| 1769         | 85          | 51.16s       |</pre>"
      ],
      "text/plain": [
       "| 1769         | 85          | 51.16s       |"
      ]
     },
     "metadata": {},
     "output_type": "display_data"
    },
    {
     "data": {
      "text/html": [
       "<pre>| 1808         | 86.75       | 52.17s       |</pre>"
      ],
      "text/plain": [
       "| 1808         | 86.75       | 52.17s       |"
      ]
     },
     "metadata": {},
     "output_type": "display_data"
    },
    {
     "data": {
      "text/html": [
       "<pre>| 1847         | 88.75       | 53.17s       |</pre>"
      ],
      "text/plain": [
       "| 1847         | 88.75       | 53.17s       |"
      ]
     },
     "metadata": {},
     "output_type": "display_data"
    },
    {
     "data": {
      "text/html": [
       "<pre>| 1889         | 90.75       | 54.16s       |</pre>"
      ],
      "text/plain": [
       "| 1889         | 90.75       | 54.16s       |"
      ]
     },
     "metadata": {},
     "output_type": "display_data"
    },
    {
     "data": {
      "text/html": [
       "<pre>| 1932         | 92.75       | 55.18s       |</pre>"
      ],
      "text/plain": [
       "| 1932         | 92.75       | 55.18s       |"
      ]
     },
     "metadata": {},
     "output_type": "display_data"
    },
    {
     "data": {
      "text/html": [
       "<pre>| 1972         | 94.75       | 56.22s       |</pre>"
      ],
      "text/plain": [
       "| 1972         | 94.75       | 56.22s       |"
      ]
     },
     "metadata": {},
     "output_type": "display_data"
    },
    {
     "data": {
      "text/html": [
       "<pre>| 2011         | 96.5        | 57.23s       |</pre>"
      ],
      "text/plain": [
       "| 2011         | 96.5        | 57.23s       |"
      ]
     },
     "metadata": {},
     "output_type": "display_data"
    },
    {
     "data": {
      "text/html": [
       "<pre>| 2052         | 98.5        | 58.17s       |</pre>"
      ],
      "text/plain": [
       "| 2052         | 98.5        | 58.17s       |"
      ]
     },
     "metadata": {},
     "output_type": "display_data"
    },
    {
     "data": {
      "text/html": [
       "<pre>| Done         |             | 59.00s       |</pre>"
      ],
      "text/plain": [
       "| Done         |             | 59.00s       |"
      ]
     },
     "metadata": {},
     "output_type": "display_data"
    },
    {
     "data": {
      "text/html": [
       "<pre>+--------------+-------------+--------------+</pre>"
      ],
      "text/plain": [
       "+--------------+-------------+--------------+"
      ]
     },
     "metadata": {},
     "output_type": "display_data"
    },
    {
     "data": {
      "text/html": [
       "<pre>+--------------+-------------+--------------+</pre>"
      ],
      "text/plain": [
       "+--------------+-------------+--------------+"
      ]
     },
     "metadata": {},
     "output_type": "display_data"
    },
    {
     "data": {
      "text/html": [
       "<pre>| Query points | % Complete. | Elapsed Time |</pre>"
      ],
      "text/plain": [
       "| Query points | % Complete. | Elapsed Time |"
      ]
     },
     "metadata": {},
     "output_type": "display_data"
    },
    {
     "data": {
      "text/html": [
       "<pre>+--------------+-------------+--------------+</pre>"
      ],
      "text/plain": [
       "+--------------+-------------+--------------+"
      ]
     },
     "metadata": {},
     "output_type": "display_data"
    },
    {
     "data": {
      "text/html": [
       "<pre>| 1            | 0           | 186.812ms    |</pre>"
      ],
      "text/plain": [
       "| 1            | 0           | 186.812ms    |"
      ]
     },
     "metadata": {},
     "output_type": "display_data"
    },
    {
     "data": {
      "text/html": [
       "<pre>| 31           | 1.25        | 1.27s        |</pre>"
      ],
      "text/plain": [
       "| 31           | 1.25        | 1.27s        |"
      ]
     },
     "metadata": {},
     "output_type": "display_data"
    },
    {
     "data": {
      "text/html": [
       "<pre>| 57           | 2.5         | 2.22s        |</pre>"
      ],
      "text/plain": [
       "| 57           | 2.5         | 2.22s        |"
      ]
     },
     "metadata": {},
     "output_type": "display_data"
    },
    {
     "data": {
      "text/html": [
       "<pre>| 101          | 4.75        | 3.19s        |</pre>"
      ],
      "text/plain": [
       "| 101          | 4.75        | 3.19s        |"
      ]
     },
     "metadata": {},
     "output_type": "display_data"
    },
    {
     "data": {
      "text/html": [
       "<pre>| 134          | 6.25        | 4.20s        |</pre>"
      ],
      "text/plain": [
       "| 134          | 6.25        | 4.20s        |"
      ]
     },
     "metadata": {},
     "output_type": "display_data"
    },
    {
     "data": {
      "text/html": [
       "<pre>| 168          | 8           | 5.19s        |</pre>"
      ],
      "text/plain": [
       "| 168          | 8           | 5.19s        |"
      ]
     },
     "metadata": {},
     "output_type": "display_data"
    },
    {
     "data": {
      "text/html": [
       "<pre>| 207          | 9.75        | 6.20s        |</pre>"
      ],
      "text/plain": [
       "| 207          | 9.75        | 6.20s        |"
      ]
     },
     "metadata": {},
     "output_type": "display_data"
    },
    {
     "data": {
      "text/html": [
       "<pre>| 245          | 11.75       | 7.20s        |</pre>"
      ],
      "text/plain": [
       "| 245          | 11.75       | 7.20s        |"
      ]
     },
     "metadata": {},
     "output_type": "display_data"
    },
    {
     "data": {
      "text/html": [
       "<pre>| 287          | 13.75       | 8.19s        |</pre>"
      ],
      "text/plain": [
       "| 287          | 13.75       | 8.19s        |"
      ]
     },
     "metadata": {},
     "output_type": "display_data"
    },
    {
     "data": {
      "text/html": [
       "<pre>| 327          | 15.5        | 9.19s        |</pre>"
      ],
      "text/plain": [
       "| 327          | 15.5        | 9.19s        |"
      ]
     },
     "metadata": {},
     "output_type": "display_data"
    },
    {
     "data": {
      "text/html": [
       "<pre>| 361          | 17.25       | 10.19s       |</pre>"
      ],
      "text/plain": [
       "| 361          | 17.25       | 10.19s       |"
      ]
     },
     "metadata": {},
     "output_type": "display_data"
    },
    {
     "data": {
      "text/html": [
       "<pre>| 399          | 19          | 11.20s       |</pre>"
      ],
      "text/plain": [
       "| 399          | 19          | 11.20s       |"
      ]
     },
     "metadata": {},
     "output_type": "display_data"
    },
    {
     "data": {
      "text/html": [
       "<pre>| 439          | 21          | 12.19s       |</pre>"
      ],
      "text/plain": [
       "| 439          | 21          | 12.19s       |"
      ]
     },
     "metadata": {},
     "output_type": "display_data"
    },
    {
     "data": {
      "text/html": [
       "<pre>| 477          | 22.75       | 13.19s       |</pre>"
      ],
      "text/plain": [
       "| 477          | 22.75       | 13.19s       |"
      ]
     },
     "metadata": {},
     "output_type": "display_data"
    },
    {
     "data": {
      "text/html": [
       "<pre>| 511          | 24.5        | 14.19s       |</pre>"
      ],
      "text/plain": [
       "| 511          | 24.5        | 14.19s       |"
      ]
     },
     "metadata": {},
     "output_type": "display_data"
    },
    {
     "data": {
      "text/html": [
       "<pre>| 547          | 26.25       | 15.22s       |</pre>"
      ],
      "text/plain": [
       "| 547          | 26.25       | 15.22s       |"
      ]
     },
     "metadata": {},
     "output_type": "display_data"
    },
    {
     "data": {
      "text/html": [
       "<pre>| 587          | 28          | 16.21s       |</pre>"
      ],
      "text/plain": [
       "| 587          | 28          | 16.21s       |"
      ]
     },
     "metadata": {},
     "output_type": "display_data"
    },
    {
     "data": {
      "text/html": [
       "<pre>| 628          | 30          | 17.22s       |</pre>"
      ],
      "text/plain": [
       "| 628          | 30          | 17.22s       |"
      ]
     },
     "metadata": {},
     "output_type": "display_data"
    },
    {
     "data": {
      "text/html": [
       "<pre>| 668          | 32          | 18.20s       |</pre>"
      ],
      "text/plain": [
       "| 668          | 32          | 18.20s       |"
      ]
     },
     "metadata": {},
     "output_type": "display_data"
    },
    {
     "data": {
      "text/html": [
       "<pre>| 708          | 34          | 19.21s       |</pre>"
      ],
      "text/plain": [
       "| 708          | 34          | 19.21s       |"
      ]
     },
     "metadata": {},
     "output_type": "display_data"
    },
    {
     "data": {
      "text/html": [
       "<pre>| 746          | 35.75       | 20.23s       |</pre>"
      ],
      "text/plain": [
       "| 746          | 35.75       | 20.23s       |"
      ]
     },
     "metadata": {},
     "output_type": "display_data"
    },
    {
     "data": {
      "text/html": [
       "<pre>| 787          | 37.75       | 21.23s       |</pre>"
      ],
      "text/plain": [
       "| 787          | 37.75       | 21.23s       |"
      ]
     },
     "metadata": {},
     "output_type": "display_data"
    },
    {
     "data": {
      "text/html": [
       "<pre>| 818          | 39.25       | 22.20s       |</pre>"
      ],
      "text/plain": [
       "| 818          | 39.25       | 22.20s       |"
      ]
     },
     "metadata": {},
     "output_type": "display_data"
    },
    {
     "data": {
      "text/html": [
       "<pre>| 858          | 41.25       | 23.22s       |</pre>"
      ],
      "text/plain": [
       "| 858          | 41.25       | 23.22s       |"
      ]
     },
     "metadata": {},
     "output_type": "display_data"
    },
    {
     "data": {
      "text/html": [
       "<pre>| 898          | 43          | 24.21s       |</pre>"
      ],
      "text/plain": [
       "| 898          | 43          | 24.21s       |"
      ]
     },
     "metadata": {},
     "output_type": "display_data"
    },
    {
     "data": {
      "text/html": [
       "<pre>| 932          | 44.75       | 25.22s       |</pre>"
      ],
      "text/plain": [
       "| 932          | 44.75       | 25.22s       |"
      ]
     },
     "metadata": {},
     "output_type": "display_data"
    },
    {
     "data": {
      "text/html": [
       "<pre>| 971          | 46.5        | 26.20s       |</pre>"
      ],
      "text/plain": [
       "| 971          | 46.5        | 26.20s       |"
      ]
     },
     "metadata": {},
     "output_type": "display_data"
    },
    {
     "data": {
      "text/html": [
       "<pre>| 1013         | 48.5        | 27.22s       |</pre>"
      ],
      "text/plain": [
       "| 1013         | 48.5        | 27.22s       |"
      ]
     },
     "metadata": {},
     "output_type": "display_data"
    },
    {
     "data": {
      "text/html": [
       "<pre>| 1051         | 50.5        | 28.20s       |</pre>"
      ],
      "text/plain": [
       "| 1051         | 50.5        | 28.20s       |"
      ]
     },
     "metadata": {},
     "output_type": "display_data"
    },
    {
     "data": {
      "text/html": [
       "<pre>| 1087         | 52.25       | 29.25s       |</pre>"
      ],
      "text/plain": [
       "| 1087         | 52.25       | 29.25s       |"
      ]
     },
     "metadata": {},
     "output_type": "display_data"
    },
    {
     "data": {
      "text/html": [
       "<pre>| 1123         | 53.75       | 30.20s       |</pre>"
      ],
      "text/plain": [
       "| 1123         | 53.75       | 30.20s       |"
      ]
     },
     "metadata": {},
     "output_type": "display_data"
    },
    {
     "data": {
      "text/html": [
       "<pre>| 1160         | 55.75       | 31.21s       |</pre>"
      ],
      "text/plain": [
       "| 1160         | 55.75       | 31.21s       |"
      ]
     },
     "metadata": {},
     "output_type": "display_data"
    },
    {
     "data": {
      "text/html": [
       "<pre>| 1190         | 57          | 32.27s       |</pre>"
      ],
      "text/plain": [
       "| 1190         | 57          | 32.27s       |"
      ]
     },
     "metadata": {},
     "output_type": "display_data"
    },
    {
     "data": {
      "text/html": [
       "<pre>| 1229         | 59          | 33.22s       |</pre>"
      ],
      "text/plain": [
       "| 1229         | 59          | 33.22s       |"
      ]
     },
     "metadata": {},
     "output_type": "display_data"
    },
    {
     "data": {
      "text/html": [
       "<pre>| 1260         | 60.5        | 34.22s       |</pre>"
      ],
      "text/plain": [
       "| 1260         | 60.5        | 34.22s       |"
      ]
     },
     "metadata": {},
     "output_type": "display_data"
    },
    {
     "data": {
      "text/html": [
       "<pre>| 1292         | 62          | 35.21s       |</pre>"
      ],
      "text/plain": [
       "| 1292         | 62          | 35.21s       |"
      ]
     },
     "metadata": {},
     "output_type": "display_data"
    },
    {
     "data": {
      "text/html": [
       "<pre>| 1331         | 63.75       | 36.27s       |</pre>"
      ],
      "text/plain": [
       "| 1331         | 63.75       | 36.27s       |"
      ]
     },
     "metadata": {},
     "output_type": "display_data"
    },
    {
     "data": {
      "text/html": [
       "<pre>| 1369         | 65.75       | 37.28s       |</pre>"
      ],
      "text/plain": [
       "| 1369         | 65.75       | 37.28s       |"
      ]
     },
     "metadata": {},
     "output_type": "display_data"
    },
    {
     "data": {
      "text/html": [
       "<pre>| 1405         | 67.5        | 38.22s       |</pre>"
      ],
      "text/plain": [
       "| 1405         | 67.5        | 38.22s       |"
      ]
     },
     "metadata": {},
     "output_type": "display_data"
    },
    {
     "data": {
      "text/html": [
       "<pre>| 1442         | 69.25       | 39.23s       |</pre>"
      ],
      "text/plain": [
       "| 1442         | 69.25       | 39.23s       |"
      ]
     },
     "metadata": {},
     "output_type": "display_data"
    },
    {
     "data": {
      "text/html": [
       "<pre>| 1483         | 71.25       | 40.26s       |</pre>"
      ],
      "text/plain": [
       "| 1483         | 71.25       | 40.26s       |"
      ]
     },
     "metadata": {},
     "output_type": "display_data"
    },
    {
     "data": {
      "text/html": [
       "<pre>| 1520         | 73          | 41.25s       |</pre>"
      ],
      "text/plain": [
       "| 1520         | 73          | 41.25s       |"
      ]
     },
     "metadata": {},
     "output_type": "display_data"
    },
    {
     "data": {
      "text/html": [
       "<pre>| 1557         | 74.75       | 42.22s       |</pre>"
      ],
      "text/plain": [
       "| 1557         | 74.75       | 42.22s       |"
      ]
     },
     "metadata": {},
     "output_type": "display_data"
    },
    {
     "data": {
      "text/html": [
       "<pre>| 1602         | 77          | 43.23s       |</pre>"
      ],
      "text/plain": [
       "| 1602         | 77          | 43.23s       |"
      ]
     },
     "metadata": {},
     "output_type": "display_data"
    },
    {
     "data": {
      "text/html": [
       "<pre>| 1635         | 78.5        | 44.24s       |</pre>"
      ],
      "text/plain": [
       "| 1635         | 78.5        | 44.24s       |"
      ]
     },
     "metadata": {},
     "output_type": "display_data"
    },
    {
     "data": {
      "text/html": [
       "<pre>| 1672         | 80.25       | 45.27s       |</pre>"
      ],
      "text/plain": [
       "| 1672         | 80.25       | 45.27s       |"
      ]
     },
     "metadata": {},
     "output_type": "display_data"
    },
    {
     "data": {
      "text/html": [
       "<pre>| 1712         | 82.25       | 46.23s       |</pre>"
      ],
      "text/plain": [
       "| 1712         | 82.25       | 46.23s       |"
      ]
     },
     "metadata": {},
     "output_type": "display_data"
    },
    {
     "data": {
      "text/html": [
       "<pre>| 1749         | 84          | 47.24s       |</pre>"
      ],
      "text/plain": [
       "| 1749         | 84          | 47.24s       |"
      ]
     },
     "metadata": {},
     "output_type": "display_data"
    },
    {
     "data": {
      "text/html": [
       "<pre>| 1792         | 86          | 48.22s       |</pre>"
      ],
      "text/plain": [
       "| 1792         | 86          | 48.22s       |"
      ]
     },
     "metadata": {},
     "output_type": "display_data"
    },
    {
     "data": {
      "text/html": [
       "<pre>| 1833         | 88          | 49.25s       |</pre>"
      ],
      "text/plain": [
       "| 1833         | 88          | 49.25s       |"
      ]
     },
     "metadata": {},
     "output_type": "display_data"
    },
    {
     "data": {
      "text/html": [
       "<pre>| 1871         | 89.75       | 50.24s       |</pre>"
      ],
      "text/plain": [
       "| 1871         | 89.75       | 50.24s       |"
      ]
     },
     "metadata": {},
     "output_type": "display_data"
    },
    {
     "data": {
      "text/html": [
       "<pre>| 1912         | 91.75       | 51.25s       |</pre>"
      ],
      "text/plain": [
       "| 1912         | 91.75       | 51.25s       |"
      ]
     },
     "metadata": {},
     "output_type": "display_data"
    },
    {
     "data": {
      "text/html": [
       "<pre>| 1957         | 94          | 52.26s       |</pre>"
      ],
      "text/plain": [
       "| 1957         | 94          | 52.26s       |"
      ]
     },
     "metadata": {},
     "output_type": "display_data"
    },
    {
     "data": {
      "text/html": [
       "<pre>| 1993         | 95.75       | 53.22s       |</pre>"
      ],
      "text/plain": [
       "| 1993         | 95.75       | 53.22s       |"
      ]
     },
     "metadata": {},
     "output_type": "display_data"
    },
    {
     "data": {
      "text/html": [
       "<pre>| 2033         | 97.5        | 54.22s       |</pre>"
      ],
      "text/plain": [
       "| 2033         | 97.5        | 54.22s       |"
      ]
     },
     "metadata": {},
     "output_type": "display_data"
    },
    {
     "data": {
      "text/html": [
       "<pre>| 2071         | 99.5        | 55.25s       |</pre>"
      ],
      "text/plain": [
       "| 2071         | 99.5        | 55.25s       |"
      ]
     },
     "metadata": {},
     "output_type": "display_data"
    },
    {
     "data": {
      "text/html": [
       "<pre>| Done         |             | 55.46s       |</pre>"
      ],
      "text/plain": [
       "| Done         |             | 55.46s       |"
      ]
     },
     "metadata": {},
     "output_type": "display_data"
    },
    {
     "data": {
      "text/html": [
       "<pre>+--------------+-------------+--------------+</pre>"
      ],
      "text/plain": [
       "+--------------+-------------+--------------+"
      ]
     },
     "metadata": {},
     "output_type": "display_data"
    },
    {
     "data": {
      "text/plain": [
       "{'accuracy': 0.08701923076923077, 'confusion_matrix': Columns:\n",
       " \ttarget_label\tstr\n",
       " \tpredicted_label\tstr\n",
       " \tcount\tint\n",
       " \n",
       " Rows: 168\n",
       " \n",
       " Data:\n",
       " +--------------+-----------------+-------+\n",
       " | target_label | predicted_label | count |\n",
       " +--------------+-----------------+-------+\n",
       " |    World     |       Jazz      |   3   |\n",
       " |    Reggae    |   Alternative   |   15  |\n",
       " |    Reggae    |    Electronic   |   6   |\n",
       " |    HipHop    |      Reggae     |   1   |\n",
       " |   Country    |     Country     |   7   |\n",
       " | Alternative  |       Pop       |   17  |\n",
       " |  Electronic  |       Jazz      |   1   |\n",
       " |   Country    |      World      |   4   |\n",
       " | Alternative  |      Dance      |   3   |\n",
       " |    Reggae    |      Blues      |   18  |\n",
       " +--------------+-----------------+-------+\n",
       " [168 rows x 3 columns]\n",
       " Note: Only the head of the SFrame is printed.\n",
       " You can use print_rows(num_rows=m, num_columns=n) to print more rows and columns.}"
      ]
     },
     "execution_count": 103,
     "metadata": {},
     "output_type": "execute_result"
    }
   ],
   "source": [
    "knn_g_ft.evaluate(X_test_g_sf[[\"labels\", \"feat_test\"]], max_neighbors = 25)"
   ]
  },
  {
   "cell_type": "code",
   "execution_count": 161,
   "metadata": {
    "collapsed": false
   },
   "outputs": [
    {
     "data": {
      "text/html": [
       "<pre>Starting ball tree nearest neighbors model training.</pre>"
      ],
      "text/plain": [
       "Starting ball tree nearest neighbors model training."
      ]
     },
     "metadata": {},
     "output_type": "display_data"
    },
    {
     "data": {
      "text/html": [
       "<pre>+------------+--------------+</pre>"
      ],
      "text/plain": [
       "+------------+--------------+"
      ]
     },
     "metadata": {},
     "output_type": "display_data"
    },
    {
     "data": {
      "text/html": [
       "<pre>| Tree level | Elapsed Time |</pre>"
      ],
      "text/plain": [
       "| Tree level | Elapsed Time |"
      ]
     },
     "metadata": {},
     "output_type": "display_data"
    },
    {
     "data": {
      "text/html": [
       "<pre>+------------+--------------+</pre>"
      ],
      "text/plain": [
       "+------------+--------------+"
      ]
     },
     "metadata": {},
     "output_type": "display_data"
    },
    {
     "data": {
      "text/html": [
       "<pre>| 0          | 21.192ms     |</pre>"
      ],
      "text/plain": [
       "| 0          | 21.192ms     |"
      ]
     },
     "metadata": {},
     "output_type": "display_data"
    },
    {
     "data": {
      "text/html": [
       "<pre>| 1          | 46.537ms     |</pre>"
      ],
      "text/plain": [
       "| 1          | 46.537ms     |"
      ]
     },
     "metadata": {},
     "output_type": "display_data"
    },
    {
     "data": {
      "text/html": [
       "<pre>| 2          | 56.969ms     |</pre>"
      ],
      "text/plain": [
       "| 2          | 56.969ms     |"
      ]
     },
     "metadata": {},
     "output_type": "display_data"
    },
    {
     "data": {
      "text/html": [
       "<pre>+------------+--------------+</pre>"
      ],
      "text/plain": [
       "+------------+--------------+"
      ]
     },
     "metadata": {},
     "output_type": "display_data"
    }
   ],
   "source": [
    "knn_d_ft = gl.nearest_neighbor_classifier.create(X_train_d_sf[[\"labels\", \"feat_test\"]], \"labels\")"
   ]
  },
  {
   "cell_type": "code",
   "execution_count": 162,
   "metadata": {
    "collapsed": false
   },
   "outputs": [
    {
     "name": "stdout",
     "output_type": "stream",
     "text": [
      "WARNING: Ignoring `roc_curve`. Not supported for multi-class classification.\n"
     ]
    },
    {
     "data": {
      "text/html": [
       "<pre>+--------------+-------------+--------------+</pre>"
      ],
      "text/plain": [
       "+--------------+-------------+--------------+"
      ]
     },
     "metadata": {},
     "output_type": "display_data"
    },
    {
     "data": {
      "text/html": [
       "<pre>| Query points | % Complete. | Elapsed Time |</pre>"
      ],
      "text/plain": [
       "| Query points | % Complete. | Elapsed Time |"
      ]
     },
     "metadata": {},
     "output_type": "display_data"
    },
    {
     "data": {
      "text/html": [
       "<pre>+--------------+-------------+--------------+</pre>"
      ],
      "text/plain": [
       "+--------------+-------------+--------------+"
      ]
     },
     "metadata": {},
     "output_type": "display_data"
    },
    {
     "data": {
      "text/html": [
       "<pre>| 1            | 0           | 40.455ms     |</pre>"
      ],
      "text/plain": [
       "| 1            | 0           | 40.455ms     |"
      ]
     },
     "metadata": {},
     "output_type": "display_data"
    },
    {
     "data": {
      "text/html": [
       "<pre>| 132          | 16.5        | 1.05s        |</pre>"
      ],
      "text/plain": [
       "| 132          | 16.5        | 1.05s        |"
      ]
     },
     "metadata": {},
     "output_type": "display_data"
    },
    {
     "data": {
      "text/html": [
       "<pre>| 253          | 31.5        | 2.04s        |</pre>"
      ],
      "text/plain": [
       "| 253          | 31.5        | 2.04s        |"
      ]
     },
     "metadata": {},
     "output_type": "display_data"
    },
    {
     "data": {
      "text/html": [
       "<pre>| 337          | 42          | 3.05s        |</pre>"
      ],
      "text/plain": [
       "| 337          | 42          | 3.05s        |"
      ]
     },
     "metadata": {},
     "output_type": "display_data"
    },
    {
     "data": {
      "text/html": [
       "<pre>| 436          | 54.5        | 4.06s        |</pre>"
      ],
      "text/plain": [
       "| 436          | 54.5        | 4.06s        |"
      ]
     },
     "metadata": {},
     "output_type": "display_data"
    },
    {
     "data": {
      "text/html": [
       "<pre>| 552          | 69          | 5.05s        |</pre>"
      ],
      "text/plain": [
       "| 552          | 69          | 5.05s        |"
      ]
     },
     "metadata": {},
     "output_type": "display_data"
    },
    {
     "data": {
      "text/html": [
       "<pre>| 667          | 83.25       | 6.06s        |</pre>"
      ],
      "text/plain": [
       "| 667          | 83.25       | 6.06s        |"
      ]
     },
     "metadata": {},
     "output_type": "display_data"
    },
    {
     "data": {
      "text/html": [
       "<pre>| 770          | 96.25       | 7.05s        |</pre>"
      ],
      "text/plain": [
       "| 770          | 96.25       | 7.05s        |"
      ]
     },
     "metadata": {},
     "output_type": "display_data"
    },
    {
     "data": {
      "text/html": [
       "<pre>| Done         |             | 7.36s        |</pre>"
      ],
      "text/plain": [
       "| Done         |             | 7.36s        |"
      ]
     },
     "metadata": {},
     "output_type": "display_data"
    },
    {
     "data": {
      "text/html": [
       "<pre>+--------------+-------------+--------------+</pre>"
      ],
      "text/plain": [
       "+--------------+-------------+--------------+"
      ]
     },
     "metadata": {},
     "output_type": "display_data"
    },
    {
     "data": {
      "text/html": [
       "<pre>+--------------+-------------+--------------+</pre>"
      ],
      "text/plain": [
       "+--------------+-------------+--------------+"
      ]
     },
     "metadata": {},
     "output_type": "display_data"
    },
    {
     "data": {
      "text/html": [
       "<pre>| Query points | % Complete. | Elapsed Time |</pre>"
      ],
      "text/plain": [
       "| Query points | % Complete. | Elapsed Time |"
      ]
     },
     "metadata": {},
     "output_type": "display_data"
    },
    {
     "data": {
      "text/html": [
       "<pre>+--------------+-------------+--------------+</pre>"
      ],
      "text/plain": [
       "+--------------+-------------+--------------+"
      ]
     },
     "metadata": {},
     "output_type": "display_data"
    },
    {
     "data": {
      "text/html": [
       "<pre>| 1            | 0           | 36.944ms     |</pre>"
      ],
      "text/plain": [
       "| 1            | 0           | 36.944ms     |"
      ]
     },
     "metadata": {},
     "output_type": "display_data"
    },
    {
     "data": {
      "text/html": [
       "<pre>| 130          | 16.25       | 1.04s        |</pre>"
      ],
      "text/plain": [
       "| 130          | 16.25       | 1.04s        |"
      ]
     },
     "metadata": {},
     "output_type": "display_data"
    },
    {
     "data": {
      "text/html": [
       "<pre>| 257          | 32          | 2.04s        |</pre>"
      ],
      "text/plain": [
       "| 257          | 32          | 2.04s        |"
      ]
     },
     "metadata": {},
     "output_type": "display_data"
    },
    {
     "data": {
      "text/html": [
       "<pre>| 386          | 48.25       | 3.04s        |</pre>"
      ],
      "text/plain": [
       "| 386          | 48.25       | 3.04s        |"
      ]
     },
     "metadata": {},
     "output_type": "display_data"
    },
    {
     "data": {
      "text/html": [
       "<pre>| 492          | 61.5        | 4.03s        |</pre>"
      ],
      "text/plain": [
       "| 492          | 61.5        | 4.03s        |"
      ]
     },
     "metadata": {},
     "output_type": "display_data"
    },
    {
     "data": {
      "text/html": [
       "<pre>| 611          | 76.25       | 5.04s        |</pre>"
      ],
      "text/plain": [
       "| 611          | 76.25       | 5.04s        |"
      ]
     },
     "metadata": {},
     "output_type": "display_data"
    },
    {
     "data": {
      "text/html": [
       "<pre>| 729          | 91          | 6.06s        |</pre>"
      ],
      "text/plain": [
       "| 729          | 91          | 6.06s        |"
      ]
     },
     "metadata": {},
     "output_type": "display_data"
    },
    {
     "data": {
      "text/html": [
       "<pre>| Done         |             | 6.68s        |</pre>"
      ],
      "text/plain": [
       "| Done         |             | 6.68s        |"
      ]
     },
     "metadata": {},
     "output_type": "display_data"
    },
    {
     "data": {
      "text/html": [
       "<pre>+--------------+-------------+--------------+</pre>"
      ],
      "text/plain": [
       "+--------------+-------------+--------------+"
      ]
     },
     "metadata": {},
     "output_type": "display_data"
    },
    {
     "data": {
      "text/plain": [
       "{'accuracy': 0.2825, 'confusion_matrix': Columns:\n",
       " \ttarget_label\tint\n",
       " \tpredicted_label\tint\n",
       " \tcount\tint\n",
       " \n",
       " Rows: 16\n",
       " \n",
       " Data:\n",
       " +--------------+-----------------+-------+\n",
       " | target_label | predicted_label | count |\n",
       " +--------------+-----------------+-------+\n",
       " |     2000     |       2010      |   46  |\n",
       " |     1980     |       2000      |   21  |\n",
       " |     2000     |       2000      |   28  |\n",
       " |     2010     |       2000      |   32  |\n",
       " |     2010     |       2010      |   55  |\n",
       " |     1980     |       2010      |   40  |\n",
       " |     1990     |       2000      |   19  |\n",
       " |     1990     |       2010      |   47  |\n",
       " |     1990     |       1980      |   68  |\n",
       " |     1980     |       1980      |   67  |\n",
       " +--------------+-----------------+-------+\n",
       " [16 rows x 3 columns]\n",
       " Note: Only the head of the SFrame is printed.\n",
       " You can use print_rows(num_rows=m, num_columns=n) to print more rows and columns.}"
      ]
     },
     "execution_count": 162,
     "metadata": {},
     "output_type": "execute_result"
    }
   ],
   "source": [
    "knn_d_ft.evaluate(X_test_d_sf[[\"labels\", \"feat_test\"]], max_neighbors = 200)"
   ]
  },
  {
   "cell_type": "markdown",
   "metadata": {},
   "source": [
    "try deep features "
   ]
  },
  {
   "cell_type": "code",
   "execution_count": 36,
   "metadata": {
    "collapsed": false
   },
   "outputs": [
    {
     "data": {
      "text/html": [
       "<pre>Starting brute force nearest neighbors model training.</pre>"
      ],
      "text/plain": [
       "Starting brute force nearest neighbors model training."
      ]
     },
     "metadata": {},
     "output_type": "display_data"
    }
   ],
   "source": [
    "knn_g = gl.nearest_neighbor_classifier.create(features_g_train[[\"labels\", \"deep_features.X1\"]], \"labels\")"
   ]
  },
  {
   "cell_type": "code",
   "execution_count": 49,
   "metadata": {
    "collapsed": false
   },
   "outputs": [
    {
     "name": "stdout",
     "output_type": "stream",
     "text": [
      "WARNING: Ignoring `roc_curve`. Not supported for multi-class classification.\n"
     ]
    },
    {
     "data": {
      "text/html": [
       "<pre>Starting blockwise querying.</pre>"
      ],
      "text/plain": [
       "Starting blockwise querying."
      ]
     },
     "metadata": {},
     "output_type": "display_data"
    },
    {
     "data": {
      "text/html": [
       "<pre>max rows per data block: 4348</pre>"
      ],
      "text/plain": [
       "max rows per data block: 4348"
      ]
     },
     "metadata": {},
     "output_type": "display_data"
    },
    {
     "data": {
      "text/html": [
       "<pre>number of reference data blocks: 4</pre>"
      ],
      "text/plain": [
       "number of reference data blocks: 4"
      ]
     },
     "metadata": {},
     "output_type": "display_data"
    },
    {
     "data": {
      "text/html": [
       "<pre>number of query data blocks: 1</pre>"
      ],
      "text/plain": [
       "number of query data blocks: 1"
      ]
     },
     "metadata": {},
     "output_type": "display_data"
    },
    {
     "data": {
      "text/html": [
       "<pre>+--------------+---------+-------------+--------------+</pre>"
      ],
      "text/plain": [
       "+--------------+---------+-------------+--------------+"
      ]
     },
     "metadata": {},
     "output_type": "display_data"
    },
    {
     "data": {
      "text/html": [
       "<pre>| Query points | # Pairs | % Complete. | Elapsed Time |</pre>"
      ],
      "text/plain": [
       "| Query points | # Pairs | % Complete. | Elapsed Time |"
      ]
     },
     "metadata": {},
     "output_type": "display_data"
    },
    {
     "data": {
      "text/html": [
       "<pre>+--------------+---------+-------------+--------------+</pre>"
      ],
      "text/plain": [
       "+--------------+---------+-------------+--------------+"
      ]
     },
     "metadata": {},
     "output_type": "display_data"
    },
    {
     "data": {
      "text/html": [
       "<pre>| 2080         | 4326400 | 25          | 10.55s       |</pre>"
      ],
      "text/plain": [
       "| 2080         | 4326400 | 25          | 10.55s       |"
      ]
     },
     "metadata": {},
     "output_type": "display_data"
    },
    {
     "data": {
      "text/html": [
       "<pre>| Done         | 1.7e+07 | 100         | 10.64s       |</pre>"
      ],
      "text/plain": [
       "| Done         | 1.7e+07 | 100         | 10.64s       |"
      ]
     },
     "metadata": {},
     "output_type": "display_data"
    },
    {
     "data": {
      "text/html": [
       "<pre>+--------------+---------+-------------+--------------+</pre>"
      ],
      "text/plain": [
       "+--------------+---------+-------------+--------------+"
      ]
     },
     "metadata": {},
     "output_type": "display_data"
    },
    {
     "data": {
      "text/html": [
       "<pre>Starting blockwise querying.</pre>"
      ],
      "text/plain": [
       "Starting blockwise querying."
      ]
     },
     "metadata": {},
     "output_type": "display_data"
    },
    {
     "data": {
      "text/html": [
       "<pre>max rows per data block: 4348</pre>"
      ],
      "text/plain": [
       "max rows per data block: 4348"
      ]
     },
     "metadata": {},
     "output_type": "display_data"
    },
    {
     "data": {
      "text/html": [
       "<pre>number of reference data blocks: 4</pre>"
      ],
      "text/plain": [
       "number of reference data blocks: 4"
      ]
     },
     "metadata": {},
     "output_type": "display_data"
    },
    {
     "data": {
      "text/html": [
       "<pre>number of query data blocks: 1</pre>"
      ],
      "text/plain": [
       "number of query data blocks: 1"
      ]
     },
     "metadata": {},
     "output_type": "display_data"
    },
    {
     "data": {
      "text/html": [
       "<pre>+--------------+---------+-------------+--------------+</pre>"
      ],
      "text/plain": [
       "+--------------+---------+-------------+--------------+"
      ]
     },
     "metadata": {},
     "output_type": "display_data"
    },
    {
     "data": {
      "text/html": [
       "<pre>| Query points | # Pairs | % Complete. | Elapsed Time |</pre>"
      ],
      "text/plain": [
       "| Query points | # Pairs | % Complete. | Elapsed Time |"
      ]
     },
     "metadata": {},
     "output_type": "display_data"
    },
    {
     "data": {
      "text/html": [
       "<pre>+--------------+---------+-------------+--------------+</pre>"
      ],
      "text/plain": [
       "+--------------+---------+-------------+--------------+"
      ]
     },
     "metadata": {},
     "output_type": "display_data"
    },
    {
     "data": {
      "text/html": [
       "<pre>| 2080         | 4326400 | 25          | 10.87s       |</pre>"
      ],
      "text/plain": [
       "| 2080         | 4326400 | 25          | 10.87s       |"
      ]
     },
     "metadata": {},
     "output_type": "display_data"
    },
    {
     "data": {
      "text/html": [
       "<pre>| Done         | 1.7e+07 | 100         | 11.04s       |</pre>"
      ],
      "text/plain": [
       "| Done         | 1.7e+07 | 100         | 11.04s       |"
      ]
     },
     "metadata": {},
     "output_type": "display_data"
    },
    {
     "data": {
      "text/html": [
       "<pre>+--------------+---------+-------------+--------------+</pre>"
      ],
      "text/plain": [
       "+--------------+---------+-------------+--------------+"
      ]
     },
     "metadata": {},
     "output_type": "display_data"
    }
   ],
   "source": [
    "#100 performing the best at .19\n",
    "knn_g_eval = knn_g.evaluate(features_g_test[[\"labels\", \"deep_features.X1\"]], max_neighbors = 100)"
   ]
  },
  {
   "cell_type": "code",
   "execution_count": 79,
   "metadata": {
    "collapsed": false
   },
   "outputs": [
    {
     "name": "stdout",
     "output_type": "stream",
     "text": [
      "+-------------------+-------------------+-------+\n",
      "|    target_label   |  predicted_label  | count |\n",
      "+-------------------+-------------------+-------+\n",
      "|    Alternative    |        Jazz       |   4   |\n",
      "|       Reggae      |        Jazz       |   2   |\n",
      "|      Country      |    Alternative    |   2   |\n",
      "|        Jazz       |       Reggae      |   6   |\n",
      "|       HipHop      |       Reggae      |   8   |\n",
      "| Singer/Songwriter |        Rock       |   11  |\n",
      "|    Alternative    |       Reggae      |   9   |\n",
      "|       Blues       |    Alternative    |   2   |\n",
      "|      Country      |        Rock       |   5   |\n",
      "|       World       |        Jazz       |   7   |\n",
      "|      Country      |       Dance       |   10  |\n",
      "|       Reggae      |     Electronic    |   3   |\n",
      "|       Reggae      |    Alternative    |   4   |\n",
      "|       Dance       |      Country      |   12  |\n",
      "|     Electronic    |        Jazz       |   10  |\n",
      "|       Blues       |        Pop        |   3   |\n",
      "| Singer/Songwriter |       Dance       |   14  |\n",
      "|       Reggae      |        Rock       |   4   |\n",
      "|      RB Soul      |       Blues       |   11  |\n",
      "|    Alternative    |       Blues       |   17  |\n",
      "|       HipHop      |    Alternative    |   5   |\n",
      "|       Blues       |        Jazz       |   7   |\n",
      "|       World       |       Blues       |   12  |\n",
      "|       World       |        Pop        |   2   |\n",
      "|      RB Soul      |       Reggae      |   9   |\n",
      "|      RB Soul      |        Rock       |   6   |\n",
      "| Singer/Songwriter |       Reggae      |   11  |\n",
      "|       HipHop      |        Jazz       |   5   |\n",
      "|      Country      |     Electronic    |   5   |\n",
      "| Singer/Songwriter | Singer/Songwriter |   15  |\n",
      "|       Dance       |    Alternative    |   3   |\n",
      "|       Dance       |        Jazz       |   6   |\n",
      "|       World       |        Rock       |   8   |\n",
      "|       Reggae      |      RB Soul      |   6   |\n",
      "|       World       |    Alternative    |   5   |\n",
      "|        Rock       |     Electronic    |   5   |\n",
      "|        Jazz       |      RB Soul      |   11  |\n",
      "|       Blues       |     Electronic    |   4   |\n",
      "|       HipHop      |       Blues       |   11  |\n",
      "|       HipHop      | Singer/Songwriter |   8   |\n",
      "|       World       |       HipHop      |   9   |\n",
      "|     Electronic    |       World       |   21  |\n",
      "|       Dance       |       Reggae      |   7   |\n",
      "|        Rock       |        Pop        |   12  |\n",
      "|     Electronic    |       HipHop      |   12  |\n",
      "|       Reggae      | Singer/Songwriter |   1   |\n",
      "| Singer/Songwriter |        Jazz       |   3   |\n",
      "|      RB Soul      |       World       |   10  |\n",
      "|       Dance       |        Pop        |   8   |\n",
      "|      RB Soul      |    Alternative    |   1   |\n",
      "| Singer/Songwriter |      RB Soul      |   11  |\n",
      "|     Electronic    |      RB Soul      |   12  |\n",
      "|       Dance       |        Rock       |   5   |\n",
      "|       World       |       Dance       |   7   |\n",
      "|      Country      |       World       |   14  |\n",
      "|        Pop        |       Dance       |   15  |\n",
      "|       Blues       |       Blues       |   33  |\n",
      "|       Reggae      |       Dance       |   11  |\n",
      "|        Rock       | Singer/Songwriter |   17  |\n",
      "|      RB Soul      |     Electronic    |   3   |\n",
      "|        Jazz       |    Alternative    |   5   |\n",
      "|       World       | Singer/Songwriter |   8   |\n",
      "| Singer/Songwriter |       Blues       |   15  |\n",
      "|     Electronic    |      Country      |   6   |\n",
      "|        Rock       |       Blues       |   15  |\n",
      "|    Alternative    |    Alternative    |   9   |\n",
      "| Singer/Songwriter |       HipHop      |   4   |\n",
      "|       World       |     Electronic    |   9   |\n",
      "|      Country      |       Reggae      |   6   |\n",
      "|       World       |      RB Soul      |   8   |\n",
      "|       Reggae      |        Pop        |   3   |\n",
      "|        Pop        |       HipHop      |   11  |\n",
      "|      Country      |        Jazz       |   1   |\n",
      "|       HipHop      |      RB Soul      |   12  |\n",
      "|        Jazz       |       Blues       |   26  |\n",
      "|     Electronic    | Singer/Songwriter |   21  |\n",
      "|        Rock       |      Country      |   15  |\n",
      "|       World       |       Reggae      |   13  |\n",
      "|        Jazz       |       HipHop      |   13  |\n",
      "|       Blues       |       Dance       |   12  |\n",
      "|    Alternative    |      RB Soul      |   12  |\n",
      "| Singer/Songwriter |        Pop        |   9   |\n",
      "|        Pop        |        Rock       |   6   |\n",
      "|      Country      |        Pop        |   10  |\n",
      "| Singer/Songwriter |     Electronic    |   9   |\n",
      "|     Electronic    |        Rock       |   15  |\n",
      "|       Reggae      |       HipHop      |   11  |\n",
      "|      RB Soul      |       Dance       |   16  |\n",
      "|       Dance       | Singer/Songwriter |   11  |\n",
      "|        Rock       |        Rock       |   13  |\n",
      "|       World       |      Country      |   14  |\n",
      "|        Rock       |    Alternative    |   13  |\n",
      "|       Blues       |       HipHop      |   12  |\n",
      "|        Rock       |       Reggae      |   18  |\n",
      "|        Rock       |        Jazz       |   3   |\n",
      "|        Jazz       |        Pop        |   9   |\n",
      "|        Pop        |        Jazz       |   4   |\n",
      "|     Electronic    |        Pop        |   14  |\n",
      "|    Alternative    |     Electronic    |   16  |\n",
      "|        Jazz       |       Dance       |   11  |\n",
      "|       Dance       |      RB Soul      |   8   |\n",
      "|    Alternative    |       HipHop      |   7   |\n",
      "|        Rock       |       Dance       |   16  |\n",
      "|       World       |       World       |   67  |\n",
      "|        Jazz       |     Electronic    |   6   |\n",
      "|       Blues       |      RB Soul      |   9   |\n",
      "|    Alternative    |      Country      |   9   |\n",
      "|        Rock       |      RB Soul      |   15  |\n",
      "|     Electronic    |       Reggae      |   13  |\n",
      "| Singer/Songwriter |      Country      |   22  |\n",
      "|     Electronic    |       Dance       |   29  |\n",
      "|    Alternative    |       World       |   23  |\n",
      "|      Country      |       HipHop      |   10  |\n",
      "|       Dance       |       HipHop      |   9   |\n",
      "|       HipHop      |        Pop        |   7   |\n",
      "|      RB Soul      |        Pop        |   14  |\n",
      "|      RB Soul      |        Jazz       |   3   |\n",
      "|        Pop        |       Blues       |   17  |\n",
      "|       Reggae      |       Blues       |   15  |\n",
      "|        Jazz       |        Jazz       |   8   |\n",
      "|        Pop        |    Alternative    |   6   |\n",
      "|        Pop        |      RB Soul      |   10  |\n",
      "| Singer/Songwriter |       World       |   21  |\n",
      "|     Electronic    |       Blues       |   12  |\n",
      "|        Jazz       | Singer/Songwriter |   17  |\n",
      "|       HipHop      |     Electronic    |   4   |\n",
      "|        Pop        | Singer/Songwriter |   12  |\n",
      "|        Pop        |        Pop        |   24  |\n",
      "|        Pop        |     Electronic    |   3   |\n",
      "|    Alternative    |        Rock       |   13  |\n",
      "|      Country      |       Blues       |   17  |\n",
      "|       Blues       |      Country      |   29  |\n",
      "|       Blues       |        Rock       |   12  |\n",
      "|       Dance       |       World       |   26  |\n",
      "|       HipHop      |       HipHop      |   21  |\n",
      "|        Pop        |       World       |   16  |\n",
      "|      RB Soul      |      Country      |   30  |\n",
      "|      Country      |      RB Soul      |   12  |\n",
      "|       Blues       |       World       |   11  |\n",
      "|       HipHop      |       Dance       |   13  |\n",
      "|       Dance       |       Blues       |   8   |\n",
      "|        Jazz       |      Country      |   23  |\n",
      "|      RB Soul      | Singer/Songwriter |   8   |\n",
      "|       Reggae      |       Reggae      |   42  |\n",
      "|       HipHop      |      Country      |   16  |\n",
      "|        Jazz       |       World       |   21  |\n",
      "|       HipHop      |       World       |   12  |\n",
      "|       Reggae      |       World       |   24  |\n",
      "| Singer/Songwriter |    Alternative    |   7   |\n",
      "|      RB Soul      |      RB Soul      |   31  |\n",
      "|        Pop        |      Country      |   25  |\n",
      "|       HipHop      |        Rock       |   8   |\n",
      "|        Jazz       |        Rock       |   4   |\n",
      "|       Blues       |       Reggae      |   7   |\n",
      "|    Alternative    |       Dance       |   13  |\n",
      "|       Dance       |       Dance       |   53  |\n",
      "|        Pop        |       Reggae      |   7   |\n",
      "|       Dance       |     Electronic    |   10  |\n",
      "|    Alternative    | Singer/Songwriter |   18  |\n",
      "|      Country      | Singer/Songwriter |   4   |\n",
      "|        Rock       |       HipHop      |   12  |\n",
      "|      Country      |      Country      |   54  |\n",
      "+-------------------+-------------------+-------+\n",
      "[169 rows x 3 columns]\n",
      "\n"
     ]
    },
    {
     "data": {
      "text/plain": [
       "0.18509615384615385"
      ]
     },
     "execution_count": 79,
     "metadata": {},
     "output_type": "execute_result"
    }
   ],
   "source": [
    "knn_g_eval['confusion_matrix'].print_rows(num_rows=162, num_columns = 3)\n",
    "knn_g_eval[\"accuracy\"]"
   ]
  },
  {
   "cell_type": "code",
   "execution_count": 51,
   "metadata": {
    "collapsed": false
   },
   "outputs": [
    {
     "data": {
      "text/html": [
       "<pre>Starting brute force nearest neighbors model training.</pre>"
      ],
      "text/plain": [
       "Starting brute force nearest neighbors model training."
      ]
     },
     "metadata": {},
     "output_type": "display_data"
    }
   ],
   "source": [
    "#fit decade\n",
    "knn_d = gl.nearest_neighbor_classifier.create(features_d_train[[\"labels\", \"deep_features.X1\"]], \"labels\")"
   ]
  },
  {
   "cell_type": "code",
   "execution_count": 66,
   "metadata": {
    "collapsed": false
   },
   "outputs": [
    {
     "name": "stdout",
     "output_type": "stream",
     "text": [
      "WARNING: Ignoring `roc_curve`. Not supported for multi-class classification.\n"
     ]
    },
    {
     "data": {
      "text/html": [
       "<pre>Starting blockwise querying.</pre>"
      ],
      "text/plain": [
       "Starting blockwise querying."
      ]
     },
     "metadata": {},
     "output_type": "display_data"
    },
    {
     "data": {
      "text/html": [
       "<pre>max rows per data block: 4348</pre>"
      ],
      "text/plain": [
       "max rows per data block: 4348"
      ]
     },
     "metadata": {},
     "output_type": "display_data"
    },
    {
     "data": {
      "text/html": [
       "<pre>number of reference data blocks: 4</pre>"
      ],
      "text/plain": [
       "number of reference data blocks: 4"
      ]
     },
     "metadata": {},
     "output_type": "display_data"
    },
    {
     "data": {
      "text/html": [
       "<pre>number of query data blocks: 1</pre>"
      ],
      "text/plain": [
       "number of query data blocks: 1"
      ]
     },
     "metadata": {},
     "output_type": "display_data"
    },
    {
     "data": {
      "text/html": [
       "<pre>+--------------+---------+-------------+--------------+</pre>"
      ],
      "text/plain": [
       "+--------------+---------+-------------+--------------+"
      ]
     },
     "metadata": {},
     "output_type": "display_data"
    },
    {
     "data": {
      "text/html": [
       "<pre>| Query points | # Pairs | % Complete. | Elapsed Time |</pre>"
      ],
      "text/plain": [
       "| Query points | # Pairs | % Complete. | Elapsed Time |"
      ]
     },
     "metadata": {},
     "output_type": "display_data"
    },
    {
     "data": {
      "text/html": [
       "<pre>+--------------+---------+-------------+--------------+</pre>"
      ],
      "text/plain": [
       "+--------------+---------+-------------+--------------+"
      ]
     },
     "metadata": {},
     "output_type": "display_data"
    },
    {
     "data": {
      "text/html": [
       "<pre>| 800          | 640000  | 25          | 1.83s        |</pre>"
      ],
      "text/plain": [
       "| 800          | 640000  | 25          | 1.83s        |"
      ]
     },
     "metadata": {},
     "output_type": "display_data"
    },
    {
     "data": {
      "text/html": [
       "<pre>| Done         | 2560000 | 100         | 1.87s        |</pre>"
      ],
      "text/plain": [
       "| Done         | 2560000 | 100         | 1.87s        |"
      ]
     },
     "metadata": {},
     "output_type": "display_data"
    },
    {
     "data": {
      "text/html": [
       "<pre>+--------------+---------+-------------+--------------+</pre>"
      ],
      "text/plain": [
       "+--------------+---------+-------------+--------------+"
      ]
     },
     "metadata": {},
     "output_type": "display_data"
    },
    {
     "data": {
      "text/html": [
       "<pre>Starting blockwise querying.</pre>"
      ],
      "text/plain": [
       "Starting blockwise querying."
      ]
     },
     "metadata": {},
     "output_type": "display_data"
    },
    {
     "data": {
      "text/html": [
       "<pre>max rows per data block: 4348</pre>"
      ],
      "text/plain": [
       "max rows per data block: 4348"
      ]
     },
     "metadata": {},
     "output_type": "display_data"
    },
    {
     "data": {
      "text/html": [
       "<pre>number of reference data blocks: 4</pre>"
      ],
      "text/plain": [
       "number of reference data blocks: 4"
      ]
     },
     "metadata": {},
     "output_type": "display_data"
    },
    {
     "data": {
      "text/html": [
       "<pre>number of query data blocks: 1</pre>"
      ],
      "text/plain": [
       "number of query data blocks: 1"
      ]
     },
     "metadata": {},
     "output_type": "display_data"
    },
    {
     "data": {
      "text/html": [
       "<pre>+--------------+---------+-------------+--------------+</pre>"
      ],
      "text/plain": [
       "+--------------+---------+-------------+--------------+"
      ]
     },
     "metadata": {},
     "output_type": "display_data"
    },
    {
     "data": {
      "text/html": [
       "<pre>| Query points | # Pairs | % Complete. | Elapsed Time |</pre>"
      ],
      "text/plain": [
       "| Query points | # Pairs | % Complete. | Elapsed Time |"
      ]
     },
     "metadata": {},
     "output_type": "display_data"
    },
    {
     "data": {
      "text/html": [
       "<pre>+--------------+---------+-------------+--------------+</pre>"
      ],
      "text/plain": [
       "+--------------+---------+-------------+--------------+"
      ]
     },
     "metadata": {},
     "output_type": "display_data"
    },
    {
     "data": {
      "text/html": [
       "<pre>| 800          | 640000  | 25          | 1.93s        |</pre>"
      ],
      "text/plain": [
       "| 800          | 640000  | 25          | 1.93s        |"
      ]
     },
     "metadata": {},
     "output_type": "display_data"
    },
    {
     "data": {
      "text/html": [
       "<pre>| Done         | 2560000 | 100         | 1.99s        |</pre>"
      ],
      "text/plain": [
       "| Done         | 2560000 | 100         | 1.99s        |"
      ]
     },
     "metadata": {},
     "output_type": "display_data"
    },
    {
     "data": {
      "text/html": [
       "<pre>+--------------+---------+-------------+--------------+</pre>"
      ],
      "text/plain": [
       "+--------------+---------+-------------+--------------+"
      ]
     },
     "metadata": {},
     "output_type": "display_data"
    }
   ],
   "source": [
    "#125 - .34\n",
    "knn_d_eval = knn_d.evaluate(features_d_test[[\"labels\", \"deep_features.X1\"]], max_neighbors = 125)"
   ]
  },
  {
   "cell_type": "code",
   "execution_count": 69,
   "metadata": {
    "collapsed": false
   },
   "outputs": [
    {
     "name": "stdout",
     "output_type": "stream",
     "text": [
      "+--------------+-----------------+-------+\n",
      "| target_label | predicted_label | count |\n",
      "+--------------+-----------------+-------+\n",
      "|     2010     |       2010      |   42  |\n",
      "|     1980     |       2010      |   11  |\n",
      "|     2000     |       2010      |   29  |\n",
      "|     2000     |       2000      |   52  |\n",
      "|     1990     |       1990      |   87  |\n",
      "|     2010     |       1990      |   56  |\n",
      "|     1980     |       1980      |   95  |\n",
      "|     2000     |       1980      |   44  |\n",
      "|     1990     |       1980      |   79  |\n",
      "|     1990     |       2010      |   16  |\n",
      "|     1990     |       2000      |   28  |\n",
      "|     2010     |       1980      |   57  |\n",
      "|     1980     |       1990      |   58  |\n",
      "|     2000     |       1990      |   71  |\n",
      "|     1980     |       2000      |   35  |\n",
      "|     2010     |       2000      |   40  |\n",
      "+--------------+-----------------+-------+\n",
      "[16 rows x 3 columns]\n",
      "\n"
     ]
    },
    {
     "data": {
      "text/plain": [
       "0.345"
      ]
     },
     "execution_count": 69,
     "metadata": {},
     "output_type": "execute_result"
    }
   ],
   "source": [
    "knn_d_eval[\"confusion_matrix\"].print_rows(num_rows = 16, num_columns =3)\n",
    "knn_d_eval[\"accuracy\"]"
   ]
  },
  {
   "cell_type": "markdown",
   "metadata": {},
   "source": [
    "both performed better than the neural net but the decade works the best. Also works better than the extracted features from the neural net\n",
    "https://rpubs.com/tsopronyuk/image_retrieval_system"
   ]
  },
  {
   "cell_type": "markdown",
   "metadata": {},
   "source": [
    "### 6. Try Trees"
   ]
  },
  {
   "cell_type": "code",
   "execution_count": 70,
   "metadata": {
    "collapsed": false
   },
   "outputs": [
    {
     "name": "stdout",
     "output_type": "stream",
     "text": [
      "PROGRESS: Creating a validation set from 5 percent of training data. This may take a while.\n",
      "          You can set ``validation_set=None`` to disable validation tracking.\n",
      "\n"
     ]
    },
    {
     "data": {
      "text/html": [
       "<pre>Boosted trees classifier:</pre>"
      ],
      "text/plain": [
       "Boosted trees classifier:"
      ]
     },
     "metadata": {},
     "output_type": "display_data"
    },
    {
     "data": {
      "text/html": [
       "<pre>--------------------------------------------------------</pre>"
      ],
      "text/plain": [
       "--------------------------------------------------------"
      ]
     },
     "metadata": {},
     "output_type": "display_data"
    },
    {
     "data": {
      "text/html": [
       "<pre>Number of examples          : 7905</pre>"
      ],
      "text/plain": [
       "Number of examples          : 7905"
      ]
     },
     "metadata": {},
     "output_type": "display_data"
    },
    {
     "data": {
      "text/html": [
       "<pre>Number of classes           : 13</pre>"
      ],
      "text/plain": [
       "Number of classes           : 13"
      ]
     },
     "metadata": {},
     "output_type": "display_data"
    },
    {
     "data": {
      "text/html": [
       "<pre>Number of feature columns   : 1</pre>"
      ],
      "text/plain": [
       "Number of feature columns   : 1"
      ]
     },
     "metadata": {},
     "output_type": "display_data"
    },
    {
     "data": {
      "text/html": [
       "<pre>Number of unpacked features : 4096</pre>"
      ],
      "text/plain": [
       "Number of unpacked features : 4096"
      ]
     },
     "metadata": {},
     "output_type": "display_data"
    },
    {
     "data": {
      "text/html": [
       "<pre>+-----------+--------------+-------------------+---------------------+-------------------+---------------------+</pre>"
      ],
      "text/plain": [
       "+-----------+--------------+-------------------+---------------------+-------------------+---------------------+"
      ]
     },
     "metadata": {},
     "output_type": "display_data"
    },
    {
     "data": {
      "text/html": [
       "<pre>| Iteration | Elapsed Time | Training-accuracy | Validation-accuracy | Training-log_loss | Validation-log_loss |</pre>"
      ],
      "text/plain": [
       "| Iteration | Elapsed Time | Training-accuracy | Validation-accuracy | Training-log_loss | Validation-log_loss |"
      ]
     },
     "metadata": {},
     "output_type": "display_data"
    },
    {
     "data": {
      "text/html": [
       "<pre>+-----------+--------------+-------------------+---------------------+-------------------+---------------------+</pre>"
      ],
      "text/plain": [
       "+-----------+--------------+-------------------+---------------------+-------------------+---------------------+"
      ]
     },
     "metadata": {},
     "output_type": "display_data"
    },
    {
     "data": {
      "text/html": [
       "<pre>| 1         | 13.429733    | 0.423276          | 0.144578            | 2.271056          | 2.511317            |</pre>"
      ],
      "text/plain": [
       "| 1         | 13.429733    | 0.423276          | 0.144578            | 2.271056          | 2.511317            |"
      ]
     },
     "metadata": {},
     "output_type": "display_data"
    },
    {
     "data": {
      "text/html": [
       "<pre>| 2         | 30.297817    | 0.549273          | 0.161446            | 2.055988          | 2.484727            |</pre>"
      ],
      "text/plain": [
       "| 2         | 30.297817    | 0.549273          | 0.161446            | 2.055988          | 2.484727            |"
      ]
     },
     "metadata": {},
     "output_type": "display_data"
    },
    {
     "data": {
      "text/html": [
       "<pre>| 3         | 52.909656    | 0.646553          | 0.197590            | 1.868750          | 2.462052            |</pre>"
      ],
      "text/plain": [
       "| 3         | 52.909656    | 0.646553          | 0.197590            | 1.868750          | 2.462052            |"
      ]
     },
     "metadata": {},
     "output_type": "display_data"
    },
    {
     "data": {
      "text/html": [
       "<pre>| 4         | 67.241455    | 0.717900          | 0.187952            | 1.710867          | 2.448052            |</pre>"
      ],
      "text/plain": [
       "| 4         | 67.241455    | 0.717900          | 0.187952            | 1.710867          | 2.448052            |"
      ]
     },
     "metadata": {},
     "output_type": "display_data"
    },
    {
     "data": {
      "text/html": [
       "<pre>| 5         | 80.773107    | 0.772676          | 0.185542            | 1.573829          | 2.441072            |</pre>"
      ],
      "text/plain": [
       "| 5         | 80.773107    | 0.772676          | 0.185542            | 1.573829          | 2.441072            |"
      ]
     },
     "metadata": {},
     "output_type": "display_data"
    },
    {
     "data": {
      "text/html": [
       "<pre>| 6         | 94.343827    | 0.814801          | 0.197590            | 1.448894          | 2.433732            |</pre>"
      ],
      "text/plain": [
       "| 6         | 94.343827    | 0.814801          | 0.197590            | 1.448894          | 2.433732            |"
      ]
     },
     "metadata": {},
     "output_type": "display_data"
    },
    {
     "data": {
      "text/html": [
       "<pre>| 7         | 107.551284   | 0.845288          | 0.202410            | 1.347655          | 2.415859            |</pre>"
      ],
      "text/plain": [
       "| 7         | 107.551284   | 0.845288          | 0.202410            | 1.347655          | 2.415859            |"
      ]
     },
     "metadata": {},
     "output_type": "display_data"
    },
    {
     "data": {
      "text/html": [
       "<pre>| 8         | 120.570920   | 0.873877          | 0.202410            | 1.252656          | 2.415396            |</pre>"
      ],
      "text/plain": [
       "| 8         | 120.570920   | 0.873877          | 0.202410            | 1.252656          | 2.415396            |"
      ]
     },
     "metadata": {},
     "output_type": "display_data"
    },
    {
     "data": {
      "text/html": [
       "<pre>| 9         | 133.638434   | 0.893232          | 0.212048            | 1.171565          | 2.409308            |</pre>"
      ],
      "text/plain": [
       "| 9         | 133.638434   | 0.893232          | 0.212048            | 1.171565          | 2.409308            |"
      ]
     },
     "metadata": {},
     "output_type": "display_data"
    },
    {
     "data": {
      "text/html": [
       "<pre>| 10        | 146.418640   | 0.911954          | 0.212048            | 1.092228          | 2.403471            |</pre>"
      ],
      "text/plain": [
       "| 10        | 146.418640   | 0.911954          | 0.212048            | 1.092228          | 2.403471            |"
      ]
     },
     "metadata": {},
     "output_type": "display_data"
    },
    {
     "data": {
      "text/html": [
       "<pre>+-----------+--------------+-------------------+---------------------+-------------------+---------------------+</pre>"
      ],
      "text/plain": [
       "+-----------+--------------+-------------------+---------------------+-------------------+---------------------+"
      ]
     },
     "metadata": {},
     "output_type": "display_data"
    }
   ],
   "source": [
    "boosted_g = gl.boosted_trees_classifier.create(features_g_train[[\"labels\", \"deep_features.X1\"]], \"labels\")"
   ]
  },
  {
   "cell_type": "code",
   "execution_count": 71,
   "metadata": {
    "collapsed": false
   },
   "outputs": [
    {
     "data": {
      "text/plain": [
       "{'accuracy': 0.23221153846153847,\n",
       " 'auc': 0.6811976232910756,\n",
       " 'confusion_matrix': Columns:\n",
       " \ttarget_label\tstr\n",
       " \tpredicted_label\tstr\n",
       " \tcount\tint\n",
       " \n",
       " Rows: 169\n",
       " \n",
       " Data:\n",
       " +-------------------+-----------------+-------+\n",
       " |    target_label   | predicted_label | count |\n",
       " +-------------------+-----------------+-------+\n",
       " |        Pop        |       Rock      |   9   |\n",
       " | Singer/Songwriter |       Pop       |   8   |\n",
       " | Singer/Songwriter |      Reggae     |   14  |\n",
       " |      Country      |       Rock      |   6   |\n",
       " |       Blues       |     Country     |   19  |\n",
       " |        Rock       |      Reggae     |   9   |\n",
       " |       Blues       |      HipHop     |   10  |\n",
       " |       HipHop      |     RB Soul     |   8   |\n",
       " |      Country      |       Jazz      |   11  |\n",
       " |      RB Soul      |      World      |   5   |\n",
       " +-------------------+-----------------+-------+\n",
       " [169 rows x 3 columns]\n",
       " Note: Only the head of the SFrame is printed.\n",
       " You can use print_rows(num_rows=m, num_columns=n) to print more rows and columns.,\n",
       " 'f1_score': 0.230487087064266,\n",
       " 'log_loss': 2.3438512890051513,\n",
       " 'precision': 0.23141181205115524,\n",
       " 'recall': 0.23381258509122668,\n",
       " 'roc_curve': Columns:\n",
       " \tthreshold\tfloat\n",
       " \tfpr\tfloat\n",
       " \ttpr\tfloat\n",
       " \tp\tint\n",
       " \tn\tint\n",
       " \tclass\tint\n",
       " \n",
       " Rows: 1300013\n",
       " \n",
       " Data:\n",
       " +-----------+-----+-----+-----+------+-------+\n",
       " | threshold | fpr | tpr |  p  |  n   | class |\n",
       " +-----------+-----+-----+-----+------+-------+\n",
       " |    0.0    | 1.0 | 1.0 | 161 | 1919 |   0   |\n",
       " |   1e-05   | 1.0 | 1.0 | 161 | 1919 |   0   |\n",
       " |   2e-05   | 1.0 | 1.0 | 161 | 1919 |   0   |\n",
       " |   3e-05   | 1.0 | 1.0 | 161 | 1919 |   0   |\n",
       " |   4e-05   | 1.0 | 1.0 | 161 | 1919 |   0   |\n",
       " |   5e-05   | 1.0 | 1.0 | 161 | 1919 |   0   |\n",
       " |   6e-05   | 1.0 | 1.0 | 161 | 1919 |   0   |\n",
       " |   7e-05   | 1.0 | 1.0 | 161 | 1919 |   0   |\n",
       " |   8e-05   | 1.0 | 1.0 | 161 | 1919 |   0   |\n",
       " |   9e-05   | 1.0 | 1.0 | 161 | 1919 |   0   |\n",
       " +-----------+-----+-----+-----+------+-------+\n",
       " [1300013 rows x 6 columns]\n",
       " Note: Only the head of the SFrame is printed.\n",
       " You can use print_rows(num_rows=m, num_columns=n) to print more rows and columns.}"
      ]
     },
     "execution_count": 71,
     "metadata": {},
     "output_type": "execute_result"
    }
   ],
   "source": [
    "#performs even better\n",
    "boosted_g.evaluate(features_g_test[[\"labels\", \"deep_features.X1\"]])"
   ]
  },
  {
   "cell_type": "code",
   "execution_count": 227,
   "metadata": {
    "collapsed": false
   },
   "outputs": [
    {
     "name": "stdout",
     "output_type": "stream",
     "text": [
      "PROGRESS: Creating a validation set from 5 percent of training data. This may take a while.\n",
      "          You can set ``validation_set=None`` to disable validation tracking.\n",
      "\n"
     ]
    },
    {
     "data": {
      "text/html": [
       "<pre>Boosted trees classifier:</pre>"
      ],
      "text/plain": [
       "Boosted trees classifier:"
      ]
     },
     "metadata": {},
     "output_type": "display_data"
    },
    {
     "data": {
      "text/html": [
       "<pre>--------------------------------------------------------</pre>"
      ],
      "text/plain": [
       "--------------------------------------------------------"
      ]
     },
     "metadata": {},
     "output_type": "display_data"
    },
    {
     "data": {
      "text/html": [
       "<pre>Number of examples          : 7881</pre>"
      ],
      "text/plain": [
       "Number of examples          : 7881"
      ]
     },
     "metadata": {},
     "output_type": "display_data"
    },
    {
     "data": {
      "text/html": [
       "<pre>Number of classes           : 13</pre>"
      ],
      "text/plain": [
       "Number of classes           : 13"
      ]
     },
     "metadata": {},
     "output_type": "display_data"
    },
    {
     "data": {
      "text/html": [
       "<pre>Number of feature columns   : 1</pre>"
      ],
      "text/plain": [
       "Number of feature columns   : 1"
      ]
     },
     "metadata": {},
     "output_type": "display_data"
    },
    {
     "data": {
      "text/html": [
       "<pre>Number of unpacked features : 100</pre>"
      ],
      "text/plain": [
       "Number of unpacked features : 100"
      ]
     },
     "metadata": {},
     "output_type": "display_data"
    },
    {
     "data": {
      "text/html": [
       "<pre>+-----------+--------------+-------------------+---------------------+-------------------+---------------------+</pre>"
      ],
      "text/plain": [
       "+-----------+--------------+-------------------+---------------------+-------------------+---------------------+"
      ]
     },
     "metadata": {},
     "output_type": "display_data"
    },
    {
     "data": {
      "text/html": [
       "<pre>| Iteration | Elapsed Time | Training-accuracy | Validation-accuracy | Training-log_loss | Validation-log_loss |</pre>"
      ],
      "text/plain": [
       "| Iteration | Elapsed Time | Training-accuracy | Validation-accuracy | Training-log_loss | Validation-log_loss |"
      ]
     },
     "metadata": {},
     "output_type": "display_data"
    },
    {
     "data": {
      "text/html": [
       "<pre>+-----------+--------------+-------------------+---------------------+-------------------+---------------------+</pre>"
      ],
      "text/plain": [
       "+-----------+--------------+-------------------+---------------------+-------------------+---------------------+"
      ]
     },
     "metadata": {},
     "output_type": "display_data"
    },
    {
     "data": {
      "text/html": [
       "<pre>| 1         | 0.462974     | 0.256820          | 0.107062            | 2.453681          | 2.549069            |</pre>"
      ],
      "text/plain": [
       "| 1         | 0.462974     | 0.256820          | 0.107062            | 2.453681          | 2.549069            |"
      ]
     },
     "metadata": {},
     "output_type": "display_data"
    },
    {
     "data": {
      "text/html": [
       "<pre>| 2         | 0.921787     | 0.324451          | 0.136674            | 2.357955          | 2.534033            |</pre>"
      ],
      "text/plain": [
       "| 2         | 0.921787     | 0.324451          | 0.136674            | 2.357955          | 2.534033            |"
      ]
     },
     "metadata": {},
     "output_type": "display_data"
    },
    {
     "data": {
      "text/html": [
       "<pre>| 3         | 1.325253     | 0.377998          | 0.148064            | 2.274748          | 2.528833            |</pre>"
      ],
      "text/plain": [
       "| 3         | 1.325253     | 0.377998          | 0.148064            | 2.274748          | 2.528833            |"
      ]
     },
     "metadata": {},
     "output_type": "display_data"
    },
    {
     "data": {
      "text/html": [
       "<pre>| 4         | 1.719923     | 0.414161          | 0.145786            | 2.205986          | 2.521192            |</pre>"
      ],
      "text/plain": [
       "| 4         | 1.719923     | 0.414161          | 0.145786            | 2.205986          | 2.521192            |"
      ]
     },
     "metadata": {},
     "output_type": "display_data"
    },
    {
     "data": {
      "text/html": [
       "<pre>| 5         | 2.137828     | 0.443979          | 0.157175            | 2.144808          | 2.513364            |</pre>"
      ],
      "text/plain": [
       "| 5         | 2.137828     | 0.443979          | 0.157175            | 2.144808          | 2.513364            |"
      ]
     },
     "metadata": {},
     "output_type": "display_data"
    },
    {
     "data": {
      "text/html": [
       "<pre>| 6         | 2.523328     | 0.473671          | 0.157175            | 2.085233          | 2.507434            |</pre>"
      ],
      "text/plain": [
       "| 6         | 2.523328     | 0.473671          | 0.157175            | 2.085233          | 2.507434            |"
      ]
     },
     "metadata": {},
     "output_type": "display_data"
    },
    {
     "data": {
      "text/html": [
       "<pre>| 10        | 3.993910     | 0.556275          | 0.173121            | 1.896286          | 2.487777            |</pre>"
      ],
      "text/plain": [
       "| 10        | 3.993910     | 0.556275          | 0.173121            | 1.896286          | 2.487777            |"
      ]
     },
     "metadata": {},
     "output_type": "display_data"
    },
    {
     "data": {
      "text/html": [
       "<pre>+-----------+--------------+-------------------+---------------------+-------------------+---------------------+</pre>"
      ],
      "text/plain": [
       "+-----------+--------------+-------------------+---------------------+-------------------+---------------------+"
      ]
     },
     "metadata": {},
     "output_type": "display_data"
    }
   ],
   "source": [
    "boosted_g_ft = gl.boosted_trees_classifier.create(X_train_g_sf[[\"labels\", \"feat_test\"]], \"labels\")"
   ]
  },
  {
   "cell_type": "code",
   "execution_count": 228,
   "metadata": {
    "collapsed": false
   },
   "outputs": [
    {
     "data": {
      "text/plain": [
       "{'accuracy': 0.09326923076923077,\n",
       " 'auc': 0.5290294546926281,\n",
       " 'confusion_matrix': Columns:\n",
       " \ttarget_label\tstr\n",
       " \tpredicted_label\tstr\n",
       " \tcount\tint\n",
       " \n",
       " Rows: 160\n",
       " \n",
       " Data:\n",
       " +-------------------+-------------------+-------+\n",
       " |    target_label   |  predicted_label  | count |\n",
       " +-------------------+-------------------+-------+\n",
       " |       Blues       |       Dance       |   2   |\n",
       " |    Alternative    |      RB Soul      |   17  |\n",
       " | Singer/Songwriter | Singer/Songwriter |   33  |\n",
       " |       HipHop      |      Country      |   11  |\n",
       " |       Reggae      |       Reggae      |   16  |\n",
       " |        Pop        |       Reggae      |   10  |\n",
       " |        Pop        |      Country      |   8   |\n",
       " |       World       |        Jazz       |   14  |\n",
       " |       HipHop      |        Pop        |   5   |\n",
       " |       Dance       |       HipHop      |   1   |\n",
       " +-------------------+-------------------+-------+\n",
       " [160 rows x 3 columns]\n",
       " Note: Only the head of the SFrame is printed.\n",
       " You can use print_rows(num_rows=m, num_columns=n) to print more rows and columns.,\n",
       " 'f1_score': 0.08242189155564886,\n",
       " 'log_loss': 2.6253950249899374,\n",
       " 'precision': 0.08354433871648892,\n",
       " 'recall': 0.09222215871173993,\n",
       " 'roc_curve': Columns:\n",
       " \tthreshold\tfloat\n",
       " \tfpr\tfloat\n",
       " \ttpr\tfloat\n",
       " \tp\tint\n",
       " \tn\tint\n",
       " \tclass\tint\n",
       " \n",
       " Rows: 1300013\n",
       " \n",
       " Data:\n",
       " +-----------+-----+-----+-----+------+-------+\n",
       " | threshold | fpr | tpr |  p  |  n   | class |\n",
       " +-----------+-----+-----+-----+------+-------+\n",
       " |    0.0    | 1.0 | 1.0 | 161 | 1919 |   0   |\n",
       " |   1e-05   | 1.0 | 1.0 | 161 | 1919 |   0   |\n",
       " |   2e-05   | 1.0 | 1.0 | 161 | 1919 |   0   |\n",
       " |   3e-05   | 1.0 | 1.0 | 161 | 1919 |   0   |\n",
       " |   4e-05   | 1.0 | 1.0 | 161 | 1919 |   0   |\n",
       " |   5e-05   | 1.0 | 1.0 | 161 | 1919 |   0   |\n",
       " |   6e-05   | 1.0 | 1.0 | 161 | 1919 |   0   |\n",
       " |   7e-05   | 1.0 | 1.0 | 161 | 1919 |   0   |\n",
       " |   8e-05   | 1.0 | 1.0 | 161 | 1919 |   0   |\n",
       " |   9e-05   | 1.0 | 1.0 | 161 | 1919 |   0   |\n",
       " +-----------+-----+-----+-----+------+-------+\n",
       " [1300013 rows x 6 columns]\n",
       " Note: Only the head of the SFrame is printed.\n",
       " You can use print_rows(num_rows=m, num_columns=n) to print more rows and columns.}"
      ]
     },
     "execution_count": 228,
     "metadata": {},
     "output_type": "execute_result"
    }
   ],
   "source": [
    "boosted_g_ft.evaluate(X_test_g_sf[[\"labels\", \"feat_test\"]])"
   ]
  },
  {
   "cell_type": "code",
   "execution_count": 72,
   "metadata": {
    "collapsed": false
   },
   "outputs": [
    {
     "name": "stdout",
     "output_type": "stream",
     "text": [
      "PROGRESS: Creating a validation set from 5 percent of training data. This may take a while.\n",
      "          You can set ``validation_set=None`` to disable validation tracking.\n",
      "\n"
     ]
    },
    {
     "data": {
      "text/html": [
       "<pre>WARNING: The number of feature dimensions in this problem is very large in comparison with the number of examples. Unless an appropriate regularization value is set, this model may not provide accurate predictions for a validation/test set.</pre>"
      ],
      "text/plain": [
       "WARNING: The number of feature dimensions in this problem is very large in comparison with the number of examples. Unless an appropriate regularization value is set, this model may not provide accurate predictions for a validation/test set."
      ]
     },
     "metadata": {},
     "output_type": "display_data"
    },
    {
     "data": {
      "text/html": [
       "<pre>Boosted trees classifier:</pre>"
      ],
      "text/plain": [
       "Boosted trees classifier:"
      ]
     },
     "metadata": {},
     "output_type": "display_data"
    },
    {
     "data": {
      "text/html": [
       "<pre>--------------------------------------------------------</pre>"
      ],
      "text/plain": [
       "--------------------------------------------------------"
      ]
     },
     "metadata": {},
     "output_type": "display_data"
    },
    {
     "data": {
      "text/html": [
       "<pre>Number of examples          : 3048</pre>"
      ],
      "text/plain": [
       "Number of examples          : 3048"
      ]
     },
     "metadata": {},
     "output_type": "display_data"
    },
    {
     "data": {
      "text/html": [
       "<pre>Number of classes           : 4</pre>"
      ],
      "text/plain": [
       "Number of classes           : 4"
      ]
     },
     "metadata": {},
     "output_type": "display_data"
    },
    {
     "data": {
      "text/html": [
       "<pre>Number of feature columns   : 1</pre>"
      ],
      "text/plain": [
       "Number of feature columns   : 1"
      ]
     },
     "metadata": {},
     "output_type": "display_data"
    },
    {
     "data": {
      "text/html": [
       "<pre>Number of unpacked features : 4096</pre>"
      ],
      "text/plain": [
       "Number of unpacked features : 4096"
      ]
     },
     "metadata": {},
     "output_type": "display_data"
    },
    {
     "data": {
      "text/html": [
       "<pre>+-----------+--------------+-------------------+---------------------+-------------------+---------------------+</pre>"
      ],
      "text/plain": [
       "+-----------+--------------+-------------------+---------------------+-------------------+---------------------+"
      ]
     },
     "metadata": {},
     "output_type": "display_data"
    },
    {
     "data": {
      "text/html": [
       "<pre>| Iteration | Elapsed Time | Training-accuracy | Validation-accuracy | Training-log_loss | Validation-log_loss |</pre>"
      ],
      "text/plain": [
       "| Iteration | Elapsed Time | Training-accuracy | Validation-accuracy | Training-log_loss | Validation-log_loss |"
      ]
     },
     "metadata": {},
     "output_type": "display_data"
    },
    {
     "data": {
      "text/html": [
       "<pre>+-----------+--------------+-------------------+---------------------+-------------------+---------------------+</pre>"
      ],
      "text/plain": [
       "+-----------+--------------+-------------------+---------------------+-------------------+---------------------+"
      ]
     },
     "metadata": {},
     "output_type": "display_data"
    },
    {
     "data": {
      "text/html": [
       "<pre>| 1         | 1.578771     | 0.596129          | 0.309211            | 1.259003          | 1.379636            |</pre>"
      ],
      "text/plain": [
       "| 1         | 1.578771     | 0.596129          | 0.309211            | 1.259003          | 1.379636            |"
      ]
     },
     "metadata": {},
     "output_type": "display_data"
    },
    {
     "data": {
      "text/html": [
       "<pre>| 2         | 3.121789     | 0.716535          | 0.309211            | 1.147484          | 1.368979            |</pre>"
      ],
      "text/plain": [
       "| 2         | 3.121789     | 0.716535          | 0.309211            | 1.147484          | 1.368979            |"
      ]
     },
     "metadata": {},
     "output_type": "display_data"
    },
    {
     "data": {
      "text/html": [
       "<pre>| 3         | 4.698370     | 0.790682          | 0.342105            | 1.045158          | 1.363575            |</pre>"
      ],
      "text/plain": [
       "| 3         | 4.698370     | 0.790682          | 0.342105            | 1.045158          | 1.363575            |"
      ]
     },
     "metadata": {},
     "output_type": "display_data"
    },
    {
     "data": {
      "text/html": [
       "<pre>| 4         | 6.231058     | 0.847441          | 0.328947            | 0.967404          | 1.366057            |</pre>"
      ],
      "text/plain": [
       "| 4         | 6.231058     | 0.847441          | 0.328947            | 0.967404          | 1.366057            |"
      ]
     },
     "metadata": {},
     "output_type": "display_data"
    },
    {
     "data": {
      "text/html": [
       "<pre>| 5         | 7.776475     | 0.887467          | 0.348684            | 0.899116          | 1.360911            |</pre>"
      ],
      "text/plain": [
       "| 5         | 7.776475     | 0.887467          | 0.348684            | 0.899116          | 1.360911            |"
      ]
     },
     "metadata": {},
     "output_type": "display_data"
    },
    {
     "data": {
      "text/html": [
       "<pre>| 6         | 9.357646     | 0.909121          | 0.309211            | 0.838510          | 1.358846            |</pre>"
      ],
      "text/plain": [
       "| 6         | 9.357646     | 0.909121          | 0.309211            | 0.838510          | 1.358846            |"
      ]
     },
     "metadata": {},
     "output_type": "display_data"
    },
    {
     "data": {
      "text/html": [
       "<pre>| 7         | 10.927097    | 0.923885          | 0.315789            | 0.785983          | 1.361897            |</pre>"
      ],
      "text/plain": [
       "| 7         | 10.927097    | 0.923885          | 0.315789            | 0.785983          | 1.361897            |"
      ]
     },
     "metadata": {},
     "output_type": "display_data"
    },
    {
     "data": {
      "text/html": [
       "<pre>| 8         | 12.492684    | 0.942585          | 0.309211            | 0.737956          | 1.354532            |</pre>"
      ],
      "text/plain": [
       "| 8         | 12.492684    | 0.942585          | 0.309211            | 0.737956          | 1.354532            |"
      ]
     },
     "metadata": {},
     "output_type": "display_data"
    },
    {
     "data": {
      "text/html": [
       "<pre>| 9         | 14.054189    | 0.952100          | 0.335526            | 0.701278          | 1.360740            |</pre>"
      ],
      "text/plain": [
       "| 9         | 14.054189    | 0.952100          | 0.335526            | 0.701278          | 1.360740            |"
      ]
     },
     "metadata": {},
     "output_type": "display_data"
    },
    {
     "data": {
      "text/html": [
       "<pre>| 10        | 15.596484    | 0.958661          | 0.315789            | 0.666898          | 1.360248            |</pre>"
      ],
      "text/plain": [
       "| 10        | 15.596484    | 0.958661          | 0.315789            | 0.666898          | 1.360248            |"
      ]
     },
     "metadata": {},
     "output_type": "display_data"
    },
    {
     "data": {
      "text/html": [
       "<pre>+-----------+--------------+-------------------+---------------------+-------------------+---------------------+</pre>"
      ],
      "text/plain": [
       "+-----------+--------------+-------------------+---------------------+-------------------+---------------------+"
      ]
     },
     "metadata": {},
     "output_type": "display_data"
    }
   ],
   "source": [
    "boosted_d = gl.boosted_trees_classifier.create(features_d_train[[\"labels\", \"deep_features.X1\"]], \"labels\")"
   ]
  },
  {
   "cell_type": "code",
   "execution_count": 73,
   "metadata": {
    "collapsed": false
   },
   "outputs": [
    {
     "data": {
      "text/plain": [
       "{'accuracy': 0.35625, 'auc': 0.626174041990267, 'confusion_matrix': Columns:\n",
       " \ttarget_label\tint\n",
       " \tpredicted_label\tint\n",
       " \tcount\tint\n",
       " \n",
       " Rows: 16\n",
       " \n",
       " Data:\n",
       " +--------------+-----------------+-------+\n",
       " | target_label | predicted_label | count |\n",
       " +--------------+-----------------+-------+\n",
       " |     2010     |       1990      |   45  |\n",
       " |     1980     |       1980      |  100  |\n",
       " |     2000     |       1980      |   42  |\n",
       " |     1980     |       1990      |   37  |\n",
       " |     1980     |       2000      |   35  |\n",
       " |     2000     |       1990      |   48  |\n",
       " |     1990     |       1990      |   74  |\n",
       " |     2000     |       2010      |   52  |\n",
       " |     1980     |       2010      |   27  |\n",
       " |     2010     |       2010      |   57  |\n",
       " +--------------+-----------------+-------+\n",
       " [16 rows x 3 columns]\n",
       " Note: Only the head of the SFrame is printed.\n",
       " You can use print_rows(num_rows=m, num_columns=n) to print more rows and columns., 'f1_score': 0.3529672260283553, 'log_loss': 1.3226284896007514, 'precision': 0.35152504178196664, 'recall': 0.35567785289608694, 'roc_curve': Columns:\n",
       " \tthreshold\tfloat\n",
       " \tfpr\tfloat\n",
       " \ttpr\tfloat\n",
       " \tp\tint\n",
       " \tn\tint\n",
       " \tclass\tint\n",
       " \n",
       " Rows: 400004\n",
       " \n",
       " Data:\n",
       " +-----------+-----+-----+-----+-----+-------+\n",
       " | threshold | fpr | tpr |  p  |  n  | class |\n",
       " +-----------+-----+-----+-----+-----+-------+\n",
       " |    0.0    | 1.0 | 1.0 | 199 | 601 |   0   |\n",
       " |   1e-05   | 1.0 | 1.0 | 199 | 601 |   0   |\n",
       " |   2e-05   | 1.0 | 1.0 | 199 | 601 |   0   |\n",
       " |   3e-05   | 1.0 | 1.0 | 199 | 601 |   0   |\n",
       " |   4e-05   | 1.0 | 1.0 | 199 | 601 |   0   |\n",
       " |   5e-05   | 1.0 | 1.0 | 199 | 601 |   0   |\n",
       " |   6e-05   | 1.0 | 1.0 | 199 | 601 |   0   |\n",
       " |   7e-05   | 1.0 | 1.0 | 199 | 601 |   0   |\n",
       " |   8e-05   | 1.0 | 1.0 | 199 | 601 |   0   |\n",
       " |   9e-05   | 1.0 | 1.0 | 199 | 601 |   0   |\n",
       " +-----------+-----+-----+-----+-----+-------+\n",
       " [400004 rows x 6 columns]\n",
       " Note: Only the head of the SFrame is printed.\n",
       " You can use print_rows(num_rows=m, num_columns=n) to print more rows and columns.}"
      ]
     },
     "execution_count": 73,
     "metadata": {},
     "output_type": "execute_result"
    }
   ],
   "source": [
    "#only marginally better\n",
    "boosted_d.evaluate(features_d_test[[\"labels\", \"deep_features.X1\"]])"
   ]
  },
  {
   "cell_type": "code",
   "execution_count": 229,
   "metadata": {
    "collapsed": false
   },
   "outputs": [
    {
     "name": "stdout",
     "output_type": "stream",
     "text": [
      "PROGRESS: Creating a validation set from 5 percent of training data. This may take a while.\n",
      "          You can set ``validation_set=None`` to disable validation tracking.\n",
      "\n"
     ]
    },
    {
     "data": {
      "text/html": [
       "<pre>Boosted trees classifier:</pre>"
      ],
      "text/plain": [
       "Boosted trees classifier:"
      ]
     },
     "metadata": {},
     "output_type": "display_data"
    },
    {
     "data": {
      "text/html": [
       "<pre>--------------------------------------------------------</pre>"
      ],
      "text/plain": [
       "--------------------------------------------------------"
      ]
     },
     "metadata": {},
     "output_type": "display_data"
    },
    {
     "data": {
      "text/html": [
       "<pre>Number of examples          : 3055</pre>"
      ],
      "text/plain": [
       "Number of examples          : 3055"
      ]
     },
     "metadata": {},
     "output_type": "display_data"
    },
    {
     "data": {
      "text/html": [
       "<pre>Number of classes           : 4</pre>"
      ],
      "text/plain": [
       "Number of classes           : 4"
      ]
     },
     "metadata": {},
     "output_type": "display_data"
    },
    {
     "data": {
      "text/html": [
       "<pre>Number of feature columns   : 1</pre>"
      ],
      "text/plain": [
       "Number of feature columns   : 1"
      ]
     },
     "metadata": {},
     "output_type": "display_data"
    },
    {
     "data": {
      "text/html": [
       "<pre>Number of unpacked features : 50</pre>"
      ],
      "text/plain": [
       "Number of unpacked features : 50"
      ]
     },
     "metadata": {},
     "output_type": "display_data"
    },
    {
     "data": {
      "text/html": [
       "<pre>+-----------+--------------+-------------------+---------------------+-------------------+---------------------+</pre>"
      ],
      "text/plain": [
       "+-----------+--------------+-------------------+---------------------+-------------------+---------------------+"
      ]
     },
     "metadata": {},
     "output_type": "display_data"
    },
    {
     "data": {
      "text/html": [
       "<pre>| Iteration | Elapsed Time | Training-accuracy | Validation-accuracy | Training-log_loss | Validation-log_loss |</pre>"
      ],
      "text/plain": [
       "| Iteration | Elapsed Time | Training-accuracy | Validation-accuracy | Training-log_loss | Validation-log_loss |"
      ]
     },
     "metadata": {},
     "output_type": "display_data"
    },
    {
     "data": {
      "text/html": [
       "<pre>+-----------+--------------+-------------------+---------------------+-------------------+---------------------+</pre>"
      ],
      "text/plain": [
       "+-----------+--------------+-------------------+---------------------+-------------------+---------------------+"
      ]
     },
     "metadata": {},
     "output_type": "display_data"
    },
    {
     "data": {
      "text/html": [
       "<pre>| 1         | 0.050075     | 0.469394          | 0.275862            | 1.323748          | 1.386748            |</pre>"
      ],
      "text/plain": [
       "| 1         | 0.050075     | 0.469394          | 0.275862            | 1.323748          | 1.386748            |"
      ]
     },
     "metadata": {},
     "output_type": "display_data"
    },
    {
     "data": {
      "text/html": [
       "<pre>| 2         | 0.111900     | 0.571195          | 0.241379            | 1.258533          | 1.390405            |</pre>"
      ],
      "text/plain": [
       "| 2         | 0.111900     | 0.571195          | 0.241379            | 1.258533          | 1.390405            |"
      ]
     },
     "metadata": {},
     "output_type": "display_data"
    },
    {
     "data": {
      "text/html": [
       "<pre>| 3         | 0.180344     | 0.624877          | 0.234483            | 1.208718          | 1.395284            |</pre>"
      ],
      "text/plain": [
       "| 3         | 0.180344     | 0.624877          | 0.234483            | 1.208718          | 1.395284            |"
      ]
     },
     "metadata": {},
     "output_type": "display_data"
    },
    {
     "data": {
      "text/html": [
       "<pre>| 4         | 0.260437     | 0.663175          | 0.248276            | 1.165759          | 1.382737            |</pre>"
      ],
      "text/plain": [
       "| 4         | 0.260437     | 0.663175          | 0.248276            | 1.165759          | 1.382737            |"
      ]
     },
     "metadata": {},
     "output_type": "display_data"
    },
    {
     "data": {
      "text/html": [
       "<pre>| 5         | 0.311499     | 0.678560          | 0.248276            | 1.129140          | 1.380055            |</pre>"
      ],
      "text/plain": [
       "| 5         | 0.311499     | 0.678560          | 0.248276            | 1.129140          | 1.380055            |"
      ]
     },
     "metadata": {},
     "output_type": "display_data"
    },
    {
     "data": {
      "text/html": [
       "<pre>| 6         | 0.365777     | 0.718167          | 0.268966            | 1.082809          | 1.383987            |</pre>"
      ],
      "text/plain": [
       "| 6         | 0.365777     | 0.718167          | 0.268966            | 1.082809          | 1.383987            |"
      ]
     },
     "metadata": {},
     "output_type": "display_data"
    },
    {
     "data": {
      "text/html": [
       "<pre>+-----------+--------------+-------------------+---------------------+-------------------+---------------------+</pre>"
      ],
      "text/plain": [
       "+-----------+--------------+-------------------+---------------------+-------------------+---------------------+"
      ]
     },
     "metadata": {},
     "output_type": "display_data"
    }
   ],
   "source": [
    "boosted_d_ft = gl.boosted_trees_classifier.create(X_train_d_sf[[\"labels\", \"feat_test\"]], \"labels\")"
   ]
  },
  {
   "cell_type": "code",
   "execution_count": 230,
   "metadata": {
    "collapsed": false
   },
   "outputs": [
    {
     "data": {
      "text/plain": [
       "{'accuracy': 0.28875, 'auc': 0.5494479126395063, 'confusion_matrix': Columns:\n",
       " \ttarget_label\tint\n",
       " \tpredicted_label\tint\n",
       " \tcount\tint\n",
       " \n",
       " Rows: 16\n",
       " \n",
       " Data:\n",
       " +--------------+-----------------+-------+\n",
       " | target_label | predicted_label | count |\n",
       " +--------------+-----------------+-------+\n",
       " |     2000     |       2010      |   41  |\n",
       " |     1980     |       2010      |   41  |\n",
       " |     2010     |       2010      |   49  |\n",
       " |     2000     |       2000      |   58  |\n",
       " |     2010     |       2000      |   47  |\n",
       " |     1990     |       1980      |   38  |\n",
       " |     1990     |       2010      |   35  |\n",
       " |     1990     |       2000      |   56  |\n",
       " |     2000     |       1980      |   44  |\n",
       " |     1980     |       2000      |   52  |\n",
       " +--------------+-----------------+-------+\n",
       " [16 rows x 3 columns]\n",
       " Note: Only the head of the SFrame is printed.\n",
       " You can use print_rows(num_rows=m, num_columns=n) to print more rows and columns., 'f1_score': 0.2848579321936689, 'log_loss': 1.4095867754821014, 'precision': 0.28583690840654774, 'recall': 0.2872487765883315, 'roc_curve': Columns:\n",
       " \tthreshold\tfloat\n",
       " \tfpr\tfloat\n",
       " \ttpr\tfloat\n",
       " \tp\tint\n",
       " \tn\tint\n",
       " \tclass\tint\n",
       " \n",
       " Rows: 400004\n",
       " \n",
       " Data:\n",
       " +-----------+-----+-----+-----+-----+-------+\n",
       " | threshold | fpr | tpr |  p  |  n  | class |\n",
       " +-----------+-----+-----+-----+-----+-------+\n",
       " |    0.0    | 1.0 | 1.0 | 199 | 601 |   0   |\n",
       " |   1e-05   | 1.0 | 1.0 | 199 | 601 |   0   |\n",
       " |   2e-05   | 1.0 | 1.0 | 199 | 601 |   0   |\n",
       " |   3e-05   | 1.0 | 1.0 | 199 | 601 |   0   |\n",
       " |   4e-05   | 1.0 | 1.0 | 199 | 601 |   0   |\n",
       " |   5e-05   | 1.0 | 1.0 | 199 | 601 |   0   |\n",
       " |   6e-05   | 1.0 | 1.0 | 199 | 601 |   0   |\n",
       " |   7e-05   | 1.0 | 1.0 | 199 | 601 |   0   |\n",
       " |   8e-05   | 1.0 | 1.0 | 199 | 601 |   0   |\n",
       " |   9e-05   | 1.0 | 1.0 | 199 | 601 |   0   |\n",
       " +-----------+-----+-----+-----+-----+-------+\n",
       " [400004 rows x 6 columns]\n",
       " Note: Only the head of the SFrame is printed.\n",
       " You can use print_rows(num_rows=m, num_columns=n) to print more rows and columns.}"
      ]
     },
     "execution_count": 230,
     "metadata": {},
     "output_type": "execute_result"
    }
   ],
   "source": [
    "boosted_d_ft.evaluate(X_test_d_sf[[\"labels\", \"feat_test\"]])"
   ]
  },
  {
   "cell_type": "markdown",
   "metadata": {
    "collapsed": true
   },
   "source": [
    "Boosted trees does perform better than knn but its not by much"
   ]
  },
  {
   "cell_type": "markdown",
   "metadata": {},
   "source": [
    "### Pause for a summary\n",
    "\n",
    "what i did:\n",
    "- rebalanced sample\n",
    "- fit neural net with slightly adjusted hidden units (showed great improvement for neural nets decades)\n",
    "- used deep feature extraction for features\n",
    "- used feature extraction from neural nets\n",
    "- fitted a custom neural net (only on decade)\n",
    "\n",
    "#### genre\n",
    "- boosted trees deep features genre = .23\n",
    "- knn deep features genre = .185\n",
    "- neural nets genre = .12\n",
    "- knn extracted features genre = .09\n",
    "- boosted trees extracted features genre = .09\n",
    "\n",
    "#### decade\n",
    "- boosted trees deep features decade = .36\n",
    "- knn deep features decade = .345\n",
    "- neural nets decade = .30\n",
    "- boosted trees extracted features decade = .29\n",
    "- knn extracted features decade = .28\n",
    "- custom neural net decade = .27 (the best performing)"
   ]
  },
  {
   "cell_type": "markdown",
   "metadata": {},
   "source": [
    "### 7. SVM "
   ]
  },
  {
   "cell_type": "markdown",
   "metadata": {},
   "source": [
    "Try to do one to all approach for decade"
   ]
  },
  {
   "cell_type": "code",
   "execution_count": null,
   "metadata": {
    "collapsed": true
   },
   "outputs": [],
   "source": [
    "svm_"
   ]
  },
  {
   "cell_type": "markdown",
   "metadata": {},
   "source": [
    "### 8. Clustering"
   ]
  }
 ],
 "metadata": {
  "anaconda-cloud": {},
  "kernelspec": {
   "display_name": "Python [gl-env]",
   "language": "python",
   "name": "Python [gl-env]"
  }
 },
 "nbformat": 4,
 "nbformat_minor": 0
}
